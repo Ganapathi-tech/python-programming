{
  "nbformat": 4,
  "nbformat_minor": 0,
  "metadata": {
    "colab": {
      "name": "List Comph.ipynb",
      "provenance": [],
      "include_colab_link": true
    },
    "kernelspec": {
      "name": "python3",
      "display_name": "Python 3"
    }
  },
  "cells": [
    {
      "cell_type": "markdown",
      "metadata": {
        "id": "view-in-github",
        "colab_type": "text"
      },
      "source": [
        "<a href=\"https://colab.research.google.com/github/Ganapathi-tech/python-programming/blob/main/List_Comph.ipynb\" target=\"_parent\"><img src=\"https://colab.research.google.com/assets/colab-badge.svg\" alt=\"Open In Colab\"/></a>"
      ]
    },
    {
      "cell_type": "code",
      "metadata": {
        "colab": {
          "base_uri": "https://localhost:8080/"
        },
        "id": "mqJSlS5YukJ0",
        "outputId": "928d805d-b36e-4b51-927c-fa7ece677fc2"
      },
      "source": [
        "list1 = [60,47,52,24,80,34]\n",
        "a = [ str(i)+\" A \" if i >= 60 else str(i)+\" B \" if i >= 50 else str(i)+\" c \" if i >= 40 else \"Fail\"     for i in list1]\n",
        "print(a)"
      ],
      "execution_count": null,
      "outputs": [
        {
          "output_type": "stream",
          "text": [
            "['60 A ', '47 c ', '52 B ', 'Fail', '80 A ', 'Fail']\n"
          ],
          "name": "stdout"
        }
      ]
    },
    {
      "cell_type": "markdown",
      "metadata": {
        "id": "9tEvV6NSvrgQ"
      },
      "source": [
        "[ str(i)+\" A \" if i >= 60 else str(i)+\" B \" if i >= 50 else str(i)+\" B \" if i >= 40 else \"Fail\" for i in list1]"
      ]
    },
    {
      "cell_type": "code",
      "metadata": {
        "colab": {
          "base_uri": "https://localhost:8080/"
        },
        "id": "MVca1N_ju_IJ",
        "outputId": "789183ad-535d-49b0-8c16-8690d0b99779"
      },
      "source": [
        "list1 = [\"INDIA\",\"USA\",\"UK\",\"FRANCE\"]\n",
        "a = [len(i)   for i in list1]\n",
        "print(a)"
      ],
      "execution_count": null,
      "outputs": [
        {
          "output_type": "stream",
          "text": [
            "[5, 3, 2, 6]\n"
          ],
          "name": "stdout"
        }
      ]
    },
    {
      "cell_type": "code",
      "metadata": {
        "colab": {
          "base_uri": "https://localhost:8080/"
        },
        "id": "vX1EtkBdywer",
        "outputId": "d3a389a5-cab7-47d7-b5c2-05e69937bc32"
      },
      "source": [
        "list1"
      ],
      "execution_count": null,
      "outputs": [
        {
          "output_type": "execute_result",
          "data": {
            "text/plain": [
              "['INDIA', 'USA', 'UK', 'FRANCE']"
            ]
          },
          "metadata": {
            "tags": []
          },
          "execution_count": 10
        }
      ]
    },
    {
      "cell_type": "code",
      "metadata": {
        "colab": {
          "base_uri": "https://localhost:8080/"
        },
        "id": "RJSm554ry-50",
        "outputId": "18e67447-f535-485e-fbb0-ca5ac10c14af"
      },
      "source": [
        "for i in list1:\n",
        "  print(i)\n",
        "  for j in i:\n",
        "    print(j)\n",
        "  print(\"*****************\")"
      ],
      "execution_count": null,
      "outputs": [
        {
          "output_type": "stream",
          "text": [
            "INDIA\n",
            "I\n",
            "N\n",
            "D\n",
            "I\n",
            "A\n",
            "*****************\n",
            "USA\n",
            "U\n",
            "S\n",
            "A\n",
            "*****************\n",
            "UK\n",
            "U\n",
            "K\n",
            "*****************\n",
            "FRANCE\n",
            "F\n",
            "R\n",
            "A\n",
            "N\n",
            "C\n",
            "E\n",
            "*****************\n"
          ],
          "name": "stdout"
        }
      ]
    },
    {
      "cell_type": "code",
      "metadata": {
        "colab": {
          "base_uri": "https://localhost:8080/"
        },
        "id": "2XT092XrzA1F",
        "outputId": "d6da0407-d878-4f9e-a9df-944a0b7e64ee"
      },
      "source": [
        "[ j for i in list1 for j in i]"
      ],
      "execution_count": null,
      "outputs": [
        {
          "output_type": "execute_result",
          "data": {
            "text/plain": [
              "['I',\n",
              " 'N',\n",
              " 'D',\n",
              " 'I',\n",
              " 'A',\n",
              " 'U',\n",
              " 'S',\n",
              " 'A',\n",
              " 'U',\n",
              " 'K',\n",
              " 'F',\n",
              " 'R',\n",
              " 'A',\n",
              " 'N',\n",
              " 'C',\n",
              " 'E']"
            ]
          },
          "metadata": {
            "tags": []
          },
          "execution_count": 13
        }
      ]
    },
    {
      "cell_type": "code",
      "metadata": {
        "colab": {
          "base_uri": "https://localhost:8080/"
        },
        "id": "C8b85jjGzac8",
        "outputId": "5322541a-db04-4c25-a7d4-9153be901674"
      },
      "source": [
        "num = int(input(\"Enter a number : \"))\n",
        "\n",
        "[(num,\"*\",i,\"==\",(num*i))for i in range(1,11)]"
      ],
      "execution_count": null,
      "outputs": [
        {
          "output_type": "stream",
          "text": [
            "Enter a number : 9\n"
          ],
          "name": "stdout"
        },
        {
          "output_type": "execute_result",
          "data": {
            "text/plain": [
              "[(9, '*', 1, '==', 9),\n",
              " (9, '*', 2, '==', 18),\n",
              " (9, '*', 3, '==', 27),\n",
              " (9, '*', 4, '==', 36),\n",
              " (9, '*', 5, '==', 45),\n",
              " (9, '*', 6, '==', 54),\n",
              " (9, '*', 7, '==', 63),\n",
              " (9, '*', 8, '==', 72),\n",
              " (9, '*', 9, '==', 81),\n",
              " (9, '*', 10, '==', 90)]"
            ]
          },
          "metadata": {
            "tags": []
          },
          "execution_count": 16
        }
      ]
    },
    {
      "cell_type": "code",
      "metadata": {
        "colab": {
          "base_uri": "https://localhost:8080/"
        },
        "id": "ZETZCxvczreF",
        "outputId": "75a94542-2d14-4a75-a81d-56915e967ecf"
      },
      "source": [
        "n = int(input(\"Enter a Number : \"))\n",
        "\n",
        "[(i,\"*\",j,\"==\",(i*j))for i in range(2,n+1) for j in range(1,11)]"
      ],
      "execution_count": null,
      "outputs": [
        {
          "output_type": "stream",
          "text": [
            "Enter a Number : 5\n"
          ],
          "name": "stdout"
        },
        {
          "output_type": "execute_result",
          "data": {
            "text/plain": [
              "[(2, '*', 1, '==', 2),\n",
              " (2, '*', 2, '==', 4),\n",
              " (2, '*', 3, '==', 6),\n",
              " (2, '*', 4, '==', 8),\n",
              " (2, '*', 5, '==', 10),\n",
              " (2, '*', 6, '==', 12),\n",
              " (2, '*', 7, '==', 14),\n",
              " (2, '*', 8, '==', 16),\n",
              " (2, '*', 9, '==', 18),\n",
              " (2, '*', 10, '==', 20),\n",
              " (3, '*', 1, '==', 3),\n",
              " (3, '*', 2, '==', 6),\n",
              " (3, '*', 3, '==', 9),\n",
              " (3, '*', 4, '==', 12),\n",
              " (3, '*', 5, '==', 15),\n",
              " (3, '*', 6, '==', 18),\n",
              " (3, '*', 7, '==', 21),\n",
              " (3, '*', 8, '==', 24),\n",
              " (3, '*', 9, '==', 27),\n",
              " (3, '*', 10, '==', 30),\n",
              " (4, '*', 1, '==', 4),\n",
              " (4, '*', 2, '==', 8),\n",
              " (4, '*', 3, '==', 12),\n",
              " (4, '*', 4, '==', 16),\n",
              " (4, '*', 5, '==', 20),\n",
              " (4, '*', 6, '==', 24),\n",
              " (4, '*', 7, '==', 28),\n",
              " (4, '*', 8, '==', 32),\n",
              " (4, '*', 9, '==', 36),\n",
              " (4, '*', 10, '==', 40),\n",
              " (5, '*', 1, '==', 5),\n",
              " (5, '*', 2, '==', 10),\n",
              " (5, '*', 3, '==', 15),\n",
              " (5, '*', 4, '==', 20),\n",
              " (5, '*', 5, '==', 25),\n",
              " (5, '*', 6, '==', 30),\n",
              " (5, '*', 7, '==', 35),\n",
              " (5, '*', 8, '==', 40),\n",
              " (5, '*', 9, '==', 45),\n",
              " (5, '*', 10, '==', 50)]"
            ]
          },
          "metadata": {
            "tags": []
          },
          "execution_count": 17
        }
      ]
    },
    {
      "cell_type": "code",
      "metadata": {
        "colab": {
          "base_uri": "https://localhost:8080/"
        },
        "id": "f4aZjYRy0dgu",
        "outputId": "0348a7c8-e5a3-4271-a9a0-6700aad7b650"
      },
      "source": [
        "[   i       for i in range(5)  ]"
      ],
      "execution_count": null,
      "outputs": [
        {
          "output_type": "execute_result",
          "data": {
            "text/plain": [
              "[0, 1, 2, 3, 4]"
            ]
          },
          "metadata": {
            "tags": []
          },
          "execution_count": 18
        }
      ]
    },
    {
      "cell_type": "code",
      "metadata": {
        "id": "o7-EgHUh1B7G"
      },
      "source": [
        "z = [ [ i  for i in range(5)  ]          for x in range(1,5)]"
      ],
      "execution_count": null,
      "outputs": []
    },
    {
      "cell_type": "code",
      "metadata": {
        "id": "XChJWctB1MzL"
      },
      "source": [
        "import itertools\n",
        "a = itertools.chain(*z)"
      ],
      "execution_count": null,
      "outputs": []
    },
    {
      "cell_type": "code",
      "metadata": {
        "colab": {
          "base_uri": "https://localhost:8080/"
        },
        "id": "PpxuV0wo1u1j",
        "outputId": "d7b19c7d-5e2c-4233-a384-59839eb62a8d"
      },
      "source": [
        "list(a)"
      ],
      "execution_count": null,
      "outputs": [
        {
          "output_type": "execute_result",
          "data": {
            "text/plain": [
              "[0, 1, 2, 3, 4, 0, 1, 2, 3, 4, 0, 1, 2, 3, 4, 0, 1, 2, 3, 4]"
            ]
          },
          "metadata": {
            "tags": []
          },
          "execution_count": 23
        }
      ]
    },
    {
      "cell_type": "code",
      "metadata": {
        "id": "JQiP2trz1vq7"
      },
      "source": [
        "l1 = [10,20,30,40,50,60]\n",
        "l2 = [100,200,300,400]\n",
        "l3 = [1,2,3,4,5,6,7]"
      ],
      "execution_count": null,
      "outputs": []
    },
    {
      "cell_type": "code",
      "metadata": {
        "id": "xh2YNybz25xT"
      },
      "source": [
        "a = zip(l1, l2, l3)"
      ],
      "execution_count": null,
      "outputs": []
    },
    {
      "cell_type": "code",
      "metadata": {
        "colab": {
          "base_uri": "https://localhost:8080/"
        },
        "id": "aOsm-U8S28sF",
        "outputId": "290e700b-3aa6-48f8-a899-b287783582e6"
      },
      "source": [
        "list(a)"
      ],
      "execution_count": null,
      "outputs": [
        {
          "output_type": "execute_result",
          "data": {
            "text/plain": [
              "[(10, 100, 1), (20, 200, 2), (30, 300, 3), (40, 400, 4)]"
            ]
          },
          "metadata": {
            "tags": []
          },
          "execution_count": 36
        }
      ]
    },
    {
      "cell_type": "code",
      "metadata": {
        "colab": {
          "base_uri": "https://localhost:8080/"
        },
        "id": "mmt03r_p3GmQ",
        "outputId": "4c6b6a72-51a5-4c42-e6f4-375ba06e3b16"
      },
      "source": [
        "list(a)"
      ],
      "execution_count": null,
      "outputs": [
        {
          "output_type": "execute_result",
          "data": {
            "text/plain": [
              "[]"
            ]
          },
          "metadata": {
            "tags": []
          },
          "execution_count": 37
        }
      ]
    },
    {
      "cell_type": "code",
      "metadata": {
        "id": "M4r1Fy4C3Pqq"
      },
      "source": [
        "z = zip(l1,l2)"
      ],
      "execution_count": null,
      "outputs": []
    },
    {
      "cell_type": "code",
      "metadata": {
        "colab": {
          "base_uri": "https://localhost:8080/"
        },
        "id": "VZzRZqrb3sRD",
        "outputId": "d757f696-4a19-4115-be3e-0ea0117f5d0e"
      },
      "source": [
        "print(z)"
      ],
      "execution_count": null,
      "outputs": [
        {
          "output_type": "stream",
          "text": [
            "<zip object at 0x7f1933a2d1c8>\n"
          ],
          "name": "stdout"
        }
      ]
    },
    {
      "cell_type": "code",
      "metadata": {
        "colab": {
          "base_uri": "https://localhost:8080/"
        },
        "id": "DNNkTCmg3uLo",
        "outputId": "ff00d37c-76dc-476c-b53f-207999d246a1"
      },
      "source": [
        "for i in z:\n",
        "  print(i)"
      ],
      "execution_count": null,
      "outputs": [
        {
          "output_type": "stream",
          "text": [
            "(10, 100)\n",
            "(20, 200)\n",
            "(30, 300)\n",
            "(40, 400)\n"
          ],
          "name": "stdout"
        }
      ]
    },
    {
      "cell_type": "code",
      "metadata": {
        "colab": {
          "base_uri": "https://localhost:8080/"
        },
        "id": "NKp_FO8535qy",
        "outputId": "e04dc69a-c48a-45a5-ba7a-85c4d725d102"
      },
      "source": [
        "for i in zip(l1, l2):\n",
        "  print(i)"
      ],
      "execution_count": null,
      "outputs": [
        {
          "output_type": "stream",
          "text": [
            "(10, 100)\n",
            "(20, 200)\n",
            "(30, 300)\n",
            "(40, 400)\n"
          ],
          "name": "stdout"
        }
      ]
    },
    {
      "cell_type": "code",
      "metadata": {
        "colab": {
          "base_uri": "https://localhost:8080/"
        },
        "id": "tXOOE-vX4mni",
        "outputId": "18cb3906-00c5-4506-9923-202a2d075cde"
      },
      "source": [
        "for i in zip(l1,l3):\n",
        "  print(i)"
      ],
      "execution_count": null,
      "outputs": [
        {
          "output_type": "stream",
          "text": [
            "(10, 1)\n",
            "(20, 2)\n",
            "(30, 3)\n",
            "(40, 4)\n",
            "(50, 5)\n",
            "(60, 6)\n"
          ],
          "name": "stdout"
        }
      ]
    },
    {
      "cell_type": "code",
      "metadata": {
        "colab": {
          "base_uri": "https://localhost:8080/"
        },
        "id": "PgWfS7GQ4qWa",
        "outputId": "90a24063-b7aa-4f0e-d76c-10b171cc7d0e"
      },
      "source": [
        "y = zip(l1,l2)\n",
        "for i in y:\n",
        "  print(i)"
      ],
      "execution_count": null,
      "outputs": [
        {
          "output_type": "stream",
          "text": [
            "(10, 100)\n",
            "(20, 200)\n",
            "(30, 300)\n",
            "(40, 400)\n"
          ],
          "name": "stdout"
        }
      ]
    },
    {
      "cell_type": "code",
      "metadata": {
        "colab": {
          "base_uri": "https://localhost:8080/"
        },
        "id": "ZBUhbmFS4vcm",
        "outputId": "6178352e-46bb-4bd8-98de-fa711156d123"
      },
      "source": [
        "y"
      ],
      "execution_count": null,
      "outputs": [
        {
          "output_type": "execute_result",
          "data": {
            "text/plain": [
              "<zip at 0x7f1933a315c8>"
            ]
          },
          "metadata": {
            "tags": []
          },
          "execution_count": 44
        }
      ]
    },
    {
      "cell_type": "code",
      "metadata": {
        "colab": {
          "base_uri": "https://localhost:8080/"
        },
        "id": "DAdGROAn4xqb",
        "outputId": "36ced2ee-193c-4065-c708-3d3b39831f51"
      },
      "source": [
        "for i, j in zip(l1, l2):\n",
        "  print(i)\n",
        "  print(j)\n",
        "  print(i+j)\n",
        "  print(\"*************\")\n",
        "print(l1)\n",
        "print(l2)"
      ],
      "execution_count": null,
      "outputs": [
        {
          "output_type": "stream",
          "text": [
            "10\n",
            "100\n",
            "110\n",
            "*************\n",
            "20\n",
            "200\n",
            "220\n",
            "*************\n",
            "30\n",
            "300\n",
            "330\n",
            "*************\n",
            "40\n",
            "400\n",
            "440\n",
            "*************\n",
            "[10, 20, 30, 40, 50, 60]\n",
            "[100, 200, 300, 400]\n"
          ],
          "name": "stdout"
        }
      ]
    },
    {
      "cell_type": "code",
      "metadata": {
        "colab": {
          "base_uri": "https://localhost:8080/"
        },
        "id": "wP0b7K6Q5Inl",
        "outputId": "89a92672-269e-4bda-dc43-79e7bb8b390e"
      },
      "source": [
        "for i in zip(l1, l2, l3):\n",
        "  print(i)"
      ],
      "execution_count": null,
      "outputs": [
        {
          "output_type": "stream",
          "text": [
            "(10, 100, 1)\n",
            "(20, 200, 2)\n",
            "(30, 300, 3)\n",
            "(40, 400, 4)\n"
          ],
          "name": "stdout"
        }
      ]
    },
    {
      "cell_type": "code",
      "metadata": {
        "colab": {
          "base_uri": "https://localhost:8080/"
        },
        "id": "aYui5-b25s7m",
        "outputId": "cb432144-ae8f-4678-83ad-8dd82fe4ba6b"
      },
      "source": [
        "for i, j, k in zip(l1, l2, l3):\n",
        "  print(i)\n",
        "  print(j)\n",
        "  print(k)\n",
        "  print(\"**************\")"
      ],
      "execution_count": null,
      "outputs": [
        {
          "output_type": "stream",
          "text": [
            "10\n",
            "100\n",
            "1\n",
            "**************\n",
            "20\n",
            "200\n",
            "2\n",
            "**************\n",
            "30\n",
            "300\n",
            "3\n",
            "**************\n",
            "40\n",
            "400\n",
            "4\n",
            "**************\n"
          ],
          "name": "stdout"
        }
      ]
    },
    {
      "cell_type": "code",
      "metadata": {
        "id": "FKFT3PcH51Rb"
      },
      "source": [
        "z = zip(l1,l2)"
      ],
      "execution_count": null,
      "outputs": []
    },
    {
      "cell_type": "code",
      "metadata": {
        "colab": {
          "base_uri": "https://localhost:8080/"
        },
        "id": "zs84jali6N4h",
        "outputId": "c1d0a5b1-5339-44f6-84b0-a6b439d99bdc"
      },
      "source": [
        "z"
      ],
      "execution_count": null,
      "outputs": [
        {
          "output_type": "execute_result",
          "data": {
            "text/plain": [
              "<zip at 0x7f1933a319c8>"
            ]
          },
          "metadata": {
            "tags": []
          },
          "execution_count": 54
        }
      ]
    },
    {
      "cell_type": "code",
      "metadata": {
        "colab": {
          "base_uri": "https://localhost:8080/"
        },
        "id": "_knJCFBl6Pfg",
        "outputId": "f22bbdae-4492-4cf9-e73a-3409c1528542"
      },
      "source": [
        "list(z)"
      ],
      "execution_count": null,
      "outputs": [
        {
          "output_type": "execute_result",
          "data": {
            "text/plain": [
              "[(10, 100), (20, 200), (30, 300), (40, 400)]"
            ]
          },
          "metadata": {
            "tags": []
          },
          "execution_count": 55
        }
      ]
    },
    {
      "cell_type": "code",
      "metadata": {
        "id": "VoxcEYI86QSa"
      },
      "source": [
        "a, b = zip(*z)"
      ],
      "execution_count": null,
      "outputs": []
    },
    {
      "cell_type": "code",
      "metadata": {
        "id": "n5kfC6Ey6Vul",
        "outputId": "b030880a-451a-40f8-fd4e-f5fdae7331c2",
        "colab": {
          "base_uri": "https://localhost:8080/"
        }
      },
      "source": [
        "a"
      ],
      "execution_count": null,
      "outputs": [
        {
          "output_type": "execute_result",
          "data": {
            "text/plain": [
              "(10, 20, 30, 40)"
            ]
          },
          "metadata": {
            "tags": []
          },
          "execution_count": 58
        }
      ]
    },
    {
      "cell_type": "code",
      "metadata": {
        "id": "cSnPkcJf6We_",
        "outputId": "6269ad61-7fde-4314-8125-8ee8ca6a5e1e",
        "colab": {
          "base_uri": "https://localhost:8080/"
        }
      },
      "source": [
        "b"
      ],
      "execution_count": null,
      "outputs": [
        {
          "output_type": "execute_result",
          "data": {
            "text/plain": [
              "(100, 200, 300, 400)"
            ]
          },
          "metadata": {
            "tags": []
          },
          "execution_count": 59
        }
      ]
    },
    {
      "cell_type": "code",
      "metadata": {
        "id": "uM7vh-cT6W1J"
      },
      "source": [
        ""
      ],
      "execution_count": null,
      "outputs": []
    }
  ]
}