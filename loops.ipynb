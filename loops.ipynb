{
  "nbformat": 4,
  "nbformat_minor": 0,
  "metadata": {
    "colab": {
      "name": "loops.ipynb",
      "provenance": [],
      "include_colab_link": true
    },
    "kernelspec": {
      "name": "python3",
      "display_name": "Python 3"
    }
  },
  "cells": [
    {
      "cell_type": "markdown",
      "metadata": {
        "id": "view-in-github",
        "colab_type": "text"
      },
      "source": [
        "<a href=\"https://colab.research.google.com/github/Ganapathi-tech/python-programming/blob/main/loops.ipynb\" target=\"_parent\"><img src=\"https://colab.research.google.com/assets/colab-badge.svg\" alt=\"Open In Colab\"/></a>"
      ]
    },
    {
      "cell_type": "code",
      "metadata": {
        "colab": {
          "base_uri": "https://localhost:8080/"
        },
        "id": "KkluHAAxVtqO",
        "outputId": "5bbc24ec-a2d6-4678-ab74-98897b145a5b"
      },
      "source": [
        "while True :\n",
        "  a=input(\"do you want to continue this class (yes/no)\")\n",
        "  if a.lower() == \"yes\" :\n",
        "    print(\"helo\")\n",
        "  else :\n",
        "    print(\"thanks for using this appication\")\n",
        "    break\n"
      ],
      "execution_count": null,
      "outputs": [
        {
          "output_type": "stream",
          "text": [
            "do you want to continue this class (yes/no)yes\n",
            "helo\n",
            "do you want to continue this class (yes/no)yes\n",
            "helo\n",
            "do you want to continue this class (yes/no)no\n",
            "thans for using this appicationZ\n"
          ],
          "name": "stdout"
        }
      ]
    },
    {
      "cell_type": "code",
      "metadata": {
        "colab": {
          "base_uri": "https://localhost:8080/"
        },
        "id": "aErABq1JZAJR",
        "outputId": "2af7e220-0db4-4c24-b87f-6cc4c64e5f0b"
      },
      "source": [
        "while True :\n",
        "\n",
        " a=input(\"student name\")\n",
        " x=input(\"enter roll number\")\n",
        " b,c,d=input(\"enter marks\").split(\",\")\n",
        " print(b)\n",
        " print(c)\n",
        " print(d)\n",
        " total=int(b)+int(c)+int(d)\n",
        " print(total)\n",
        " avg=(total/3)\n",
        " print(avg)\n",
        " if avg >=70 :\n",
        "   print(\"a grade\")\n",
        " else :\n",
        "   print(\"b grade \")\n",
        " print(\"***************************\")\n",
        " opt =input(\"do you want continue the session (yes/no)\")   \n",
        " if opt.lower() ! =\"yes\" :\n",
        "   print(\"data stored succesfully\")\n",
        "   print(\"thans for using our app\")\n",
        "   break\n",
        "\n",
        "  "
      ],
      "execution_count": null,
      "outputs": [
        {
          "output_type": "stream",
          "text": [
            "student name  rugender\n",
            "enter roll number  09\n",
            "enter marks  98,09,100\n",
            "  98\n",
            "09\n",
            "100\n",
            "207\n",
            "69.0\n",
            "b grade \n",
            "***************************\n",
            "do you want continue the session (yes/no)yes\n",
            "student name vke\n",
            "enter roll number  09\n",
            "enter marks 99,90,99\n",
            " 99\n",
            "90\n",
            "99\n",
            "288\n",
            "96.0\n",
            "a grade\n",
            "***************************\n",
            "do you want continue the session (yes/no)no\n",
            "data stored succesfully\n",
            "thans for using our app\n"
          ],
          "name": "stdout"
        }
      ]
    },
    {
      "cell_type": "code",
      "metadata": {
        "id": "-0xlShuyf7N6"
      },
      "source": [
        ""
      ],
      "execution_count": null,
      "outputs": []
    },
    {
      "cell_type": "code",
      "metadata": {
        "id": "JJpU0h6EWObh"
      },
      "source": [
        ""
      ],
      "execution_count": null,
      "outputs": []
    }
  ]
}