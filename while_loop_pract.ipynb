{
  "nbformat": 4,
  "nbformat_minor": 0,
  "metadata": {
    "colab": {
      "name": "while loop pract.ipynb",
      "provenance": [],
      "collapsed_sections": [],
      "include_colab_link": true
    },
    "kernelspec": {
      "name": "python3",
      "display_name": "Python 3"
    }
  },
  "cells": [
    {
      "cell_type": "markdown",
      "metadata": {
        "id": "view-in-github",
        "colab_type": "text"
      },
      "source": [
        "<a href=\"https://colab.research.google.com/github/Ganapathi-tech/python-programming/blob/main/while_loop_pract.ipynb\" target=\"_parent\"><img src=\"https://colab.research.google.com/assets/colab-badge.svg\" alt=\"Open In Colab\"/></a>"
      ]
    },
    {
      "cell_type": "code",
      "metadata": {
        "colab": {
          "base_uri": "https://localhost:8080/"
        },
        "id": "ORFN8dBWdeIn",
        "outputId": "f115664b-0603-4034-c8ac-b488489cb344"
      },
      "source": [
        "num = input(\"Enter 5 Number : \")\n",
        "print(num)\n",
        "l = num.split() and\n",
        "print(l) \n",
        "i = 0\n",
        "while i<5 :\n",
        "  if int(l[i]) > 40 :\n",
        "    print(l[i], \"is greater than 40\")\n",
        "  else :\n",
        "    print(l[i], \"is not greater than 40\")\n",
        " \n",
        "  i = i + 1"
      ],
      "execution_count": null,
      "outputs": [
        {
          "output_type": "stream",
          "text": [
            "Enter 5 Number : 50 40 30 60 70\n",
            "50 40 30 60 70\n",
            "['50', '40', '30', '60', '70']\n",
            "50 is greater than 40\n",
            "40 is not greater than 40\n",
            "30 is not greater than 40\n",
            "60 is greater than 40\n",
            "70 is greater than 40\n"
          ],
          "name": "stdout"
        }
      ]
    },
    {
      "cell_type": "code",
      "metadata": {
        "colab": {
          "base_uri": "https://localhost:8080/"
        },
        "id": "q2RzLBOHgMdI",
        "outputId": "48722491-f9dd-4163-b647-aadec85e0751"
      },
      "source": [
        "# Adding Greater than 40 Number\n",
        "num = input(\"Enter 5 Number : \")\n",
        "print(num)\n",
        " \n",
        "l = num.split()\n",
        "print(l)\n",
        " \n",
        "s = 0\n",
        "i = 0\n",
        "while i<5 :\n",
        "  if int(l[i]) > 40 :\n",
        "    s = s + int(l[i])\n",
        "  else :\n",
        "    print(l[i], \"is not greater than 40\")\n",
        " \n",
        "  i = i + 1\n",
        "print(\"Sum of values greater than 40 \", s)"
      ],
      "execution_count": null,
      "outputs": [
        {
          "output_type": "stream",
          "text": [
            "Enter 5 Number : 40 50 30 60 70\n",
            "40 50 30 60 70\n",
            "['40', '50', '30', '60', '70']\n",
            "40 is not greater than 40\n",
            "30 is not greater than 40\n",
            "Sum of values greater than 40  180\n"
          ],
          "name": "stdout"
        }
      ]
    },
    {
      "cell_type": "code",
      "metadata": {
        "colab": {
          "base_uri": "https://localhost:8080/"
        },
        "id": "yeH8nuCKiWtw",
        "outputId": "3f857e25-a1ec-428c-cbce-ab105f13fd94"
      },
      "source": [
        "num = input(\"Enter 5 Number : \")   # 50 60 30 70\n",
        "print(num)\n",
        " \n",
        "l = num.split()\n",
        "print(l)\n",
        " \n",
        "s = 0\n",
        "i = 0\n",
        "while i<5 :\n",
        "  if int(l[i]) >= 40 :\n",
        "    s = s + int(l[i])\n",
        "  else :\n",
        "    print(\"Fail\")\n",
        "    break\n",
        " \n",
        "  i = i + 1"
      ],
      "execution_count": null,
      "outputs": [
        {
          "output_type": "stream",
          "text": [
            "Enter 5 Number : 40 50 60 25 70\n",
            "40 50 60 25 70\n",
            "['40', '50', '60', '25', '70']\n",
            "Fail\n"
          ],
          "name": "stdout"
        }
      ]
    },
    {
      "cell_type": "code",
      "metadata": {
        "colab": {
          "base_uri": "https://localhost:8080/"
        },
        "id": "R7hNvH2KjBNV",
        "outputId": "2b4bbd4b-3d59-4e22-93d0-75c5d4b08327"
      },
      "source": [
        "# prime number in other way\n",
        " \n",
        "num = int(input(\"Enter a Number to Check Prime or Not : \"))\n",
        "count = 0\n",
        "i = 2\n",
        "while i<num:\n",
        "  if num%i == 0 :\n",
        "    count = count + 1\n",
        "  i = i + 1\n",
        " \n",
        "if count == 0 :\n",
        "  print(\"Prime Number \")\n",
        "else :\n",
        "  print(\"not a prime number\")"
      ],
      "execution_count": null,
      "outputs": [
        {
          "output_type": "stream",
          "text": [
            "Enter a Number to Check Prime or Not : 15\n",
            "not a prime number\n"
          ],
          "name": "stdout"
        }
      ]
    },
    {
      "cell_type": "code",
      "metadata": {
        "colab": {
          "base_uri": "https://localhost:8080/"
        },
        "id": "PK20f_AUk6xi",
        "outputId": "4e394953-e58e-43c6-af6e-4285bc176413"
      },
      "source": [
        "x = 3\n",
        "while x <=15 :\n",
        "   print(x)\n",
        "   x = x +1"
      ],
      "execution_count": null,
      "outputs": [
        {
          "output_type": "stream",
          "text": [
            "3\n",
            "4\n",
            "5\n",
            "6\n",
            "7\n",
            "8\n",
            "9\n",
            "10\n",
            "11\n",
            "12\n",
            "13\n",
            "14\n",
            "15\n"
          ],
          "name": "stdout"
        }
      ]
    },
    {
      "cell_type": "code",
      "metadata": {
        "id": "gyO9WrLOk_te",
        "colab": {
          "base_uri": "https://localhost:8080/"
        },
        "outputId": "cf127369-1f9f-495c-a166-742b21c84b35"
      },
      "source": [
        "n = input(\"Enter Student Name : \")\n",
        "r = input(\"Enter Student RollNo : \")\n",
        "m = input(\"Enter 3 Marks : \")\n",
        "\n",
        "print(n)\n",
        "print(r)\n",
        "print(int(m.split()[0]) + int(m.split()[1]) + int(m.split()[2]))\n"
      ],
      "execution_count": null,
      "outputs": [
        {
          "output_type": "stream",
          "text": [
            "Enter Student Name : a\n",
            "Enter Student RollNo : 11\n",
            "Enter 3 Marks : 70 70 70\n",
            "a\n",
            "11\n",
            "210\n"
          ],
          "name": "stdout"
        }
      ]
    },
    {
      "cell_type": "code",
      "metadata": {
        "id": "UN15VLr-mSBC",
        "colab": {
          "base_uri": "https://localhost:8080/"
        },
        "outputId": "37a22ca5-3362-4546-bdde-c7861225cd0f"
      },
      "source": [
        " \n",
        "n = input(\"Enter Student Name : \")\n",
        "r = input(\"Enter Student RollNo : \")\n",
        "m = input(\"Enter 3 Marks : \")\n",
        " \n",
        "print(n)\n",
        "print(r)\n",
        "print(m.split())\n",
        " \n",
        "i=0\n",
        "s=0\n",
        "while i<3 :\n",
        "  s =  s + int(m.split()[i])\n",
        "  i=i+1\n",
        "print(s) I"
      ],
      "execution_count": null,
      "outputs": [
        {
          "output_type": "stream",
          "text": [
            "Enter Student Name : a\n",
            "Enter Student RollNo : 1\n",
            "Enter 3 Marks : 55 65 75\n",
            "a\n",
            "1\n",
            "['55', '65', '75']\n",
            "195\n"
          ],
          "name": "stdout"
        }
      ]
    },
    {
      "cell_type": "code",
      "metadata": {
        "colab": {
          "base_uri": "https://localhost:8080/"
        },
        "id": "qZdI0_YKtT6Y",
        "outputId": "1e7d78dd-d663-4b16-f47e-012b3bf32b4c"
      },
      "source": [
        "import time\n",
        "num=10\n",
        "x=1\n",
        "while x <=10:\n",
        "  i=1\n",
        "  while i<=5:\n",
        "    print(i,\"*\",x,\"==\",(x*i),end=\"\\t\")\n",
        "    i=i+1\n",
        "  print(\"***************\")\n",
        "  x=x+1\n",
        "  time.sleep(1)"
      ],
      "execution_count": 1,
      "outputs": [
        {
          "output_type": "stream",
          "name": "stdout",
          "text": [
            "1 * 1 == 1\t2 * 1 == 2\t3 * 1 == 3\t4 * 1 == 4\t5 * 1 == 5\t***************\n",
            "1 * 2 == 2\t2 * 2 == 4\t3 * 2 == 6\t4 * 2 == 8\t5 * 2 == 10\t***************\n",
            "1 * 3 == 3\t2 * 3 == 6\t3 * 3 == 9\t4 * 3 == 12\t5 * 3 == 15\t***************\n",
            "1 * 4 == 4\t2 * 4 == 8\t3 * 4 == 12\t4 * 4 == 16\t5 * 4 == 20\t***************\n",
            "1 * 5 == 5\t2 * 5 == 10\t3 * 5 == 15\t4 * 5 == 20\t5 * 5 == 25\t***************\n",
            "1 * 6 == 6\t2 * 6 == 12\t3 * 6 == 18\t4 * 6 == 24\t5 * 6 == 30\t***************\n",
            "1 * 7 == 7\t2 * 7 == 14\t3 * 7 == 21\t4 * 7 == 28\t5 * 7 == 35\t***************\n",
            "1 * 8 == 8\t2 * 8 == 16\t3 * 8 == 24\t4 * 8 == 32\t5 * 8 == 40\t***************\n",
            "1 * 9 == 9\t2 * 9 == 18\t3 * 9 == 27\t4 * 9 == 36\t5 * 9 == 45\t***************\n",
            "1 * 10 == 10\t2 * 10 == 20\t3 * 10 == 30\t4 * 10 == 40\t5 * 10 == 50\t***************\n"
          ]
        }
      ]
    },
    {
      "cell_type": "code",
      "metadata": {
        "id": "xPS9LgAYtuqL"
      },
      "source": [
        ""
      ],
      "execution_count": null,
      "outputs": []
    }
  ]
}