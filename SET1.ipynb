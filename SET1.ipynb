{
  "nbformat": 4,
  "nbformat_minor": 0,
  "metadata": {
    "colab": {
      "name": "SET1.ipynb",
      "provenance": [],
      "include_colab_link": true
    },
    "kernelspec": {
      "name": "python3",
      "display_name": "Python 3"
    }
  },
  "cells": [
    {
      "cell_type": "markdown",
      "metadata": {
        "id": "view-in-github",
        "colab_type": "text"
      },
      "source": [
        "<a href=\"https://colab.research.google.com/github/Ganapathi-tech/python-programming/blob/main/SET1.ipynb\" target=\"_parent\"><img src=\"https://colab.research.google.com/assets/colab-badge.svg\" alt=\"Open In Colab\"/></a>"
      ]
    },
    {
      "cell_type": "code",
      "metadata": {
        "id": "i9hlAOsYUjlZ"
      },
      "source": [
        "set1 = { \"blue\", 3, 75.5, \"car\" }"
      ],
      "execution_count": null,
      "outputs": []
    },
    {
      "cell_type": "code",
      "metadata": {
        "colab": {
          "base_uri": "https://localhost:8080/"
        },
        "id": "ZBYoFvEkVBYO",
        "outputId": "62fd6e80-db1a-4a64-cee1-3e5ded2140b7"
      },
      "source": [
        "print(set1)"
      ],
      "execution_count": null,
      "outputs": [
        {
          "output_type": "stream",
          "text": [
            "{3, 'car', 75.5, 'blue'}\n"
          ],
          "name": "stdout"
        }
      ]
    },
    {
      "cell_type": "code",
      "metadata": {
        "id": "1uTUj79xVC8y"
      },
      "source": [
        "# [], ()\n",
        "\n",
        "eset1 = set()"
      ],
      "execution_count": null,
      "outputs": []
    },
    {
      "cell_type": "code",
      "metadata": {
        "colab": {
          "base_uri": "https://localhost:8080/"
        },
        "id": "56TmMKMPVVP5",
        "outputId": "4f584524-ddfc-4677-ddc6-67301f3a1013"
      },
      "source": [
        "print(eset1)\n",
        "print(type(eset1))"
      ],
      "execution_count": null,
      "outputs": [
        {
          "output_type": "stream",
          "text": [
            "set()\n",
            "<class 'set'>\n"
          ],
          "name": "stdout"
        }
      ]
    },
    {
      "cell_type": "code",
      "metadata": {
        "colab": {
          "base_uri": "https://localhost:8080/"
        },
        "id": "p3QrKEj5VWPx",
        "outputId": "6855b420-6efd-43bc-ce43-90126c04f939"
      },
      "source": [
        "set1"
      ],
      "execution_count": null,
      "outputs": [
        {
          "output_type": "execute_result",
          "data": {
            "text/plain": [
              "{3, 75.5, 'blue', 'car'}"
            ]
          },
          "metadata": {
            "tags": []
          },
          "execution_count": 8
        }
      ]
    },
    {
      "cell_type": "code",
      "metadata": {
        "colab": {
          "base_uri": "https://localhost:8080/"
        },
        "id": "txwBXQN7V0zP",
        "outputId": "9c34a315-6442-4be5-96c8-a0f97f07f0c3"
      },
      "source": [
        "for i in set1:\n",
        "  print(i)"
      ],
      "execution_count": null,
      "outputs": [
        {
          "output_type": "stream",
          "text": [
            "3\n",
            "car\n",
            "75.5\n",
            "blue\n"
          ],
          "name": "stdout"
        }
      ]
    },
    {
      "cell_type": "code",
      "metadata": {
        "colab": {
          "base_uri": "https://localhost:8080/"
        },
        "id": "FUXmhrw2V5qc",
        "outputId": "de7a8bef-b3b4-47e8-9a71-ce04ff325416"
      },
      "source": [
        "c = 0\n",
        "for i in set1:\n",
        "  c = c + 1\n",
        "  if i == \"car\":\n",
        "    print(i)\n",
        "    print(\"place location of :\",i,\" ==\",c)\n"
      ],
      "execution_count": null,
      "outputs": [
        {
          "output_type": "stream",
          "text": [
            "car\n",
            "place location of : car  == 2\n"
          ],
          "name": "stdout"
        }
      ]
    },
    {
      "cell_type": "code",
      "metadata": {
        "colab": {
          "base_uri": "https://localhost:8080/"
        },
        "id": "1gIzWmfFWX2R",
        "outputId": "77083821-59db-4900-eef4-81ee5a49f3a2"
      },
      "source": [
        "set1"
      ],
      "execution_count": null,
      "outputs": [
        {
          "output_type": "execute_result",
          "data": {
            "text/plain": [
              "{3, 75.5, 'blue', 'car'}"
            ]
          },
          "metadata": {
            "tags": []
          },
          "execution_count": 15
        }
      ]
    },
    {
      "cell_type": "code",
      "metadata": {
        "id": "gomfvg1SWoLi"
      },
      "source": [
        "set1.add(1510)"
      ],
      "execution_count": null,
      "outputs": []
    },
    {
      "cell_type": "code",
      "metadata": {
        "colab": {
          "base_uri": "https://localhost:8080/"
        },
        "id": "-Og3zKhcW00K",
        "outputId": "7c818fc9-c90e-40f0-a763-0e8dfefba206"
      },
      "source": [
        "set1"
      ],
      "execution_count": null,
      "outputs": [
        {
          "output_type": "execute_result",
          "data": {
            "text/plain": [
              "{1510, 3, 75.5, 'blue', 'car'}"
            ]
          },
          "metadata": {
            "tags": []
          },
          "execution_count": 17
        }
      ]
    },
    {
      "cell_type": "code",
      "metadata": {
        "id": "cZNMhvdhW1dw"
      },
      "source": [
        "set1.add(\"APPLE\")"
      ],
      "execution_count": null,
      "outputs": []
    },
    {
      "cell_type": "code",
      "metadata": {
        "colab": {
          "base_uri": "https://localhost:8080/"
        },
        "id": "nojiJQMPXKQT",
        "outputId": "9931ba36-8048-4c8e-be8a-825397ec876b"
      },
      "source": [
        "set1"
      ],
      "execution_count": null,
      "outputs": [
        {
          "output_type": "execute_result",
          "data": {
            "text/plain": [
              "{1510, 3, 75.5, 'APPLE', 'blue', 'car'}"
            ]
          },
          "metadata": {
            "tags": []
          },
          "execution_count": 19
        }
      ]
    },
    {
      "cell_type": "code",
      "metadata": {
        "colab": {
          "base_uri": "https://localhost:8080/",
          "height": 166
        },
        "id": "AOCcDm2UXK6u",
        "outputId": "c74eae5d-1226-447e-ba55-ce4b2a3be343"
      },
      "source": [
        "set1.add(100,200)"
      ],
      "execution_count": null,
      "outputs": [
        {
          "output_type": "error",
          "ename": "TypeError",
          "evalue": "ignored",
          "traceback": [
            "\u001b[0;31m---------------------------------------------------------------------------\u001b[0m",
            "\u001b[0;31mTypeError\u001b[0m                                 Traceback (most recent call last)",
            "\u001b[0;32m<ipython-input-20-7a531e28ecea>\u001b[0m in \u001b[0;36m<module>\u001b[0;34m()\u001b[0m\n\u001b[0;32m----> 1\u001b[0;31m \u001b[0mset1\u001b[0m\u001b[0;34m.\u001b[0m\u001b[0madd\u001b[0m\u001b[0;34m(\u001b[0m\u001b[0;36m100\u001b[0m\u001b[0;34m,\u001b[0m\u001b[0;36m200\u001b[0m\u001b[0;34m)\u001b[0m\u001b[0;34m\u001b[0m\u001b[0;34m\u001b[0m\u001b[0m\n\u001b[0m",
            "\u001b[0;31mTypeError\u001b[0m: add() takes exactly one argument (2 given)"
          ]
        }
      ]
    },
    {
      "cell_type": "code",
      "metadata": {
        "colab": {
          "base_uri": "https://localhost:8080/",
          "height": 166
        },
        "id": "Rv9U2wPRXQFY",
        "outputId": "c1e4f356-b233-4140-c25d-cdd80c6b9f58"
      },
      "source": [
        "set1.add([100,200])"
      ],
      "execution_count": null,
      "outputs": [
        {
          "output_type": "error",
          "ename": "TypeError",
          "evalue": "ignored",
          "traceback": [
            "\u001b[0;31m---------------------------------------------------------------------------\u001b[0m",
            "\u001b[0;31mTypeError\u001b[0m                                 Traceback (most recent call last)",
            "\u001b[0;32m<ipython-input-21-3d2f187f2ee2>\u001b[0m in \u001b[0;36m<module>\u001b[0;34m()\u001b[0m\n\u001b[0;32m----> 1\u001b[0;31m \u001b[0mset1\u001b[0m\u001b[0;34m.\u001b[0m\u001b[0madd\u001b[0m\u001b[0;34m(\u001b[0m\u001b[0;34m[\u001b[0m\u001b[0;36m100\u001b[0m\u001b[0;34m,\u001b[0m\u001b[0;36m200\u001b[0m\u001b[0;34m]\u001b[0m\u001b[0;34m)\u001b[0m\u001b[0;34m\u001b[0m\u001b[0;34m\u001b[0m\u001b[0m\n\u001b[0m",
            "\u001b[0;31mTypeError\u001b[0m: unhashable type: 'list'"
          ]
        }
      ]
    },
    {
      "cell_type": "code",
      "metadata": {
        "id": "5td7mx69XYCY"
      },
      "source": [
        "set1.add((100,200))"
      ],
      "execution_count": null,
      "outputs": []
    },
    {
      "cell_type": "code",
      "metadata": {
        "colab": {
          "base_uri": "https://localhost:8080/"
        },
        "id": "IG9F0emuXi7Q",
        "outputId": "60e16bc4-9979-456d-a9c1-9f4498a2c4f0"
      },
      "source": [
        "set1"
      ],
      "execution_count": null,
      "outputs": [
        {
          "output_type": "execute_result",
          "data": {
            "text/plain": [
              "{(100, 200), 1510, 3, 75.5, 'APPLE', 'blue', 'car'}"
            ]
          },
          "metadata": {
            "tags": []
          },
          "execution_count": 23
        }
      ]
    },
    {
      "cell_type": "code",
      "metadata": {
        "colab": {
          "base_uri": "https://localhost:8080/"
        },
        "id": "5ND7mzvXXkCm",
        "outputId": "dcd67690-2694-4ec4-d884-0d6f2150ceed"
      },
      "source": [
        "for i in set1:\n",
        "  print(i)"
      ],
      "execution_count": null,
      "outputs": [
        {
          "output_type": "stream",
          "text": [
            "3\n",
            "1510\n",
            "(100, 200)\n",
            "car\n",
            "75.5\n",
            "blue\n",
            "APPLE\n"
          ],
          "name": "stdout"
        }
      ]
    },
    {
      "cell_type": "code",
      "metadata": {
        "id": "ZMBZeN65XrKG"
      },
      "source": [
        "set1.add(1510)"
      ],
      "execution_count": null,
      "outputs": []
    },
    {
      "cell_type": "code",
      "metadata": {
        "colab": {
          "base_uri": "https://localhost:8080/"
        },
        "id": "EEHYPZLJX_KR",
        "outputId": "44e91d08-7872-4a77-e020-80bbdb08aa25"
      },
      "source": [
        "set1"
      ],
      "execution_count": null,
      "outputs": [
        {
          "output_type": "execute_result",
          "data": {
            "text/plain": [
              "{(100, 200), 1510, 3, 75.5, 'APPLE', 'blue', 'car'}"
            ]
          },
          "metadata": {
            "tags": []
          },
          "execution_count": 26
        }
      ]
    },
    {
      "cell_type": "code",
      "metadata": {
        "id": "UH_FaJ_AX_uE"
      },
      "source": [
        "set1.update(\"SKY\")"
      ],
      "execution_count": null,
      "outputs": []
    },
    {
      "cell_type": "code",
      "metadata": {
        "colab": {
          "base_uri": "https://localhost:8080/"
        },
        "id": "dp0jKaiBYN6O",
        "outputId": "521dd571-a505-4064-9302-2f36ea2e17bc"
      },
      "source": [
        "set1"
      ],
      "execution_count": null,
      "outputs": [
        {
          "output_type": "execute_result",
          "data": {
            "text/plain": [
              "{(100, 200), 1510, 3, 75.5, 'APPLE', 'K', 'S', 'Y', 'blue', 'car'}"
            ]
          },
          "metadata": {
            "tags": []
          },
          "execution_count": 28
        }
      ]
    },
    {
      "cell_type": "code",
      "metadata": {
        "colab": {
          "base_uri": "https://localhost:8080/",
          "height": 166
        },
        "id": "0g3gZtzHYXoe",
        "outputId": "fc55b0aa-11d1-4812-c162-15b4c1e5f6dc"
      },
      "source": [
        "set1.update(111) # update will accept only iterables ( like list, tuple set...)"
      ],
      "execution_count": null,
      "outputs": [
        {
          "output_type": "error",
          "ename": "TypeError",
          "evalue": "ignored",
          "traceback": [
            "\u001b[0;31m---------------------------------------------------------------------------\u001b[0m",
            "\u001b[0;31mTypeError\u001b[0m                                 Traceback (most recent call last)",
            "\u001b[0;32m<ipython-input-29-bba59aad542f>\u001b[0m in \u001b[0;36m<module>\u001b[0;34m()\u001b[0m\n\u001b[0;32m----> 1\u001b[0;31m \u001b[0mset1\u001b[0m\u001b[0;34m.\u001b[0m\u001b[0mupdate\u001b[0m\u001b[0;34m(\u001b[0m\u001b[0;36m111\u001b[0m\u001b[0;34m)\u001b[0m\u001b[0;34m\u001b[0m\u001b[0;34m\u001b[0m\u001b[0m\n\u001b[0m",
            "\u001b[0;31mTypeError\u001b[0m: 'int' object is not iterable"
          ]
        }
      ]
    },
    {
      "cell_type": "code",
      "metadata": {
        "colab": {
          "base_uri": "https://localhost:8080/"
        },
        "id": "F-b44tfjYcex",
        "outputId": "8fdc684d-16b9-417e-c397-d93104cd0979"
      },
      "source": [
        "set1"
      ],
      "execution_count": null,
      "outputs": [
        {
          "output_type": "execute_result",
          "data": {
            "text/plain": [
              "{(100, 200), 1510, 3, 75.5, 'APPLE', 'K', 'S', 'Y', 'blue', 'car'}"
            ]
          },
          "metadata": {
            "tags": []
          },
          "execution_count": 30
        }
      ]
    },
    {
      "cell_type": "code",
      "metadata": {
        "id": "XayukS3bY8tO"
      },
      "source": [
        "{(100, 200),1510, 3, 75.5, 'APPLE', 'K', 'S', 'Y', 'blue', 'car'}"
      ],
      "execution_count": null,
      "outputs": []
    },
    {
      "cell_type": "code",
      "metadata": {
        "id": "Fao_aehSYqix"
      },
      "source": [
        "# set1.add([\"AAA\", \"BBB\"])\n",
        "set1.update([\"AAA\", \"BBB\"])\n"
      ],
      "execution_count": null,
      "outputs": []
    },
    {
      "cell_type": "code",
      "metadata": {
        "colab": {
          "base_uri": "https://localhost:8080/"
        },
        "id": "XvGkXHU7ZRcd",
        "outputId": "34832c73-90a8-4be6-e192-beef4209a4e3"
      },
      "source": [
        "print(set1)"
      ],
      "execution_count": null,
      "outputs": [
        {
          "output_type": "stream",
          "text": [
            "{3, 'K', 1510, (100, 200), 'S', 'car', 75.5, 'blue', 'APPLE', 'AAA', 'BBB', 'Y'}\n"
          ],
          "name": "stdout"
        }
      ]
    },
    {
      "cell_type": "code",
      "metadata": {
        "id": "5FXnmyQXZSWU"
      },
      "source": [
        "set1.update((\"A\",\"B\",\"C\"))"
      ],
      "execution_count": null,
      "outputs": []
    },
    {
      "cell_type": "code",
      "metadata": {
        "colab": {
          "base_uri": "https://localhost:8080/"
        },
        "id": "BBAMZ_kbZZWQ",
        "outputId": "25eee592-a840-4ca6-da41-ce42074ebf3b"
      },
      "source": [
        "set1"
      ],
      "execution_count": null,
      "outputs": [
        {
          "output_type": "execute_result",
          "data": {
            "text/plain": [
              "{(100, 200),\n",
              " 1510,\n",
              " 3,\n",
              " 75.5,\n",
              " 'A',\n",
              " 'AAA',\n",
              " 'APPLE',\n",
              " 'B',\n",
              " 'BBB',\n",
              " 'C',\n",
              " 'K',\n",
              " 'S',\n",
              " 'Y',\n",
              " 'blue',\n",
              " 'car'}"
            ]
          },
          "metadata": {
            "tags": []
          },
          "execution_count": 34
        }
      ]
    },
    {
      "cell_type": "code",
      "metadata": {
        "id": "UAkfvBVyZaA8"
      },
      "source": [
        "s1 = {\"blue\",\"yellow\",\"green\",\"pink\", \"Parrot\", \"Dove\"}\n",
        "s2 = {\"Lion\",\"Tiger\",\"Elephant\", \"Deer\", \"Parrot\", \"Dove\"}"
      ],
      "execution_count": null,
      "outputs": []
    },
    {
      "cell_type": "code",
      "metadata": {
        "colab": {
          "base_uri": "https://localhost:8080/"
        },
        "id": "R2J-X1lzZtCH",
        "outputId": "d4edd703-d7db-4ee0-c106-e9547020f306"
      },
      "source": [
        "s1"
      ],
      "execution_count": null,
      "outputs": [
        {
          "output_type": "execute_result",
          "data": {
            "text/plain": [
              "{'Dove', 'Parrot', 'blue', 'green', 'pink', 'yellow'}"
            ]
          },
          "metadata": {
            "tags": []
          },
          "execution_count": 42
        }
      ]
    },
    {
      "cell_type": "code",
      "metadata": {
        "colab": {
          "base_uri": "https://localhost:8080/"
        },
        "id": "wdv9K5gAZtob",
        "outputId": "04a26fd9-d27f-4f29-ad77-d271cb750c49"
      },
      "source": [
        "s2"
      ],
      "execution_count": null,
      "outputs": [
        {
          "output_type": "execute_result",
          "data": {
            "text/plain": [
              "{'Deer', 'Dove', 'Elephant', 'Lion', 'Parrot', 'Tiger'}"
            ]
          },
          "metadata": {
            "tags": []
          },
          "execution_count": 43
        }
      ]
    },
    {
      "cell_type": "code",
      "metadata": {
        "id": "TzAtz-q7ZuDM"
      },
      "source": [
        "s1.update(s2)"
      ],
      "execution_count": null,
      "outputs": []
    },
    {
      "cell_type": "code",
      "metadata": {
        "colab": {
          "base_uri": "https://localhost:8080/"
        },
        "id": "O1sMEVCYZ0hI",
        "outputId": "73ab6a34-099a-44f4-de0d-041cc8e815eb"
      },
      "source": [
        "print(s1)"
      ],
      "execution_count": null,
      "outputs": [
        {
          "output_type": "stream",
          "text": [
            "{'Tiger', 'Elephant', 'yellow', 'Deer', 'pink', 'Parrot', 'blue', 'green', 'Dove', 'Lion'}\n"
          ],
          "name": "stdout"
        }
      ]
    },
    {
      "cell_type": "code",
      "metadata": {
        "id": "gU3F0l7xZ4YN"
      },
      "source": [
        "s3 = {\"blue\",\"yellow\",\"green\",\"pink\", \"Parrot\", \"Dove\"}"
      ],
      "execution_count": null,
      "outputs": []
    },
    {
      "cell_type": "code",
      "metadata": {
        "colab": {
          "base_uri": "https://localhost:8080/"
        },
        "id": "t-7DFtbRakBO",
        "outputId": "e159d927-71e0-4994-bcc9-cd86a21f5909"
      },
      "source": [
        "print(s3)"
      ],
      "execution_count": null,
      "outputs": [
        {
          "output_type": "stream",
          "text": [
            "{'yellow', 'pink', 'Parrot', 'blue', 'green', 'Dove'}\n"
          ],
          "name": "stdout"
        }
      ]
    },
    {
      "cell_type": "code",
      "metadata": {
        "id": "autgpOVIak9Y"
      },
      "source": [
        "set2 = s3"
      ],
      "execution_count": null,
      "outputs": []
    },
    {
      "cell_type": "code",
      "metadata": {
        "colab": {
          "base_uri": "https://localhost:8080/"
        },
        "id": "u9pMp9vuatRy",
        "outputId": "8551a4ed-de73-4f4c-a5dd-22091981484f"
      },
      "source": [
        "s3"
      ],
      "execution_count": null,
      "outputs": [
        {
          "output_type": "execute_result",
          "data": {
            "text/plain": [
              "{'Dove', 'Parrot', 'blue', 'green', 'pink', 'yellow'}"
            ]
          },
          "metadata": {
            "tags": []
          },
          "execution_count": 55
        }
      ]
    },
    {
      "cell_type": "code",
      "metadata": {
        "colab": {
          "base_uri": "https://localhost:8080/"
        },
        "id": "w8dNujaoaxf0",
        "outputId": "4ded8bfb-b27c-40c1-e006-8cb8eeabe4a2"
      },
      "source": [
        "set2"
      ],
      "execution_count": null,
      "outputs": [
        {
          "output_type": "execute_result",
          "data": {
            "text/plain": [
              "{'Dove', 'Parrot', 'blue', 'green', 'pink', 'yellow'}"
            ]
          },
          "metadata": {
            "tags": []
          },
          "execution_count": 56
        }
      ]
    },
    {
      "cell_type": "code",
      "metadata": {
        "colab": {
          "base_uri": "https://localhost:8080/"
        },
        "id": "HgoXzXdOayDw",
        "outputId": "ce30d40a-f5e7-46c5-bb45-6ff3cfde1271"
      },
      "source": [
        "id(s3)"
      ],
      "execution_count": null,
      "outputs": [
        {
          "output_type": "execute_result",
          "data": {
            "text/plain": [
              "140105879335952"
            ]
          },
          "metadata": {
            "tags": []
          },
          "execution_count": 57
        }
      ]
    },
    {
      "cell_type": "code",
      "metadata": {
        "colab": {
          "base_uri": "https://localhost:8080/"
        },
        "id": "I5-KsoS1a1Kp",
        "outputId": "27e7f58b-37e8-4b3c-cab2-272d8b7b9e66"
      },
      "source": [
        "id(set2)"
      ],
      "execution_count": null,
      "outputs": [
        {
          "output_type": "execute_result",
          "data": {
            "text/plain": [
              "140105879335952"
            ]
          },
          "metadata": {
            "tags": []
          },
          "execution_count": 59
        }
      ]
    },
    {
      "cell_type": "code",
      "metadata": {
        "id": "cVUucIvRa2IV"
      },
      "source": [
        "set2.add(101511)"
      ],
      "execution_count": null,
      "outputs": []
    },
    {
      "cell_type": "code",
      "metadata": {
        "colab": {
          "base_uri": "https://localhost:8080/"
        },
        "id": "w5wlwCYZa-Mo",
        "outputId": "2fb238d5-1bf9-41f3-d178-6ffba9d48f20"
      },
      "source": [
        "set2"
      ],
      "execution_count": null,
      "outputs": [
        {
          "output_type": "execute_result",
          "data": {
            "text/plain": [
              "{101511, 'Dove', 'Parrot', 'blue', 'green', 'pink', 'yellow'}"
            ]
          },
          "metadata": {
            "tags": []
          },
          "execution_count": 61
        }
      ]
    },
    {
      "cell_type": "code",
      "metadata": {
        "colab": {
          "base_uri": "https://localhost:8080/"
        },
        "id": "CfYcemVWa-3d",
        "outputId": "576e6d02-7f31-4fa4-8917-fb4e174b07c2"
      },
      "source": [
        "s3"
      ],
      "execution_count": null,
      "outputs": [
        {
          "output_type": "execute_result",
          "data": {
            "text/plain": [
              "{101511, 'Dove', 'Parrot', 'blue', 'green', 'pink', 'yellow'}"
            ]
          },
          "metadata": {
            "tags": []
          },
          "execution_count": 62
        }
      ]
    },
    {
      "cell_type": "code",
      "metadata": {
        "id": "Q4dYG401bCtO"
      },
      "source": [
        "set3 = s3.copy()"
      ],
      "execution_count": null,
      "outputs": []
    },
    {
      "cell_type": "code",
      "metadata": {
        "colab": {
          "base_uri": "https://localhost:8080/"
        },
        "id": "__uln13-bH0X",
        "outputId": "80fee767-ae19-42af-a6af-a0225f9d2f5e"
      },
      "source": [
        "set3"
      ],
      "execution_count": null,
      "outputs": [
        {
          "output_type": "execute_result",
          "data": {
            "text/plain": [
              "{101511, 'Dove', 'Parrot', 'blue', 'green', 'pink', 'yellow'}"
            ]
          },
          "metadata": {
            "tags": []
          },
          "execution_count": 64
        }
      ]
    },
    {
      "cell_type": "code",
      "metadata": {
        "colab": {
          "base_uri": "https://localhost:8080/"
        },
        "id": "NDpmAMQebJB6",
        "outputId": "40164273-8cdc-4fa8-d7ad-6efd7cd8df59"
      },
      "source": [
        "s3"
      ],
      "execution_count": null,
      "outputs": [
        {
          "output_type": "execute_result",
          "data": {
            "text/plain": [
              "{101511, 'Dove', 'Parrot', 'blue', 'green', 'pink', 'yellow'}"
            ]
          },
          "metadata": {
            "tags": []
          },
          "execution_count": 65
        }
      ]
    },
    {
      "cell_type": "code",
      "metadata": {
        "colab": {
          "base_uri": "https://localhost:8080/"
        },
        "id": "DCQgt8o4bJs_",
        "outputId": "de214828-fe50-47dc-de38-1e1cc8364ae4"
      },
      "source": [
        "id(set3)"
      ],
      "execution_count": null,
      "outputs": [
        {
          "output_type": "execute_result",
          "data": {
            "text/plain": [
              "140105879334992"
            ]
          },
          "metadata": {
            "tags": []
          },
          "execution_count": 66
        }
      ]
    },
    {
      "cell_type": "code",
      "metadata": {
        "colab": {
          "base_uri": "https://localhost:8080/"
        },
        "id": "BZ0iB7I0bLtF",
        "outputId": "6f01fdbd-4158-4bb6-85e3-1e52edce23ce"
      },
      "source": [
        "id(s3)"
      ],
      "execution_count": null,
      "outputs": [
        {
          "output_type": "execute_result",
          "data": {
            "text/plain": [
              "140105879335952"
            ]
          },
          "metadata": {
            "tags": []
          },
          "execution_count": 67
        }
      ]
    },
    {
      "cell_type": "code",
      "metadata": {
        "id": "uas66CK0bMeW"
      },
      "source": [
        "set3.update(\"AB\")"
      ],
      "execution_count": null,
      "outputs": []
    },
    {
      "cell_type": "code",
      "metadata": {
        "colab": {
          "base_uri": "https://localhost:8080/"
        },
        "id": "Hb3rumPLbTcV",
        "outputId": "849a073a-04f7-4a7a-8f63-9ed7302d53e9"
      },
      "source": [
        "set3"
      ],
      "execution_count": null,
      "outputs": [
        {
          "output_type": "execute_result",
          "data": {
            "text/plain": [
              "{101511, 'A', 'B', 'Dove', 'Parrot', 'blue', 'green', 'pink', 'yellow'}"
            ]
          },
          "metadata": {
            "tags": []
          },
          "execution_count": 69
        }
      ]
    },
    {
      "cell_type": "code",
      "metadata": {
        "colab": {
          "base_uri": "https://localhost:8080/"
        },
        "id": "U82qwKNTbUIj",
        "outputId": "625e3a8e-6711-4990-da5e-81201433a1e5"
      },
      "source": [
        "s3"
      ],
      "execution_count": null,
      "outputs": [
        {
          "output_type": "execute_result",
          "data": {
            "text/plain": [
              "{101511, 'Dove', 'Parrot', 'blue', 'green', 'pink', 'yellow'}"
            ]
          },
          "metadata": {
            "tags": []
          },
          "execution_count": 70
        }
      ]
    },
    {
      "cell_type": "code",
      "metadata": {
        "colab": {
          "base_uri": "https://localhost:8080/",
          "height": 166
        },
        "id": "nTxpSlZybVds",
        "outputId": "a353bee3-1849-4a95-f7ed-00bf9097ed97"
      },
      "source": [
        "s4 = {'Dove', 'Parrot', 'blue',[11,22,33],'green', 'pink', 'yellow'}"
      ],
      "execution_count": null,
      "outputs": [
        {
          "output_type": "error",
          "ename": "TypeError",
          "evalue": "ignored",
          "traceback": [
            "\u001b[0;31m---------------------------------------------------------------------------\u001b[0m",
            "\u001b[0;31mTypeError\u001b[0m                                 Traceback (most recent call last)",
            "\u001b[0;32m<ipython-input-75-599a80ae9cb9>\u001b[0m in \u001b[0;36m<module>\u001b[0;34m()\u001b[0m\n\u001b[0;32m----> 1\u001b[0;31m \u001b[0ms4\u001b[0m \u001b[0;34m=\u001b[0m \u001b[0;34m{\u001b[0m\u001b[0;34m'Dove'\u001b[0m\u001b[0;34m,\u001b[0m \u001b[0;34m'Parrot'\u001b[0m\u001b[0;34m,\u001b[0m \u001b[0;34m'blue'\u001b[0m\u001b[0;34m,\u001b[0m\u001b[0;34m[\u001b[0m\u001b[0;36m11\u001b[0m\u001b[0;34m,\u001b[0m\u001b[0;36m22\u001b[0m\u001b[0;34m,\u001b[0m\u001b[0;36m33\u001b[0m\u001b[0;34m]\u001b[0m\u001b[0;34m,\u001b[0m\u001b[0;34m'green'\u001b[0m\u001b[0;34m,\u001b[0m \u001b[0;34m'pink'\u001b[0m\u001b[0;34m,\u001b[0m \u001b[0;34m'yellow'\u001b[0m\u001b[0;34m}\u001b[0m\u001b[0;34m\u001b[0m\u001b[0;34m\u001b[0m\u001b[0m\n\u001b[0m",
            "\u001b[0;31mTypeError\u001b[0m: unhashable type: 'list'"
          ]
        }
      ]
    },
    {
      "cell_type": "code",
      "metadata": {
        "colab": {
          "base_uri": "https://localhost:8080/",
          "height": 166
        },
        "id": "YT1azb5Qb5L1",
        "outputId": "ff58d0ed-8603-4439-dcf5-5adcb308214f"
      },
      "source": [
        "s4 = {'Dove', 'Parrot', 'blue',{11,22,33},'green', 'pink', 'yellow'}"
      ],
      "execution_count": null,
      "outputs": [
        {
          "output_type": "error",
          "ename": "TypeError",
          "evalue": "ignored",
          "traceback": [
            "\u001b[0;31m---------------------------------------------------------------------------\u001b[0m",
            "\u001b[0;31mTypeError\u001b[0m                                 Traceback (most recent call last)",
            "\u001b[0;32m<ipython-input-76-885188fbc8be>\u001b[0m in \u001b[0;36m<module>\u001b[0;34m()\u001b[0m\n\u001b[0;32m----> 1\u001b[0;31m \u001b[0ms4\u001b[0m \u001b[0;34m=\u001b[0m \u001b[0;34m{\u001b[0m\u001b[0;34m'Dove'\u001b[0m\u001b[0;34m,\u001b[0m \u001b[0;34m'Parrot'\u001b[0m\u001b[0;34m,\u001b[0m \u001b[0;34m'blue'\u001b[0m\u001b[0;34m,\u001b[0m\u001b[0;34m{\u001b[0m\u001b[0;36m11\u001b[0m\u001b[0;34m,\u001b[0m\u001b[0;36m22\u001b[0m\u001b[0;34m,\u001b[0m\u001b[0;36m33\u001b[0m\u001b[0;34m}\u001b[0m\u001b[0;34m,\u001b[0m\u001b[0;34m'green'\u001b[0m\u001b[0;34m,\u001b[0m \u001b[0;34m'pink'\u001b[0m\u001b[0;34m,\u001b[0m \u001b[0;34m'yellow'\u001b[0m\u001b[0;34m}\u001b[0m\u001b[0;34m\u001b[0m\u001b[0;34m\u001b[0m\u001b[0m\n\u001b[0m",
            "\u001b[0;31mTypeError\u001b[0m: unhashable type: 'set'"
          ]
        }
      ]
    },
    {
      "cell_type": "code",
      "metadata": {
        "colab": {
          "base_uri": "https://localhost:8080/"
        },
        "id": "CJkAU9HKblxs",
        "outputId": "46307c93-8856-42c5-9f9a-bc51e27bf9dd"
      },
      "source": [
        "s4"
      ],
      "execution_count": null,
      "outputs": [
        {
          "output_type": "execute_result",
          "data": {
            "text/plain": [
              "{(11, 22, 33), 'Dove', 'Parrot', 'blue', 'green', 'pink', 'yellow'}"
            ]
          },
          "metadata": {
            "tags": []
          },
          "execution_count": 72
        }
      ]
    },
    {
      "cell_type": "code",
      "metadata": {
        "colab": {
          "base_uri": "https://localhost:8080/"
        },
        "id": "w8wdv-jGbmgh",
        "outputId": "c4508687-f1d6-4bd5-8823-49e696452396"
      },
      "source": [
        "s2"
      ],
      "execution_count": null,
      "outputs": [
        {
          "output_type": "execute_result",
          "data": {
            "text/plain": [
              "{'Deer', 'Dove', 'Elephant', 'Lion', 'Parrot', 'Tiger'}"
            ]
          },
          "metadata": {
            "tags": []
          },
          "execution_count": 77
        }
      ]
    },
    {
      "cell_type": "code",
      "metadata": {
        "colab": {
          "base_uri": "https://localhost:8080/"
        },
        "id": "1PcRtzFkcAb7",
        "outputId": "3612f3fe-466b-495c-fe98-7e6c5d2a88a2"
      },
      "source": [
        "s3"
      ],
      "execution_count": null,
      "outputs": [
        {
          "output_type": "execute_result",
          "data": {
            "text/plain": [
              "{101511, 'Dove', 'Parrot', 'blue', 'green', 'pink', 'yellow'}"
            ]
          },
          "metadata": {
            "tags": []
          },
          "execution_count": 78
        }
      ]
    },
    {
      "cell_type": "code",
      "metadata": {
        "colab": {
          "base_uri": "https://localhost:8080/",
          "height": 35
        },
        "id": "ahzAxgcUcCMt",
        "outputId": "22d08524-ec3b-4f3b-9d8e-c98061af546e"
      },
      "source": [
        "s3.pop()"
      ],
      "execution_count": null,
      "outputs": [
        {
          "output_type": "execute_result",
          "data": {
            "application/vnd.google.colaboratory.intrinsic+json": {
              "type": "string"
            },
            "text/plain": [
              "'yellow'"
            ]
          },
          "metadata": {
            "tags": []
          },
          "execution_count": 79
        }
      ]
    },
    {
      "cell_type": "code",
      "metadata": {
        "colab": {
          "base_uri": "https://localhost:8080/"
        },
        "id": "CpGhg2-3cE4I",
        "outputId": "74cf7061-90a8-4e6c-9150-29c1b9d7450d"
      },
      "source": [
        "s3.pop()"
      ],
      "execution_count": null,
      "outputs": [
        {
          "output_type": "execute_result",
          "data": {
            "text/plain": [
              "101511"
            ]
          },
          "metadata": {
            "tags": []
          },
          "execution_count": 80
        }
      ]
    },
    {
      "cell_type": "code",
      "metadata": {
        "colab": {
          "base_uri": "https://localhost:8080/",
          "height": 35
        },
        "id": "rPnciDGNcGwT",
        "outputId": "b05bf6e2-618e-45fb-df3a-0940a898c6df"
      },
      "source": [
        "s3.pop()"
      ],
      "execution_count": null,
      "outputs": [
        {
          "output_type": "execute_result",
          "data": {
            "application/vnd.google.colaboratory.intrinsic+json": {
              "type": "string"
            },
            "text/plain": [
              "'pink'"
            ]
          },
          "metadata": {
            "tags": []
          },
          "execution_count": 81
        }
      ]
    },
    {
      "cell_type": "code",
      "metadata": {
        "colab": {
          "base_uri": "https://localhost:8080/"
        },
        "id": "X6_M1d0TcJXR",
        "outputId": "3565483a-cb9a-4304-9231-d9ad2fe6447d"
      },
      "source": [
        "s3"
      ],
      "execution_count": null,
      "outputs": [
        {
          "output_type": "execute_result",
          "data": {
            "text/plain": [
              "{'Dove', 'Parrot', 'blue', 'green'}"
            ]
          },
          "metadata": {
            "tags": []
          },
          "execution_count": 82
        }
      ]
    },
    {
      "cell_type": "code",
      "metadata": {
        "colab": {
          "base_uri": "https://localhost:8080/"
        },
        "id": "XMKsIdHVcMQZ",
        "outputId": "1d600de0-f1cb-4d45-b5b1-4ae7334d4e07"
      },
      "source": [
        "set2"
      ],
      "execution_count": null,
      "outputs": [
        {
          "output_type": "execute_result",
          "data": {
            "text/plain": [
              "{'Dove', 'Parrot', 'blue', 'green'}"
            ]
          },
          "metadata": {
            "tags": []
          },
          "execution_count": 83
        }
      ]
    },
    {
      "cell_type": "code",
      "metadata": {
        "colab": {
          "base_uri": "https://localhost:8080/"
        },
        "id": "Y5c-kY_UcRj2",
        "outputId": "a8c1c92f-2295-4396-f593-b29175469700"
      },
      "source": [
        "set3"
      ],
      "execution_count": null,
      "outputs": [
        {
          "output_type": "execute_result",
          "data": {
            "text/plain": [
              "{101511, 'A', 'B', 'Dove', 'Parrot', 'blue', 'green', 'pink', 'yellow'}"
            ]
          },
          "metadata": {
            "tags": []
          },
          "execution_count": 84
        }
      ]
    },
    {
      "cell_type": "code",
      "metadata": {
        "id": "fSOIr5PccSw3"
      },
      "source": [
        "del set2"
      ],
      "execution_count": null,
      "outputs": []
    },
    {
      "cell_type": "code",
      "metadata": {
        "colab": {
          "base_uri": "https://localhost:8080/",
          "height": 166
        },
        "id": "nTv0FZvrcWlg",
        "outputId": "c494db0a-ef74-486a-c363-78888ef9eb50"
      },
      "source": [
        "set2"
      ],
      "execution_count": null,
      "outputs": [
        {
          "output_type": "error",
          "ename": "NameError",
          "evalue": "ignored",
          "traceback": [
            "\u001b[0;31m---------------------------------------------------------------------------\u001b[0m",
            "\u001b[0;31mNameError\u001b[0m                                 Traceback (most recent call last)",
            "\u001b[0;32m<ipython-input-86-b74a4c664e8b>\u001b[0m in \u001b[0;36m<module>\u001b[0;34m()\u001b[0m\n\u001b[0;32m----> 1\u001b[0;31m \u001b[0mset2\u001b[0m\u001b[0;34m\u001b[0m\u001b[0;34m\u001b[0m\u001b[0m\n\u001b[0m",
            "\u001b[0;31mNameError\u001b[0m: name 'set2' is not defined"
          ]
        }
      ]
    },
    {
      "cell_type": "code",
      "metadata": {
        "colab": {
          "base_uri": "https://localhost:8080/"
        },
        "id": "lrQngzuqcXSD",
        "outputId": "f716480d-3623-4327-d244-d9b10bc9f161"
      },
      "source": [
        "set1"
      ],
      "execution_count": null,
      "outputs": [
        {
          "output_type": "execute_result",
          "data": {
            "text/plain": [
              "{(100, 200),\n",
              " 1510,\n",
              " 3,\n",
              " 75.5,\n",
              " 'A',\n",
              " 'AAA',\n",
              " 'APPLE',\n",
              " 'B',\n",
              " 'BBB',\n",
              " 'C',\n",
              " 'K',\n",
              " 'S',\n",
              " 'Y',\n",
              " 'blue',\n",
              " 'car'}"
            ]
          },
          "metadata": {
            "tags": []
          },
          "execution_count": 87
        }
      ]
    },
    {
      "cell_type": "code",
      "metadata": {
        "id": "R83-Q4n2cZHQ"
      },
      "source": [
        "set1.clear()"
      ],
      "execution_count": null,
      "outputs": []
    },
    {
      "cell_type": "code",
      "metadata": {
        "colab": {
          "base_uri": "https://localhost:8080/"
        },
        "id": "6lw9XWlZcdUx",
        "outputId": "861cdb63-d210-44e5-c40d-acd2ea3dfa47"
      },
      "source": [
        "set1"
      ],
      "execution_count": null,
      "outputs": [
        {
          "output_type": "execute_result",
          "data": {
            "text/plain": [
              "set()"
            ]
          },
          "metadata": {
            "tags": []
          },
          "execution_count": 89
        }
      ]
    },
    {
      "cell_type": "code",
      "metadata": {
        "colab": {
          "base_uri": "https://localhost:8080/"
        },
        "id": "3GWUhtwSceZ9",
        "outputId": "0e0bc608-110d-4216-b83a-3d3bfeb41a8b"
      },
      "source": [
        "set3"
      ],
      "execution_count": null,
      "outputs": [
        {
          "output_type": "execute_result",
          "data": {
            "text/plain": [
              "{101511, 'A', 'B', 'Dove', 'Parrot', 'blue', 'green', 'pink', 'yellow'}"
            ]
          },
          "metadata": {
            "tags": []
          },
          "execution_count": 90
        }
      ]
    },
    {
      "cell_type": "code",
      "metadata": {
        "id": "LuzRC2HOchKb"
      },
      "source": [
        "set3.remove(\"green\")"
      ],
      "execution_count": null,
      "outputs": []
    },
    {
      "cell_type": "code",
      "metadata": {
        "colab": {
          "base_uri": "https://localhost:8080/"
        },
        "id": "hg7L9ABtclUo",
        "outputId": "18979fd2-d634-45f2-8ba8-c99223634894"
      },
      "source": [
        "set3"
      ],
      "execution_count": null,
      "outputs": [
        {
          "output_type": "execute_result",
          "data": {
            "text/plain": [
              "{101511, 'A', 'B', 'Dove', 'Parrot', 'blue', 'pink', 'yellow'}"
            ]
          },
          "metadata": {
            "tags": []
          },
          "execution_count": 92
        }
      ]
    },
    {
      "cell_type": "code",
      "metadata": {
        "id": "Ict9hSMJcmEO"
      },
      "source": [
        "set3.discard(\"yellow\")"
      ],
      "execution_count": null,
      "outputs": []
    },
    {
      "cell_type": "code",
      "metadata": {
        "colab": {
          "base_uri": "https://localhost:8080/"
        },
        "id": "fWLPoKTRcpox",
        "outputId": "698313f3-92c9-498e-990e-88b535e87aa3"
      },
      "source": [
        "set3"
      ],
      "execution_count": null,
      "outputs": [
        {
          "output_type": "execute_result",
          "data": {
            "text/plain": [
              "{101511, 'A', 'B', 'Dove', 'Parrot', 'blue', 'pink'}"
            ]
          },
          "metadata": {
            "tags": []
          },
          "execution_count": 94
        }
      ]
    },
    {
      "cell_type": "code",
      "metadata": {
        "colab": {
          "base_uri": "https://localhost:8080/",
          "height": 166
        },
        "id": "oQBa_DWvcqov",
        "outputId": "59519711-057c-4b3b-e8e8-6ccd3faa0fa3"
      },
      "source": [
        "set3.remove(\"yellow\")"
      ],
      "execution_count": null,
      "outputs": [
        {
          "output_type": "error",
          "ename": "KeyError",
          "evalue": "ignored",
          "traceback": [
            "\u001b[0;31m---------------------------------------------------------------------------\u001b[0m",
            "\u001b[0;31mKeyError\u001b[0m                                  Traceback (most recent call last)",
            "\u001b[0;32m<ipython-input-95-a4211ff560bf>\u001b[0m in \u001b[0;36m<module>\u001b[0;34m()\u001b[0m\n\u001b[0;32m----> 1\u001b[0;31m \u001b[0mset3\u001b[0m\u001b[0;34m.\u001b[0m\u001b[0mremove\u001b[0m\u001b[0;34m(\u001b[0m\u001b[0;34m\"yellow\"\u001b[0m\u001b[0;34m)\u001b[0m\u001b[0;34m\u001b[0m\u001b[0;34m\u001b[0m\u001b[0m\n\u001b[0m",
            "\u001b[0;31mKeyError\u001b[0m: 'yellow'"
          ]
        }
      ]
    },
    {
      "cell_type": "code",
      "metadata": {
        "id": "b6bBB9JWczZM"
      },
      "source": [
        "set3.discard(\"yellow\")"
      ],
      "execution_count": null,
      "outputs": []
    },
    {
      "cell_type": "code",
      "metadata": {
        "colab": {
          "base_uri": "https://localhost:8080/"
        },
        "id": "vRlU8c_nc4xx",
        "outputId": "92fa8641-f734-4cad-e08b-583cd3d6ec48"
      },
      "source": [
        "set3"
      ],
      "execution_count": null,
      "outputs": [
        {
          "output_type": "execute_result",
          "data": {
            "text/plain": [
              "{101511, 'A', 'B', 'Dove', 'Parrot', 'blue', 'pink'}"
            ]
          },
          "metadata": {
            "tags": []
          },
          "execution_count": 97
        }
      ]
    },
    {
      "cell_type": "code",
      "metadata": {
        "id": "SPqa19WOc8ez"
      },
      "source": [
        "s2 = {'Deer', 'Dove', 'Elephant', 'Lion', 'Parrot', 'Tiger'}"
      ],
      "execution_count": null,
      "outputs": []
    },
    {
      "cell_type": "code",
      "metadata": {
        "id": "tf-FiCltdChK"
      },
      "source": [
        "s1 = {'Dove', 'Parrot', 'blue', 'green', 'pink', 'yellow'}"
      ],
      "execution_count": null,
      "outputs": []
    },
    {
      "cell_type": "code",
      "metadata": {
        "id": "GSJBQ93FdD_b"
      },
      "source": [
        "s1.difference_update(s2)"
      ],
      "execution_count": null,
      "outputs": []
    },
    {
      "cell_type": "code",
      "metadata": {
        "colab": {
          "base_uri": "https://localhost:8080/"
        },
        "id": "OvLOPWWzdvmd",
        "outputId": "864e940e-8235-4932-a9fa-56dfe247738e"
      },
      "source": [
        "s2.difference(s1)"
      ],
      "execution_count": null,
      "outputs": [
        {
          "output_type": "execute_result",
          "data": {
            "text/plain": [
              "{'Deer', 'Elephant', 'Lion', 'Tiger'}"
            ]
          },
          "metadata": {
            "tags": []
          },
          "execution_count": 102
        }
      ]
    },
    {
      "cell_type": "code",
      "metadata": {
        "colab": {
          "base_uri": "https://localhost:8080/"
        },
        "id": "znyraTm4d1Le",
        "outputId": "7114abc7-caa0-491c-c04d-e872e4cf8035"
      },
      "source": [
        "s1"
      ],
      "execution_count": null,
      "outputs": [
        {
          "output_type": "execute_result",
          "data": {
            "text/plain": [
              "{'Dove', 'Parrot', 'blue', 'green', 'pink', 'yellow'}"
            ]
          },
          "metadata": {
            "tags": []
          },
          "execution_count": 103
        }
      ]
    },
    {
      "cell_type": "code",
      "metadata": {
        "colab": {
          "base_uri": "https://localhost:8080/"
        },
        "id": "RjoATafkd7F8",
        "outputId": "c070a25d-f47c-4604-e2b2-3bbe84cc4239"
      },
      "source": [
        "s2"
      ],
      "execution_count": null,
      "outputs": [
        {
          "output_type": "execute_result",
          "data": {
            "text/plain": [
              "{'Deer', 'Dove', 'Elephant', 'Lion', 'Parrot', 'Tiger'}"
            ]
          },
          "metadata": {
            "tags": []
          },
          "execution_count": 104
        }
      ]
    },
    {
      "cell_type": "code",
      "metadata": {
        "colab": {
          "base_uri": "https://localhost:8080/"
        },
        "id": "n3mPY6_Cd7hd",
        "outputId": "a4655572-b5e3-450f-f523-35f761f7f61b"
      },
      "source": [
        "s1"
      ],
      "execution_count": null,
      "outputs": [
        {
          "output_type": "execute_result",
          "data": {
            "text/plain": [
              "{'blue', 'green', 'pink', 'yellow'}"
            ]
          },
          "metadata": {
            "tags": []
          },
          "execution_count": 106
        }
      ]
    },
    {
      "cell_type": "code",
      "metadata": {
        "colab": {
          "base_uri": "https://localhost:8080/"
        },
        "id": "jG2AgmckeEHj",
        "outputId": "dd526cea-1c70-4393-a4ab-00ab708697d7"
      },
      "source": [
        "s1"
      ],
      "execution_count": null,
      "outputs": [
        {
          "output_type": "execute_result",
          "data": {
            "text/plain": [
              "{'Dove', 'Parrot', 'blue', 'green', 'pink', 'yellow'}"
            ]
          },
          "metadata": {
            "tags": []
          },
          "execution_count": 113
        }
      ]
    },
    {
      "cell_type": "code",
      "metadata": {
        "colab": {
          "base_uri": "https://localhost:8080/"
        },
        "id": "hs6909ZCeXBZ",
        "outputId": "6842358e-9874-4c19-8949-60b87a03ecb0"
      },
      "source": [
        "s2"
      ],
      "execution_count": null,
      "outputs": [
        {
          "output_type": "execute_result",
          "data": {
            "text/plain": [
              "{'Deer', 'Dove', 'Elephant', 'Lion', 'Parrot', 'Tiger'}"
            ]
          },
          "metadata": {
            "tags": []
          },
          "execution_count": 114
        }
      ]
    },
    {
      "cell_type": "code",
      "metadata": {
        "colab": {
          "base_uri": "https://localhost:8080/"
        },
        "id": "rYBk6qUEeXYl",
        "outputId": "20f532bc-957a-4e8d-a3c4-de8344b1c65e"
      },
      "source": [
        "s1.intersection(s2)"
      ],
      "execution_count": null,
      "outputs": [
        {
          "output_type": "execute_result",
          "data": {
            "text/plain": [
              "{'Dove', 'Parrot'}"
            ]
          },
          "metadata": {
            "tags": []
          },
          "execution_count": 111
        }
      ]
    },
    {
      "cell_type": "code",
      "metadata": {
        "id": "TLeHiwagebpL"
      },
      "source": [
        "s2.intersection_update(s1)"
      ],
      "execution_count": null,
      "outputs": []
    },
    {
      "cell_type": "code",
      "metadata": {
        "colab": {
          "base_uri": "https://localhost:8080/"
        },
        "id": "AoHexE4sezMF",
        "outputId": "4b9bc628-6c98-4257-f198-ba05166ea183"
      },
      "source": [
        "s2"
      ],
      "execution_count": null,
      "outputs": [
        {
          "output_type": "execute_result",
          "data": {
            "text/plain": [
              "{'Dove', 'Parrot'}"
            ]
          },
          "metadata": {
            "tags": []
          },
          "execution_count": 116
        }
      ]
    },
    {
      "cell_type": "code",
      "metadata": {
        "colab": {
          "base_uri": "https://localhost:8080/"
        },
        "id": "d0VsGv9oe1gc",
        "outputId": "610c86b3-66c6-440a-972b-b5e38d886c3c"
      },
      "source": [
        "s1.symmetric_difference"
      ],
      "execution_count": null,
      "outputs": [
        {
          "output_type": "execute_result",
          "data": {
            "text/plain": [
              "{'Deer', 'Dove', 'Elephant', 'Lion', 'Parrot', 'Tiger'}"
            ]
          },
          "metadata": {
            "tags": []
          },
          "execution_count": 119
        }
      ]
    },
    {
      "cell_type": "code",
      "metadata": {
        "colab": {
          "base_uri": "https://localhost:8080/"
        },
        "id": "sPZBNSQie52Z",
        "outputId": "3d2b8ce6-3870-4f6e-ceda-5ece1d41672c"
      },
      "source": [
        "s1"
      ],
      "execution_count": null,
      "outputs": [
        {
          "output_type": "execute_result",
          "data": {
            "text/plain": [
              "{'Dove', 'Parrot', 'blue', 'green', 'pink', 'yellow'}"
            ]
          },
          "metadata": {
            "tags": []
          },
          "execution_count": 120
        }
      ]
    },
    {
      "cell_type": "code",
      "metadata": {
        "colab": {
          "base_uri": "https://localhost:8080/"
        },
        "id": "uKMMQvxufGEA",
        "outputId": "67f28132-2ea3-4be0-f9ed-6266ebaead5e"
      },
      "source": [
        "s2"
      ],
      "execution_count": null,
      "outputs": [
        {
          "output_type": "execute_result",
          "data": {
            "text/plain": [
              "{'Deer', 'Dove', 'Elephant', 'Lion', 'Parrot', 'Tiger'}"
            ]
          },
          "metadata": {
            "tags": []
          },
          "execution_count": 121
        }
      ]
    },
    {
      "cell_type": "code",
      "metadata": {
        "colab": {
          "base_uri": "https://localhost:8080/"
        },
        "id": "Ckc_l5z8fGet",
        "outputId": "73164b4d-b428-488c-8204-6ba6b3ea62c3"
      },
      "source": [
        "s1.difference(s2)"
      ],
      "execution_count": null,
      "outputs": [
        {
          "output_type": "execute_result",
          "data": {
            "text/plain": [
              "{'blue', 'green', 'pink', 'yellow'}"
            ]
          },
          "metadata": {
            "tags": []
          },
          "execution_count": 122
        }
      ]
    },
    {
      "cell_type": "code",
      "metadata": {
        "colab": {
          "base_uri": "https://localhost:8080/"
        },
        "id": "CAn5nqqkfTHB",
        "outputId": "56f596e5-a84b-4c02-a630-15e554f9bc5b"
      },
      "source": [
        "s2.difference(s1)"
      ],
      "execution_count": null,
      "outputs": [
        {
          "output_type": "execute_result",
          "data": {
            "text/plain": [
              "{'Deer', 'Elephant', 'Lion', 'Tiger'}"
            ]
          },
          "metadata": {
            "tags": []
          },
          "execution_count": 123
        }
      ]
    },
    {
      "cell_type": "code",
      "metadata": {
        "colab": {
          "base_uri": "https://localhost:8080/"
        },
        "id": "J-eWXQFxfZmT",
        "outputId": "00ac2ef9-261d-4357-d116-10898062f663"
      },
      "source": [
        "s1.symmetric_difference(s2)"
      ],
      "execution_count": null,
      "outputs": [
        {
          "output_type": "execute_result",
          "data": {
            "text/plain": [
              "{'Deer', 'Elephant', 'Lion', 'Tiger', 'blue', 'green', 'pink', 'yellow'}"
            ]
          },
          "metadata": {
            "tags": []
          },
          "execution_count": 124
        }
      ]
    },
    {
      "cell_type": "code",
      "metadata": {
        "id": "ZOlef3ZXfv2L"
      },
      "source": [
        "s2.symmetric_difference_update(s1)"
      ],
      "execution_count": null,
      "outputs": []
    },
    {
      "cell_type": "code",
      "metadata": {
        "colab": {
          "base_uri": "https://localhost:8080/"
        },
        "id": "sx5dhCl4fyKC",
        "outputId": "a97145f2-ffa9-41a8-e8c0-5b3e38fcdfc4"
      },
      "source": [
        "s1"
      ],
      "execution_count": null,
      "outputs": [
        {
          "output_type": "execute_result",
          "data": {
            "text/plain": [
              "{'Dove', 'Parrot', 'blue', 'green', 'pink', 'yellow'}"
            ]
          },
          "metadata": {
            "tags": []
          },
          "execution_count": 126
        }
      ]
    },
    {
      "cell_type": "code",
      "metadata": {
        "id": "e-zCaipMf3ku"
      },
      "source": [
        "s2 = {'Deer', 'Dove', 'Elephant', 'Lion', 'Parrot', 'Tiger'}"
      ],
      "execution_count": null,
      "outputs": []
    },
    {
      "cell_type": "code",
      "metadata": {
        "colab": {
          "base_uri": "https://localhost:8080/"
        },
        "id": "weF7afb1gEE_",
        "outputId": "60cd9f43-0c8e-471e-e83a-eff1dd9e44c7"
      },
      "source": [
        "s2"
      ],
      "execution_count": null,
      "outputs": [
        {
          "output_type": "execute_result",
          "data": {
            "text/plain": [
              "{'Deer', 'Dove', 'Elephant', 'Lion', 'Parrot', 'Tiger'}"
            ]
          },
          "metadata": {
            "tags": []
          },
          "execution_count": 131
        }
      ]
    },
    {
      "cell_type": "code",
      "metadata": {
        "colab": {
          "base_uri": "https://localhost:8080/"
        },
        "id": "U0G5Mrx4f4M-",
        "outputId": "520652d1-a558-4a26-9f78-38b3ef4c0d3e"
      },
      "source": [
        "s2"
      ],
      "execution_count": null,
      "outputs": [
        {
          "output_type": "execute_result",
          "data": {
            "text/plain": [
              "{'Deer', 'Elephant', 'Lion', 'Tiger', 'blue', 'green', 'pink', 'yellow'}"
            ]
          },
          "metadata": {
            "tags": []
          },
          "execution_count": 129
        }
      ]
    },
    {
      "cell_type": "code",
      "metadata": {
        "colab": {
          "base_uri": "https://localhost:8080/"
        },
        "id": "lxkDQkLqf_Em",
        "outputId": "1d4c49ce-d821-43af-a851-3e999c7912f5"
      },
      "source": [
        "s1.union(s2)"
      ],
      "execution_count": null,
      "outputs": [
        {
          "output_type": "execute_result",
          "data": {
            "text/plain": [
              "{'Deer',\n",
              " 'Dove',\n",
              " 'Elephant',\n",
              " 'Lion',\n",
              " 'Parrot',\n",
              " 'Tiger',\n",
              " 'blue',\n",
              " 'green',\n",
              " 'pink',\n",
              " 'yellow'}"
            ]
          },
          "metadata": {
            "tags": []
          },
          "execution_count": 132
        }
      ]
    },
    {
      "cell_type": "code",
      "metadata": {
        "colab": {
          "base_uri": "https://localhost:8080/"
        },
        "id": "3clQUvUugd-R",
        "outputId": "02701204-2005-4600-d90e-5c809da15cf3"
      },
      "source": [
        "print(s1)\n",
        "print(s2)"
      ],
      "execution_count": null,
      "outputs": [
        {
          "output_type": "stream",
          "text": [
            "{'yellow', 'pink', 'Parrot', 'blue', 'green', 'Dove'}\n",
            "{'Tiger', 'Elephant', 'Deer', 'Parrot', 'Dove', 'Lion'}\n"
          ],
          "name": "stdout"
        }
      ]
    },
    {
      "cell_type": "code",
      "metadata": {
        "colab": {
          "base_uri": "https://localhost:8080/"
        },
        "id": "1RwBlJ4pgKw2",
        "outputId": "fdf584fe-195d-4f33-dfc2-fc971bdf0edd"
      },
      "source": [
        "s1.isdisjoint(s2)"
      ],
      "execution_count": null,
      "outputs": [
        {
          "output_type": "execute_result",
          "data": {
            "text/plain": [
              "False"
            ]
          },
          "metadata": {
            "tags": []
          },
          "execution_count": 134
        }
      ]
    },
    {
      "cell_type": "code",
      "metadata": {
        "id": "FeYEAWHsgrEy"
      },
      "source": [
        "set1 = {1,2,3,4,5,6,7,8,9}\n",
        "set2 = {1,2,3,4,5,6,7,8,9}"
      ],
      "execution_count": null,
      "outputs": []
    },
    {
      "cell_type": "code",
      "metadata": {
        "colab": {
          "base_uri": "https://localhost:8080/"
        },
        "id": "WUQPkaung5ir",
        "outputId": "a7280044-11cf-4f08-a339-7ec841b53b67"
      },
      "source": [
        "set1.isdisjoint(set2)"
      ],
      "execution_count": null,
      "outputs": [
        {
          "output_type": "execute_result",
          "data": {
            "text/plain": [
              "True"
            ]
          },
          "metadata": {
            "tags": []
          },
          "execution_count": 137
        }
      ]
    },
    {
      "cell_type": "code",
      "metadata": {
        "colab": {
          "base_uri": "https://localhost:8080/"
        },
        "id": "lZIK-sxGg8jg",
        "outputId": "bf6f86a4-bda6-46b4-b33b-7b259c3771d1"
      },
      "source": [
        "set1"
      ],
      "execution_count": null,
      "outputs": [
        {
          "output_type": "execute_result",
          "data": {
            "text/plain": [
              "{1, 2, 3, 4, 5, 6, 7, 8, 9}"
            ]
          },
          "metadata": {
            "tags": []
          },
          "execution_count": 146
        }
      ]
    },
    {
      "cell_type": "code",
      "metadata": {
        "colab": {
          "base_uri": "https://localhost:8080/"
        },
        "id": "0A4O1tUiikES",
        "outputId": "c3afa7f8-976b-4659-e1fc-3be3278c0c81"
      },
      "source": [
        "set2"
      ],
      "execution_count": null,
      "outputs": [
        {
          "output_type": "execute_result",
          "data": {
            "text/plain": [
              "{1, 2, 3, 4, 5, 6, 7, 8, 9}"
            ]
          },
          "metadata": {
            "tags": []
          },
          "execution_count": 147
        }
      ]
    },
    {
      "cell_type": "code",
      "metadata": {
        "colab": {
          "base_uri": "https://localhost:8080/"
        },
        "id": "o6hx6KKgikfY",
        "outputId": "00b6623d-272a-4352-be17-bce33fd4c8f7"
      },
      "source": [
        "set2.issubset(set1)"
      ],
      "execution_count": null,
      "outputs": [
        {
          "output_type": "execute_result",
          "data": {
            "text/plain": [
              "True"
            ]
          },
          "metadata": {
            "tags": []
          },
          "execution_count": 148
        }
      ]
    },
    {
      "cell_type": "code",
      "metadata": {
        "colab": {
          "base_uri": "https://localhost:8080/"
        },
        "id": "6pKQ-yA0itup",
        "outputId": "2dbad037-a3bb-48bc-bb63-1ab82e30c997"
      },
      "source": [
        "set1.issuperset(set2)"
      ],
      "execution_count": null,
      "outputs": [
        {
          "output_type": "execute_result",
          "data": {
            "text/plain": [
              "True"
            ]
          },
          "metadata": {
            "tags": []
          },
          "execution_count": 149
        }
      ]
    },
    {
      "cell_type": "code",
      "metadata": {
        "colab": {
          "base_uri": "https://localhost:8080/"
        },
        "id": "0IOAD32Di0HY",
        "outputId": "a79d09b0-e692-4515-c2a0-115e5a26c7bb"
      },
      "source": [
        "set2.issuperset(s1)"
      ],
      "execution_count": null,
      "outputs": [
        {
          "output_type": "execute_result",
          "data": {
            "text/plain": [
              "False"
            ]
          },
          "metadata": {
            "tags": []
          },
          "execution_count": 143
        }
      ]
    },
    {
      "cell_type": "code",
      "metadata": {
        "colab": {
          "base_uri": "https://localhost:8080/"
        },
        "id": "I67g4e-ui15I",
        "outputId": "7e8307be-bac6-4cef-881a-2aecb104130a"
      },
      "source": [
        "set1.issubset(set2)"
      ],
      "execution_count": null,
      "outputs": [
        {
          "output_type": "execute_result",
          "data": {
            "text/plain": [
              "False"
            ]
          },
          "metadata": {
            "tags": []
          },
          "execution_count": 144
        }
      ]
    },
    {
      "cell_type": "code",
      "metadata": {
        "id": "rzU1TDXNi63v"
      },
      "source": [
        "st1 = \"HELLO ALL WELCOME TO PYTHON CLASS... AND I WISH YOU ALL A VERY HAPPY MAHA SHIVRATRI\""
      ],
      "execution_count": null,
      "outputs": []
    },
    {
      "cell_type": "code",
      "metadata": {
        "colab": {
          "base_uri": "https://localhost:8080/"
        },
        "id": "nJ-wIg3JjdWt",
        "outputId": "95568e2a-f814-4fcb-aa03-511650c6e503"
      },
      "source": [
        "list(st1)"
      ],
      "execution_count": null,
      "outputs": [
        {
          "output_type": "execute_result",
          "data": {
            "text/plain": [
              "['H',\n",
              " 'E',\n",
              " 'L',\n",
              " 'L',\n",
              " 'O',\n",
              " ' ',\n",
              " 'A',\n",
              " 'L',\n",
              " 'L',\n",
              " ' ',\n",
              " 'W',\n",
              " 'E',\n",
              " 'L',\n",
              " 'C',\n",
              " 'O',\n",
              " 'M',\n",
              " 'E',\n",
              " ' ',\n",
              " 'T',\n",
              " 'O',\n",
              " ' ',\n",
              " 'P',\n",
              " 'Y',\n",
              " 'T',\n",
              " 'H',\n",
              " 'O',\n",
              " 'N',\n",
              " ' ',\n",
              " 'C',\n",
              " 'L',\n",
              " 'A',\n",
              " 'S',\n",
              " 'S',\n",
              " '.',\n",
              " '.',\n",
              " '.',\n",
              " ' ',\n",
              " 'A',\n",
              " 'N',\n",
              " 'D',\n",
              " ' ',\n",
              " 'I',\n",
              " ' ',\n",
              " 'W',\n",
              " 'I',\n",
              " 'S',\n",
              " 'H',\n",
              " ' ',\n",
              " 'Y',\n",
              " 'O',\n",
              " 'U',\n",
              " ' ',\n",
              " 'A',\n",
              " 'L',\n",
              " 'L',\n",
              " ' ',\n",
              " 'A',\n",
              " ' ',\n",
              " 'V',\n",
              " 'E',\n",
              " 'R',\n",
              " 'Y',\n",
              " ' ',\n",
              " 'H',\n",
              " 'A',\n",
              " 'P',\n",
              " 'P',\n",
              " 'Y',\n",
              " ' ',\n",
              " 'M',\n",
              " 'A',\n",
              " 'H',\n",
              " 'A',\n",
              " ' ',\n",
              " 'S',\n",
              " 'H',\n",
              " 'I',\n",
              " 'V',\n",
              " 'R',\n",
              " 'A',\n",
              " 'T',\n",
              " 'R',\n",
              " 'I']"
            ]
          },
          "metadata": {
            "tags": []
          },
          "execution_count": 152
        }
      ]
    },
    {
      "cell_type": "code",
      "metadata": {
        "colab": {
          "base_uri": "https://localhost:8080/"
        },
        "id": "Hnu_XodCjkCM",
        "outputId": "55803f0d-89e2-402f-c17c-f0e9443d9c25"
      },
      "source": [
        "tuple(st1)"
      ],
      "execution_count": null,
      "outputs": [
        {
          "output_type": "execute_result",
          "data": {
            "text/plain": [
              "('H',\n",
              " 'E',\n",
              " 'L',\n",
              " 'L',\n",
              " 'O',\n",
              " ' ',\n",
              " 'A',\n",
              " 'L',\n",
              " 'L',\n",
              " ' ',\n",
              " 'W',\n",
              " 'E',\n",
              " 'L',\n",
              " 'C',\n",
              " 'O',\n",
              " 'M',\n",
              " 'E',\n",
              " ' ',\n",
              " 'T',\n",
              " 'O',\n",
              " ' ',\n",
              " 'P',\n",
              " 'Y',\n",
              " 'T',\n",
              " 'H',\n",
              " 'O',\n",
              " 'N',\n",
              " ' ',\n",
              " 'C',\n",
              " 'L',\n",
              " 'A',\n",
              " 'S',\n",
              " 'S',\n",
              " '.',\n",
              " '.',\n",
              " '.',\n",
              " ' ',\n",
              " 'A',\n",
              " 'N',\n",
              " 'D',\n",
              " ' ',\n",
              " 'I',\n",
              " ' ',\n",
              " 'W',\n",
              " 'I',\n",
              " 'S',\n",
              " 'H',\n",
              " ' ',\n",
              " 'Y',\n",
              " 'O',\n",
              " 'U',\n",
              " ' ',\n",
              " 'A',\n",
              " 'L',\n",
              " 'L',\n",
              " ' ',\n",
              " 'A',\n",
              " ' ',\n",
              " 'V',\n",
              " 'E',\n",
              " 'R',\n",
              " 'Y',\n",
              " ' ',\n",
              " 'H',\n",
              " 'A',\n",
              " 'P',\n",
              " 'P',\n",
              " 'Y',\n",
              " ' ',\n",
              " 'M',\n",
              " 'A',\n",
              " 'H',\n",
              " 'A',\n",
              " ' ',\n",
              " 'S',\n",
              " 'H',\n",
              " 'I',\n",
              " 'V',\n",
              " 'R',\n",
              " 'A',\n",
              " 'T',\n",
              " 'R',\n",
              " 'I')"
            ]
          },
          "metadata": {
            "tags": []
          },
          "execution_count": 153
        }
      ]
    },
    {
      "cell_type": "code",
      "metadata": {
        "colab": {
          "base_uri": "https://localhost:8080/"
        },
        "id": "cMTOaNYxjlQS",
        "outputId": "59d0debd-53b8-42cb-ace8-8514f841d1d9"
      },
      "source": [
        "set(st1)"
      ],
      "execution_count": null,
      "outputs": [
        {
          "output_type": "execute_result",
          "data": {
            "text/plain": [
              "{' ',\n",
              " '.',\n",
              " 'A',\n",
              " 'C',\n",
              " 'D',\n",
              " 'E',\n",
              " 'H',\n",
              " 'I',\n",
              " 'L',\n",
              " 'M',\n",
              " 'N',\n",
              " 'O',\n",
              " 'P',\n",
              " 'R',\n",
              " 'S',\n",
              " 'T',\n",
              " 'U',\n",
              " 'V',\n",
              " 'W',\n",
              " 'Y'}"
            ]
          },
          "metadata": {
            "tags": []
          },
          "execution_count": 154
        }
      ]
    },
    {
      "cell_type": "code",
      "metadata": {
        "id": "MY-13_BfjndJ"
      },
      "source": [
        "msg = \" WISH YOU ALL A VERY HAPPY SHIVRATRI \""
      ],
      "execution_count": null,
      "outputs": []
    },
    {
      "cell_type": "code",
      "metadata": {
        "colab": {
          "base_uri": "https://localhost:8080/"
        },
        "id": "TgnS4H-kj4hD",
        "outputId": "44b18d64-d4ab-4fe4-c0f1-9206a22e4c36"
      },
      "source": [
        "list(msg)"
      ],
      "execution_count": null,
      "outputs": [
        {
          "output_type": "execute_result",
          "data": {
            "text/plain": [
              "[' ',\n",
              " 'W',\n",
              " 'I',\n",
              " 'S',\n",
              " 'H',\n",
              " ' ',\n",
              " 'Y',\n",
              " 'O',\n",
              " 'U',\n",
              " ' ',\n",
              " 'A',\n",
              " 'L',\n",
              " 'L',\n",
              " ' ',\n",
              " 'A',\n",
              " ' ',\n",
              " 'V',\n",
              " 'E',\n",
              " 'R',\n",
              " 'Y',\n",
              " ' ',\n",
              " 'H',\n",
              " 'A',\n",
              " 'P',\n",
              " 'P',\n",
              " 'Y',\n",
              " ' ',\n",
              " 'S',\n",
              " 'H',\n",
              " 'I',\n",
              " 'V',\n",
              " 'R',\n",
              " 'A',\n",
              " 'T',\n",
              " 'R',\n",
              " 'I',\n",
              " ' ']"
            ]
          },
          "metadata": {
            "tags": []
          },
          "execution_count": 156
        }
      ]
    },
    {
      "cell_type": "code",
      "metadata": {
        "colab": {
          "base_uri": "https://localhost:8080/"
        },
        "id": "qfj7l9TEj6KA",
        "outputId": "1fbada26-1017-4134-b5a9-2e54d759a184"
      },
      "source": [
        "tuple(msg)"
      ],
      "execution_count": null,
      "outputs": [
        {
          "output_type": "execute_result",
          "data": {
            "text/plain": [
              "(' ',\n",
              " 'W',\n",
              " 'I',\n",
              " 'S',\n",
              " 'H',\n",
              " ' ',\n",
              " 'Y',\n",
              " 'O',\n",
              " 'U',\n",
              " ' ',\n",
              " 'A',\n",
              " 'L',\n",
              " 'L',\n",
              " ' ',\n",
              " 'A',\n",
              " ' ',\n",
              " 'V',\n",
              " 'E',\n",
              " 'R',\n",
              " 'Y',\n",
              " ' ',\n",
              " 'H',\n",
              " 'A',\n",
              " 'P',\n",
              " 'P',\n",
              " 'Y',\n",
              " ' ',\n",
              " 'S',\n",
              " 'H',\n",
              " 'I',\n",
              " 'V',\n",
              " 'R',\n",
              " 'A',\n",
              " 'T',\n",
              " 'R',\n",
              " 'I',\n",
              " ' ')"
            ]
          },
          "metadata": {
            "tags": []
          },
          "execution_count": 158
        }
      ]
    },
    {
      "cell_type": "code",
      "metadata": {
        "colab": {
          "base_uri": "https://localhost:8080/"
        },
        "id": "j-zJq5V9kAJm",
        "outputId": "71b753e0-2e0b-4884-c805-59a4ead0b813"
      },
      "source": [
        "set(msg)"
      ],
      "execution_count": null,
      "outputs": [
        {
          "output_type": "execute_result",
          "data": {
            "text/plain": [
              "{' ', 'A', 'E', 'H', 'I', 'L', 'O', 'P', 'R', 'S', 'T', 'U', 'V', 'W', 'Y'}"
            ]
          },
          "metadata": {
            "tags": []
          },
          "execution_count": 159
        }
      ]
    },
    {
      "cell_type": "code",
      "metadata": {
        "id": "NFDdU4sdkFel"
      },
      "source": [
        "list1 = [10,20,30,40,50,10,20,30,40,50,10,20,30,40,50]"
      ],
      "execution_count": null,
      "outputs": []
    },
    {
      "cell_type": "code",
      "metadata": {
        "colab": {
          "base_uri": "https://localhost:8080/"
        },
        "id": "YMxUVf0RkZ2Z",
        "outputId": "49b9ca59-82a5-4529-87bd-542048d0c098"
      },
      "source": [
        "list1"
      ],
      "execution_count": null,
      "outputs": [
        {
          "output_type": "execute_result",
          "data": {
            "text/plain": [
              "[10, 20, 30, 40, 50, 10, 20, 30, 40, 50, 10, 20, 30, 40, 50]"
            ]
          },
          "metadata": {
            "tags": []
          },
          "execution_count": 161
        }
      ]
    },
    {
      "cell_type": "code",
      "metadata": {
        "id": "vf75pd_3kazX"
      },
      "source": [
        "list1 = list(set(list1))"
      ],
      "execution_count": null,
      "outputs": []
    },
    {
      "cell_type": "code",
      "metadata": {
        "colab": {
          "base_uri": "https://localhost:8080/"
        },
        "id": "x8XGnVP9kf0J",
        "outputId": "f69afb95-02b5-4ce2-a55d-909ceff7de32"
      },
      "source": [
        "list1"
      ],
      "execution_count": null,
      "outputs": [
        {
          "output_type": "execute_result",
          "data": {
            "text/plain": [
              "[40, 10, 50, 20, 30]"
            ]
          },
          "metadata": {
            "tags": []
          },
          "execution_count": 166
        }
      ]
    },
    {
      "cell_type": "code",
      "metadata": {
        "id": "6bNRteGPkpDk"
      },
      "source": [
        "set10 = {10,20,30,40,50}\n",
        "set20 = {11,12,13,14,15}"
      ],
      "execution_count": null,
      "outputs": []
    },
    {
      "cell_type": "code",
      "metadata": {
        "id": "RhuCNHhokzGc"
      },
      "source": [
        "set10.update(set20)"
      ],
      "execution_count": null,
      "outputs": []
    },
    {
      "cell_type": "code",
      "metadata": {
        "colab": {
          "base_uri": "https://localhost:8080/"
        },
        "id": "Gh99iUAMlB9F",
        "outputId": "846cde0c-c4f0-488c-e1e0-0fc2ba480d97"
      },
      "source": [
        "set10"
      ],
      "execution_count": null,
      "outputs": [
        {
          "output_type": "execute_result",
          "data": {
            "text/plain": [
              "{10, 11, 12, 13, 14, 15, 20, 30, 40, 50}"
            ]
          },
          "metadata": {
            "tags": []
          },
          "execution_count": 170
        }
      ]
    },
    {
      "cell_type": "code",
      "metadata": {
        "colab": {
          "base_uri": "https://localhost:8080/"
        },
        "id": "Ca08qprTlDLH",
        "outputId": "3203c46f-a10d-4791-a486-84380044556f"
      },
      "source": [
        "for i in set10:\n",
        "  print(i)"
      ],
      "execution_count": null,
      "outputs": [
        {
          "output_type": "stream",
          "text": [
            "40\n",
            "10\n",
            "50\n",
            "20\n",
            "30\n"
          ],
          "name": "stdout"
        }
      ]
    },
    {
      "cell_type": "code",
      "metadata": {
        "colab": {
          "base_uri": "https://localhost:8080/"
        },
        "id": "mak0N8GGlO07",
        "outputId": "a0b42777-4389-461c-80dc-14f6255a5331"
      },
      "source": [
        "for j in set20:\n",
        "  print(j)"
      ],
      "execution_count": null,
      "outputs": [
        {
          "output_type": "stream",
          "text": [
            "11\n",
            "12\n",
            "13\n",
            "14\n",
            "15\n"
          ],
          "name": "stdout"
        }
      ]
    },
    {
      "cell_type": "code",
      "metadata": {
        "id": "uomjJ7hRlTqR"
      },
      "source": [
        "l1 = list(set10)\n",
        "l2 = list(set20)"
      ],
      "execution_count": null,
      "outputs": []
    },
    {
      "cell_type": "code",
      "metadata": {
        "id": "bK6fwzBzlhEf"
      },
      "source": [
        "set30 = set()\n",
        "for i in range(5):\n",
        "  set30.add(l1[i]+l2[i])\n"
      ],
      "execution_count": null,
      "outputs": []
    },
    {
      "cell_type": "code",
      "metadata": {
        "colab": {
          "base_uri": "https://localhost:8080/"
        },
        "id": "GJcmkm3Olvbm",
        "outputId": "df732e47-b44d-4df9-b235-55f1d0dbeb1a"
      },
      "source": [
        "set30\n"
      ],
      "execution_count": null,
      "outputs": [
        {
          "output_type": "execute_result",
          "data": {
            "text/plain": [
              "{22, 34, 45, 51, 63}"
            ]
          },
          "metadata": {
            "tags": []
          },
          "execution_count": 179
        }
      ]
    },
    {
      "cell_type": "code",
      "metadata": {
        "colab": {
          "base_uri": "https://localhost:8080/"
        },
        "id": "X5EXjAAOl1Jt",
        "outputId": "ac010241-998e-4650-acce-657305a59e30"
      },
      "source": [
        "for i in set10, set20, set30:\n",
        "  print(i)"
      ],
      "execution_count": null,
      "outputs": [
        {
          "output_type": "stream",
          "text": [
            "{40, 10, 50, 20, 30}\n",
            "{34, 11, 12, 13, 14, 15, 45, 51, 22, 63}\n",
            "{34, 45, 51, 22, 63}\n"
          ],
          "name": "stdout"
        }
      ]
    },
    {
      "cell_type": "code",
      "metadata": {
        "colab": {
          "base_uri": "https://localhost:8080/"
        },
        "id": "X54h_NbBl8ZE",
        "outputId": "d5417a5b-3d4b-4443-b43d-51136e03caca"
      },
      "source": [
        "max(set10)"
      ],
      "execution_count": null,
      "outputs": [
        {
          "output_type": "execute_result",
          "data": {
            "text/plain": [
              "50"
            ]
          },
          "metadata": {
            "tags": []
          },
          "execution_count": 182
        }
      ]
    },
    {
      "cell_type": "code",
      "metadata": {
        "colab": {
          "base_uri": "https://localhost:8080/"
        },
        "id": "K4vOAb1ZmMtP",
        "outputId": "272a6d39-7561-44c4-b76e-a9410937de45"
      },
      "source": [
        "min(set10)"
      ],
      "execution_count": null,
      "outputs": [
        {
          "output_type": "execute_result",
          "data": {
            "text/plain": [
              "10"
            ]
          },
          "metadata": {
            "tags": []
          },
          "execution_count": 183
        }
      ]
    },
    {
      "cell_type": "code",
      "metadata": {
        "colab": {
          "base_uri": "https://localhost:8080/"
        },
        "id": "ShboiN7vmOPO",
        "outputId": "d9a0834c-fdc2-4a1a-eb97-f6e6291e4ef0"
      },
      "source": [
        "len(set10)"
      ],
      "execution_count": null,
      "outputs": [
        {
          "output_type": "execute_result",
          "data": {
            "text/plain": [
              "5"
            ]
          },
          "metadata": {
            "tags": []
          },
          "execution_count": 184
        }
      ]
    },
    {
      "cell_type": "code",
      "metadata": {
        "id": "ZS_PmzZrmRAz",
        "outputId": "5a392963-a34d-48bd-e1e2-bca450658dcc",
        "colab": {
          "base_uri": "https://localhost:8080/"
        }
      },
      "source": [
        "any(set10)"
      ],
      "execution_count": null,
      "outputs": [
        {
          "output_type": "execute_result",
          "data": {
            "text/plain": [
              "True"
            ]
          },
          "metadata": {
            "tags": []
          },
          "execution_count": 185
        }
      ]
    },
    {
      "cell_type": "code",
      "metadata": {
        "id": "zf3d7SwLmTaY",
        "outputId": "41547ed1-1d1e-40fb-b227-1d125333f94c",
        "colab": {
          "base_uri": "https://localhost:8080/"
        }
      },
      "source": [
        "all(set10)"
      ],
      "execution_count": null,
      "outputs": [
        {
          "output_type": "execute_result",
          "data": {
            "text/plain": [
              "True"
            ]
          },
          "metadata": {
            "tags": []
          },
          "execution_count": 186
        }
      ]
    },
    {
      "cell_type": "code",
      "metadata": {
        "id": "SBHPGolXmVdW"
      },
      "source": [
        ""
      ],
      "execution_count": null,
      "outputs": []
    }
  ]
}