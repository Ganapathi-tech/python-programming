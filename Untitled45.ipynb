{
  "nbformat": 4,
  "nbformat_minor": 0,
  "metadata": {
    "colab": {
      "name": "Untitled45.ipynb",
      "provenance": [],
      "include_colab_link": true
    },
    "kernelspec": {
      "name": "python3",
      "display_name": "Python 3"
    }
  },
  "cells": [
    {
      "cell_type": "markdown",
      "metadata": {
        "id": "view-in-github",
        "colab_type": "text"
      },
      "source": [
        "<a href=\"https://colab.research.google.com/github/Ganapathi-tech/python-programming/blob/main/Untitled45.ipynb\" target=\"_parent\"><img src=\"https://colab.research.google.com/assets/colab-badge.svg\" alt=\"Open In Colab\"/></a>"
      ]
    },
    {
      "cell_type": "code",
      "metadata": {
        "colab": {
          "base_uri": "https://localhost:8080/"
        },
        "id": "63rHqeMD1-uy",
        "outputId": "775802d4-f659-489a-f127-430b6f2bac98"
      },
      "source": [
        "#assignment _1\n",
        "def accept():\n",
        "  global name\n",
        "  global dsng\n",
        "  global marks\n",
        " \n",
        "  name=input(\"enter name \")\n",
        "  dsng=input(\"enter designations \")\n",
        "  marks=input(\"enter Marks \")\n",
        "  \n",
        "  \n",
        "\n",
        "def calc():\n",
        "    \n",
        "  global total\n",
        "  global avg\n",
        " \n",
        "  s1=marks.split()\n",
        "  total=int(s1[0])+int(s1[1])+int(s1[2]) \n",
        "  avg=total/3\n",
        "  print(total)\n",
        "  print(avg)\n",
        "        \n",
        "\n",
        "  \n",
        "accept()\n",
        "calc()"
      ],
      "execution_count": null,
      "outputs": [
        {
          "output_type": "stream",
          "text": [
            "enter name Hkn\n",
            "enter designations Ihj\n",
            "enter Marks 87 98 65\n",
            "250\n",
            "83.33333333333333\n"
          ],
          "name": "stdout"
        }
      ]
    },
    {
      "cell_type": "code",
      "metadata": {
        "colab": {
          "base_uri": "https://localhost:8080/"
        },
        "id": "RF0reFiY9dev",
        "outputId": "ab009eb7-7344-4fe7-b9ee-aea549cb1248"
      },
      "source": [
        "#assignment _2\n",
        "def accept():\n",
        "  global name\n",
        "  global dsng\n",
        "  global salary \n",
        "\n",
        "  name=input(\"enter name\")\n",
        "  dsng=input(\"enter designation  \")\n",
        "  salary=int(input(\"employ salary \"))\n",
        "  calc()\n",
        "def calc() :\n",
        "  global exp \n",
        "  exp=int(input(\"experience of the employees \")) \n",
        "  if dsng==\"pm\":\n",
        "    if exp>=5:\n",
        "      print(\"hike is 20%\")\n",
        "    elif exp>=3  and exp<=5:\n",
        "      print(\"hike is 16%\") \n",
        "    elif exp>=1 and exp<=2:\n",
        "      print(\"hike is 12%\")  \n",
        "  elif dsng==\"dm \":\n",
        "    if exp>=5:\n",
        "      print(\"hike is 20%\")\n",
        "    elif exp>=3 and exp<=5:\n",
        "      print(\"hike is 16%\")  \n",
        "    elif exp>=1 and exp<=2:\n",
        "      print(\"hike is 12%\") \n",
        "  elif dsng==\"dev \":\n",
        "    if exp>=5:\n",
        "      print(\"hike is 20%\") \n",
        "    elif exp>=3 and exp<=5:\n",
        "      print(\"hike is 16%\")\n",
        "    elif exp>=1 and exp<=2:\n",
        "      print(\"hike is 12%\")  \n",
        "  else :\n",
        "    print(\"no hike \")  \n",
        "\n",
        "  power()  \n",
        "\n",
        "def power():\n",
        "  if salary>=100000:\n",
        "    print(\"senior employee \")\n",
        "  else :\n",
        "    print(\"junior employee \") \n",
        "    \n",
        "    display()\n",
        "\n",
        "def display():\n",
        "  print(name)\n",
        "\n",
        "accept()\n",
        "\n",
        "\n",
        "  \n"
      ],
      "execution_count": null,
      "outputs": [
        {
          "output_type": "stream",
          "text": [
            "enter nameRugenderkandula@gmail.com \n",
            "enter designation  pm\n",
            "employ salary 100000\n",
            "experience of the employees 4\n",
            "hike is 16%\n",
            "senior employee \n"
          ],
          "name": "stdout"
        }
      ]
    },
    {
      "cell_type": "code",
      "metadata": {
        "id": "aJYD-Kn87RdS"
      },
      "source": [
        "\n",
        "\n",
        "def accept():\n",
        "  global name\n",
        "  global num\n",
        "  global dsng\n",
        "  glibal marks\n",
        "\n",
        "  name=input(\"@@@@@\")\n",
        "  num=input(\"******\")\n",
        "  dsng=input(\"%%%%%%\")\n",
        "  marks=input(\"8888\")\n",
        "  def calc():\n",
        "    global total\n",
        "    global avg\n",
        "    s=marks.split()\n",
        "    total=int(s[0])+int(s[1])+int(s[2])\n",
        "    avg=total/3\n",
        "\n",
        "accept()\n",
        "  "
      ],
      "execution_count": null,
      "outputs": []
    }
  ]
}