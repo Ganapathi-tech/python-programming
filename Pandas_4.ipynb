{
  "nbformat": 4,
  "nbformat_minor": 0,
  "metadata": {
    "colab": {
      "name": "Pandas 4.ipynb",
      "provenance": [],
      "include_colab_link": true
    },
    "kernelspec": {
      "name": "python3",
      "display_name": "Python 3"
    },
    "language_info": {
      "name": "python"
    }
  },
  "cells": [
    {
      "cell_type": "markdown",
      "metadata": {
        "id": "view-in-github",
        "colab_type": "text"
      },
      "source": [
        "<a href=\"https://colab.research.google.com/github/Ganapathi-tech/python-programming/blob/main/Pandas_4.ipynb\" target=\"_parent\"><img src=\"https://colab.research.google.com/assets/colab-badge.svg\" alt=\"Open In Colab\"/></a>"
      ]
    },
    {
      "cell_type": "code",
      "metadata": {
        "id": "frR2SXBsaP_T"
      },
      "source": [
        "import pandas as pd"
      ],
      "execution_count": null,
      "outputs": []
    },
    {
      "cell_type": "code",
      "metadata": {
        "id": "NQ1r_SiuaUEI"
      },
      "source": [
        "d1 = {\n",
        "    \"Name\" : [\"AAA\",\"BBB\",\"CCC\",\"DDD\",\"EEE\"],\n",
        "    \"cls\" : [10,9,11,12,10],\n",
        "    \"English\" : [88,77,66,78,72],\n",
        "    \"Science\" : [78,87,76,72,74],\n",
        "    \"Maths\" : [78,79,83,85,92]\n",
        "\n",
        "}"
      ],
      "execution_count": null,
      "outputs": []
    },
    {
      "cell_type": "code",
      "metadata": {
        "id": "9KY0CIpDbEJM"
      },
      "source": [
        "std1 = pd.DataFrame(d1, index=[\"std1\",\"std2\",\"std3\",\"std4\",\"std5\"])"
      ],
      "execution_count": null,
      "outputs": []
    },
    {
      "cell_type": "code",
      "metadata": {
        "colab": {
          "base_uri": "https://localhost:8080/",
          "height": 195
        },
        "id": "CY2ZE-fybLd2",
        "outputId": "63ccef7b-b548-4656-a67d-146dd62c6a8f"
      },
      "source": [
        "std"
      ],
      "execution_count": null,
      "outputs": [
        {
          "output_type": "execute_result",
          "data": {
            "text/html": [
              "<div>\n",
              "<style scoped>\n",
              "    .dataframe tbody tr th:only-of-type {\n",
              "        vertical-align: middle;\n",
              "    }\n",
              "\n",
              "    .dataframe tbody tr th {\n",
              "        vertical-align: top;\n",
              "    }\n",
              "\n",
              "    .dataframe thead th {\n",
              "        text-align: right;\n",
              "    }\n",
              "</style>\n",
              "<table border=\"1\" class=\"dataframe\">\n",
              "  <thead>\n",
              "    <tr style=\"text-align: right;\">\n",
              "      <th></th>\n",
              "      <th>Name</th>\n",
              "      <th>cls</th>\n",
              "      <th>English</th>\n",
              "      <th>Science</th>\n",
              "      <th>Maths</th>\n",
              "    </tr>\n",
              "  </thead>\n",
              "  <tbody>\n",
              "    <tr>\n",
              "      <th>std1</th>\n",
              "      <td>AAA</td>\n",
              "      <td>10</td>\n",
              "      <td>88</td>\n",
              "      <td>78</td>\n",
              "      <td>78</td>\n",
              "    </tr>\n",
              "    <tr>\n",
              "      <th>std2</th>\n",
              "      <td>BBB</td>\n",
              "      <td>9</td>\n",
              "      <td>77</td>\n",
              "      <td>87</td>\n",
              "      <td>79</td>\n",
              "    </tr>\n",
              "    <tr>\n",
              "      <th>std3</th>\n",
              "      <td>CCC</td>\n",
              "      <td>11</td>\n",
              "      <td>66</td>\n",
              "      <td>76</td>\n",
              "      <td>83</td>\n",
              "    </tr>\n",
              "    <tr>\n",
              "      <th>std4</th>\n",
              "      <td>DDD</td>\n",
              "      <td>12</td>\n",
              "      <td>78</td>\n",
              "      <td>72</td>\n",
              "      <td>85</td>\n",
              "    </tr>\n",
              "    <tr>\n",
              "      <th>std5</th>\n",
              "      <td>EEE</td>\n",
              "      <td>10</td>\n",
              "      <td>72</td>\n",
              "      <td>74</td>\n",
              "      <td>92</td>\n",
              "    </tr>\n",
              "  </tbody>\n",
              "</table>\n",
              "</div>"
            ],
            "text/plain": [
              "     Name  cls  English  Science  Maths\n",
              "std1  AAA   10       88       78     78\n",
              "std2  BBB    9       77       87     79\n",
              "std3  CCC   11       66       76     83\n",
              "std4  DDD   12       78       72     85\n",
              "std5  EEE   10       72       74     92"
            ]
          },
          "metadata": {
            "tags": []
          },
          "execution_count": 7
        }
      ]
    },
    {
      "cell_type": "code",
      "metadata": {
        "id": "YbSatsCHbMbO"
      },
      "source": [
        "std1[\"Total\"] = std1[\"English\"] + std1[\"Science\"] + std1[\"Maths\"]"
      ],
      "execution_count": null,
      "outputs": []
    },
    {
      "cell_type": "code",
      "metadata": {
        "colab": {
          "base_uri": "https://localhost:8080/",
          "height": 195
        },
        "id": "6udV5mW6biVw",
        "outputId": "b2799fa2-be81-4208-c521-2075cf72a6f7"
      },
      "source": [
        "std1"
      ],
      "execution_count": null,
      "outputs": [
        {
          "output_type": "execute_result",
          "data": {
            "text/html": [
              "<div>\n",
              "<style scoped>\n",
              "    .dataframe tbody tr th:only-of-type {\n",
              "        vertical-align: middle;\n",
              "    }\n",
              "\n",
              "    .dataframe tbody tr th {\n",
              "        vertical-align: top;\n",
              "    }\n",
              "\n",
              "    .dataframe thead th {\n",
              "        text-align: right;\n",
              "    }\n",
              "</style>\n",
              "<table border=\"1\" class=\"dataframe\">\n",
              "  <thead>\n",
              "    <tr style=\"text-align: right;\">\n",
              "      <th></th>\n",
              "      <th>Name</th>\n",
              "      <th>cls</th>\n",
              "      <th>English</th>\n",
              "      <th>Science</th>\n",
              "      <th>Maths</th>\n",
              "      <th>Total</th>\n",
              "    </tr>\n",
              "  </thead>\n",
              "  <tbody>\n",
              "    <tr>\n",
              "      <th>std1</th>\n",
              "      <td>AAA</td>\n",
              "      <td>10</td>\n",
              "      <td>88</td>\n",
              "      <td>78</td>\n",
              "      <td>78</td>\n",
              "      <td>244</td>\n",
              "    </tr>\n",
              "    <tr>\n",
              "      <th>std2</th>\n",
              "      <td>BBB</td>\n",
              "      <td>9</td>\n",
              "      <td>77</td>\n",
              "      <td>87</td>\n",
              "      <td>79</td>\n",
              "      <td>243</td>\n",
              "    </tr>\n",
              "    <tr>\n",
              "      <th>std3</th>\n",
              "      <td>CCC</td>\n",
              "      <td>11</td>\n",
              "      <td>66</td>\n",
              "      <td>76</td>\n",
              "      <td>83</td>\n",
              "      <td>225</td>\n",
              "    </tr>\n",
              "    <tr>\n",
              "      <th>std4</th>\n",
              "      <td>DDD</td>\n",
              "      <td>12</td>\n",
              "      <td>78</td>\n",
              "      <td>72</td>\n",
              "      <td>85</td>\n",
              "      <td>235</td>\n",
              "    </tr>\n",
              "    <tr>\n",
              "      <th>std5</th>\n",
              "      <td>EEE</td>\n",
              "      <td>10</td>\n",
              "      <td>72</td>\n",
              "      <td>74</td>\n",
              "      <td>92</td>\n",
              "      <td>238</td>\n",
              "    </tr>\n",
              "  </tbody>\n",
              "</table>\n",
              "</div>"
            ],
            "text/plain": [
              "     Name  cls  English  Science  Maths  Total\n",
              "std1  AAA   10       88       78     78    244\n",
              "std2  BBB    9       77       87     79    243\n",
              "std3  CCC   11       66       76     83    225\n",
              "std4  DDD   12       78       72     85    235\n",
              "std5  EEE   10       72       74     92    238"
            ]
          },
          "metadata": {
            "tags": []
          },
          "execution_count": 30
        }
      ]
    },
    {
      "cell_type": "code",
      "metadata": {
        "id": "C-d3UTS8bjID"
      },
      "source": [
        "std1[\"Average\"] = std1[\"Total\"]/3"
      ],
      "execution_count": null,
      "outputs": []
    },
    {
      "cell_type": "code",
      "metadata": {
        "colab": {
          "base_uri": "https://localhost:8080/",
          "height": 195
        },
        "id": "1bUZ0N40bovb",
        "outputId": "0f304caa-fa01-48cf-e1e9-63e0043594b7"
      },
      "source": [
        "std1"
      ],
      "execution_count": null,
      "outputs": [
        {
          "output_type": "execute_result",
          "data": {
            "text/html": [
              "<div>\n",
              "<style scoped>\n",
              "    .dataframe tbody tr th:only-of-type {\n",
              "        vertical-align: middle;\n",
              "    }\n",
              "\n",
              "    .dataframe tbody tr th {\n",
              "        vertical-align: top;\n",
              "    }\n",
              "\n",
              "    .dataframe thead th {\n",
              "        text-align: right;\n",
              "    }\n",
              "</style>\n",
              "<table border=\"1\" class=\"dataframe\">\n",
              "  <thead>\n",
              "    <tr style=\"text-align: right;\">\n",
              "      <th></th>\n",
              "      <th>Name</th>\n",
              "      <th>cls</th>\n",
              "      <th>English</th>\n",
              "      <th>Science</th>\n",
              "      <th>Maths</th>\n",
              "      <th>Total</th>\n",
              "      <th>Average</th>\n",
              "    </tr>\n",
              "  </thead>\n",
              "  <tbody>\n",
              "    <tr>\n",
              "      <th>std1</th>\n",
              "      <td>AAA</td>\n",
              "      <td>10</td>\n",
              "      <td>88</td>\n",
              "      <td>78</td>\n",
              "      <td>78</td>\n",
              "      <td>244</td>\n",
              "      <td>81.333333</td>\n",
              "    </tr>\n",
              "    <tr>\n",
              "      <th>std2</th>\n",
              "      <td>BBB</td>\n",
              "      <td>9</td>\n",
              "      <td>77</td>\n",
              "      <td>87</td>\n",
              "      <td>79</td>\n",
              "      <td>243</td>\n",
              "      <td>81.000000</td>\n",
              "    </tr>\n",
              "    <tr>\n",
              "      <th>std3</th>\n",
              "      <td>CCC</td>\n",
              "      <td>11</td>\n",
              "      <td>66</td>\n",
              "      <td>76</td>\n",
              "      <td>83</td>\n",
              "      <td>225</td>\n",
              "      <td>75.000000</td>\n",
              "    </tr>\n",
              "    <tr>\n",
              "      <th>std4</th>\n",
              "      <td>DDD</td>\n",
              "      <td>12</td>\n",
              "      <td>78</td>\n",
              "      <td>72</td>\n",
              "      <td>85</td>\n",
              "      <td>235</td>\n",
              "      <td>78.333333</td>\n",
              "    </tr>\n",
              "    <tr>\n",
              "      <th>std5</th>\n",
              "      <td>EEE</td>\n",
              "      <td>10</td>\n",
              "      <td>72</td>\n",
              "      <td>74</td>\n",
              "      <td>92</td>\n",
              "      <td>238</td>\n",
              "      <td>79.333333</td>\n",
              "    </tr>\n",
              "  </tbody>\n",
              "</table>\n",
              "</div>"
            ],
            "text/plain": [
              "     Name  cls  English  Science  Maths  Total    Average\n",
              "std1  AAA   10       88       78     78    244  81.333333\n",
              "std2  BBB    9       77       87     79    243  81.000000\n",
              "std3  CCC   11       66       76     83    225  75.000000\n",
              "std4  DDD   12       78       72     85    235  78.333333\n",
              "std5  EEE   10       72       74     92    238  79.333333"
            ]
          },
          "metadata": {
            "tags": []
          },
          "execution_count": 32
        }
      ]
    },
    {
      "cell_type": "code",
      "metadata": {
        "colab": {
          "base_uri": "https://localhost:8080/",
          "height": 279
        },
        "id": "LO77dtEvbqHK",
        "outputId": "bfdba3ee-4fe6-4215-f9c4-2fec9e22f8a0"
      },
      "source": [
        "std[\"Grade\"] =  [\"A+\" if std[\"Average\"] > 80 else  \"A\"  if  std[\"Average\"] > 75 else \"B\"]"
      ],
      "execution_count": null,
      "outputs": [
        {
          "output_type": "error",
          "ename": "ValueError",
          "evalue": "ignored",
          "traceback": [
            "\u001b[0;31m---------------------------------------------------------------------------\u001b[0m",
            "\u001b[0;31mValueError\u001b[0m                                Traceback (most recent call last)",
            "\u001b[0;32m<ipython-input-12-a1fc6cd3a35a>\u001b[0m in \u001b[0;36m<module>\u001b[0;34m()\u001b[0m\n\u001b[0;32m----> 1\u001b[0;31m \u001b[0mstd\u001b[0m\u001b[0;34m[\u001b[0m\u001b[0;34m\"Grade\"\u001b[0m\u001b[0;34m]\u001b[0m \u001b[0;34m=\u001b[0m  \u001b[0;34m[\u001b[0m\u001b[0;34m\"A+\"\u001b[0m \u001b[0;32mif\u001b[0m \u001b[0mstd\u001b[0m\u001b[0;34m[\u001b[0m\u001b[0;34m\"Average\"\u001b[0m\u001b[0;34m]\u001b[0m \u001b[0;34m>\u001b[0m \u001b[0;36m80\u001b[0m \u001b[0;32melse\u001b[0m  \u001b[0;34m\"A\"\u001b[0m  \u001b[0;32mif\u001b[0m  \u001b[0mstd\u001b[0m\u001b[0;34m[\u001b[0m\u001b[0;34m\"Average\"\u001b[0m\u001b[0;34m]\u001b[0m \u001b[0;34m>\u001b[0m \u001b[0;36m75\u001b[0m \u001b[0;32melse\u001b[0m \u001b[0;34m\"B\"\u001b[0m\u001b[0;34m]\u001b[0m\u001b[0;34m\u001b[0m\u001b[0;34m\u001b[0m\u001b[0m\n\u001b[0m",
            "\u001b[0;32m/usr/local/lib/python3.7/dist-packages/pandas/core/generic.py\u001b[0m in \u001b[0;36m__nonzero__\u001b[0;34m(self)\u001b[0m\n\u001b[1;32m   1328\u001b[0m     \u001b[0;32mdef\u001b[0m \u001b[0m__nonzero__\u001b[0m\u001b[0;34m(\u001b[0m\u001b[0mself\u001b[0m\u001b[0;34m)\u001b[0m\u001b[0;34m:\u001b[0m\u001b[0;34m\u001b[0m\u001b[0;34m\u001b[0m\u001b[0m\n\u001b[1;32m   1329\u001b[0m         raise ValueError(\n\u001b[0;32m-> 1330\u001b[0;31m             \u001b[0;34mf\"The truth value of a {type(self).__name__} is ambiguous. \"\u001b[0m\u001b[0;34m\u001b[0m\u001b[0;34m\u001b[0m\u001b[0m\n\u001b[0m\u001b[1;32m   1331\u001b[0m             \u001b[0;34m\"Use a.empty, a.bool(), a.item(), a.any() or a.all().\"\u001b[0m\u001b[0;34m\u001b[0m\u001b[0;34m\u001b[0m\u001b[0m\n\u001b[1;32m   1332\u001b[0m         )\n",
            "\u001b[0;31mValueError\u001b[0m: The truth value of a Series is ambiguous. Use a.empty, a.bool(), a.item(), a.any() or a.all()."
          ]
        }
      ]
    },
    {
      "cell_type": "code",
      "metadata": {
        "colab": {
          "base_uri": "https://localhost:8080/",
          "height": 195
        },
        "id": "2TMZz1lMcg2o",
        "outputId": "85aa00c3-440c-4c3d-8e16-6e8fce8c5e0e"
      },
      "source": [
        "std"
      ],
      "execution_count": null,
      "outputs": [
        {
          "output_type": "execute_result",
          "data": {
            "text/html": [
              "<div>\n",
              "<style scoped>\n",
              "    .dataframe tbody tr th:only-of-type {\n",
              "        vertical-align: middle;\n",
              "    }\n",
              "\n",
              "    .dataframe tbody tr th {\n",
              "        vertical-align: top;\n",
              "    }\n",
              "\n",
              "    .dataframe thead th {\n",
              "        text-align: right;\n",
              "    }\n",
              "</style>\n",
              "<table border=\"1\" class=\"dataframe\">\n",
              "  <thead>\n",
              "    <tr style=\"text-align: right;\">\n",
              "      <th></th>\n",
              "      <th>Name</th>\n",
              "      <th>cls</th>\n",
              "      <th>English</th>\n",
              "      <th>Science</th>\n",
              "      <th>Maths</th>\n",
              "      <th>Total</th>\n",
              "      <th>Average</th>\n",
              "    </tr>\n",
              "  </thead>\n",
              "  <tbody>\n",
              "    <tr>\n",
              "      <th>std1</th>\n",
              "      <td>AAA</td>\n",
              "      <td>10</td>\n",
              "      <td>88</td>\n",
              "      <td>78</td>\n",
              "      <td>78</td>\n",
              "      <td>244</td>\n",
              "      <td>81.333333</td>\n",
              "    </tr>\n",
              "    <tr>\n",
              "      <th>std2</th>\n",
              "      <td>BBB</td>\n",
              "      <td>9</td>\n",
              "      <td>77</td>\n",
              "      <td>87</td>\n",
              "      <td>79</td>\n",
              "      <td>243</td>\n",
              "      <td>81.000000</td>\n",
              "    </tr>\n",
              "    <tr>\n",
              "      <th>std3</th>\n",
              "      <td>CCC</td>\n",
              "      <td>11</td>\n",
              "      <td>66</td>\n",
              "      <td>76</td>\n",
              "      <td>83</td>\n",
              "      <td>225</td>\n",
              "      <td>75.000000</td>\n",
              "    </tr>\n",
              "    <tr>\n",
              "      <th>std4</th>\n",
              "      <td>DDD</td>\n",
              "      <td>12</td>\n",
              "      <td>78</td>\n",
              "      <td>72</td>\n",
              "      <td>85</td>\n",
              "      <td>235</td>\n",
              "      <td>78.333333</td>\n",
              "    </tr>\n",
              "    <tr>\n",
              "      <th>std5</th>\n",
              "      <td>EEE</td>\n",
              "      <td>10</td>\n",
              "      <td>72</td>\n",
              "      <td>74</td>\n",
              "      <td>92</td>\n",
              "      <td>238</td>\n",
              "      <td>79.333333</td>\n",
              "    </tr>\n",
              "  </tbody>\n",
              "</table>\n",
              "</div>"
            ],
            "text/plain": [
              "     Name  cls  English  Science  Maths  Total    Average\n",
              "std1  AAA   10       88       78     78    244  81.333333\n",
              "std2  BBB    9       77       87     79    243  81.000000\n",
              "std3  CCC   11       66       76     83    225  75.000000\n",
              "std4  DDD   12       78       72     85    235  78.333333\n",
              "std5  EEE   10       72       74     92    238  79.333333"
            ]
          },
          "metadata": {
            "tags": []
          },
          "execution_count": 13
        }
      ]
    },
    {
      "cell_type": "code",
      "metadata": {
        "colab": {
          "base_uri": "https://localhost:8080/"
        },
        "id": "SqW52-xFcp4c",
        "outputId": "3b59c6bd-8011-4d70-a5a5-f1757422bfbc"
      },
      "source": [
        "std[\"Average\"]"
      ],
      "execution_count": null,
      "outputs": [
        {
          "output_type": "execute_result",
          "data": {
            "text/plain": [
              "std1    81.333333\n",
              "std2    81.000000\n",
              "std3    75.000000\n",
              "std4    78.333333\n",
              "std5    79.333333\n",
              "Name: Average, dtype: float64"
            ]
          },
          "metadata": {
            "tags": []
          },
          "execution_count": 14
        }
      ]
    },
    {
      "cell_type": "code",
      "metadata": {
        "colab": {
          "base_uri": "https://localhost:8080/"
        },
        "id": "Pdi7YCjucvUM",
        "outputId": "fddf8073-4234-4fac-ba0a-f17080568650"
      },
      "source": [
        "std[\"Average\"][0]"
      ],
      "execution_count": null,
      "outputs": [
        {
          "output_type": "execute_result",
          "data": {
            "text/plain": [
              "81.33333333333333"
            ]
          },
          "metadata": {
            "tags": []
          },
          "execution_count": 15
        }
      ]
    },
    {
      "cell_type": "code",
      "metadata": {
        "colab": {
          "base_uri": "https://localhost:8080/"
        },
        "id": "DdxEF9wNdBf4",
        "outputId": "e0f21aad-14fc-4992-d08a-38ee88336fa2"
      },
      "source": [
        "std[\"Average\"][1]"
      ],
      "execution_count": null,
      "outputs": [
        {
          "output_type": "execute_result",
          "data": {
            "text/plain": [
              "81.0"
            ]
          },
          "metadata": {
            "tags": []
          },
          "execution_count": 16
        }
      ]
    },
    {
      "cell_type": "code",
      "metadata": {
        "id": "HbDRQoHNdF3O"
      },
      "source": [
        "std[\"Grade\"] = None"
      ],
      "execution_count": null,
      "outputs": []
    },
    {
      "cell_type": "code",
      "metadata": {
        "colab": {
          "base_uri": "https://localhost:8080/",
          "height": 195
        },
        "id": "nuNXgM8MdNSI",
        "outputId": "903aadaf-39ae-46df-eb6a-bb61f0a81660"
      },
      "source": [
        "std"
      ],
      "execution_count": null,
      "outputs": [
        {
          "output_type": "execute_result",
          "data": {
            "text/html": [
              "<div>\n",
              "<style scoped>\n",
              "    .dataframe tbody tr th:only-of-type {\n",
              "        vertical-align: middle;\n",
              "    }\n",
              "\n",
              "    .dataframe tbody tr th {\n",
              "        vertical-align: top;\n",
              "    }\n",
              "\n",
              "    .dataframe thead th {\n",
              "        text-align: right;\n",
              "    }\n",
              "</style>\n",
              "<table border=\"1\" class=\"dataframe\">\n",
              "  <thead>\n",
              "    <tr style=\"text-align: right;\">\n",
              "      <th></th>\n",
              "      <th>Name</th>\n",
              "      <th>cls</th>\n",
              "      <th>English</th>\n",
              "      <th>Science</th>\n",
              "      <th>Maths</th>\n",
              "      <th>Total</th>\n",
              "      <th>Average</th>\n",
              "      <th>Grade</th>\n",
              "    </tr>\n",
              "  </thead>\n",
              "  <tbody>\n",
              "    <tr>\n",
              "      <th>std1</th>\n",
              "      <td>AAA</td>\n",
              "      <td>10</td>\n",
              "      <td>88</td>\n",
              "      <td>78</td>\n",
              "      <td>78</td>\n",
              "      <td>244</td>\n",
              "      <td>81.333333</td>\n",
              "      <td>None</td>\n",
              "    </tr>\n",
              "    <tr>\n",
              "      <th>std2</th>\n",
              "      <td>BBB</td>\n",
              "      <td>9</td>\n",
              "      <td>77</td>\n",
              "      <td>87</td>\n",
              "      <td>79</td>\n",
              "      <td>243</td>\n",
              "      <td>81.000000</td>\n",
              "      <td>None</td>\n",
              "    </tr>\n",
              "    <tr>\n",
              "      <th>std3</th>\n",
              "      <td>CCC</td>\n",
              "      <td>11</td>\n",
              "      <td>66</td>\n",
              "      <td>76</td>\n",
              "      <td>83</td>\n",
              "      <td>225</td>\n",
              "      <td>75.000000</td>\n",
              "      <td>None</td>\n",
              "    </tr>\n",
              "    <tr>\n",
              "      <th>std4</th>\n",
              "      <td>DDD</td>\n",
              "      <td>12</td>\n",
              "      <td>78</td>\n",
              "      <td>72</td>\n",
              "      <td>85</td>\n",
              "      <td>235</td>\n",
              "      <td>78.333333</td>\n",
              "      <td>None</td>\n",
              "    </tr>\n",
              "    <tr>\n",
              "      <th>std5</th>\n",
              "      <td>EEE</td>\n",
              "      <td>10</td>\n",
              "      <td>72</td>\n",
              "      <td>74</td>\n",
              "      <td>92</td>\n",
              "      <td>238</td>\n",
              "      <td>79.333333</td>\n",
              "      <td>None</td>\n",
              "    </tr>\n",
              "  </tbody>\n",
              "</table>\n",
              "</div>"
            ],
            "text/plain": [
              "     Name  cls  English  Science  Maths  Total    Average Grade\n",
              "std1  AAA   10       88       78     78    244  81.333333  None\n",
              "std2  BBB    9       77       87     79    243  81.000000  None\n",
              "std3  CCC   11       66       76     83    225  75.000000  None\n",
              "std4  DDD   12       78       72     85    235  78.333333  None\n",
              "std5  EEE   10       72       74     92    238  79.333333  None"
            ]
          },
          "metadata": {
            "tags": []
          },
          "execution_count": 18
        }
      ]
    },
    {
      "cell_type": "code",
      "metadata": {
        "colab": {
          "base_uri": "https://localhost:8080/"
        },
        "id": "wkZrRjv3dN1q",
        "outputId": "83c2dc50-53fe-4505-df28-88f26160fec6"
      },
      "source": [
        "for i in range(5):\n",
        "  print(std[\"Average\"][i])\n",
        "  print(std[\"Grade\"][i])"
      ],
      "execution_count": null,
      "outputs": [
        {
          "output_type": "stream",
          "text": [
            "81.33333333333333\n",
            "None\n",
            "81.0\n",
            "None\n",
            "75.0\n",
            "None\n",
            "78.33333333333333\n",
            "None\n",
            "79.33333333333333\n",
            "None\n"
          ],
          "name": "stdout"
        }
      ]
    },
    {
      "cell_type": "code",
      "metadata": {
        "colab": {
          "base_uri": "https://localhost:8080/"
        },
        "id": "TopDSHeAdhzF",
        "outputId": "38eddc19-c21b-44a5-de4e-006412b61af0"
      },
      "source": [
        "for i in range(5):\n",
        "  std[\"Grade\"][i] = \"A+\" if std[\"Average\"][i] > 80 else  \"A\"  if  std[\"Average\"][i] > 75 else \"B\""
      ],
      "execution_count": null,
      "outputs": [
        {
          "output_type": "stream",
          "text": [
            "/usr/local/lib/python3.7/dist-packages/ipykernel_launcher.py:2: SettingWithCopyWarning: \n",
            "A value is trying to be set on a copy of a slice from a DataFrame\n",
            "\n",
            "See the caveats in the documentation: https://pandas.pydata.org/pandas-docs/stable/user_guide/indexing.html#returning-a-view-versus-a-copy\n",
            "  \n"
          ],
          "name": "stderr"
        }
      ]
    },
    {
      "cell_type": "code",
      "metadata": {
        "colab": {
          "base_uri": "https://localhost:8080/",
          "height": 195
        },
        "id": "O9txkPXHeA0X",
        "outputId": "9b0cdd1b-3ad0-463a-c7dc-4648fb7371da"
      },
      "source": [
        "std"
      ],
      "execution_count": null,
      "outputs": [
        {
          "output_type": "execute_result",
          "data": {
            "text/html": [
              "<div>\n",
              "<style scoped>\n",
              "    .dataframe tbody tr th:only-of-type {\n",
              "        vertical-align: middle;\n",
              "    }\n",
              "\n",
              "    .dataframe tbody tr th {\n",
              "        vertical-align: top;\n",
              "    }\n",
              "\n",
              "    .dataframe thead th {\n",
              "        text-align: right;\n",
              "    }\n",
              "</style>\n",
              "<table border=\"1\" class=\"dataframe\">\n",
              "  <thead>\n",
              "    <tr style=\"text-align: right;\">\n",
              "      <th></th>\n",
              "      <th>Name</th>\n",
              "      <th>cls</th>\n",
              "      <th>English</th>\n",
              "      <th>Science</th>\n",
              "      <th>Maths</th>\n",
              "      <th>Total</th>\n",
              "      <th>Average</th>\n",
              "      <th>Grade</th>\n",
              "    </tr>\n",
              "  </thead>\n",
              "  <tbody>\n",
              "    <tr>\n",
              "      <th>std1</th>\n",
              "      <td>AAA</td>\n",
              "      <td>10</td>\n",
              "      <td>88</td>\n",
              "      <td>78</td>\n",
              "      <td>78</td>\n",
              "      <td>244</td>\n",
              "      <td>81.333333</td>\n",
              "      <td>A+</td>\n",
              "    </tr>\n",
              "    <tr>\n",
              "      <th>std2</th>\n",
              "      <td>BBB</td>\n",
              "      <td>9</td>\n",
              "      <td>77</td>\n",
              "      <td>87</td>\n",
              "      <td>79</td>\n",
              "      <td>243</td>\n",
              "      <td>81.000000</td>\n",
              "      <td>A+</td>\n",
              "    </tr>\n",
              "    <tr>\n",
              "      <th>std3</th>\n",
              "      <td>CCC</td>\n",
              "      <td>11</td>\n",
              "      <td>66</td>\n",
              "      <td>76</td>\n",
              "      <td>83</td>\n",
              "      <td>225</td>\n",
              "      <td>75.000000</td>\n",
              "      <td>B</td>\n",
              "    </tr>\n",
              "    <tr>\n",
              "      <th>std4</th>\n",
              "      <td>DDD</td>\n",
              "      <td>12</td>\n",
              "      <td>78</td>\n",
              "      <td>72</td>\n",
              "      <td>85</td>\n",
              "      <td>235</td>\n",
              "      <td>78.333333</td>\n",
              "      <td>A</td>\n",
              "    </tr>\n",
              "    <tr>\n",
              "      <th>std5</th>\n",
              "      <td>EEE</td>\n",
              "      <td>10</td>\n",
              "      <td>72</td>\n",
              "      <td>74</td>\n",
              "      <td>92</td>\n",
              "      <td>238</td>\n",
              "      <td>79.333333</td>\n",
              "      <td>A</td>\n",
              "    </tr>\n",
              "  </tbody>\n",
              "</table>\n",
              "</div>"
            ],
            "text/plain": [
              "     Name  cls  English  Science  Maths  Total    Average Grade\n",
              "std1  AAA   10       88       78     78    244  81.333333    A+\n",
              "std2  BBB    9       77       87     79    243  81.000000    A+\n",
              "std3  CCC   11       66       76     83    225  75.000000     B\n",
              "std4  DDD   12       78       72     85    235  78.333333     A\n",
              "std5  EEE   10       72       74     92    238  79.333333     A"
            ]
          },
          "metadata": {
            "tags": []
          },
          "execution_count": 23
        }
      ]
    },
    {
      "cell_type": "code",
      "metadata": {
        "id": "uDHFokrbeCU5"
      },
      "source": [
        "cond = [(std[\"Average\"] >= 80),\n",
        "        (std[\"Average\"] >= 75) & (std[\"Average\"] < 80),\n",
        "        (std[\"Average\"] >=60) & (std[\"Average\"] < 75),\n",
        "      ]"
      ],
      "execution_count": null,
      "outputs": []
    },
    {
      "cell_type": "code",
      "metadata": {
        "id": "wUUJNTUrevus"
      },
      "source": [
        "grade = [\"A+\",\"A\",\"B\"]"
      ],
      "execution_count": null,
      "outputs": []
    },
    {
      "cell_type": "code",
      "metadata": {
        "colab": {
          "base_uri": "https://localhost:8080/",
          "height": 195
        },
        "id": "rqUOb7ZWe9Y3",
        "outputId": "976666c5-1cc0-48c9-bb8c-008bcb430316"
      },
      "source": [
        "std"
      ],
      "execution_count": null,
      "outputs": [
        {
          "output_type": "execute_result",
          "data": {
            "text/html": [
              "<div>\n",
              "<style scoped>\n",
              "    .dataframe tbody tr th:only-of-type {\n",
              "        vertical-align: middle;\n",
              "    }\n",
              "\n",
              "    .dataframe tbody tr th {\n",
              "        vertical-align: top;\n",
              "    }\n",
              "\n",
              "    .dataframe thead th {\n",
              "        text-align: right;\n",
              "    }\n",
              "</style>\n",
              "<table border=\"1\" class=\"dataframe\">\n",
              "  <thead>\n",
              "    <tr style=\"text-align: right;\">\n",
              "      <th></th>\n",
              "      <th>Name</th>\n",
              "      <th>cls</th>\n",
              "      <th>English</th>\n",
              "      <th>Science</th>\n",
              "      <th>Maths</th>\n",
              "      <th>Total</th>\n",
              "      <th>Average</th>\n",
              "      <th>Grade</th>\n",
              "    </tr>\n",
              "  </thead>\n",
              "  <tbody>\n",
              "    <tr>\n",
              "      <th>std1</th>\n",
              "      <td>AAA</td>\n",
              "      <td>10</td>\n",
              "      <td>88</td>\n",
              "      <td>78</td>\n",
              "      <td>78</td>\n",
              "      <td>244</td>\n",
              "      <td>81.333333</td>\n",
              "      <td>A+</td>\n",
              "    </tr>\n",
              "    <tr>\n",
              "      <th>std2</th>\n",
              "      <td>BBB</td>\n",
              "      <td>9</td>\n",
              "      <td>77</td>\n",
              "      <td>87</td>\n",
              "      <td>79</td>\n",
              "      <td>243</td>\n",
              "      <td>81.000000</td>\n",
              "      <td>A+</td>\n",
              "    </tr>\n",
              "    <tr>\n",
              "      <th>std3</th>\n",
              "      <td>CCC</td>\n",
              "      <td>11</td>\n",
              "      <td>66</td>\n",
              "      <td>76</td>\n",
              "      <td>83</td>\n",
              "      <td>225</td>\n",
              "      <td>75.000000</td>\n",
              "      <td>B</td>\n",
              "    </tr>\n",
              "    <tr>\n",
              "      <th>std4</th>\n",
              "      <td>DDD</td>\n",
              "      <td>12</td>\n",
              "      <td>78</td>\n",
              "      <td>72</td>\n",
              "      <td>85</td>\n",
              "      <td>235</td>\n",
              "      <td>78.333333</td>\n",
              "      <td>A</td>\n",
              "    </tr>\n",
              "    <tr>\n",
              "      <th>std5</th>\n",
              "      <td>EEE</td>\n",
              "      <td>10</td>\n",
              "      <td>72</td>\n",
              "      <td>74</td>\n",
              "      <td>92</td>\n",
              "      <td>238</td>\n",
              "      <td>79.333333</td>\n",
              "      <td>A</td>\n",
              "    </tr>\n",
              "  </tbody>\n",
              "</table>\n",
              "</div>"
            ],
            "text/plain": [
              "     Name  cls  English  Science  Maths  Total    Average Grade\n",
              "std1  AAA   10       88       78     78    244  81.333333    A+\n",
              "std2  BBB    9       77       87     79    243  81.000000    A+\n",
              "std3  CCC   11       66       76     83    225  75.000000     B\n",
              "std4  DDD   12       78       72     85    235  78.333333     A\n",
              "std5  EEE   10       72       74     92    238  79.333333     A"
            ]
          },
          "metadata": {
            "tags": []
          },
          "execution_count": 27
        }
      ]
    },
    {
      "cell_type": "code",
      "metadata": {
        "id": "ZBMOODMbfO1P"
      },
      "source": [
        "import numpy as np"
      ],
      "execution_count": null,
      "outputs": []
    },
    {
      "cell_type": "code",
      "metadata": {
        "id": "zzdayvWte2dk"
      },
      "source": [
        "std1[\"Grade\"] =  np.select(cond, grade)"
      ],
      "execution_count": null,
      "outputs": []
    },
    {
      "cell_type": "code",
      "metadata": {
        "colab": {
          "base_uri": "https://localhost:8080/",
          "height": 195
        },
        "id": "4fCApEm3fZy4",
        "outputId": "b8e9dbae-e3cd-4bb3-9c7b-620fcd3c5347"
      },
      "source": [
        "std1"
      ],
      "execution_count": null,
      "outputs": [
        {
          "output_type": "execute_result",
          "data": {
            "text/html": [
              "<div>\n",
              "<style scoped>\n",
              "    .dataframe tbody tr th:only-of-type {\n",
              "        vertical-align: middle;\n",
              "    }\n",
              "\n",
              "    .dataframe tbody tr th {\n",
              "        vertical-align: top;\n",
              "    }\n",
              "\n",
              "    .dataframe thead th {\n",
              "        text-align: right;\n",
              "    }\n",
              "</style>\n",
              "<table border=\"1\" class=\"dataframe\">\n",
              "  <thead>\n",
              "    <tr style=\"text-align: right;\">\n",
              "      <th></th>\n",
              "      <th>Name</th>\n",
              "      <th>cls</th>\n",
              "      <th>English</th>\n",
              "      <th>Science</th>\n",
              "      <th>Maths</th>\n",
              "      <th>Total</th>\n",
              "      <th>Average</th>\n",
              "      <th>Grade</th>\n",
              "    </tr>\n",
              "  </thead>\n",
              "  <tbody>\n",
              "    <tr>\n",
              "      <th>std1</th>\n",
              "      <td>AAA</td>\n",
              "      <td>10</td>\n",
              "      <td>88</td>\n",
              "      <td>78</td>\n",
              "      <td>78</td>\n",
              "      <td>244</td>\n",
              "      <td>81.333333</td>\n",
              "      <td>A+</td>\n",
              "    </tr>\n",
              "    <tr>\n",
              "      <th>std2</th>\n",
              "      <td>BBB</td>\n",
              "      <td>9</td>\n",
              "      <td>77</td>\n",
              "      <td>87</td>\n",
              "      <td>79</td>\n",
              "      <td>243</td>\n",
              "      <td>81.000000</td>\n",
              "      <td>A+</td>\n",
              "    </tr>\n",
              "    <tr>\n",
              "      <th>std3</th>\n",
              "      <td>CCC</td>\n",
              "      <td>11</td>\n",
              "      <td>66</td>\n",
              "      <td>76</td>\n",
              "      <td>83</td>\n",
              "      <td>225</td>\n",
              "      <td>75.000000</td>\n",
              "      <td>A</td>\n",
              "    </tr>\n",
              "    <tr>\n",
              "      <th>std4</th>\n",
              "      <td>DDD</td>\n",
              "      <td>12</td>\n",
              "      <td>78</td>\n",
              "      <td>72</td>\n",
              "      <td>85</td>\n",
              "      <td>235</td>\n",
              "      <td>78.333333</td>\n",
              "      <td>A</td>\n",
              "    </tr>\n",
              "    <tr>\n",
              "      <th>std5</th>\n",
              "      <td>EEE</td>\n",
              "      <td>10</td>\n",
              "      <td>72</td>\n",
              "      <td>74</td>\n",
              "      <td>92</td>\n",
              "      <td>238</td>\n",
              "      <td>79.333333</td>\n",
              "      <td>A</td>\n",
              "    </tr>\n",
              "  </tbody>\n",
              "</table>\n",
              "</div>"
            ],
            "text/plain": [
              "     Name  cls  English  Science  Maths  Total    Average Grade\n",
              "std1  AAA   10       88       78     78    244  81.333333    A+\n",
              "std2  BBB    9       77       87     79    243  81.000000    A+\n",
              "std3  CCC   11       66       76     83    225  75.000000     A\n",
              "std4  DDD   12       78       72     85    235  78.333333     A\n",
              "std5  EEE   10       72       74     92    238  79.333333     A"
            ]
          },
          "metadata": {
            "tags": []
          },
          "execution_count": 36
        }
      ]
    },
    {
      "cell_type": "code",
      "metadata": {
        "colab": {
          "base_uri": "https://localhost:8080/",
          "height": 195
        },
        "id": "_IyZW8xufaTh",
        "outputId": "0a70dafb-82ab-42f8-dd2e-ab03bd9ddaa9"
      },
      "source": [
        "std"
      ],
      "execution_count": null,
      "outputs": [
        {
          "output_type": "execute_result",
          "data": {
            "text/html": [
              "<div>\n",
              "<style scoped>\n",
              "    .dataframe tbody tr th:only-of-type {\n",
              "        vertical-align: middle;\n",
              "    }\n",
              "\n",
              "    .dataframe tbody tr th {\n",
              "        vertical-align: top;\n",
              "    }\n",
              "\n",
              "    .dataframe thead th {\n",
              "        text-align: right;\n",
              "    }\n",
              "</style>\n",
              "<table border=\"1\" class=\"dataframe\">\n",
              "  <thead>\n",
              "    <tr style=\"text-align: right;\">\n",
              "      <th></th>\n",
              "      <th>Name</th>\n",
              "      <th>cls</th>\n",
              "      <th>English</th>\n",
              "      <th>Science</th>\n",
              "      <th>Maths</th>\n",
              "      <th>Total</th>\n",
              "      <th>Average</th>\n",
              "      <th>Grade</th>\n",
              "    </tr>\n",
              "  </thead>\n",
              "  <tbody>\n",
              "    <tr>\n",
              "      <th>std1</th>\n",
              "      <td>AAA</td>\n",
              "      <td>10</td>\n",
              "      <td>88</td>\n",
              "      <td>78</td>\n",
              "      <td>78</td>\n",
              "      <td>244</td>\n",
              "      <td>81.333333</td>\n",
              "      <td>A+</td>\n",
              "    </tr>\n",
              "    <tr>\n",
              "      <th>std2</th>\n",
              "      <td>BBB</td>\n",
              "      <td>9</td>\n",
              "      <td>77</td>\n",
              "      <td>87</td>\n",
              "      <td>79</td>\n",
              "      <td>243</td>\n",
              "      <td>81.000000</td>\n",
              "      <td>A+</td>\n",
              "    </tr>\n",
              "    <tr>\n",
              "      <th>std3</th>\n",
              "      <td>CCC</td>\n",
              "      <td>11</td>\n",
              "      <td>66</td>\n",
              "      <td>76</td>\n",
              "      <td>83</td>\n",
              "      <td>225</td>\n",
              "      <td>75.000000</td>\n",
              "      <td>A</td>\n",
              "    </tr>\n",
              "    <tr>\n",
              "      <th>std4</th>\n",
              "      <td>DDD</td>\n",
              "      <td>12</td>\n",
              "      <td>78</td>\n",
              "      <td>72</td>\n",
              "      <td>85</td>\n",
              "      <td>235</td>\n",
              "      <td>78.333333</td>\n",
              "      <td>A</td>\n",
              "    </tr>\n",
              "    <tr>\n",
              "      <th>std5</th>\n",
              "      <td>EEE</td>\n",
              "      <td>10</td>\n",
              "      <td>72</td>\n",
              "      <td>74</td>\n",
              "      <td>92</td>\n",
              "      <td>238</td>\n",
              "      <td>79.333333</td>\n",
              "      <td>A</td>\n",
              "    </tr>\n",
              "  </tbody>\n",
              "</table>\n",
              "</div>"
            ],
            "text/plain": [
              "     Name  cls  English  Science  Maths  Total    Average Grade\n",
              "std1  AAA   10       88       78     78    244  81.333333    A+\n",
              "std2  BBB    9       77       87     79    243  81.000000    A+\n",
              "std3  CCC   11       66       76     83    225  75.000000     A\n",
              "std4  DDD   12       78       72     85    235  78.333333     A\n",
              "std5  EEE   10       72       74     92    238  79.333333     A"
            ]
          },
          "metadata": {
            "tags": []
          },
          "execution_count": 39
        }
      ]
    },
    {
      "cell_type": "code",
      "metadata": {
        "colab": {
          "base_uri": "https://localhost:8080/"
        },
        "id": "QYI-fC69ftX1",
        "outputId": "778c9da0-318e-4459-a612-bdef7ea82975"
      },
      "source": [
        "std['Total'].max()"
      ],
      "execution_count": null,
      "outputs": [
        {
          "output_type": "execute_result",
          "data": {
            "text/plain": [
              "244"
            ]
          },
          "metadata": {
            "tags": []
          },
          "execution_count": 41
        }
      ]
    },
    {
      "cell_type": "code",
      "metadata": {
        "colab": {
          "base_uri": "https://localhost:8080/"
        },
        "id": "7tB93TPSf3K-",
        "outputId": "7a8fcfb9-2899-4f84-ba46-7f5c3cfb6f45"
      },
      "source": [
        "std.English.mean()"
      ],
      "execution_count": null,
      "outputs": [
        {
          "output_type": "execute_result",
          "data": {
            "text/plain": [
              "76.2"
            ]
          },
          "metadata": {
            "tags": []
          },
          "execution_count": 43
        }
      ]
    },
    {
      "cell_type": "code",
      "metadata": {
        "colab": {
          "base_uri": "https://localhost:8080/",
          "height": 195
        },
        "id": "T9htPzObgAdi",
        "outputId": "6d8aaf8b-a060-4089-f8f4-823420a84972"
      },
      "source": [
        "std[[\"Name\",\"English\"]]"
      ],
      "execution_count": null,
      "outputs": [
        {
          "output_type": "execute_result",
          "data": {
            "text/html": [
              "<div>\n",
              "<style scoped>\n",
              "    .dataframe tbody tr th:only-of-type {\n",
              "        vertical-align: middle;\n",
              "    }\n",
              "\n",
              "    .dataframe tbody tr th {\n",
              "        vertical-align: top;\n",
              "    }\n",
              "\n",
              "    .dataframe thead th {\n",
              "        text-align: right;\n",
              "    }\n",
              "</style>\n",
              "<table border=\"1\" class=\"dataframe\">\n",
              "  <thead>\n",
              "    <tr style=\"text-align: right;\">\n",
              "      <th></th>\n",
              "      <th>Name</th>\n",
              "      <th>English</th>\n",
              "    </tr>\n",
              "  </thead>\n",
              "  <tbody>\n",
              "    <tr>\n",
              "      <th>std1</th>\n",
              "      <td>AAA</td>\n",
              "      <td>88</td>\n",
              "    </tr>\n",
              "    <tr>\n",
              "      <th>std2</th>\n",
              "      <td>BBB</td>\n",
              "      <td>77</td>\n",
              "    </tr>\n",
              "    <tr>\n",
              "      <th>std3</th>\n",
              "      <td>CCC</td>\n",
              "      <td>66</td>\n",
              "    </tr>\n",
              "    <tr>\n",
              "      <th>std4</th>\n",
              "      <td>DDD</td>\n",
              "      <td>78</td>\n",
              "    </tr>\n",
              "    <tr>\n",
              "      <th>std5</th>\n",
              "      <td>EEE</td>\n",
              "      <td>72</td>\n",
              "    </tr>\n",
              "  </tbody>\n",
              "</table>\n",
              "</div>"
            ],
            "text/plain": [
              "     Name  English\n",
              "std1  AAA       88\n",
              "std2  BBB       77\n",
              "std3  CCC       66\n",
              "std4  DDD       78\n",
              "std5  EEE       72"
            ]
          },
          "metadata": {
            "tags": []
          },
          "execution_count": 46
        }
      ]
    },
    {
      "cell_type": "code",
      "metadata": {
        "colab": {
          "base_uri": "https://localhost:8080/"
        },
        "id": "CmmnBJLbglSn",
        "outputId": "fd6e649f-9f6d-4809-dd32-e49ee8df8281"
      },
      "source": [
        "std.loc[\"std2\"]"
      ],
      "execution_count": null,
      "outputs": [
        {
          "output_type": "execute_result",
          "data": {
            "text/plain": [
              "Name       BBB\n",
              "cls          9\n",
              "English     77\n",
              "Science     87\n",
              "Maths       79\n",
              "Total      243\n",
              "Average     81\n",
              "Grade       A+\n",
              "Name: std2, dtype: object"
            ]
          },
          "metadata": {
            "tags": []
          },
          "execution_count": 47
        }
      ]
    },
    {
      "cell_type": "code",
      "metadata": {
        "colab": {
          "base_uri": "https://localhost:8080/",
          "height": 195
        },
        "id": "UIeu1lLcg1h5",
        "outputId": "850cd613-3e0e-428f-cc1b-98972dff316d"
      },
      "source": [
        "std"
      ],
      "execution_count": null,
      "outputs": [
        {
          "output_type": "execute_result",
          "data": {
            "text/html": [
              "<div>\n",
              "<style scoped>\n",
              "    .dataframe tbody tr th:only-of-type {\n",
              "        vertical-align: middle;\n",
              "    }\n",
              "\n",
              "    .dataframe tbody tr th {\n",
              "        vertical-align: top;\n",
              "    }\n",
              "\n",
              "    .dataframe thead th {\n",
              "        text-align: right;\n",
              "    }\n",
              "</style>\n",
              "<table border=\"1\" class=\"dataframe\">\n",
              "  <thead>\n",
              "    <tr style=\"text-align: right;\">\n",
              "      <th></th>\n",
              "      <th>Name</th>\n",
              "      <th>cls</th>\n",
              "      <th>English</th>\n",
              "      <th>Science</th>\n",
              "      <th>Maths</th>\n",
              "      <th>Total</th>\n",
              "      <th>Average</th>\n",
              "      <th>Grade</th>\n",
              "    </tr>\n",
              "  </thead>\n",
              "  <tbody>\n",
              "    <tr>\n",
              "      <th>std1</th>\n",
              "      <td>AAA</td>\n",
              "      <td>10</td>\n",
              "      <td>88</td>\n",
              "      <td>78</td>\n",
              "      <td>78</td>\n",
              "      <td>244</td>\n",
              "      <td>81.333333</td>\n",
              "      <td>A+</td>\n",
              "    </tr>\n",
              "    <tr>\n",
              "      <th>std2</th>\n",
              "      <td>BBB</td>\n",
              "      <td>9</td>\n",
              "      <td>77</td>\n",
              "      <td>87</td>\n",
              "      <td>79</td>\n",
              "      <td>243</td>\n",
              "      <td>81.000000</td>\n",
              "      <td>A+</td>\n",
              "    </tr>\n",
              "    <tr>\n",
              "      <th>std3</th>\n",
              "      <td>CCC</td>\n",
              "      <td>11</td>\n",
              "      <td>66</td>\n",
              "      <td>76</td>\n",
              "      <td>83</td>\n",
              "      <td>225</td>\n",
              "      <td>75.000000</td>\n",
              "      <td>A</td>\n",
              "    </tr>\n",
              "    <tr>\n",
              "      <th>std4</th>\n",
              "      <td>DDD</td>\n",
              "      <td>12</td>\n",
              "      <td>78</td>\n",
              "      <td>72</td>\n",
              "      <td>85</td>\n",
              "      <td>235</td>\n",
              "      <td>78.333333</td>\n",
              "      <td>A</td>\n",
              "    </tr>\n",
              "    <tr>\n",
              "      <th>std5</th>\n",
              "      <td>EEE</td>\n",
              "      <td>10</td>\n",
              "      <td>72</td>\n",
              "      <td>74</td>\n",
              "      <td>92</td>\n",
              "      <td>238</td>\n",
              "      <td>79.333333</td>\n",
              "      <td>A</td>\n",
              "    </tr>\n",
              "  </tbody>\n",
              "</table>\n",
              "</div>"
            ],
            "text/plain": [
              "     Name  cls  English  Science  Maths  Total    Average Grade\n",
              "std1  AAA   10       88       78     78    244  81.333333    A+\n",
              "std2  BBB    9       77       87     79    243  81.000000    A+\n",
              "std3  CCC   11       66       76     83    225  75.000000     A\n",
              "std4  DDD   12       78       72     85    235  78.333333     A\n",
              "std5  EEE   10       72       74     92    238  79.333333     A"
            ]
          },
          "metadata": {
            "tags": []
          },
          "execution_count": 48
        }
      ]
    },
    {
      "cell_type": "code",
      "metadata": {
        "colab": {
          "base_uri": "https://localhost:8080/"
        },
        "id": "0Tn66lCeg_wK",
        "outputId": "dbe44368-46a6-4276-dff7-585861f8e5a4"
      },
      "source": [
        "std.iloc[0]"
      ],
      "execution_count": null,
      "outputs": [
        {
          "output_type": "execute_result",
          "data": {
            "text/plain": [
              "Name           AAA\n",
              "cls             10\n",
              "English         88\n",
              "Science         78\n",
              "Maths           78\n",
              "Total          244\n",
              "Average    81.3333\n",
              "Grade           A+\n",
              "Name: std1, dtype: object"
            ]
          },
          "metadata": {
            "tags": []
          },
          "execution_count": 49
        }
      ]
    },
    {
      "cell_type": "code",
      "metadata": {
        "colab": {
          "base_uri": "https://localhost:8080/",
          "height": 195
        },
        "id": "B8N-C-6IhDyo",
        "outputId": "f479da48-22c3-4096-be24-cea96631cf64"
      },
      "source": [
        "std"
      ],
      "execution_count": null,
      "outputs": [
        {
          "output_type": "execute_result",
          "data": {
            "text/html": [
              "<div>\n",
              "<style scoped>\n",
              "    .dataframe tbody tr th:only-of-type {\n",
              "        vertical-align: middle;\n",
              "    }\n",
              "\n",
              "    .dataframe tbody tr th {\n",
              "        vertical-align: top;\n",
              "    }\n",
              "\n",
              "    .dataframe thead th {\n",
              "        text-align: right;\n",
              "    }\n",
              "</style>\n",
              "<table border=\"1\" class=\"dataframe\">\n",
              "  <thead>\n",
              "    <tr style=\"text-align: right;\">\n",
              "      <th></th>\n",
              "      <th>Name</th>\n",
              "      <th>cls</th>\n",
              "      <th>English</th>\n",
              "      <th>Science</th>\n",
              "      <th>Maths</th>\n",
              "      <th>Total</th>\n",
              "      <th>Average</th>\n",
              "      <th>Grade</th>\n",
              "    </tr>\n",
              "  </thead>\n",
              "  <tbody>\n",
              "    <tr>\n",
              "      <th>std1</th>\n",
              "      <td>AAA</td>\n",
              "      <td>10</td>\n",
              "      <td>88</td>\n",
              "      <td>78</td>\n",
              "      <td>78</td>\n",
              "      <td>244</td>\n",
              "      <td>81.333333</td>\n",
              "      <td>A+</td>\n",
              "    </tr>\n",
              "    <tr>\n",
              "      <th>std2</th>\n",
              "      <td>BBB</td>\n",
              "      <td>9</td>\n",
              "      <td>77</td>\n",
              "      <td>87</td>\n",
              "      <td>79</td>\n",
              "      <td>243</td>\n",
              "      <td>81.000000</td>\n",
              "      <td>A+</td>\n",
              "    </tr>\n",
              "    <tr>\n",
              "      <th>std3</th>\n",
              "      <td>CCC</td>\n",
              "      <td>11</td>\n",
              "      <td>66</td>\n",
              "      <td>76</td>\n",
              "      <td>83</td>\n",
              "      <td>225</td>\n",
              "      <td>75.000000</td>\n",
              "      <td>A</td>\n",
              "    </tr>\n",
              "    <tr>\n",
              "      <th>std4</th>\n",
              "      <td>DDD</td>\n",
              "      <td>12</td>\n",
              "      <td>78</td>\n",
              "      <td>72</td>\n",
              "      <td>85</td>\n",
              "      <td>235</td>\n",
              "      <td>78.333333</td>\n",
              "      <td>A</td>\n",
              "    </tr>\n",
              "    <tr>\n",
              "      <th>std5</th>\n",
              "      <td>EEE</td>\n",
              "      <td>10</td>\n",
              "      <td>72</td>\n",
              "      <td>74</td>\n",
              "      <td>92</td>\n",
              "      <td>238</td>\n",
              "      <td>79.333333</td>\n",
              "      <td>A</td>\n",
              "    </tr>\n",
              "  </tbody>\n",
              "</table>\n",
              "</div>"
            ],
            "text/plain": [
              "     Name  cls  English  Science  Maths  Total    Average Grade\n",
              "std1  AAA   10       88       78     78    244  81.333333    A+\n",
              "std2  BBB    9       77       87     79    243  81.000000    A+\n",
              "std3  CCC   11       66       76     83    225  75.000000     A\n",
              "std4  DDD   12       78       72     85    235  78.333333     A\n",
              "std5  EEE   10       72       74     92    238  79.333333     A"
            ]
          },
          "metadata": {
            "tags": []
          },
          "execution_count": 50
        }
      ]
    },
    {
      "cell_type": "code",
      "metadata": {
        "colab": {
          "base_uri": "https://localhost:8080/",
          "height": 136
        },
        "id": "R2PG2NoehMgZ",
        "outputId": "8027f385-b8f2-4c2b-b630-8e8145eaf49f"
      },
      "source": [
        "std.iloc[1:4]"
      ],
      "execution_count": null,
      "outputs": [
        {
          "output_type": "execute_result",
          "data": {
            "text/html": [
              "<div>\n",
              "<style scoped>\n",
              "    .dataframe tbody tr th:only-of-type {\n",
              "        vertical-align: middle;\n",
              "    }\n",
              "\n",
              "    .dataframe tbody tr th {\n",
              "        vertical-align: top;\n",
              "    }\n",
              "\n",
              "    .dataframe thead th {\n",
              "        text-align: right;\n",
              "    }\n",
              "</style>\n",
              "<table border=\"1\" class=\"dataframe\">\n",
              "  <thead>\n",
              "    <tr style=\"text-align: right;\">\n",
              "      <th></th>\n",
              "      <th>Name</th>\n",
              "      <th>cls</th>\n",
              "      <th>English</th>\n",
              "      <th>Science</th>\n",
              "      <th>Maths</th>\n",
              "      <th>Total</th>\n",
              "      <th>Average</th>\n",
              "      <th>Grade</th>\n",
              "    </tr>\n",
              "  </thead>\n",
              "  <tbody>\n",
              "    <tr>\n",
              "      <th>std2</th>\n",
              "      <td>BBB</td>\n",
              "      <td>9</td>\n",
              "      <td>77</td>\n",
              "      <td>87</td>\n",
              "      <td>79</td>\n",
              "      <td>243</td>\n",
              "      <td>81.000000</td>\n",
              "      <td>A+</td>\n",
              "    </tr>\n",
              "    <tr>\n",
              "      <th>std3</th>\n",
              "      <td>CCC</td>\n",
              "      <td>11</td>\n",
              "      <td>66</td>\n",
              "      <td>76</td>\n",
              "      <td>83</td>\n",
              "      <td>225</td>\n",
              "      <td>75.000000</td>\n",
              "      <td>A</td>\n",
              "    </tr>\n",
              "    <tr>\n",
              "      <th>std4</th>\n",
              "      <td>DDD</td>\n",
              "      <td>12</td>\n",
              "      <td>78</td>\n",
              "      <td>72</td>\n",
              "      <td>85</td>\n",
              "      <td>235</td>\n",
              "      <td>78.333333</td>\n",
              "      <td>A</td>\n",
              "    </tr>\n",
              "  </tbody>\n",
              "</table>\n",
              "</div>"
            ],
            "text/plain": [
              "     Name  cls  English  Science  Maths  Total    Average Grade\n",
              "std2  BBB    9       77       87     79    243  81.000000    A+\n",
              "std3  CCC   11       66       76     83    225  75.000000     A\n",
              "std4  DDD   12       78       72     85    235  78.333333     A"
            ]
          },
          "metadata": {
            "tags": []
          },
          "execution_count": 51
        }
      ]
    },
    {
      "cell_type": "code",
      "metadata": {
        "colab": {
          "base_uri": "https://localhost:8080/",
          "height": 166
        },
        "id": "u171HsgjhWIr",
        "outputId": "28e87aa4-62f9-4257-e8f7-4b5b1fcf74dc"
      },
      "source": [
        "std.loc[\"std2\": \"std5\"]"
      ],
      "execution_count": null,
      "outputs": [
        {
          "output_type": "execute_result",
          "data": {
            "text/html": [
              "<div>\n",
              "<style scoped>\n",
              "    .dataframe tbody tr th:only-of-type {\n",
              "        vertical-align: middle;\n",
              "    }\n",
              "\n",
              "    .dataframe tbody tr th {\n",
              "        vertical-align: top;\n",
              "    }\n",
              "\n",
              "    .dataframe thead th {\n",
              "        text-align: right;\n",
              "    }\n",
              "</style>\n",
              "<table border=\"1\" class=\"dataframe\">\n",
              "  <thead>\n",
              "    <tr style=\"text-align: right;\">\n",
              "      <th></th>\n",
              "      <th>Name</th>\n",
              "      <th>cls</th>\n",
              "      <th>English</th>\n",
              "      <th>Science</th>\n",
              "      <th>Maths</th>\n",
              "      <th>Total</th>\n",
              "      <th>Average</th>\n",
              "      <th>Grade</th>\n",
              "    </tr>\n",
              "  </thead>\n",
              "  <tbody>\n",
              "    <tr>\n",
              "      <th>std2</th>\n",
              "      <td>BBB</td>\n",
              "      <td>9</td>\n",
              "      <td>77</td>\n",
              "      <td>87</td>\n",
              "      <td>79</td>\n",
              "      <td>243</td>\n",
              "      <td>81.000000</td>\n",
              "      <td>A+</td>\n",
              "    </tr>\n",
              "    <tr>\n",
              "      <th>std3</th>\n",
              "      <td>CCC</td>\n",
              "      <td>11</td>\n",
              "      <td>66</td>\n",
              "      <td>76</td>\n",
              "      <td>83</td>\n",
              "      <td>225</td>\n",
              "      <td>75.000000</td>\n",
              "      <td>A</td>\n",
              "    </tr>\n",
              "    <tr>\n",
              "      <th>std4</th>\n",
              "      <td>DDD</td>\n",
              "      <td>12</td>\n",
              "      <td>78</td>\n",
              "      <td>72</td>\n",
              "      <td>85</td>\n",
              "      <td>235</td>\n",
              "      <td>78.333333</td>\n",
              "      <td>A</td>\n",
              "    </tr>\n",
              "    <tr>\n",
              "      <th>std5</th>\n",
              "      <td>EEE</td>\n",
              "      <td>10</td>\n",
              "      <td>72</td>\n",
              "      <td>74</td>\n",
              "      <td>92</td>\n",
              "      <td>238</td>\n",
              "      <td>79.333333</td>\n",
              "      <td>A</td>\n",
              "    </tr>\n",
              "  </tbody>\n",
              "</table>\n",
              "</div>"
            ],
            "text/plain": [
              "     Name  cls  English  Science  Maths  Total    Average Grade\n",
              "std2  BBB    9       77       87     79    243  81.000000    A+\n",
              "std3  CCC   11       66       76     83    225  75.000000     A\n",
              "std4  DDD   12       78       72     85    235  78.333333     A\n",
              "std5  EEE   10       72       74     92    238  79.333333     A"
            ]
          },
          "metadata": {
            "tags": []
          },
          "execution_count": 52
        }
      ]
    },
    {
      "cell_type": "code",
      "metadata": {
        "colab": {
          "base_uri": "https://localhost:8080/",
          "height": 195
        },
        "id": "BmnTd7OPhyZV",
        "outputId": "4288772a-bac0-4290-a840-0f0de7c21db5"
      },
      "source": [
        "std"
      ],
      "execution_count": null,
      "outputs": [
        {
          "output_type": "execute_result",
          "data": {
            "text/html": [
              "<div>\n",
              "<style scoped>\n",
              "    .dataframe tbody tr th:only-of-type {\n",
              "        vertical-align: middle;\n",
              "    }\n",
              "\n",
              "    .dataframe tbody tr th {\n",
              "        vertical-align: top;\n",
              "    }\n",
              "\n",
              "    .dataframe thead th {\n",
              "        text-align: right;\n",
              "    }\n",
              "</style>\n",
              "<table border=\"1\" class=\"dataframe\">\n",
              "  <thead>\n",
              "    <tr style=\"text-align: right;\">\n",
              "      <th></th>\n",
              "      <th>Name</th>\n",
              "      <th>cls</th>\n",
              "      <th>English</th>\n",
              "      <th>Science</th>\n",
              "      <th>Maths</th>\n",
              "      <th>Total</th>\n",
              "      <th>Average</th>\n",
              "      <th>Grade</th>\n",
              "    </tr>\n",
              "  </thead>\n",
              "  <tbody>\n",
              "    <tr>\n",
              "      <th>std1</th>\n",
              "      <td>AAA</td>\n",
              "      <td>10</td>\n",
              "      <td>88</td>\n",
              "      <td>78</td>\n",
              "      <td>78</td>\n",
              "      <td>244</td>\n",
              "      <td>81.333333</td>\n",
              "      <td>A+</td>\n",
              "    </tr>\n",
              "    <tr>\n",
              "      <th>std2</th>\n",
              "      <td>BBB</td>\n",
              "      <td>9</td>\n",
              "      <td>77</td>\n",
              "      <td>87</td>\n",
              "      <td>79</td>\n",
              "      <td>243</td>\n",
              "      <td>81.000000</td>\n",
              "      <td>A+</td>\n",
              "    </tr>\n",
              "    <tr>\n",
              "      <th>std3</th>\n",
              "      <td>CCC</td>\n",
              "      <td>11</td>\n",
              "      <td>66</td>\n",
              "      <td>76</td>\n",
              "      <td>83</td>\n",
              "      <td>225</td>\n",
              "      <td>75.000000</td>\n",
              "      <td>A</td>\n",
              "    </tr>\n",
              "    <tr>\n",
              "      <th>std4</th>\n",
              "      <td>DDD</td>\n",
              "      <td>12</td>\n",
              "      <td>78</td>\n",
              "      <td>72</td>\n",
              "      <td>85</td>\n",
              "      <td>235</td>\n",
              "      <td>78.333333</td>\n",
              "      <td>A</td>\n",
              "    </tr>\n",
              "    <tr>\n",
              "      <th>std5</th>\n",
              "      <td>EEE</td>\n",
              "      <td>10</td>\n",
              "      <td>72</td>\n",
              "      <td>74</td>\n",
              "      <td>92</td>\n",
              "      <td>238</td>\n",
              "      <td>79.333333</td>\n",
              "      <td>A</td>\n",
              "    </tr>\n",
              "  </tbody>\n",
              "</table>\n",
              "</div>"
            ],
            "text/plain": [
              "     Name  cls  English  Science  Maths  Total    Average Grade\n",
              "std1  AAA   10       88       78     78    244  81.333333    A+\n",
              "std2  BBB    9       77       87     79    243  81.000000    A+\n",
              "std3  CCC   11       66       76     83    225  75.000000     A\n",
              "std4  DDD   12       78       72     85    235  78.333333     A\n",
              "std5  EEE   10       72       74     92    238  79.333333     A"
            ]
          },
          "metadata": {
            "tags": []
          },
          "execution_count": 53
        }
      ]
    },
    {
      "cell_type": "code",
      "metadata": {
        "colab": {
          "base_uri": "https://localhost:8080/",
          "height": 136
        },
        "id": "GY8LD5jviTz1",
        "outputId": "3e09877b-8835-4018-a350-925219a15824"
      },
      "source": [
        "std.iloc[[0,1,3]]"
      ],
      "execution_count": null,
      "outputs": [
        {
          "output_type": "execute_result",
          "data": {
            "text/html": [
              "<div>\n",
              "<style scoped>\n",
              "    .dataframe tbody tr th:only-of-type {\n",
              "        vertical-align: middle;\n",
              "    }\n",
              "\n",
              "    .dataframe tbody tr th {\n",
              "        vertical-align: top;\n",
              "    }\n",
              "\n",
              "    .dataframe thead th {\n",
              "        text-align: right;\n",
              "    }\n",
              "</style>\n",
              "<table border=\"1\" class=\"dataframe\">\n",
              "  <thead>\n",
              "    <tr style=\"text-align: right;\">\n",
              "      <th></th>\n",
              "      <th>Name</th>\n",
              "      <th>cls</th>\n",
              "      <th>English</th>\n",
              "      <th>Science</th>\n",
              "      <th>Maths</th>\n",
              "      <th>Total</th>\n",
              "      <th>Average</th>\n",
              "      <th>Grade</th>\n",
              "    </tr>\n",
              "  </thead>\n",
              "  <tbody>\n",
              "    <tr>\n",
              "      <th>std1</th>\n",
              "      <td>AAA</td>\n",
              "      <td>10</td>\n",
              "      <td>88</td>\n",
              "      <td>78</td>\n",
              "      <td>78</td>\n",
              "      <td>244</td>\n",
              "      <td>81.333333</td>\n",
              "      <td>A+</td>\n",
              "    </tr>\n",
              "    <tr>\n",
              "      <th>std2</th>\n",
              "      <td>BBB</td>\n",
              "      <td>9</td>\n",
              "      <td>77</td>\n",
              "      <td>87</td>\n",
              "      <td>79</td>\n",
              "      <td>243</td>\n",
              "      <td>81.000000</td>\n",
              "      <td>A+</td>\n",
              "    </tr>\n",
              "    <tr>\n",
              "      <th>std4</th>\n",
              "      <td>DDD</td>\n",
              "      <td>12</td>\n",
              "      <td>78</td>\n",
              "      <td>72</td>\n",
              "      <td>85</td>\n",
              "      <td>235</td>\n",
              "      <td>78.333333</td>\n",
              "      <td>A</td>\n",
              "    </tr>\n",
              "  </tbody>\n",
              "</table>\n",
              "</div>"
            ],
            "text/plain": [
              "     Name  cls  English  Science  Maths  Total    Average Grade\n",
              "std1  AAA   10       88       78     78    244  81.333333    A+\n",
              "std2  BBB    9       77       87     79    243  81.000000    A+\n",
              "std4  DDD   12       78       72     85    235  78.333333     A"
            ]
          },
          "metadata": {
            "tags": []
          },
          "execution_count": 55
        }
      ]
    },
    {
      "cell_type": "code",
      "metadata": {
        "colab": {
          "base_uri": "https://localhost:8080/",
          "height": 195
        },
        "id": "UHPTdWR8iZa7",
        "outputId": "3b210d17-42bc-4bc3-98cb-0bf6b0c02be8"
      },
      "source": [
        "std"
      ],
      "execution_count": null,
      "outputs": [
        {
          "output_type": "execute_result",
          "data": {
            "text/html": [
              "<div>\n",
              "<style scoped>\n",
              "    .dataframe tbody tr th:only-of-type {\n",
              "        vertical-align: middle;\n",
              "    }\n",
              "\n",
              "    .dataframe tbody tr th {\n",
              "        vertical-align: top;\n",
              "    }\n",
              "\n",
              "    .dataframe thead th {\n",
              "        text-align: right;\n",
              "    }\n",
              "</style>\n",
              "<table border=\"1\" class=\"dataframe\">\n",
              "  <thead>\n",
              "    <tr style=\"text-align: right;\">\n",
              "      <th></th>\n",
              "      <th>Name</th>\n",
              "      <th>cls</th>\n",
              "      <th>English</th>\n",
              "      <th>Science</th>\n",
              "      <th>Maths</th>\n",
              "      <th>Total</th>\n",
              "      <th>Average</th>\n",
              "      <th>Grade</th>\n",
              "    </tr>\n",
              "  </thead>\n",
              "  <tbody>\n",
              "    <tr>\n",
              "      <th>std1</th>\n",
              "      <td>AAA</td>\n",
              "      <td>10</td>\n",
              "      <td>88</td>\n",
              "      <td>78</td>\n",
              "      <td>78</td>\n",
              "      <td>244</td>\n",
              "      <td>81.333333</td>\n",
              "      <td>A+</td>\n",
              "    </tr>\n",
              "    <tr>\n",
              "      <th>std2</th>\n",
              "      <td>BBB</td>\n",
              "      <td>9</td>\n",
              "      <td>77</td>\n",
              "      <td>87</td>\n",
              "      <td>79</td>\n",
              "      <td>243</td>\n",
              "      <td>81.000000</td>\n",
              "      <td>A+</td>\n",
              "    </tr>\n",
              "    <tr>\n",
              "      <th>std3</th>\n",
              "      <td>CCC</td>\n",
              "      <td>11</td>\n",
              "      <td>66</td>\n",
              "      <td>76</td>\n",
              "      <td>83</td>\n",
              "      <td>225</td>\n",
              "      <td>75.000000</td>\n",
              "      <td>A</td>\n",
              "    </tr>\n",
              "    <tr>\n",
              "      <th>std4</th>\n",
              "      <td>DDD</td>\n",
              "      <td>12</td>\n",
              "      <td>78</td>\n",
              "      <td>72</td>\n",
              "      <td>85</td>\n",
              "      <td>235</td>\n",
              "      <td>78.333333</td>\n",
              "      <td>A</td>\n",
              "    </tr>\n",
              "    <tr>\n",
              "      <th>std5</th>\n",
              "      <td>EEE</td>\n",
              "      <td>10</td>\n",
              "      <td>72</td>\n",
              "      <td>74</td>\n",
              "      <td>92</td>\n",
              "      <td>238</td>\n",
              "      <td>79.333333</td>\n",
              "      <td>A</td>\n",
              "    </tr>\n",
              "  </tbody>\n",
              "</table>\n",
              "</div>"
            ],
            "text/plain": [
              "     Name  cls  English  Science  Maths  Total    Average Grade\n",
              "std1  AAA   10       88       78     78    244  81.333333    A+\n",
              "std2  BBB    9       77       87     79    243  81.000000    A+\n",
              "std3  CCC   11       66       76     83    225  75.000000     A\n",
              "std4  DDD   12       78       72     85    235  78.333333     A\n",
              "std5  EEE   10       72       74     92    238  79.333333     A"
            ]
          },
          "metadata": {
            "tags": []
          },
          "execution_count": 56
        }
      ]
    },
    {
      "cell_type": "code",
      "metadata": {
        "colab": {
          "base_uri": "https://localhost:8080/",
          "height": 195
        },
        "id": "HsJWN4J3ilLi",
        "outputId": "ef91af88-275c-45c4-cb17-7a6dbcef53ae"
      },
      "source": [
        "std[[\"Name\",\"Total\",\"Average\",\"Grade\"]]"
      ],
      "execution_count": null,
      "outputs": [
        {
          "output_type": "execute_result",
          "data": {
            "text/html": [
              "<div>\n",
              "<style scoped>\n",
              "    .dataframe tbody tr th:only-of-type {\n",
              "        vertical-align: middle;\n",
              "    }\n",
              "\n",
              "    .dataframe tbody tr th {\n",
              "        vertical-align: top;\n",
              "    }\n",
              "\n",
              "    .dataframe thead th {\n",
              "        text-align: right;\n",
              "    }\n",
              "</style>\n",
              "<table border=\"1\" class=\"dataframe\">\n",
              "  <thead>\n",
              "    <tr style=\"text-align: right;\">\n",
              "      <th></th>\n",
              "      <th>Name</th>\n",
              "      <th>Total</th>\n",
              "      <th>Average</th>\n",
              "      <th>Grade</th>\n",
              "    </tr>\n",
              "  </thead>\n",
              "  <tbody>\n",
              "    <tr>\n",
              "      <th>std1</th>\n",
              "      <td>AAA</td>\n",
              "      <td>244</td>\n",
              "      <td>81.333333</td>\n",
              "      <td>A+</td>\n",
              "    </tr>\n",
              "    <tr>\n",
              "      <th>std2</th>\n",
              "      <td>BBB</td>\n",
              "      <td>243</td>\n",
              "      <td>81.000000</td>\n",
              "      <td>A+</td>\n",
              "    </tr>\n",
              "    <tr>\n",
              "      <th>std3</th>\n",
              "      <td>CCC</td>\n",
              "      <td>225</td>\n",
              "      <td>75.000000</td>\n",
              "      <td>A</td>\n",
              "    </tr>\n",
              "    <tr>\n",
              "      <th>std4</th>\n",
              "      <td>DDD</td>\n",
              "      <td>235</td>\n",
              "      <td>78.333333</td>\n",
              "      <td>A</td>\n",
              "    </tr>\n",
              "    <tr>\n",
              "      <th>std5</th>\n",
              "      <td>EEE</td>\n",
              "      <td>238</td>\n",
              "      <td>79.333333</td>\n",
              "      <td>A</td>\n",
              "    </tr>\n",
              "  </tbody>\n",
              "</table>\n",
              "</div>"
            ],
            "text/plain": [
              "     Name  Total    Average Grade\n",
              "std1  AAA    244  81.333333    A+\n",
              "std2  BBB    243  81.000000    A+\n",
              "std3  CCC    225  75.000000     A\n",
              "std4  DDD    235  78.333333     A\n",
              "std5  EEE    238  79.333333     A"
            ]
          },
          "metadata": {
            "tags": []
          },
          "execution_count": 60
        }
      ]
    },
    {
      "cell_type": "code",
      "metadata": {
        "colab": {
          "base_uri": "https://localhost:8080/",
          "height": 195
        },
        "id": "n9NyPjhKiqob",
        "outputId": "bed69fea-a2cc-4e41-b752-63f062ae5630"
      },
      "source": [
        "std"
      ],
      "execution_count": null,
      "outputs": [
        {
          "output_type": "execute_result",
          "data": {
            "text/html": [
              "<div>\n",
              "<style scoped>\n",
              "    .dataframe tbody tr th:only-of-type {\n",
              "        vertical-align: middle;\n",
              "    }\n",
              "\n",
              "    .dataframe tbody tr th {\n",
              "        vertical-align: top;\n",
              "    }\n",
              "\n",
              "    .dataframe thead th {\n",
              "        text-align: right;\n",
              "    }\n",
              "</style>\n",
              "<table border=\"1\" class=\"dataframe\">\n",
              "  <thead>\n",
              "    <tr style=\"text-align: right;\">\n",
              "      <th></th>\n",
              "      <th>Name</th>\n",
              "      <th>cls</th>\n",
              "      <th>English</th>\n",
              "      <th>Science</th>\n",
              "      <th>Maths</th>\n",
              "      <th>Total</th>\n",
              "      <th>Average</th>\n",
              "      <th>Grade</th>\n",
              "    </tr>\n",
              "  </thead>\n",
              "  <tbody>\n",
              "    <tr>\n",
              "      <th>std1</th>\n",
              "      <td>AAA</td>\n",
              "      <td>10</td>\n",
              "      <td>88</td>\n",
              "      <td>78</td>\n",
              "      <td>78</td>\n",
              "      <td>244</td>\n",
              "      <td>81.333333</td>\n",
              "      <td>A+</td>\n",
              "    </tr>\n",
              "    <tr>\n",
              "      <th>std2</th>\n",
              "      <td>BBB</td>\n",
              "      <td>9</td>\n",
              "      <td>77</td>\n",
              "      <td>87</td>\n",
              "      <td>79</td>\n",
              "      <td>243</td>\n",
              "      <td>81.000000</td>\n",
              "      <td>A+</td>\n",
              "    </tr>\n",
              "    <tr>\n",
              "      <th>std3</th>\n",
              "      <td>CCC</td>\n",
              "      <td>11</td>\n",
              "      <td>66</td>\n",
              "      <td>76</td>\n",
              "      <td>83</td>\n",
              "      <td>225</td>\n",
              "      <td>75.000000</td>\n",
              "      <td>A</td>\n",
              "    </tr>\n",
              "    <tr>\n",
              "      <th>std4</th>\n",
              "      <td>DDD</td>\n",
              "      <td>12</td>\n",
              "      <td>78</td>\n",
              "      <td>72</td>\n",
              "      <td>85</td>\n",
              "      <td>235</td>\n",
              "      <td>78.333333</td>\n",
              "      <td>A</td>\n",
              "    </tr>\n",
              "    <tr>\n",
              "      <th>std5</th>\n",
              "      <td>EEE</td>\n",
              "      <td>10</td>\n",
              "      <td>72</td>\n",
              "      <td>74</td>\n",
              "      <td>92</td>\n",
              "      <td>238</td>\n",
              "      <td>79.333333</td>\n",
              "      <td>A</td>\n",
              "    </tr>\n",
              "  </tbody>\n",
              "</table>\n",
              "</div>"
            ],
            "text/plain": [
              "     Name  cls  English  Science  Maths  Total    Average Grade\n",
              "std1  AAA   10       88       78     78    244  81.333333    A+\n",
              "std2  BBB    9       77       87     79    243  81.000000    A+\n",
              "std3  CCC   11       66       76     83    225  75.000000     A\n",
              "std4  DDD   12       78       72     85    235  78.333333     A\n",
              "std5  EEE   10       72       74     92    238  79.333333     A"
            ]
          },
          "metadata": {
            "tags": []
          },
          "execution_count": 61
        }
      ]
    },
    {
      "cell_type": "code",
      "metadata": {
        "colab": {
          "base_uri": "https://localhost:8080/",
          "height": 195
        },
        "id": "9CcxKwsLi-s_",
        "outputId": "6f07217b-1b84-48ea-989e-394e9ad44eba"
      },
      "source": [
        "std.loc[   :    ,   :   ]"
      ],
      "execution_count": null,
      "outputs": [
        {
          "output_type": "execute_result",
          "data": {
            "text/html": [
              "<div>\n",
              "<style scoped>\n",
              "    .dataframe tbody tr th:only-of-type {\n",
              "        vertical-align: middle;\n",
              "    }\n",
              "\n",
              "    .dataframe tbody tr th {\n",
              "        vertical-align: top;\n",
              "    }\n",
              "\n",
              "    .dataframe thead th {\n",
              "        text-align: right;\n",
              "    }\n",
              "</style>\n",
              "<table border=\"1\" class=\"dataframe\">\n",
              "  <thead>\n",
              "    <tr style=\"text-align: right;\">\n",
              "      <th></th>\n",
              "      <th>Name</th>\n",
              "      <th>cls</th>\n",
              "      <th>English</th>\n",
              "      <th>Science</th>\n",
              "      <th>Maths</th>\n",
              "      <th>Total</th>\n",
              "      <th>Average</th>\n",
              "      <th>Grade</th>\n",
              "    </tr>\n",
              "  </thead>\n",
              "  <tbody>\n",
              "    <tr>\n",
              "      <th>std1</th>\n",
              "      <td>AAA</td>\n",
              "      <td>10</td>\n",
              "      <td>88</td>\n",
              "      <td>78</td>\n",
              "      <td>78</td>\n",
              "      <td>244</td>\n",
              "      <td>81.333333</td>\n",
              "      <td>A+</td>\n",
              "    </tr>\n",
              "    <tr>\n",
              "      <th>std2</th>\n",
              "      <td>BBB</td>\n",
              "      <td>9</td>\n",
              "      <td>77</td>\n",
              "      <td>87</td>\n",
              "      <td>79</td>\n",
              "      <td>243</td>\n",
              "      <td>81.000000</td>\n",
              "      <td>A+</td>\n",
              "    </tr>\n",
              "    <tr>\n",
              "      <th>std3</th>\n",
              "      <td>CCC</td>\n",
              "      <td>11</td>\n",
              "      <td>66</td>\n",
              "      <td>76</td>\n",
              "      <td>83</td>\n",
              "      <td>225</td>\n",
              "      <td>75.000000</td>\n",
              "      <td>A</td>\n",
              "    </tr>\n",
              "    <tr>\n",
              "      <th>std4</th>\n",
              "      <td>DDD</td>\n",
              "      <td>12</td>\n",
              "      <td>78</td>\n",
              "      <td>72</td>\n",
              "      <td>85</td>\n",
              "      <td>235</td>\n",
              "      <td>78.333333</td>\n",
              "      <td>A</td>\n",
              "    </tr>\n",
              "    <tr>\n",
              "      <th>std5</th>\n",
              "      <td>EEE</td>\n",
              "      <td>10</td>\n",
              "      <td>72</td>\n",
              "      <td>74</td>\n",
              "      <td>92</td>\n",
              "      <td>238</td>\n",
              "      <td>79.333333</td>\n",
              "      <td>A</td>\n",
              "    </tr>\n",
              "  </tbody>\n",
              "</table>\n",
              "</div>"
            ],
            "text/plain": [
              "     Name  cls  English  Science  Maths  Total    Average Grade\n",
              "std1  AAA   10       88       78     78    244  81.333333    A+\n",
              "std2  BBB    9       77       87     79    243  81.000000    A+\n",
              "std3  CCC   11       66       76     83    225  75.000000     A\n",
              "std4  DDD   12       78       72     85    235  78.333333     A\n",
              "std5  EEE   10       72       74     92    238  79.333333     A"
            ]
          },
          "metadata": {
            "tags": []
          },
          "execution_count": 66
        }
      ]
    },
    {
      "cell_type": "code",
      "metadata": {
        "colab": {
          "base_uri": "https://localhost:8080/",
          "height": 195
        },
        "id": "NxMzQGuBjD3B",
        "outputId": "b85dd466-c28d-47ab-8698-909e2132ca8a"
      },
      "source": [
        "std.loc[   :   , \"English\" : \"Total\" ]"
      ],
      "execution_count": null,
      "outputs": [
        {
          "output_type": "execute_result",
          "data": {
            "text/html": [
              "<div>\n",
              "<style scoped>\n",
              "    .dataframe tbody tr th:only-of-type {\n",
              "        vertical-align: middle;\n",
              "    }\n",
              "\n",
              "    .dataframe tbody tr th {\n",
              "        vertical-align: top;\n",
              "    }\n",
              "\n",
              "    .dataframe thead th {\n",
              "        text-align: right;\n",
              "    }\n",
              "</style>\n",
              "<table border=\"1\" class=\"dataframe\">\n",
              "  <thead>\n",
              "    <tr style=\"text-align: right;\">\n",
              "      <th></th>\n",
              "      <th>English</th>\n",
              "      <th>Science</th>\n",
              "      <th>Maths</th>\n",
              "      <th>Total</th>\n",
              "    </tr>\n",
              "  </thead>\n",
              "  <tbody>\n",
              "    <tr>\n",
              "      <th>std1</th>\n",
              "      <td>88</td>\n",
              "      <td>78</td>\n",
              "      <td>78</td>\n",
              "      <td>244</td>\n",
              "    </tr>\n",
              "    <tr>\n",
              "      <th>std2</th>\n",
              "      <td>77</td>\n",
              "      <td>87</td>\n",
              "      <td>79</td>\n",
              "      <td>243</td>\n",
              "    </tr>\n",
              "    <tr>\n",
              "      <th>std3</th>\n",
              "      <td>66</td>\n",
              "      <td>76</td>\n",
              "      <td>83</td>\n",
              "      <td>225</td>\n",
              "    </tr>\n",
              "    <tr>\n",
              "      <th>std4</th>\n",
              "      <td>78</td>\n",
              "      <td>72</td>\n",
              "      <td>85</td>\n",
              "      <td>235</td>\n",
              "    </tr>\n",
              "    <tr>\n",
              "      <th>std5</th>\n",
              "      <td>72</td>\n",
              "      <td>74</td>\n",
              "      <td>92</td>\n",
              "      <td>238</td>\n",
              "    </tr>\n",
              "  </tbody>\n",
              "</table>\n",
              "</div>"
            ],
            "text/plain": [
              "      English  Science  Maths  Total\n",
              "std1       88       78     78    244\n",
              "std2       77       87     79    243\n",
              "std3       66       76     83    225\n",
              "std4       78       72     85    235\n",
              "std5       72       74     92    238"
            ]
          },
          "metadata": {
            "tags": []
          },
          "execution_count": 67
        }
      ]
    },
    {
      "cell_type": "code",
      "metadata": {
        "id": "ysQWS3lrkSys"
      },
      "source": [
        "std_grade = std.loc[ : , [\"Name\",\"cls\",\"Total\",\"Average\",\"Grade\"]]"
      ],
      "execution_count": null,
      "outputs": []
    },
    {
      "cell_type": "code",
      "metadata": {
        "colab": {
          "base_uri": "https://localhost:8080/",
          "height": 195
        },
        "id": "M1R8kpdUlCo1",
        "outputId": "5766d81f-f9dc-4a15-bc27-be0ed8b94de8"
      },
      "source": [
        "std_grade"
      ],
      "execution_count": null,
      "outputs": [
        {
          "output_type": "execute_result",
          "data": {
            "text/html": [
              "<div>\n",
              "<style scoped>\n",
              "    .dataframe tbody tr th:only-of-type {\n",
              "        vertical-align: middle;\n",
              "    }\n",
              "\n",
              "    .dataframe tbody tr th {\n",
              "        vertical-align: top;\n",
              "    }\n",
              "\n",
              "    .dataframe thead th {\n",
              "        text-align: right;\n",
              "    }\n",
              "</style>\n",
              "<table border=\"1\" class=\"dataframe\">\n",
              "  <thead>\n",
              "    <tr style=\"text-align: right;\">\n",
              "      <th></th>\n",
              "      <th>Name</th>\n",
              "      <th>cls</th>\n",
              "      <th>Total</th>\n",
              "      <th>Average</th>\n",
              "      <th>Grade</th>\n",
              "    </tr>\n",
              "  </thead>\n",
              "  <tbody>\n",
              "    <tr>\n",
              "      <th>std1</th>\n",
              "      <td>AAA</td>\n",
              "      <td>10</td>\n",
              "      <td>244</td>\n",
              "      <td>81.333333</td>\n",
              "      <td>A+</td>\n",
              "    </tr>\n",
              "    <tr>\n",
              "      <th>std2</th>\n",
              "      <td>BBB</td>\n",
              "      <td>9</td>\n",
              "      <td>243</td>\n",
              "      <td>81.000000</td>\n",
              "      <td>A+</td>\n",
              "    </tr>\n",
              "    <tr>\n",
              "      <th>std3</th>\n",
              "      <td>CCC</td>\n",
              "      <td>11</td>\n",
              "      <td>225</td>\n",
              "      <td>75.000000</td>\n",
              "      <td>A</td>\n",
              "    </tr>\n",
              "    <tr>\n",
              "      <th>std4</th>\n",
              "      <td>DDD</td>\n",
              "      <td>12</td>\n",
              "      <td>235</td>\n",
              "      <td>78.333333</td>\n",
              "      <td>A</td>\n",
              "    </tr>\n",
              "    <tr>\n",
              "      <th>std5</th>\n",
              "      <td>EEE</td>\n",
              "      <td>10</td>\n",
              "      <td>238</td>\n",
              "      <td>79.333333</td>\n",
              "      <td>A</td>\n",
              "    </tr>\n",
              "  </tbody>\n",
              "</table>\n",
              "</div>"
            ],
            "text/plain": [
              "     Name  cls  Total    Average Grade\n",
              "std1  AAA   10    244  81.333333    A+\n",
              "std2  BBB    9    243  81.000000    A+\n",
              "std3  CCC   11    225  75.000000     A\n",
              "std4  DDD   12    235  78.333333     A\n",
              "std5  EEE   10    238  79.333333     A"
            ]
          },
          "metadata": {
            "tags": []
          },
          "execution_count": 70
        }
      ]
    },
    {
      "cell_type": "code",
      "metadata": {
        "colab": {
          "base_uri": "https://localhost:8080/",
          "height": 195
        },
        "id": "HzFAp00NlNS6",
        "outputId": "3b10b979-28f2-4fac-cd48-e7ba0e82b650"
      },
      "source": [
        "std"
      ],
      "execution_count": null,
      "outputs": [
        {
          "output_type": "execute_result",
          "data": {
            "text/html": [
              "<div>\n",
              "<style scoped>\n",
              "    .dataframe tbody tr th:only-of-type {\n",
              "        vertical-align: middle;\n",
              "    }\n",
              "\n",
              "    .dataframe tbody tr th {\n",
              "        vertical-align: top;\n",
              "    }\n",
              "\n",
              "    .dataframe thead th {\n",
              "        text-align: right;\n",
              "    }\n",
              "</style>\n",
              "<table border=\"1\" class=\"dataframe\">\n",
              "  <thead>\n",
              "    <tr style=\"text-align: right;\">\n",
              "      <th></th>\n",
              "      <th>Name</th>\n",
              "      <th>cls</th>\n",
              "      <th>English</th>\n",
              "      <th>Science</th>\n",
              "      <th>Maths</th>\n",
              "      <th>Total</th>\n",
              "      <th>Average</th>\n",
              "      <th>Grade</th>\n",
              "    </tr>\n",
              "  </thead>\n",
              "  <tbody>\n",
              "    <tr>\n",
              "      <th>std1</th>\n",
              "      <td>AAA</td>\n",
              "      <td>10</td>\n",
              "      <td>88</td>\n",
              "      <td>78</td>\n",
              "      <td>78</td>\n",
              "      <td>244</td>\n",
              "      <td>81.333333</td>\n",
              "      <td>A+</td>\n",
              "    </tr>\n",
              "    <tr>\n",
              "      <th>std2</th>\n",
              "      <td>BBB</td>\n",
              "      <td>9</td>\n",
              "      <td>77</td>\n",
              "      <td>87</td>\n",
              "      <td>79</td>\n",
              "      <td>243</td>\n",
              "      <td>81.000000</td>\n",
              "      <td>A+</td>\n",
              "    </tr>\n",
              "    <tr>\n",
              "      <th>std3</th>\n",
              "      <td>CCC</td>\n",
              "      <td>11</td>\n",
              "      <td>66</td>\n",
              "      <td>76</td>\n",
              "      <td>83</td>\n",
              "      <td>225</td>\n",
              "      <td>75.000000</td>\n",
              "      <td>A</td>\n",
              "    </tr>\n",
              "    <tr>\n",
              "      <th>std4</th>\n",
              "      <td>DDD</td>\n",
              "      <td>12</td>\n",
              "      <td>78</td>\n",
              "      <td>72</td>\n",
              "      <td>85</td>\n",
              "      <td>235</td>\n",
              "      <td>78.333333</td>\n",
              "      <td>A</td>\n",
              "    </tr>\n",
              "    <tr>\n",
              "      <th>std5</th>\n",
              "      <td>EEE</td>\n",
              "      <td>10</td>\n",
              "      <td>72</td>\n",
              "      <td>74</td>\n",
              "      <td>92</td>\n",
              "      <td>238</td>\n",
              "      <td>79.333333</td>\n",
              "      <td>A</td>\n",
              "    </tr>\n",
              "  </tbody>\n",
              "</table>\n",
              "</div>"
            ],
            "text/plain": [
              "     Name  cls  English  Science  Maths  Total    Average Grade\n",
              "std1  AAA   10       88       78     78    244  81.333333    A+\n",
              "std2  BBB    9       77       87     79    243  81.000000    A+\n",
              "std3  CCC   11       66       76     83    225  75.000000     A\n",
              "std4  DDD   12       78       72     85    235  78.333333     A\n",
              "std5  EEE   10       72       74     92    238  79.333333     A"
            ]
          },
          "metadata": {
            "tags": []
          },
          "execution_count": 71
        }
      ]
    },
    {
      "cell_type": "code",
      "metadata": {
        "id": "I4m-6UPTlQK9"
      },
      "source": [
        "del std[\"cls\"]"
      ],
      "execution_count": null,
      "outputs": []
    },
    {
      "cell_type": "code",
      "metadata": {
        "colab": {
          "base_uri": "https://localhost:8080/",
          "height": 195
        },
        "id": "_IaEAUhMlsdT",
        "outputId": "d3b7a736-7e5a-4852-affb-c50c79351a96"
      },
      "source": [
        "std"
      ],
      "execution_count": null,
      "outputs": [
        {
          "output_type": "execute_result",
          "data": {
            "text/html": [
              "<div>\n",
              "<style scoped>\n",
              "    .dataframe tbody tr th:only-of-type {\n",
              "        vertical-align: middle;\n",
              "    }\n",
              "\n",
              "    .dataframe tbody tr th {\n",
              "        vertical-align: top;\n",
              "    }\n",
              "\n",
              "    .dataframe thead th {\n",
              "        text-align: right;\n",
              "    }\n",
              "</style>\n",
              "<table border=\"1\" class=\"dataframe\">\n",
              "  <thead>\n",
              "    <tr style=\"text-align: right;\">\n",
              "      <th></th>\n",
              "      <th>Name</th>\n",
              "      <th>English</th>\n",
              "      <th>Science</th>\n",
              "      <th>Maths</th>\n",
              "      <th>Total</th>\n",
              "      <th>Average</th>\n",
              "      <th>Grade</th>\n",
              "    </tr>\n",
              "  </thead>\n",
              "  <tbody>\n",
              "    <tr>\n",
              "      <th>std1</th>\n",
              "      <td>AAA</td>\n",
              "      <td>88</td>\n",
              "      <td>78</td>\n",
              "      <td>78</td>\n",
              "      <td>244</td>\n",
              "      <td>81.333333</td>\n",
              "      <td>A+</td>\n",
              "    </tr>\n",
              "    <tr>\n",
              "      <th>std2</th>\n",
              "      <td>BBB</td>\n",
              "      <td>77</td>\n",
              "      <td>87</td>\n",
              "      <td>79</td>\n",
              "      <td>243</td>\n",
              "      <td>81.000000</td>\n",
              "      <td>A+</td>\n",
              "    </tr>\n",
              "    <tr>\n",
              "      <th>std3</th>\n",
              "      <td>CCC</td>\n",
              "      <td>66</td>\n",
              "      <td>76</td>\n",
              "      <td>83</td>\n",
              "      <td>225</td>\n",
              "      <td>75.000000</td>\n",
              "      <td>A</td>\n",
              "    </tr>\n",
              "    <tr>\n",
              "      <th>std4</th>\n",
              "      <td>DDD</td>\n",
              "      <td>78</td>\n",
              "      <td>72</td>\n",
              "      <td>85</td>\n",
              "      <td>235</td>\n",
              "      <td>78.333333</td>\n",
              "      <td>A</td>\n",
              "    </tr>\n",
              "    <tr>\n",
              "      <th>std5</th>\n",
              "      <td>EEE</td>\n",
              "      <td>72</td>\n",
              "      <td>74</td>\n",
              "      <td>92</td>\n",
              "      <td>238</td>\n",
              "      <td>79.333333</td>\n",
              "      <td>A</td>\n",
              "    </tr>\n",
              "  </tbody>\n",
              "</table>\n",
              "</div>"
            ],
            "text/plain": [
              "     Name  English  Science  Maths  Total    Average Grade\n",
              "std1  AAA       88       78     78    244  81.333333    A+\n",
              "std2  BBB       77       87     79    243  81.000000    A+\n",
              "std3  CCC       66       76     83    225  75.000000     A\n",
              "std4  DDD       78       72     85    235  78.333333     A\n",
              "std5  EEE       72       74     92    238  79.333333     A"
            ]
          },
          "metadata": {
            "tags": []
          },
          "execution_count": 73
        }
      ]
    },
    {
      "cell_type": "code",
      "metadata": {
        "colab": {
          "base_uri": "https://localhost:8080/"
        },
        "id": "CRSbFXt8ltbV",
        "outputId": "a846e4ea-97f0-439e-98c1-9647a87545e2"
      },
      "source": [
        "std.pop(\"English\")"
      ],
      "execution_count": null,
      "outputs": [
        {
          "output_type": "execute_result",
          "data": {
            "text/plain": [
              "std1    88\n",
              "std2    77\n",
              "std3    66\n",
              "std4    78\n",
              "std5    72\n",
              "Name: English, dtype: int64"
            ]
          },
          "metadata": {
            "tags": []
          },
          "execution_count": 74
        }
      ]
    },
    {
      "cell_type": "code",
      "metadata": {
        "id": "eO7cvhqrly0-",
        "outputId": "4cbd9fff-a5fe-41a1-bc88-8feafdeaa8cb",
        "colab": {
          "base_uri": "https://localhost:8080/",
          "height": 195
        }
      },
      "source": [
        "std"
      ],
      "execution_count": null,
      "outputs": [
        {
          "output_type": "execute_result",
          "data": {
            "text/html": [
              "<div>\n",
              "<style scoped>\n",
              "    .dataframe tbody tr th:only-of-type {\n",
              "        vertical-align: middle;\n",
              "    }\n",
              "\n",
              "    .dataframe tbody tr th {\n",
              "        vertical-align: top;\n",
              "    }\n",
              "\n",
              "    .dataframe thead th {\n",
              "        text-align: right;\n",
              "    }\n",
              "</style>\n",
              "<table border=\"1\" class=\"dataframe\">\n",
              "  <thead>\n",
              "    <tr style=\"text-align: right;\">\n",
              "      <th></th>\n",
              "      <th>Name</th>\n",
              "      <th>Science</th>\n",
              "      <th>Maths</th>\n",
              "      <th>Total</th>\n",
              "      <th>Average</th>\n",
              "      <th>Grade</th>\n",
              "    </tr>\n",
              "  </thead>\n",
              "  <tbody>\n",
              "    <tr>\n",
              "      <th>std1</th>\n",
              "      <td>AAA</td>\n",
              "      <td>78</td>\n",
              "      <td>78</td>\n",
              "      <td>244</td>\n",
              "      <td>81.333333</td>\n",
              "      <td>A+</td>\n",
              "    </tr>\n",
              "    <tr>\n",
              "      <th>std2</th>\n",
              "      <td>BBB</td>\n",
              "      <td>87</td>\n",
              "      <td>79</td>\n",
              "      <td>243</td>\n",
              "      <td>81.000000</td>\n",
              "      <td>A+</td>\n",
              "    </tr>\n",
              "    <tr>\n",
              "      <th>std3</th>\n",
              "      <td>CCC</td>\n",
              "      <td>76</td>\n",
              "      <td>83</td>\n",
              "      <td>225</td>\n",
              "      <td>75.000000</td>\n",
              "      <td>A</td>\n",
              "    </tr>\n",
              "    <tr>\n",
              "      <th>std4</th>\n",
              "      <td>DDD</td>\n",
              "      <td>72</td>\n",
              "      <td>85</td>\n",
              "      <td>235</td>\n",
              "      <td>78.333333</td>\n",
              "      <td>A</td>\n",
              "    </tr>\n",
              "    <tr>\n",
              "      <th>std5</th>\n",
              "      <td>EEE</td>\n",
              "      <td>74</td>\n",
              "      <td>92</td>\n",
              "      <td>238</td>\n",
              "      <td>79.333333</td>\n",
              "      <td>A</td>\n",
              "    </tr>\n",
              "  </tbody>\n",
              "</table>\n",
              "</div>"
            ],
            "text/plain": [
              "     Name  Science  Maths  Total    Average Grade\n",
              "std1  AAA       78     78    244  81.333333    A+\n",
              "std2  BBB       87     79    243  81.000000    A+\n",
              "std3  CCC       76     83    225  75.000000     A\n",
              "std4  DDD       72     85    235  78.333333     A\n",
              "std5  EEE       74     92    238  79.333333     A"
            ]
          },
          "metadata": {
            "tags": []
          },
          "execution_count": 75
        }
      ]
    },
    {
      "cell_type": "code",
      "metadata": {
        "id": "klH4Qwhbl0OA"
      },
      "source": [
        ""
      ],
      "execution_count": null,
      "outputs": []
    }
  ]
}