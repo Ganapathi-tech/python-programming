{
  "nbformat": 4,
  "nbformat_minor": 0,
  "metadata": {
    "colab": {
      "name": "Operators _ SP.ipynb",
      "provenance": [],
      "collapsed_sections": [],
      "include_colab_link": true
    },
    "kernelspec": {
      "name": "python3",
      "display_name": "Python 3"
    }
  },
  "cells": [
    {
      "cell_type": "markdown",
      "metadata": {
        "id": "view-in-github",
        "colab_type": "text"
      },
      "source": [
        "<a href=\"https://colab.research.google.com/github/Ganapathi-tech/python-programming/blob/main/Operators___SP.ipynb\" target=\"_parent\"><img src=\"https://colab.research.google.com/assets/colab-badge.svg\" alt=\"Open In Colab\"/></a>"
      ]
    },
    {
      "cell_type": "code",
      "metadata": {
        "colab": {
          "base_uri": "https://localhost:8080/"
        },
        "id": "gvr_XwRGfdbZ",
        "outputId": "7ddd22f3-e752-49db-ac1d-806f6cab325e"
      },
      "source": [
        "(10> 15) or (100 < 11) or (100 < 11) or  (110 < 11) or  (100 < 11)"
      ],
      "execution_count": null,
      "outputs": [
        {
          "output_type": "execute_result",
          "data": {
            "text/plain": [
              "False"
            ]
          },
          "metadata": {
            "tags": []
          },
          "execution_count": 10
        }
      ]
    },
    {
      "cell_type": "code",
      "metadata": {
        "colab": {
          "base_uri": "https://localhost:8080/"
        },
        "id": "dUbR6Z_igHmT",
        "outputId": "faa48258-91bc-4ed8-ed50-0e49e8ebb251"
      },
      "source": [
        "(10>15) or (10>11)"
      ],
      "execution_count": null,
      "outputs": [
        {
          "output_type": "execute_result",
          "data": {
            "text/plain": [
              "False"
            ]
          },
          "metadata": {
            "tags": []
          },
          "execution_count": 8
        }
      ]
    },
    {
      "cell_type": "code",
      "metadata": {
        "colab": {
          "base_uri": "https://localhost:8080/"
        },
        "id": "MMfXOiMggRZe",
        "outputId": "cf26bc57-d66b-4d3c-ce36-f616f8a2b811"
      },
      "source": [
        "not(10 > 15)"
      ],
      "execution_count": null,
      "outputs": [
        {
          "output_type": "execute_result",
          "data": {
            "text/plain": [
              "True"
            ]
          },
          "metadata": {
            "tags": []
          },
          "execution_count": 12
        }
      ]
    },
    {
      "cell_type": "code",
      "metadata": {
        "id": "hModuj04hJC_"
      },
      "source": [
        "a = 1029"
      ],
      "execution_count": null,
      "outputs": []
    },
    {
      "cell_type": "code",
      "metadata": {
        "colab": {
          "base_uri": "https://localhost:8080/"
        },
        "id": "nZ4GTypMiY1h",
        "outputId": "38d2748b-390e-42a7-f332-7c2cb6962a86"
      },
      "source": [
        "print(a)"
      ],
      "execution_count": null,
      "outputs": [
        {
          "output_type": "stream",
          "text": [
            "1029\n"
          ],
          "name": "stdout"
        }
      ]
    },
    {
      "cell_type": "code",
      "metadata": {
        "colab": {
          "base_uri": "https://localhost:8080/"
        },
        "id": "mpI4V6YAifdj",
        "outputId": "734dadf8-9445-4e29-cbea-740af749ea62"
      },
      "source": [
        "x = a\n",
        "print(x)"
      ],
      "execution_count": null,
      "outputs": [
        {
          "output_type": "stream",
          "text": [
            "1029\n"
          ],
          "name": "stdout"
        }
      ]
    },
    {
      "cell_type": "code",
      "metadata": {
        "id": "Nw2anrCZitkX"
      },
      "source": [
        "y = 100 + 10 + 20"
      ],
      "execution_count": null,
      "outputs": []
    },
    {
      "cell_type": "code",
      "metadata": {
        "colab": {
          "base_uri": "https://localhost:8080/"
        },
        "id": "TYpWnLnHjB43",
        "outputId": "71924927-e1c3-49f0-889b-fb19e3b822a4"
      },
      "source": [
        "print(y)"
      ],
      "execution_count": null,
      "outputs": [
        {
          "output_type": "stream",
          "text": [
            "130\n"
          ],
          "name": "stdout"
        }
      ]
    },
    {
      "cell_type": "code",
      "metadata": {
        "colab": {
          "base_uri": "https://localhost:8080/"
        },
        "id": "zQFruy-XjETs",
        "outputId": "d91be004-5a69-4f83-cec0-35eac704a5d9"
      },
      "source": [
        "a = 100\n",
        "print(a)"
      ],
      "execution_count": null,
      "outputs": [
        {
          "output_type": "stream",
          "text": [
            "100\n"
          ],
          "name": "stdout"
        }
      ]
    },
    {
      "cell_type": "code",
      "metadata": {
        "colab": {
          "base_uri": "https://localhost:8080/"
        },
        "id": "e_DjRflSpUgn",
        "outputId": "1d002bbe-2cae-47cb-ffb9-f0a129c4a2ca"
      },
      "source": [
        "#a = a + 1\n",
        "a += 1\n",
        "print(a)"
      ],
      "execution_count": null,
      "outputs": [
        {
          "output_type": "stream",
          "text": [
            "101\n"
          ],
          "name": "stdout"
        }
      ]
    },
    {
      "cell_type": "code",
      "metadata": {
        "colab": {
          "base_uri": "https://localhost:8080/"
        },
        "id": "w_xQskkxpXXV",
        "outputId": "3c284d58-fd12-46ab-9a0b-efa21b3f5d68"
      },
      "source": [
        "#a = a + 2\n",
        "a += 2\n",
        "print(a)"
      ],
      "execution_count": null,
      "outputs": [
        {
          "output_type": "stream",
          "text": [
            "103\n"
          ],
          "name": "stdout"
        }
      ]
    },
    {
      "cell_type": "code",
      "metadata": {
        "colab": {
          "base_uri": "https://localhost:8080/"
        },
        "id": "glBi9Ubhpacs",
        "outputId": "f0734248-461f-4b87-dbeb-90ab1b4babfd"
      },
      "source": [
        "b = 20\n",
        "print(b)"
      ],
      "execution_count": null,
      "outputs": [
        {
          "output_type": "stream",
          "text": [
            "20\n"
          ],
          "name": "stdout"
        }
      ]
    },
    {
      "cell_type": "code",
      "metadata": {
        "colab": {
          "base_uri": "https://localhost:8080/"
        },
        "id": "24u1ER6Vp3Rr",
        "outputId": "e5e8fa2c-c46e-4989-e376-5a4c63d4a0dd"
      },
      "source": [
        "#b = b * 2\n",
        "b *= 2\n",
        "print(b)"
      ],
      "execution_count": null,
      "outputs": [
        {
          "output_type": "stream",
          "text": [
            "40\n"
          ],
          "name": "stdout"
        }
      ]
    },
    {
      "cell_type": "code",
      "metadata": {
        "colab": {
          "base_uri": "https://localhost:8080/"
        },
        "id": "EnsHdFC2qE7B",
        "outputId": "a4bdcc3d-35be-4e9b-b641-e698e69075a0"
      },
      "source": [
        "#b = b / 4\n",
        "b /= 4\n",
        "print(b)"
      ],
      "execution_count": null,
      "outputs": [
        {
          "output_type": "stream",
          "text": [
            "10.0\n"
          ],
          "name": "stdout"
        }
      ]
    },
    {
      "cell_type": "code",
      "metadata": {
        "colab": {
          "base_uri": "https://localhost:8080/"
        },
        "id": "D7Ph6SFKqHo9",
        "outputId": "6dbe3ad9-56c9-433b-d40e-15f44f4c2c92"
      },
      "source": [
        "#b = b ** 3\n",
        "b **=3\n",
        "print(b)"
      ],
      "execution_count": null,
      "outputs": [
        {
          "output_type": "stream",
          "text": [
            "1000.0\n"
          ],
          "name": "stdout"
        }
      ]
    },
    {
      "cell_type": "markdown",
      "metadata": {
        "id": "hpr2h4ySq0lr"
      },
      "source": [
        "# Special Operators \n",
        "#  1) Identity Operators \n",
        "##  2) Membership Operators"
      ]
    },
    {
      "cell_type": "code",
      "metadata": {
        "colab": {
          "base_uri": "https://localhost:8080/"
        },
        "id": "jaoT14ChqUCF",
        "outputId": "ffb8b613-51cb-4eaf-d03a-b745fd6a3690"
      },
      "source": [
        "ms1 = \"Hello All.. Very Good Morning \"\n",
        "sub1 = \"A\"\n",
        "sub1 in ms1"
      ],
      "execution_count": null,
      "outputs": [
        {
          "output_type": "execute_result",
          "data": {
            "text/plain": [
              "True"
            ]
          },
          "metadata": {
            "tags": []
          },
          "execution_count": 41
        }
      ]
    },
    {
      "cell_type": "code",
      "metadata": {
        "colab": {
          "base_uri": "https://localhost:8080/"
        },
        "id": "8I3096NmrJNi",
        "outputId": "2bfb3c79-c301-4a50-d500-ac05f8fcafe2"
      },
      "source": [
        "ms1 = \"Hello All.. Very Good Morning \"\n",
        "sub1 = \"All\"\n",
        "sub1 in ms1"
      ],
      "execution_count": null,
      "outputs": [
        {
          "output_type": "execute_result",
          "data": {
            "text/plain": [
              "True"
            ]
          },
          "metadata": {
            "tags": []
          },
          "execution_count": 42
        }
      ]
    },
    {
      "cell_type": "code",
      "metadata": {
        "colab": {
          "base_uri": "https://localhost:8080/"
        },
        "id": "EccELigyrulA",
        "outputId": "344939b7-5e0c-4675-8aae-cf7ee732d770"
      },
      "source": [
        "ms1 = \"Hello All.. Very Good Morning \"\n",
        "sub1 = \"a\"\n",
        "sub1 in ms1"
      ],
      "execution_count": null,
      "outputs": [
        {
          "output_type": "execute_result",
          "data": {
            "text/plain": [
              "False"
            ]
          },
          "metadata": {
            "tags": []
          },
          "execution_count": 43
        }
      ]
    },
    {
      "cell_type": "code",
      "metadata": {
        "colab": {
          "base_uri": "https://localhost:8080/"
        },
        "id": "RG2tg8PkrMWz",
        "outputId": "cdc33323-0de2-48bf-d057-bfeca718922a"
      },
      "source": [
        "\"INDIA\"  in \"Welcome to INDIA\""
      ],
      "execution_count": null,
      "outputs": [
        {
          "output_type": "execute_result",
          "data": {
            "text/plain": [
              "True"
            ]
          },
          "metadata": {
            "tags": []
          },
          "execution_count": 44
        }
      ]
    },
    {
      "cell_type": "code",
      "metadata": {
        "colab": {
          "base_uri": "https://localhost:8080/"
        },
        "id": "2af3RG8trzyd",
        "outputId": "45cc0eef-0f7c-4d00-c053-d4c430a3ddb8"
      },
      "source": [
        "\"INDIA \"  in \"Welcome to INDIA\"  # False due to space is added after INDIA"
      ],
      "execution_count": null,
      "outputs": [
        {
          "output_type": "execute_result",
          "data": {
            "text/plain": [
              "False"
            ]
          },
          "metadata": {
            "tags": []
          },
          "execution_count": 45
        }
      ]
    },
    {
      "cell_type": "code",
      "metadata": {
        "colab": {
          "base_uri": "https://localhost:8080/"
        },
        "id": "j89opUWDr57d",
        "outputId": "76268519-8a2c-4446-c737-69d72baf696d"
      },
      "source": [
        "\"INDIA\" in [\"USA\", \"UK\",\"INDIA\", \"JAPAN\"]"
      ],
      "execution_count": null,
      "outputs": [
        {
          "output_type": "execute_result",
          "data": {
            "text/plain": [
              "True"
            ]
          },
          "metadata": {
            "tags": []
          },
          "execution_count": 46
        }
      ]
    },
    {
      "cell_type": "code",
      "metadata": {
        "colab": {
          "base_uri": "https://localhost:8080/"
        },
        "id": "LO_M0HREsF0T",
        "outputId": "ecad0bd6-eaa5-498f-8e0e-d2572fb0d1d8"
      },
      "source": [
        "\"India\" in [\"USA\", \"UK\",\"INDIA\", \"JAPAN\"]  # Because of case sensitive"
      ],
      "execution_count": null,
      "outputs": [
        {
          "output_type": "execute_result",
          "data": {
            "text/plain": [
              "False"
            ]
          },
          "metadata": {
            "tags": []
          },
          "execution_count": 47
        }
      ]
    },
    {
      "cell_type": "code",
      "metadata": {
        "colab": {
          "base_uri": "https://localhost:8080/"
        },
        "id": "jS-TbqhSsQdx",
        "outputId": "ae2b2601-5d06-4e7a-baa8-39aaa50ca8ec"
      },
      "source": [
        "for i in [\"USA\", \"UK\",\"INDIA\", \"JAPAN\"]:   # usage of in operator\n",
        "  print(i)"
      ],
      "execution_count": null,
      "outputs": [
        {
          "output_type": "stream",
          "text": [
            "USA\n",
            "UK\n",
            "INDIA\n",
            "JAPAN\n"
          ],
          "name": "stdout"
        }
      ]
    },
    {
      "cell_type": "code",
      "metadata": {
        "colab": {
          "base_uri": "https://localhost:8080/"
        },
        "id": "OI_my56HsX8I",
        "outputId": "fcdccadc-0e95-4d63-c6a2-acd01e7911a6"
      },
      "source": [
        "country = input(\"Enter you Country of origin : \")\n",
        "if country in [\"USA\", \"UK\",\"INDIA\", \"JAPAN\"]:\n",
        "  print(\"Welcome to our college as you are from\",country)\n",
        "else:\n",
        "  print(\"You are not eligible to study in our college\")"
      ],
      "execution_count": null,
      "outputs": [
        {
          "output_type": "stream",
          "text": [
            "Enter you Country of origin : France\n",
            "You are not eligible to study in our college\n"
          ],
          "name": "stdout"
        }
      ]
    },
    {
      "cell_type": "code",
      "metadata": {
        "id": "F2WKfk81tOa0"
      },
      "source": [
        "c = [\"USA\", \"UK\",\"INDIA\", \"JAPAN\"]\n",
        "a = \"FRANCE\""
      ],
      "execution_count": null,
      "outputs": []
    },
    {
      "cell_type": "code",
      "metadata": {
        "colab": {
          "base_uri": "https://localhost:8080/"
        },
        "id": "QNGfkSCWtSaY",
        "outputId": "cb2f9372-2f77-4fb7-daf2-fcb3be391941"
      },
      "source": [
        "a not in c"
      ],
      "execution_count": null,
      "outputs": [
        {
          "output_type": "execute_result",
          "data": {
            "text/plain": [
              "True"
            ]
          },
          "metadata": {
            "tags": []
          },
          "execution_count": 56
        }
      ]
    },
    {
      "cell_type": "code",
      "metadata": {
        "colab": {
          "base_uri": "https://localhost:8080/",
          "height": 166
        },
        "id": "pxB35yOgtXSt",
        "outputId": "aa79b157-1a0b-4cbe-cb87-7abc36e9c243"
      },
      "source": [
        "9 in 76589  # it will not work with non iterables"
      ],
      "execution_count": null,
      "outputs": [
        {
          "output_type": "error",
          "ename": "TypeError",
          "evalue": "ignored",
          "traceback": [
            "\u001b[0;31m---------------------------------------------------------------------------\u001b[0m",
            "\u001b[0;31mTypeError\u001b[0m                                 Traceback (most recent call last)",
            "\u001b[0;32m<ipython-input-60-bd6353335107>\u001b[0m in \u001b[0;36m<module>\u001b[0;34m()\u001b[0m\n\u001b[0;32m----> 1\u001b[0;31m \u001b[0;36m9\u001b[0m \u001b[0;32min\u001b[0m \u001b[0;36m76589\u001b[0m\u001b[0;34m\u001b[0m\u001b[0;34m\u001b[0m\u001b[0m\n\u001b[0m",
            "\u001b[0;31mTypeError\u001b[0m: argument of type 'int' is not iterable"
          ]
        }
      ]
    },
    {
      "cell_type": "code",
      "metadata": {
        "colab": {
          "base_uri": "https://localhost:8080/",
          "height": 166
        },
        "id": "3HAO8hbPtxeh",
        "outputId": "cec5f4da-10ec-430d-ad80-95abd31ad5f7"
      },
      "source": [
        "9 in \"76589\"   # it will search string in a iterable.. not a integer"
      ],
      "execution_count": null,
      "outputs": [
        {
          "output_type": "error",
          "ename": "TypeError",
          "evalue": "ignored",
          "traceback": [
            "\u001b[0;31m---------------------------------------------------------------------------\u001b[0m",
            "\u001b[0;31mTypeError\u001b[0m                                 Traceback (most recent call last)",
            "\u001b[0;32m<ipython-input-62-20e35400a564>\u001b[0m in \u001b[0;36m<module>\u001b[0;34m()\u001b[0m\n\u001b[0;32m----> 1\u001b[0;31m \u001b[0;36m9\u001b[0m \u001b[0;32min\u001b[0m \u001b[0;34m\"76589\"\u001b[0m   \u001b[0;31m# it will search string in a iterable.. not a integer\u001b[0m\u001b[0;34m\u001b[0m\u001b[0;34m\u001b[0m\u001b[0m\n\u001b[0m",
            "\u001b[0;31mTypeError\u001b[0m: 'in <string>' requires string as left operand, not int"
          ]
        }
      ]
    },
    {
      "cell_type": "code",
      "metadata": {
        "colab": {
          "base_uri": "https://localhost:8080/"
        },
        "id": "ohYO1mo-uBua",
        "outputId": "4bd7d6d3-6a9e-4df1-bb4e-600413d3f661"
      },
      "source": [
        "\"9\" in \"76589\""
      ],
      "execution_count": null,
      "outputs": [
        {
          "output_type": "execute_result",
          "data": {
            "text/plain": [
              "True"
            ]
          },
          "metadata": {
            "tags": []
          },
          "execution_count": 63
        }
      ]
    },
    {
      "cell_type": "markdown",
      "metadata": {
        "id": "fihl8mOwuTKa"
      },
      "source": [
        "# IDENTITY"
      ]
    },
    {
      "cell_type": "code",
      "metadata": {
        "colab": {
          "base_uri": "https://localhost:8080/"
        },
        "id": "1c8uUX7buIJA",
        "outputId": "913af1b5-7a9c-4a00-9b52-609f285c2eeb"
      },
      "source": [
        "a = \"Sky\"\n",
        "b = \"Sky\"\n",
        "print(id(a))\n",
        "print(id(b))"
      ],
      "execution_count": null,
      "outputs": [
        {
          "output_type": "stream",
          "text": [
            "140340373048656\n",
            "140340373048656\n"
          ],
          "name": "stdout"
        }
      ]
    },
    {
      "cell_type": "code",
      "metadata": {
        "colab": {
          "base_uri": "https://localhost:8080/"
        },
        "id": "M7ghF4Irua6d",
        "outputId": "897d16ca-8f5a-4484-8948-82f6285c912b"
      },
      "source": [
        "a == b  # This is comparing the value of both variables"
      ],
      "execution_count": null,
      "outputs": [
        {
          "output_type": "execute_result",
          "data": {
            "text/plain": [
              "True"
            ]
          },
          "metadata": {
            "tags": []
          },
          "execution_count": 65
        }
      ]
    },
    {
      "cell_type": "code",
      "metadata": {
        "colab": {
          "base_uri": "https://localhost:8080/"
        },
        "id": "51ee62Zaubxq",
        "outputId": "6d723555-0a53-42a6-e5ea-6b3ab832644d"
      },
      "source": [
        "a is b  # is operator is comparing the memory location. "
      ],
      "execution_count": null,
      "outputs": [
        {
          "output_type": "execute_result",
          "data": {
            "text/plain": [
              "True"
            ]
          },
          "metadata": {
            "tags": []
          },
          "execution_count": 66
        }
      ]
    },
    {
      "cell_type": "code",
      "metadata": {
        "colab": {
          "base_uri": "https://localhost:8080/"
        },
        "id": "YihvFyyYuc8n",
        "outputId": "fd7cd223-5907-4efe-d062-cade34d29c42"
      },
      "source": [
        "x = [10,20,30,40]\n",
        "y = [10,20,30,40]\n",
        "print(id(x))\n",
        "print(id(y))"
      ],
      "execution_count": null,
      "outputs": [
        {
          "output_type": "stream",
          "text": [
            "140340514416904\n",
            "140340541194952\n"
          ],
          "name": "stdout"
        }
      ]
    },
    {
      "cell_type": "code",
      "metadata": {
        "colab": {
          "base_uri": "https://localhost:8080/"
        },
        "id": "30DpO7afvGPr",
        "outputId": "c6f77921-d2f5-4b70-af7e-dbd32eab2be7"
      },
      "source": [
        "x == y # True : because it is comparing the value only"
      ],
      "execution_count": null,
      "outputs": [
        {
          "output_type": "execute_result",
          "data": {
            "text/plain": [
              "True"
            ]
          },
          "metadata": {
            "tags": []
          },
          "execution_count": 70
        }
      ]
    },
    {
      "cell_type": "code",
      "metadata": {
        "colab": {
          "base_uri": "https://localhost:8080/"
        },
        "id": "LaREwou2vL7b",
        "outputId": "774c1047-3a3b-442c-eb38-2cf7e07a2783"
      },
      "source": [
        "x is y  # False : Because their memory location are different. "
      ],
      "execution_count": null,
      "outputs": [
        {
          "output_type": "execute_result",
          "data": {
            "text/plain": [
              "False"
            ]
          },
          "metadata": {
            "tags": []
          },
          "execution_count": 71
        }
      ]
    },
    {
      "cell_type": "code",
      "metadata": {
        "colab": {
          "base_uri": "https://localhost:8080/"
        },
        "id": "8L00zYA8vPja",
        "outputId": "f74ae40f-77b5-41d5-8a34-85d4636f97e2"
      },
      "source": [
        "x"
      ],
      "execution_count": null,
      "outputs": [
        {
          "output_type": "execute_result",
          "data": {
            "text/plain": [
              "[10, 20, 30, 40]"
            ]
          },
          "metadata": {
            "tags": []
          },
          "execution_count": 73
        }
      ]
    },
    {
      "cell_type": "code",
      "metadata": {
        "colab": {
          "base_uri": "https://localhost:8080/"
        },
        "id": "JbB-pZiuvi4g",
        "outputId": "505e854f-448f-470a-b26d-bd18b8d5f1bd"
      },
      "source": [
        "y"
      ],
      "execution_count": null,
      "outputs": [
        {
          "output_type": "execute_result",
          "data": {
            "text/plain": [
              "[10, 20, 30, 40]"
            ]
          },
          "metadata": {
            "tags": []
          },
          "execution_count": 74
        }
      ]
    },
    {
      "cell_type": "code",
      "metadata": {
        "colab": {
          "base_uri": "https://localhost:8080/"
        },
        "id": "oKno4QnVvjZh",
        "outputId": "27ab4449-6399-4d20-93ee-546099a43959"
      },
      "source": [
        "x[0] == y[0]"
      ],
      "execution_count": null,
      "outputs": [
        {
          "output_type": "execute_result",
          "data": {
            "text/plain": [
              "True"
            ]
          },
          "metadata": {
            "tags": []
          },
          "execution_count": 75
        }
      ]
    },
    {
      "cell_type": "code",
      "metadata": {
        "colab": {
          "base_uri": "https://localhost:8080/"
        },
        "id": "qJVVPHO-vryT",
        "outputId": "73fb72d5-c0bc-4a39-99b5-b72e02ca4a0f"
      },
      "source": [
        "print(x[0] is y[0]) # Output is True because x[0] and y [0] is 10 which is again a fundamental datatype\n",
        "print(id(x[0]))\n",
        "print(id(y[0]))"
      ],
      "execution_count": null,
      "outputs": [
        {
          "output_type": "stream",
          "text": [
            "True\n",
            "10914784\n",
            "10914784\n"
          ],
          "name": "stdout"
        }
      ]
    },
    {
      "cell_type": "code",
      "metadata": {
        "id": "YKr4RccPwVXF"
      },
      "source": [
        "a = 10\n",
        "b = 100"
      ],
      "execution_count": null,
      "outputs": []
    },
    {
      "cell_type": "code",
      "metadata": {
        "colab": {
          "base_uri": "https://localhost:8080/"
        },
        "id": "lJx-YVo4ww4E",
        "outputId": "d5951631-3f16-4dd8-b8d8-1642628deeb7"
      },
      "source": [
        "a is b"
      ],
      "execution_count": null,
      "outputs": [
        {
          "output_type": "execute_result",
          "data": {
            "text/plain": [
              "False"
            ]
          },
          "metadata": {
            "tags": []
          },
          "execution_count": 85
        }
      ]
    },
    {
      "cell_type": "code",
      "metadata": {
        "colab": {
          "base_uri": "https://localhost:8080/"
        },
        "id": "d1Zmewixwxvi",
        "outputId": "2491f5f3-9b7b-4c3c-ee24-05ef8d788c3f"
      },
      "source": [
        "a is not b"
      ],
      "execution_count": null,
      "outputs": [
        {
          "output_type": "execute_result",
          "data": {
            "text/plain": [
              "True"
            ]
          },
          "metadata": {
            "tags": []
          },
          "execution_count": 86
        }
      ]
    },
    {
      "cell_type": "code",
      "metadata": {
        "id": "YyeS9x44wzrn"
      },
      "source": [
        ""
      ],
      "execution_count": null,
      "outputs": []
    }
  ]
}