{
  "nbformat": 4,
  "nbformat_minor": 0,
  "metadata": {
    "colab": {
      "name": "flatting list.ipynb",
      "provenance": [],
      "collapsed_sections": [],
      "include_colab_link": true
    },
    "kernelspec": {
      "name": "python3",
      "display_name": "Python 3"
    }
  },
  "cells": [
    {
      "cell_type": "markdown",
      "metadata": {
        "id": "view-in-github",
        "colab_type": "text"
      },
      "source": [
        "<a href=\"https://colab.research.google.com/github/Ganapathi-tech/python-programming/blob/main/flatting_list.ipynb\" target=\"_parent\"><img src=\"https://colab.research.google.com/assets/colab-badge.svg\" alt=\"Open In Colab\"/></a>"
      ]
    },
    {
      "cell_type": "code",
      "metadata": {
        "colab": {
          "base_uri": "https://localhost:8080/"
        },
        "id": "qf1Klq0Pox6c",
        "outputId": "417db8e9-d883-448d-9dc7-82601c172e87"
      },
      "source": [
        "list1 = []\n",
        "for i in range(3) :\n",
        "  n = input(\"Enter a Number : \")\n",
        "  list1.append(n)\n",
        "print(list1)"
      ],
      "execution_count": null,
      "outputs": [
        {
          "output_type": "stream",
          "text": [
            "Enter a Number : 10\n",
            "Enter a Number : 20\n",
            "Enter a Number : 30\n",
            "['10', '20', '30']\n"
          ],
          "name": "stdout"
        }
      ]
    },
    {
      "cell_type": "code",
      "metadata": {
        "colab": {
          "base_uri": "https://localhost:8080/"
        },
        "id": "3QVSPR0so79z",
        "outputId": "facbc422-d5a5-49ec-85e3-605caaf037b6"
      },
      "source": [
        "final = []\n",
        "for i in range(4):\n",
        "  list1= []\n",
        "  for j in range(3) :\n",
        "    n = input(\"Enter a Number : \")\n",
        "    list1.append(n)\n",
        "  print(list1)\n",
        "  final.append(list1)\n",
        " \n"
      ],
      "execution_count": null,
      "outputs": [
        {
          "output_type": "stream",
          "text": [
            "Enter a Number : 10\n",
            "Enter a Number : 20\n",
            "Enter a Number : 30\n",
            "['10', '20', '30']\n",
            "Enter a Number : 11\n",
            "Enter a Number : 22\n",
            "Enter a Number : 33\n",
            "['11', '22', '33']\n",
            "Enter a Number : 100\n",
            "Enter a Number : 200\n",
            "Enter a Number : 300\n",
            "['100', '200', '300']\n",
            "Enter a Number : 1000\n",
            "Enter a Number : 2000\n",
            "Enter a Number : 3000\n",
            "['1000', '2000', '3000']\n"
          ],
          "name": "stdout"
        }
      ]
    },
    {
      "cell_type": "code",
      "metadata": {
        "colab": {
          "base_uri": "https://localhost:8080/"
        },
        "id": "ZlAS_hIXqYpP",
        "outputId": "5b2f2fdc-ef44-493b-c2f9-ce0a43232f84"
      },
      "source": [
        "print(final)"
      ],
      "execution_count": null,
      "outputs": [
        {
          "output_type": "stream",
          "text": [
            "[['10', '20', '30'], ['11', '22', '33'], ['100', '200', '300'], ['1000', '2000', '3000']]\n"
          ],
          "name": "stdout"
        }
      ]
    },
    {
      "cell_type": "code",
      "metadata": {
        "colab": {
          "base_uri": "https://localhost:8080/"
        },
        "id": "ULNttoByqZyp",
        "outputId": "bce57bae-93b7-4ed8-9b25-7f38845aa155"
      },
      "source": [
        "s = 0\n",
        "for i in final[0]:\n",
        "  s = s + int(i)\n",
        "print(s)"
      ],
      "execution_count": null,
      "outputs": [
        {
          "output_type": "stream",
          "text": [
            "60\n"
          ],
          "name": "stdout"
        }
      ]
    },
    {
      "cell_type": "code",
      "metadata": {
        "colab": {
          "base_uri": "https://localhost:8080/"
        },
        "id": "bs2DshLZqopI",
        "outputId": "f2f2c5d0-1812-4f94-bec4-27ffed66c9d1"
      },
      "source": [
        "for x in range(len(final)):\n",
        "  print(final[x])\n",
        "  s = 0\n",
        "  for i in final[x]:\n",
        "    s = s + int(i)\n",
        "  print(s)"
      ],
      "execution_count": null,
      "outputs": [
        {
          "output_type": "stream",
          "text": [
            "['10', '20', '30']\n",
            "60\n",
            "['11', '22', '33']\n",
            "66\n",
            "['100', '200', '300']\n",
            "600\n",
            "['1000', '2000', '3000']\n",
            "6000\n"
          ],
          "name": "stdout"
        }
      ]
    },
    {
      "cell_type": "code",
      "metadata": {
        "colab": {
          "base_uri": "https://localhost:8080/"
        },
        "id": "OVckHQ9Yq_FB",
        "outputId": "906aeff3-61f8-4f2e-f3d2-b27d6cb1d2f6"
      },
      "source": [
        "l1 = []\n",
        "for i in range(2):\n",
        "  n = input(\"Enter a number : \")\n",
        "  l1.append(n)\n",
        "print(l1)"
      ],
      "execution_count": null,
      "outputs": [
        {
          "output_type": "stream",
          "text": [
            "Enter a number : 111\n",
            "Enter a number : 222\n",
            "['111', '222']\n"
          ],
          "name": "stdout"
        }
      ]
    },
    {
      "cell_type": "code",
      "metadata": {
        "colab": {
          "base_uri": "https://localhost:8080/"
        },
        "id": "AqgZjdnBr9s-",
        "outputId": "4c6e7199-4f51-4523-8015-f9db6121ce74"
      },
      "source": [
        "l1"
      ],
      "execution_count": null,
      "outputs": [
        {
          "output_type": "execute_result",
          "data": {
            "text/plain": [
              "['10', '20']"
            ]
          },
          "metadata": {
            "tags": []
          },
          "execution_count": 14
        }
      ]
    },
    {
      "cell_type": "code",
      "metadata": {
        "colab": {
          "base_uri": "https://localhost:8080/"
        },
        "id": "HvvoiIlzsBKO",
        "outputId": "520c09dc-7e11-43e9-f059-03a9164bf7bd"
      },
      "source": [
        "final_app = []\n",
        "final_ext = []\n",
        "for x in range(5):\n",
        "  l1 = []\n",
        "  for i in range(2):\n",
        "    n = input(\"Enter a number : \")\n",
        "    l1.append(n)\n",
        "  print(l1)\n",
        "  final_app.append(l1)\n",
        "  final_ext.extend(l1)\n",
        "\n",
        "print(\"Appended List : \", final_app)\n",
        "print(\"Extend List : \", final_ext)"
      ],
      "execution_count": null,
      "outputs": [
        {
          "output_type": "stream",
          "text": [
            "Enter a number : 10\n",
            "Enter a number : 20\n",
            "['10', '20']\n",
            "Enter a number : 111\n",
            "Enter a number : 222\n",
            "['111', '222']\n",
            "Enter a number : 100\n",
            "Enter a number : 200\n",
            "['100', '200']\n",
            "Enter a number : 1\n",
            "Enter a number : 2\n",
            "['1', '2']\n",
            "Enter a number : 1000\n",
            "Enter a number : 2000\n",
            "['1000', '2000']\n",
            "Appended List :  [['10', '20'], ['111', '222'], ['100', '200'], ['1', '2'], ['1000', '2000']]\n",
            "Extend List :  ['10', '20', '111', '222', '100', '200', '1', '2', '1000', '2000']\n"
          ],
          "name": "stdout"
        }
      ]
    },
    {
      "cell_type": "code",
      "metadata": {
        "id": "ANhKy5bisQhp"
      },
      "source": [
        "import itertools\n",
        "a = itertools.chain(*final_app)"
      ],
      "execution_count": null,
      "outputs": []
    },
    {
      "cell_type": "code",
      "metadata": {
        "colab": {
          "base_uri": "https://localhost:8080/"
        },
        "id": "o3DgssL3uPrk",
        "outputId": "2cff3af0-78ee-4809-e5b3-42176ed748ec"
      },
      "source": [
        "a"
      ],
      "execution_count": null,
      "outputs": [
        {
          "output_type": "execute_result",
          "data": {
            "text/plain": [
              "<itertools.chain at 0x7f95e0ed3908>"
            ]
          },
          "metadata": {
            "tags": []
          },
          "execution_count": 20
        }
      ]
    },
    {
      "cell_type": "code",
      "metadata": {
        "colab": {
          "base_uri": "https://localhost:8080/"
        },
        "id": "6YKyl9QFuQp0",
        "outputId": "3c11b1b1-ed7f-4445-c4b7-59b41fb1954f"
      },
      "source": [
        "list(a)"
      ],
      "execution_count": null,
      "outputs": [
        {
          "output_type": "execute_result",
          "data": {
            "text/plain": [
              "['10', '20', '111', '222', '100', '200', '1', '2', '1000', '2000']"
            ]
          },
          "metadata": {
            "tags": []
          },
          "execution_count": 21
        }
      ]
    },
    {
      "cell_type": "code",
      "metadata": {
        "id": "Xh-T5hzEuS5a"
      },
      "source": [
        "list1 = ['10', '20', ['111', '222'], '100', '200', ['1', '2'], ['1000', '2000']]"
      ],
      "execution_count": null,
      "outputs": []
    },
    {
      "cell_type": "code",
      "metadata": {
        "colab": {
          "base_uri": "https://localhost:8080/"
        },
        "id": "jUSJhbTXufy6",
        "outputId": "8b4c20a8-3387-4d9a-cee1-643dd24d589e"
      },
      "source": [
        "# output = ['10', '20', '111', '222', '100', '200', '1', '2', '1000', '2000']\n",
        "\n",
        "for i in list1 :\n",
        "  print(i)\n",
        "  print(type(i))"
      ],
      "execution_count": null,
      "outputs": [
        {
          "output_type": "stream",
          "text": [
            "10\n",
            "<class 'str'>\n",
            "20\n",
            "<class 'str'>\n",
            "['111', '222']\n",
            "<class 'list'>\n",
            "100\n",
            "<class 'str'>\n",
            "200\n",
            "<class 'str'>\n",
            "['1', '2']\n",
            "<class 'list'>\n",
            "['1000', '2000']\n",
            "<class 'list'>\n"
          ],
          "name": "stdout"
        }
      ]
    },
    {
      "cell_type": "code",
      "metadata": {
        "colab": {
          "base_uri": "https://localhost:8080/"
        },
        "id": "2xPhuVhlvaze",
        "outputId": "8d45a0b7-d77a-4b42-c1d1-7c742d3597bb"
      },
      "source": [
        "list1"
      ],
      "execution_count": null,
      "outputs": [
        {
          "output_type": "execute_result",
          "data": {
            "text/plain": [
              "['10', '20', ['111', '222'], '100', '200', ['1', '2'], ['1000', '2000']]"
            ]
          },
          "metadata": {
            "tags": []
          },
          "execution_count": 25
        }
      ]
    },
    {
      "cell_type": "code",
      "metadata": {
        "colab": {
          "base_uri": "https://localhost:8080/"
        },
        "id": "ycYGz7yyu1HL",
        "outputId": "6c90f127-18dd-4083-d0fd-d35e1c41f4ef"
      },
      "source": [
        "list2 = []\n",
        "for i in list1:\n",
        "  if type(i) == list:\n",
        "    for j in i :\n",
        "      list2.append(j)\n",
        "  else :\n",
        "    list2.append(i)\n",
        "print(list2)"
      ],
      "execution_count": null,
      "outputs": [
        {
          "output_type": "stream",
          "text": [
            "['10', '20', '111', '222', '100', '200', '1', '2', '1000', '2000']\n"
          ],
          "name": "stdout"
        }
      ]
    },
    {
      "cell_type": "code",
      "metadata": {
        "id": "t1joEhOEvqlE"
      },
      "source": [
        "a = [['10',[9,18,27], '20'], '111', '222', ['100', [\"U\",\"S\",\"A\"],'200'], '1', '2', ['1000', '2000']]\n"
      ],
      "execution_count": null,
      "outputs": []
    },
    {
      "cell_type": "code",
      "metadata": {
        "id": "prxv3VSmzRNJ"
      },
      "source": [
        "l1 = []\n",
        "for i in a :\n",
        "  if type(i) == list :\n",
        "    for j in i:\n",
        "      if type(j) == list :\n",
        "        for k in j:\n",
        "          l1.append(k)\n",
        "      else:\n",
        "        l1.append(j)\n",
        "  else :\n",
        "    l1.append(i)"
      ],
      "execution_count": null,
      "outputs": []
    },
    {
      "cell_type": "code",
      "metadata": {
        "colab": {
          "base_uri": "https://localhost:8080/"
        },
        "id": "TSwYLJjtzTy0",
        "outputId": "1245ad71-286c-4cd4-9457-c476005f5c8c"
      },
      "source": [
        "l1"
      ],
      "execution_count": null,
      "outputs": [
        {
          "output_type": "execute_result",
          "data": {
            "text/plain": [
              "['10',\n",
              " 9,\n",
              " 18,\n",
              " 27,\n",
              " '20',\n",
              " '111',\n",
              " '222',\n",
              " '100',\n",
              " 'U',\n",
              " 'S',\n",
              " 'A',\n",
              " '200',\n",
              " '1',\n",
              " '2',\n",
              " '1000',\n",
              " '2000']"
            ]
          },
          "metadata": {
            "tags": []
          },
          "execution_count": 46
        }
      ]
    },
    {
      "cell_type": "code",
      "metadata": {
        "colab": {
          "base_uri": "https://localhost:8080/"
        },
        "id": "mF-xy2cm0Ws5",
        "outputId": "980b26ae-5769-49ea-93e6-bd9f36462516"
      },
      "source": [
        "l1 = []\n",
        "for i in range(1,11):\n",
        "  l1.append(i)\n",
        "print(l1)"
      ],
      "execution_count": null,
      "outputs": [
        {
          "output_type": "stream",
          "text": [
            "[1, 2, 3, 4, 5, 6, 7, 8, 9, 10]\n"
          ],
          "name": "stdout"
        }
      ]
    },
    {
      "cell_type": "code",
      "metadata": {
        "colab": {
          "base_uri": "https://localhost:8080/"
        },
        "id": "tAI2UnaU3Atw",
        "outputId": "eb7d7e82-46cf-44fc-af0a-bb7d7e65968a"
      },
      "source": [
        "[ i    for i in range(1,11)]"
      ],
      "execution_count": null,
      "outputs": [
        {
          "output_type": "execute_result",
          "data": {
            "text/plain": [
              "[1, 2, 3, 4, 5, 6, 7, 8, 9, 10]"
            ]
          },
          "metadata": {
            "tags": []
          },
          "execution_count": 48
        }
      ]
    },
    {
      "cell_type": "code",
      "metadata": {
        "colab": {
          "base_uri": "https://localhost:8080/"
        },
        "id": "d9ckmr023JX8",
        "outputId": "bbe173f2-4da5-44b2-c933-0f4dd86cd39a"
      },
      "source": [
        "[i*i for i in range(1,10)]"
      ],
      "execution_count": null,
      "outputs": [
        {
          "output_type": "execute_result",
          "data": {
            "text/plain": [
              "[1, 4, 9, 16, 25, 36, 49, 64, 81]"
            ]
          },
          "metadata": {
            "tags": []
          },
          "execution_count": 50
        }
      ]
    },
    {
      "cell_type": "code",
      "metadata": {
        "colab": {
          "base_uri": "https://localhost:8080/"
        },
        "id": "U9g5gkZu6ANU",
        "outputId": "8350edc6-66c5-48b8-f436-2ce979168fe2"
      },
      "source": [
        "num = int(input(\"Enter a Number : \"))\n",
        "[num*i    for i in range(1,11)]"
      ],
      "execution_count": null,
      "outputs": [
        {
          "output_type": "stream",
          "text": [
            "Enter a Number : 5\n"
          ],
          "name": "stdout"
        },
        {
          "output_type": "execute_result",
          "data": {
            "text/plain": [
              "[5, 10, 15, 20, 25, 30, 35, 40, 45, 50]"
            ]
          },
          "metadata": {
            "tags": []
          },
          "execution_count": 52
        }
      ]
    },
    {
      "cell_type": "code",
      "metadata": {
        "colab": {
          "base_uri": "https://localhost:8080/"
        },
        "id": "dptyV1lB6KvV",
        "outputId": "8751c95d-910b-47bf-bedf-8e6f84057ea9"
      },
      "source": [
        "[(num,\"*\",i,\"==\",(i*num))  for i in range(1,11)]"
      ],
      "execution_count": null,
      "outputs": [
        {
          "output_type": "execute_result",
          "data": {
            "text/plain": [
              "[(5, '*', 1, '==', 5),\n",
              " (5, '*', 2, '==', 10),\n",
              " (5, '*', 3, '==', 15),\n",
              " (5, '*', 4, '==', 20),\n",
              " (5, '*', 5, '==', 25),\n",
              " (5, '*', 6, '==', 30),\n",
              " (5, '*', 7, '==', 35),\n",
              " (5, '*', 8, '==', 40),\n",
              " (5, '*', 9, '==', 45),\n",
              " (5, '*', 10, '==', 50)]"
            ]
          },
          "metadata": {
            "tags": []
          },
          "execution_count": 54
        }
      ]
    },
    {
      "cell_type": "code",
      "metadata": {
        "colab": {
          "base_uri": "https://localhost:8080/"
        },
        "id": "PK1F_01V6Z8C",
        "outputId": "cc143057-448c-457f-905b-a5241cab81c7"
      },
      "source": [
        "[(str(num)+\"*\"+str(i)+\"==\"+str(i*num))  for i in range(1,11)]"
      ],
      "execution_count": null,
      "outputs": [
        {
          "output_type": "execute_result",
          "data": {
            "text/plain": [
              "['5*1==5',\n",
              " '5*2==10',\n",
              " '5*3==15',\n",
              " '5*4==20',\n",
              " '5*5==25',\n",
              " '5*6==30',\n",
              " '5*7==35',\n",
              " '5*8==40',\n",
              " '5*9==45',\n",
              " '5*10==50']"
            ]
          },
          "metadata": {
            "tags": []
          },
          "execution_count": 55
        }
      ]
    },
    {
      "cell_type": "code",
      "metadata": {
        "colab": {
          "base_uri": "https://localhost:8080/"
        },
        "id": "ZS5b-CK26x_s",
        "outputId": "cdc6d297-cc7e-43af-b4b0-72c5b35e2df2"
      },
      "source": [
        "[i for i in range(1,20)]"
      ],
      "execution_count": null,
      "outputs": [
        {
          "output_type": "execute_result",
          "data": {
            "text/plain": [
              "[1, 2, 3, 4, 5, 6, 7, 8, 9, 10, 11, 12, 13, 14, 15, 16, 17, 18, 19]"
            ]
          },
          "metadata": {
            "tags": []
          },
          "execution_count": 56
        }
      ]
    },
    {
      "cell_type": "code",
      "metadata": {
        "colab": {
          "base_uri": "https://localhost:8080/"
        },
        "id": "glfxAe4q61uH",
        "outputId": "f7c89944-3030-412b-b774-f864019d2873"
      },
      "source": [
        "[i for i in range(1,20) if i%2==0]"
      ],
      "execution_count": null,
      "outputs": [
        {
          "output_type": "execute_result",
          "data": {
            "text/plain": [
              "[2, 4, 6, 8, 10, 12, 14, 16, 18]"
            ]
          },
          "metadata": {
            "tags": []
          },
          "execution_count": 57
        }
      ]
    },
    {
      "cell_type": "code",
      "metadata": {
        "colab": {
          "base_uri": "https://localhost:8080/"
        },
        "id": "7qlaunwd7CN0",
        "outputId": "176b5683-f70b-4794-8e32-6d350503f717"
      },
      "source": [
        "[i for i in range(1,100) if i%2 == 0]"
      ],
      "execution_count": null,
      "outputs": [
        {
          "output_type": "execute_result",
          "data": {
            "text/plain": [
              "[10, 20, 30, 40, 50, 60, 70, 80, 90]"
            ]
          },
          "metadata": {
            "tags": []
          },
          "execution_count": 59
        }
      ]
    },
    {
      "cell_type": "code",
      "metadata": {
        "colab": {
          "base_uri": "https://localhost:8080/"
        },
        "id": "qYHiq9cY7Ifc",
        "outputId": "dc102069-6dba-4985-97a9-0711f4b1d4b3"
      },
      "source": [
        "[i for i in range(1,100) if i%2 == 0 if i%5 == 0]"
      ],
      "execution_count": null,
      "outputs": [
        {
          "output_type": "execute_result",
          "data": {
            "text/plain": [
              "[10, 20, 30, 40, 50, 60, 70, 80, 90]"
            ]
          },
          "metadata": {
            "tags": []
          },
          "execution_count": 60
        }
      ]
    },
    {
      "cell_type": "code",
      "metadata": {
        "colab": {
          "base_uri": "https://localhost:8080/"
        },
        "id": "i1sLELJd7YOC",
        "outputId": "e2bd098c-dfc1-4589-8276-da28247e1ef8"
      },
      "source": [
        "[i   for i in range(1,21)]"
      ],
      "execution_count": null,
      "outputs": [
        {
          "output_type": "execute_result",
          "data": {
            "text/plain": [
              "[1, 2, 3, 4, 5, 6, 7, 8, 9, 10, 11, 12, 13, 14, 15, 16, 17, 18, 19, 20]"
            ]
          },
          "metadata": {
            "tags": []
          },
          "execution_count": 61
        }
      ]
    },
    {
      "cell_type": "code",
      "metadata": {
        "colab": {
          "base_uri": "https://localhost:8080/"
        },
        "id": "-fkjBMky7vyP",
        "outputId": "0c27214a-4a01-49de-ad3d-76dc016345da"
      },
      "source": [
        "[str(i)+\"- Even\" if i%2 == 0  else str(i)+\"- odd\"       for i in range(1,21)]"
      ],
      "execution_count": null,
      "outputs": [
        {
          "output_type": "execute_result",
          "data": {
            "text/plain": [
              "['1- odd',\n",
              " '2- Even',\n",
              " '3- odd',\n",
              " '4- Even',\n",
              " '5- odd',\n",
              " '6- Even',\n",
              " '7- odd',\n",
              " '8- Even',\n",
              " '9- odd',\n",
              " '10- Even',\n",
              " '11- odd',\n",
              " '12- Even',\n",
              " '13- odd',\n",
              " '14- Even',\n",
              " '15- odd',\n",
              " '16- Even',\n",
              " '17- odd',\n",
              " '18- Even',\n",
              " '19- odd',\n",
              " '20- Even']"
            ]
          },
          "metadata": {
            "tags": []
          },
          "execution_count": 62
        }
      ]
    }
  ]
}