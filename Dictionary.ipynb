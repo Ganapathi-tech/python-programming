{
  "nbformat": 4,
  "nbformat_minor": 0,
  "metadata": {
    "colab": {
      "name": "Dictionary.ipynb",
      "provenance": [],
      "include_colab_link": true
    },
    "kernelspec": {
      "name": "python3",
      "display_name": "Python 3"
    }
  },
  "cells": [
    {
      "cell_type": "markdown",
      "metadata": {
        "id": "view-in-github",
        "colab_type": "text"
      },
      "source": [
        "<a href=\"https://colab.research.google.com/github/Ganapathi-tech/python-programming/blob/main/Dictionary.ipynb\" target=\"_parent\"><img src=\"https://colab.research.google.com/assets/colab-badge.svg\" alt=\"Open In Colab\"/></a>"
      ]
    },
    {
      "cell_type": "code",
      "metadata": {
        "id": "XkbM4mw3g4qz"
      },
      "source": [
        "d1 = {\n",
        "       1 : \"ONE\", \n",
        "      2 : \"TWO\",\n",
        "      3 : \"THREE\"\n",
        "\n",
        "}"
      ],
      "execution_count": null,
      "outputs": []
    },
    {
      "cell_type": "code",
      "metadata": {
        "colab": {
          "base_uri": "https://localhost:8080/"
        },
        "id": "UMOv89dJhBC3",
        "outputId": "75ccf9a6-e992-4aa9-a43a-40340b7d35f6"
      },
      "source": [
        "print(d1)"
      ],
      "execution_count": null,
      "outputs": [
        {
          "output_type": "stream",
          "text": [
            "{1: 'ONE', 2: 'TWO', 3: 'THREE'}\n"
          ],
          "name": "stdout"
        }
      ]
    },
    {
      "cell_type": "code",
      "metadata": {
        "colab": {
          "base_uri": "https://localhost:8080/"
        },
        "id": "VfOsPE1XhG5y",
        "outputId": "d38dda8f-1ff3-40e2-d087-1110e2e44743"
      },
      "source": [
        "print(type(d1))"
      ],
      "execution_count": null,
      "outputs": [
        {
          "output_type": "stream",
          "text": [
            "<class 'dict'>\n"
          ],
          "name": "stdout"
        }
      ]
    },
    {
      "cell_type": "code",
      "metadata": {
        "id": "D3EG_1nTi6Tk"
      },
      "source": [
        "dict()"
      ],
      "execution_count": null,
      "outputs": []
    },
    {
      "cell_type": "code",
      "metadata": {
        "id": "xWwAbNnHjBqC"
      },
      "source": [
        "empty_d1 = {}\n",
        "empty_d2 = dict()"
      ],
      "execution_count": null,
      "outputs": []
    },
    {
      "cell_type": "code",
      "metadata": {
        "colab": {
          "base_uri": "https://localhost:8080/"
        },
        "id": "-ZI41jV5jGo2",
        "outputId": "d7ca32db-1bf5-4452-cc87-21c3cb562f6a"
      },
      "source": [
        "print(empty_d1)\n",
        "print(empty_d2)"
      ],
      "execution_count": null,
      "outputs": [
        {
          "output_type": "stream",
          "text": [
            "{}\n",
            "{}\n"
          ],
          "name": "stdout"
        }
      ]
    },
    {
      "cell_type": "code",
      "metadata": {
        "id": "nq0jhuEejKEj"
      },
      "source": [
        "a = 100\n",
        "b = 200\n",
        "c = \"APPLE\""
      ],
      "execution_count": null,
      "outputs": []
    },
    {
      "cell_type": "code",
      "metadata": {
        "id": "eCjksEqejhEa"
      },
      "source": [
        "d2 = dict(a = 100, b = 200)"
      ],
      "execution_count": null,
      "outputs": []
    },
    {
      "cell_type": "code",
      "metadata": {
        "colab": {
          "base_uri": "https://localhost:8080/"
        },
        "id": "3mnehjNKjqJe",
        "outputId": "004e4460-56f7-43cc-f628-641d3e2b2ed2"
      },
      "source": [
        "print(d2)"
      ],
      "execution_count": null,
      "outputs": [
        {
          "output_type": "stream",
          "text": [
            "{'a': 100, 'b': 200}\n"
          ],
          "name": "stdout"
        }
      ]
    },
    {
      "cell_type": "code",
      "metadata": {
        "id": "FpVfPwjLjrZx"
      },
      "source": [
        "d3=dict([(\"a\",\"APPLE\"),(\"b\",\"BALL\")] )"
      ],
      "execution_count": null,
      "outputs": []
    },
    {
      "cell_type": "code",
      "metadata": {
        "colab": {
          "base_uri": "https://localhost:8080/"
        },
        "id": "B5723FZTkDlh",
        "outputId": "4224c3be-cf1d-4f1c-a8a5-801e86dd67f9"
      },
      "source": [
        "print(d3)"
      ],
      "execution_count": null,
      "outputs": [
        {
          "output_type": "stream",
          "text": [
            "{'a': 'APPLE', 'b': 'BALL'}\n"
          ],
          "name": "stdout"
        }
      ]
    },
    {
      "cell_type": "code",
      "metadata": {
        "id": "SS3S7k2akcVO"
      },
      "source": [
        "d4 = dict([(\"a\",\"APPLE\"),(\"b\",\"BALL\")], c = \"APPLE\")"
      ],
      "execution_count": null,
      "outputs": []
    },
    {
      "cell_type": "code",
      "metadata": {
        "colab": {
          "base_uri": "https://localhost:8080/"
        },
        "id": "FiskwcONkz3O",
        "outputId": "67d542e9-8edf-43be-b8c4-c0a52becb7ce"
      },
      "source": [
        "d4"
      ],
      "execution_count": null,
      "outputs": [
        {
          "output_type": "execute_result",
          "data": {
            "text/plain": [
              "{'a': 'APPLE', 'b': 'BALL', 'c': 'APPLE'}"
            ]
          },
          "metadata": {
            "tags": []
          },
          "execution_count": 21
        }
      ]
    },
    {
      "cell_type": "code",
      "metadata": {
        "colab": {
          "base_uri": "https://localhost:8080/"
        },
        "id": "3gL7vlO8k0kr",
        "outputId": "db4f531f-31f0-4708-f93c-45d6bf82d717"
      },
      "source": [
        "d4"
      ],
      "execution_count": null,
      "outputs": [
        {
          "output_type": "execute_result",
          "data": {
            "text/plain": [
              "{'a': 'APPLE', 'b': 'BALL', 'c': 'APPLE'}"
            ]
          },
          "metadata": {
            "tags": []
          },
          "execution_count": 22
        }
      ]
    },
    {
      "cell_type": "code",
      "metadata": {
        "colab": {
          "base_uri": "https://localhost:8080/",
          "height": 35
        },
        "id": "BiiR-RCWoRI_",
        "outputId": "f76c093c-e877-4acb-a969-69afa2b7adba"
      },
      "source": [
        "d4[\"a\"]"
      ],
      "execution_count": null,
      "outputs": [
        {
          "output_type": "execute_result",
          "data": {
            "application/vnd.google.colaboratory.intrinsic+json": {
              "type": "string"
            },
            "text/plain": [
              "'APPLE'"
            ]
          },
          "metadata": {
            "tags": []
          },
          "execution_count": 23
        }
      ]
    },
    {
      "cell_type": "code",
      "metadata": {
        "colab": {
          "base_uri": "https://localhost:8080/",
          "height": 166
        },
        "id": "URIr-6_hoTDW",
        "outputId": "5867636a-b9dd-4d5b-f909-756f5d4a0300"
      },
      "source": [
        "d4[\"d\"]"
      ],
      "execution_count": null,
      "outputs": [
        {
          "output_type": "error",
          "ename": "KeyError",
          "evalue": "ignored",
          "traceback": [
            "\u001b[0;31m---------------------------------------------------------------------------\u001b[0m",
            "\u001b[0;31mKeyError\u001b[0m                                  Traceback (most recent call last)",
            "\u001b[0;32m<ipython-input-24-300ff2508d5b>\u001b[0m in \u001b[0;36m<module>\u001b[0;34m()\u001b[0m\n\u001b[0;32m----> 1\u001b[0;31m \u001b[0md4\u001b[0m\u001b[0;34m[\u001b[0m\u001b[0;34m\"d\"\u001b[0m\u001b[0;34m]\u001b[0m\u001b[0;34m\u001b[0m\u001b[0;34m\u001b[0m\u001b[0m\n\u001b[0m",
            "\u001b[0;31mKeyError\u001b[0m: 'd'"
          ]
        }
      ]
    },
    {
      "cell_type": "code",
      "metadata": {
        "id": "PzGiEsrqoU5G"
      },
      "source": [
        "d4[\"d\"] = \"DOG\""
      ],
      "execution_count": null,
      "outputs": []
    },
    {
      "cell_type": "code",
      "metadata": {
        "colab": {
          "base_uri": "https://localhost:8080/"
        },
        "id": "BkAERrCaomC7",
        "outputId": "d7d09835-c43c-47cb-f009-bf4abd7d52a9"
      },
      "source": [
        "d4"
      ],
      "execution_count": null,
      "outputs": [
        {
          "output_type": "execute_result",
          "data": {
            "text/plain": [
              "{'a': 'APPLE', 'b': 'BALL', 'c': 'APPLE', 'd': 'DOG'}"
            ]
          },
          "metadata": {
            "tags": []
          },
          "execution_count": 26
        }
      ]
    },
    {
      "cell_type": "code",
      "metadata": {
        "colab": {
          "base_uri": "https://localhost:8080/",
          "height": 35
        },
        "id": "75ImrbcIomvH",
        "outputId": "79c363a4-3a62-4d37-c710-1351a7552993"
      },
      "source": [
        "d4.get(\"a\")"
      ],
      "execution_count": null,
      "outputs": [
        {
          "output_type": "execute_result",
          "data": {
            "application/vnd.google.colaboratory.intrinsic+json": {
              "type": "string"
            },
            "text/plain": [
              "'APPLE'"
            ]
          },
          "metadata": {
            "tags": []
          },
          "execution_count": 27
        }
      ]
    },
    {
      "cell_type": "code",
      "metadata": {
        "colab": {
          "base_uri": "https://localhost:8080/",
          "height": 35
        },
        "id": "DznExqrGoqGh",
        "outputId": "859b5a05-5108-46af-9401-3efde546c6de"
      },
      "source": [
        "d4.get(\"e\", \"No Such Key\")"
      ],
      "execution_count": null,
      "outputs": [
        {
          "output_type": "execute_result",
          "data": {
            "application/vnd.google.colaboratory.intrinsic+json": {
              "type": "string"
            },
            "text/plain": [
              "'No Such Key'"
            ]
          },
          "metadata": {
            "tags": []
          },
          "execution_count": 29
        }
      ]
    },
    {
      "cell_type": "code",
      "metadata": {
        "colab": {
          "base_uri": "https://localhost:8080/"
        },
        "id": "EvF2jTf7orPN",
        "outputId": "6b1816b3-73b1-4b06-ee03-b41c83bdfd3c"
      },
      "source": [
        "d4"
      ],
      "execution_count": null,
      "outputs": [
        {
          "output_type": "execute_result",
          "data": {
            "text/plain": [
              "{'a': 'APPLE',\n",
              " 'b': 'BALL',\n",
              " 'c': 'APPLE',\n",
              " 'd': 'DOG',\n",
              " 'e': 'No Such Key',\n",
              " 'f': None}"
            ]
          },
          "metadata": {
            "tags": []
          },
          "execution_count": 37
        }
      ]
    },
    {
      "cell_type": "code",
      "metadata": {
        "colab": {
          "base_uri": "https://localhost:8080/",
          "height": 35
        },
        "id": "uSmGsB4hov4w",
        "outputId": "90e3ffce-6952-4e23-b1bd-b57160e3e880"
      },
      "source": [
        "d4.setdefault(\"e\",\"No Such Key\")"
      ],
      "execution_count": null,
      "outputs": [
        {
          "output_type": "execute_result",
          "data": {
            "application/vnd.google.colaboratory.intrinsic+json": {
              "type": "string"
            },
            "text/plain": [
              "'No Such Key'"
            ]
          },
          "metadata": {
            "tags": []
          },
          "execution_count": 34
        }
      ]
    },
    {
      "cell_type": "code",
      "metadata": {
        "id": "nRn9AjJWo0lE"
      },
      "source": [
        "d4.setdefault(\"f\")"
      ],
      "execution_count": null,
      "outputs": []
    },
    {
      "cell_type": "code",
      "metadata": {
        "colab": {
          "base_uri": "https://localhost:8080/"
        },
        "id": "vO9I4ZoKpGYA",
        "outputId": "e24a39dd-e042-44d3-de10-79c74572b429"
      },
      "source": [
        "d4"
      ],
      "execution_count": null,
      "outputs": [
        {
          "output_type": "execute_result",
          "data": {
            "text/plain": [
              "{'a': 'APPLE',\n",
              " 'b': 'BALL',\n",
              " 'c': 'APPLE',\n",
              " 'd': 'DOG',\n",
              " 'e': 'No Such Key',\n",
              " 'f': None}"
            ]
          },
          "metadata": {
            "tags": []
          },
          "execution_count": 39
        }
      ]
    },
    {
      "cell_type": "code",
      "metadata": {
        "colab": {
          "base_uri": "https://localhost:8080/"
        },
        "id": "KRSc2qTkpIy7",
        "outputId": "f499efbf-614e-4e11-d895-06850ab7ca9f"
      },
      "source": [
        "d4.keys()"
      ],
      "execution_count": null,
      "outputs": [
        {
          "output_type": "execute_result",
          "data": {
            "text/plain": [
              "dict_keys(['a', 'b', 'c', 'd', 'e', 'f'])"
            ]
          },
          "metadata": {
            "tags": []
          },
          "execution_count": 40
        }
      ]
    },
    {
      "cell_type": "code",
      "metadata": {
        "colab": {
          "base_uri": "https://localhost:8080/"
        },
        "id": "MUnjWqkBpLGI",
        "outputId": "bf817ebb-c3bb-4d30-e625-d0aec328f28d"
      },
      "source": [
        "d4.values()"
      ],
      "execution_count": null,
      "outputs": [
        {
          "output_type": "execute_result",
          "data": {
            "text/plain": [
              "dict_values(['APPLE', 'BALL', 'APPLE', 'DOG', 'No Such Key', None])"
            ]
          },
          "metadata": {
            "tags": []
          },
          "execution_count": 41
        }
      ]
    },
    {
      "cell_type": "code",
      "metadata": {
        "colab": {
          "base_uri": "https://localhost:8080/"
        },
        "id": "bqv8sQ2IpNAd",
        "outputId": "d70ffa2e-8880-44da-8d00-fd6878790a0f"
      },
      "source": [
        "d4.items()"
      ],
      "execution_count": null,
      "outputs": [
        {
          "output_type": "execute_result",
          "data": {
            "text/plain": [
              "dict_items([('a', 'APPLE'), ('b', 'BALL'), ('c', 'APPLE'), ('d', 'DOG'), ('e', 'No Such Key'), ('f', None)])"
            ]
          },
          "metadata": {
            "tags": []
          },
          "execution_count": 44
        }
      ]
    },
    {
      "cell_type": "code",
      "metadata": {
        "colab": {
          "base_uri": "https://localhost:8080/"
        },
        "id": "dxGqsBf5pO7m",
        "outputId": "99327f44-42b0-42c2-c3de-4a3bfdfb8091"
      },
      "source": [
        "for i in d4 :\n",
        "  print(i)"
      ],
      "execution_count": null,
      "outputs": [
        {
          "output_type": "stream",
          "text": [
            "a\n",
            "b\n",
            "c\n",
            "d\n",
            "e\n",
            "f\n"
          ],
          "name": "stdout"
        }
      ]
    },
    {
      "cell_type": "code",
      "metadata": {
        "colab": {
          "base_uri": "https://localhost:8080/"
        },
        "id": "DUaulSBcpYyW",
        "outputId": "109106bb-62b2-4c3e-beb6-628ac2d3d105"
      },
      "source": [
        "for i in d4.keys():\n",
        "  print(i)"
      ],
      "execution_count": null,
      "outputs": [
        {
          "output_type": "stream",
          "text": [
            "a\n",
            "b\n",
            "c\n",
            "d\n",
            "e\n",
            "f\n"
          ],
          "name": "stdout"
        }
      ]
    },
    {
      "cell_type": "code",
      "metadata": {
        "colab": {
          "base_uri": "https://localhost:8080/"
        },
        "id": "98tLeRhipdJq",
        "outputId": "7a412fef-b8ef-470d-b2d0-4c7e6c33a4b6"
      },
      "source": [
        "for i in d4.values():\n",
        "  print(i)"
      ],
      "execution_count": null,
      "outputs": [
        {
          "output_type": "stream",
          "text": [
            "APPLE\n",
            "BALL\n",
            "APPLE\n",
            "DOG\n",
            "No Such Key\n",
            "None\n"
          ],
          "name": "stdout"
        }
      ]
    },
    {
      "cell_type": "code",
      "metadata": {
        "colab": {
          "base_uri": "https://localhost:8080/"
        },
        "id": "FDn9-qzRphyp",
        "outputId": "d59a3920-62ee-4c20-c4b5-76f8241cfaea"
      },
      "source": [
        "for i in d4.items():\n",
        "  print(i)"
      ],
      "execution_count": null,
      "outputs": [
        {
          "output_type": "stream",
          "text": [
            "('a', 'APPLE')\n",
            "('b', 'BALL')\n",
            "('c', 'APPLE')\n",
            "('d', 'DOG')\n",
            "('e', 'No Such Key')\n",
            "('f', None)\n"
          ],
          "name": "stdout"
        }
      ]
    },
    {
      "cell_type": "code",
      "metadata": {
        "colab": {
          "base_uri": "https://localhost:8080/"
        },
        "id": "zlvzAy5hpqI8",
        "outputId": "d14e1b55-efab-4093-e1e2-61bc9482047f"
      },
      "source": [
        "for i, j in d4.items():\n",
        "  print(i,end= \" \")\n",
        "  print(j)"
      ],
      "execution_count": null,
      "outputs": [
        {
          "output_type": "stream",
          "text": [
            "a APPLE\n",
            "b BALL\n",
            "c APPLE\n",
            "d DOG\n",
            "e No Such Key\n",
            "f None\n"
          ],
          "name": "stdout"
        }
      ]
    },
    {
      "cell_type": "code",
      "metadata": {
        "id": "h5NCvXngpzfL"
      },
      "source": [
        ""
      ],
      "execution_count": null,
      "outputs": []
    }
  ]
}