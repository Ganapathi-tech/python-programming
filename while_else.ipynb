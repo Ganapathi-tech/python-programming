{
  "nbformat": 4,
  "nbformat_minor": 0,
  "metadata": {
    "colab": {
      "name": "while..else.ipynb",
      "provenance": [],
      "include_colab_link": true
    },
    "kernelspec": {
      "name": "python3",
      "display_name": "Python 3"
    }
  },
  "cells": [
    {
      "cell_type": "markdown",
      "metadata": {
        "id": "view-in-github",
        "colab_type": "text"
      },
      "source": [
        "<a href=\"https://colab.research.google.com/github/Ganapathi-tech/python-programming/blob/main/while_else.ipynb\" target=\"_parent\"><img src=\"https://colab.research.google.com/assets/colab-badge.svg\" alt=\"Open In Colab\"/></a>"
      ]
    },
    {
      "cell_type": "code",
      "metadata": {
        "colab": {
          "base_uri": "https://localhost:8080/"
        },
        "id": "QoTwHU-5ncN0",
        "outputId": "524043f1-34ce-4ef9-b2fc-a6ce8c659a9d"
      },
      "source": [
        "i = 1\n",
        "while i < 5 :\n",
        "  print(i)\n",
        "  i = i+1\n",
        "  \n",
        "else:\n",
        "  print(\"Value of I \", i)\n",
        "  print(\"This is the end of the While loop....\")"
      ],
      "execution_count": null,
      "outputs": [
        {
          "output_type": "stream",
          "text": [
            "1\n",
            "2\n",
            "3\n",
            "4\n",
            "Value of I  5\n",
            "This is the end of the While loop....\n"
          ],
          "name": "stdout"
        }
      ]
    },
    {
      "cell_type": "code",
      "metadata": {
        "colab": {
          "base_uri": "https://localhost:8080/"
        },
        "id": "MRX7byG-ngs0",
        "outputId": "5d93dba4-8ff5-4233-90c4-5d4578532703"
      },
      "source": [
        "i = 5\n",
        "while i < 5 :\n",
        "  print(i)\n",
        "  i = i + 1\n",
        "else :\n",
        "  print(\"This is from Else Block\")\n",
        "  print(\"This is the end of the While loop....\")\n"
      ],
      "execution_count": null,
      "outputs": [
        {
          "output_type": "stream",
          "text": [
            "This is from Else Block\n",
            "This is the end of the While loop....\n"
          ],
          "name": "stdout"
        }
      ]
    },
    {
      "cell_type": "code",
      "metadata": {
        "colab": {
          "base_uri": "https://localhost:8080/"
        },
        "id": "WfcPvL5_o5JT",
        "outputId": "5e257fc7-1d66-4a4f-cf51-fb14ecb52f86"
      },
      "source": [
        "i = 10 \n",
        "while i > 1 :\n",
        "  if i == 7:\n",
        "    break\n",
        "  print(i)\n",
        "  i = i - 1\n",
        "\n",
        "else :\n",
        "  print(\"This is from Else Block... \")\n",
        "\n",
        "\n",
        "print(\"**************************\")\n",
        "print(\"This is from Main Program.\")"
      ],
      "execution_count": null,
      "outputs": [
        {
          "output_type": "stream",
          "text": [
            "10\n",
            "9\n",
            "8\n",
            "**************************\n",
            "This is from Main Program.\n"
          ],
          "name": "stdout"
        }
      ]
    },
    {
      "cell_type": "code",
      "metadata": {
        "colab": {
          "base_uri": "https://localhost:8080/"
        },
        "id": "LIaI5ZuxwTJd",
        "outputId": "fa2c36c1-6184-4d05-c48f-704aa4400307"
      },
      "source": [
        "# PRIMING PRIME NUMBER USING \" WHILE...ELSE \"\n",
        "\n",
        "num = int(input(\"Enter Prime Number : \"))\n",
        "i = 2 \n",
        "while i<num :\n",
        "  if num%i == 0 :\n",
        "    print(num,\"is not a prime number\")\n",
        "    break\n",
        "  i = i + 1\n",
        "else :\n",
        "  print(num,\"is a prime Number \")"
      ],
      "execution_count": null,
      "outputs": [
        {
          "output_type": "stream",
          "text": [
            "Enter Prime Number : 101\n",
            "101 is a prime Number \n"
          ],
          "name": "stdout"
        }
      ]
    },
    {
      "cell_type": "code",
      "metadata": {
        "colab": {
          "base_uri": "https://localhost:8080/"
        },
        "id": "65IwL2TXwyUo",
        "outputId": "cfc7d5e4-e115-42f4-e145-ba4a707f0a9c"
      },
      "source": [
        "num = int(input(\"Enter a Number Range : \"))\n",
        "x = 3\n",
        "while x <= num:\n",
        "  i=2\n",
        "  while i < x :\n",
        "    if x%i == 0:\n",
        "      # print(x,\"Not a Prime Number \")\n",
        "      break\n",
        "    i = i + 1\n",
        "  else :\n",
        "    print(x, \"is prime number\")\n",
        "  x = x + 1 "
      ],
      "execution_count": null,
      "outputs": [
        {
          "output_type": "stream",
          "text": [
            "Enter a Number Range : 10\n",
            "3 is prime number\n",
            "5 is prime number\n",
            "7 is prime number\n"
          ],
          "name": "stdout"
        }
      ]
    },
    {
      "cell_type": "code",
      "metadata": {
        "id": "Zir9-ljHwTsq"
      },
      "source": [
        ""
      ],
      "execution_count": null,
      "outputs": []
    },
    {
      "cell_type": "code",
      "metadata": {
        "colab": {
          "base_uri": "https://localhost:8080/"
        },
        "id": "CemaEgInpeql",
        "outputId": "bbaa385b-d9bd-445c-c064-f09468432051"
      },
      "source": [
        "sname = input(\"Enter Student Name : \")\n",
        "sid = input(\"Enter Student RollNo : \")\n",
        "m1 = int(input(\"Enter English Marks : \"))\n",
        "m2 = int(input(\"Enter Science Marks : \"))\n",
        "m3 = int(input(\"Enter CS Marks : \"))\n",
        "print(\"____________________\")\n",
        "print(sname)\n",
        "print(sid)\n",
        "print(\"Total : \",m1+m2+m3)\n",
        "if (m1+m2+m3)/3 >= 50:\n",
        "  print(\"Pass\")\n",
        "else :\n",
        "  print(\"Fail\")\n",
        "\n",
        "print(\"*******************************\")\n"
      ],
      "execution_count": null,
      "outputs": [
        {
          "output_type": "stream",
          "text": [
            "Enter Student Name : a\n",
            "Enter Student RollNo : 2\n",
            "Enter English Marks : 55\n",
            "Enter Science Marks : 55\n",
            "Enter CS Marks : 55\n",
            "a\n",
            "2\n",
            "Total :  165\n",
            "Pass\n"
          ],
          "name": "stdout"
        }
      ]
    },
    {
      "cell_type": "code",
      "metadata": {
        "colab": {
          "base_uri": "https://localhost:8080/",
          "height": 1000
        },
        "id": "dCzRF5M4uLkt",
        "outputId": "13283dae-dedf-4bc8-d23d-cc1de5c5d546"
      },
      "source": [
        "i = 1\n",
        "while i<=5:\n",
        "      \n",
        "    sname = input(\"Enter Student Name : \")\n",
        "    sid = input(\"Enter Student RollNo : \")\n",
        "    m1 = int(input(\"Enter English Marks : \"))\n",
        "    m2 = int(input(\"Enter Science Marks : \"))\n",
        "    m3 = int(input(\"Enter CS Marks : \"))\n",
        "    print(\"____________________\")\n",
        "    print(sname)\n",
        "    print(sid)\n",
        "    print(\"Total : \",m1+m2+m3)\n",
        "    if (m1+m2+m3)/3 >= 50:\n",
        "      print(\"Pass\")\n",
        "    else :\n",
        "      print(\"Fail\")\n",
        "\n",
        "    print(\"*******************************\")\n",
        "    i = i + 1"
      ],
      "execution_count": null,
      "outputs": [
        {
          "output_type": "stream",
          "text": [
            "Enter Student Name : a\n",
            "Enter Student RollNo : 1\n",
            "Enter English Marks : 55\n",
            "Enter Science Marks : 55\n",
            "Enter CS Marks : 55\n",
            "____________________\n",
            "a\n",
            "1\n",
            "Total :  165\n",
            "Pass\n",
            "*******************************\n",
            "Enter Student Name : b\n",
            "Enter Student RollNo : 2\n",
            "Enter English Marks : 66\n",
            "Enter Science Marks : 66\n",
            "Enter CS Marks : 66\n",
            "____________________\n",
            "b\n",
            "2\n",
            "Total :  198\n",
            "Pass\n",
            "*******************************\n",
            "Enter Student Name : c\n",
            "Enter Student RollNo : 3\n",
            "Enter English Marks : 40\n",
            "Enter Science Marks : 50\n",
            "Enter CS Marks : 45\n",
            "____________________\n",
            "c\n",
            "3\n",
            "Total :  135\n",
            "Fail\n",
            "*******************************\n",
            "Enter Student Name : d\n",
            "Enter Student RollNo : 4\n",
            "Enter English Marks : 77\n",
            "Enter Science Marks : 30\n",
            "Enter CS Marks : 47\n",
            "____________________\n",
            "d\n",
            "4\n",
            "Total :  154\n",
            "Pass\n",
            "*******************************\n",
            "Enter Student Name : e\n",
            "Enter Student RollNo : 5\n",
            "Enter English Marks : 77\n",
            "Enter Science Marks : 6\n",
            "Enter CS Marks : \n"
          ],
          "name": "stdout"
        },
        {
          "output_type": "error",
          "ename": "ValueError",
          "evalue": "ignored",
          "traceback": [
            "\u001b[0;31m---------------------------------------------------------------------------\u001b[0m",
            "\u001b[0;31mValueError\u001b[0m                                Traceback (most recent call last)",
            "\u001b[0;32m<ipython-input-18-bd9ad1683848>\u001b[0m in \u001b[0;36m<module>\u001b[0;34m()\u001b[0m\n\u001b[1;32m      6\u001b[0m     \u001b[0mm1\u001b[0m \u001b[0;34m=\u001b[0m \u001b[0mint\u001b[0m\u001b[0;34m(\u001b[0m\u001b[0minput\u001b[0m\u001b[0;34m(\u001b[0m\u001b[0;34m\"Enter English Marks : \"\u001b[0m\u001b[0;34m)\u001b[0m\u001b[0;34m)\u001b[0m\u001b[0;34m\u001b[0m\u001b[0;34m\u001b[0m\u001b[0m\n\u001b[1;32m      7\u001b[0m     \u001b[0mm2\u001b[0m \u001b[0;34m=\u001b[0m \u001b[0mint\u001b[0m\u001b[0;34m(\u001b[0m\u001b[0minput\u001b[0m\u001b[0;34m(\u001b[0m\u001b[0;34m\"Enter Science Marks : \"\u001b[0m\u001b[0;34m)\u001b[0m\u001b[0;34m)\u001b[0m\u001b[0;34m\u001b[0m\u001b[0;34m\u001b[0m\u001b[0m\n\u001b[0;32m----> 8\u001b[0;31m     \u001b[0mm3\u001b[0m \u001b[0;34m=\u001b[0m \u001b[0mint\u001b[0m\u001b[0;34m(\u001b[0m\u001b[0minput\u001b[0m\u001b[0;34m(\u001b[0m\u001b[0;34m\"Enter CS Marks : \"\u001b[0m\u001b[0;34m)\u001b[0m\u001b[0;34m)\u001b[0m\u001b[0;34m\u001b[0m\u001b[0;34m\u001b[0m\u001b[0m\n\u001b[0m\u001b[1;32m      9\u001b[0m     \u001b[0mprint\u001b[0m\u001b[0;34m(\u001b[0m\u001b[0;34m\"____________________\"\u001b[0m\u001b[0;34m)\u001b[0m\u001b[0;34m\u001b[0m\u001b[0;34m\u001b[0m\u001b[0m\n\u001b[1;32m     10\u001b[0m     \u001b[0mprint\u001b[0m\u001b[0;34m(\u001b[0m\u001b[0msname\u001b[0m\u001b[0;34m)\u001b[0m\u001b[0;34m\u001b[0m\u001b[0;34m\u001b[0m\u001b[0m\n",
            "\u001b[0;31mValueError\u001b[0m: invalid literal for int() with base 10: ''"
          ]
        }
      ]
    },
    {
      "cell_type": "code",
      "metadata": {
        "colab": {
          "base_uri": "https://localhost:8080/"
        },
        "id": "QfZqfYv6xkyz",
        "outputId": "6986655c-7c6d-4233-9e2d-32ad23552e43"
      },
      "source": [
        "num = int(input(\"Enter No : of Student : \"))\n",
        "i = 1\n",
        "while i<=num:\n",
        "      \n",
        "    sname = input(\"Enter Student Name : \")\n",
        "    sid = input(\"Enter Student RollNo : \")\n",
        "    m1 = int(input(\"Enter English Marks : \"))\n",
        "    m2 = int(input(\"Enter Science Marks : \"))\n",
        "    m3 = int(input(\"Enter CS Marks : \"))\n",
        "    print(\"____________________\")\n",
        "    print(sname)\n",
        "    print(sid)\n",
        "    print(\"Total : \",m1+m2+m3)\n",
        "    if (m1+m2+m3)/3 >= 50:\n",
        "      print(\"Pass\")\n",
        "    else :\n",
        "      print(\"Fail\")\n",
        "\n",
        "    print(\"*******************************\")\n",
        "    i = i + 1\n"
      ],
      "execution_count": null,
      "outputs": [
        {
          "output_type": "stream",
          "text": [
            "Enter No : of Student : 2\n",
            "Enter Student Name : a\n",
            "Enter Student RollNo : 1\n",
            "Enter English Marks : 55\n",
            "Enter Science Marks : 66\n",
            "Enter CS Marks : 55\n",
            "____________________\n",
            "a\n",
            "1\n",
            "Total :  176\n",
            "Pass\n",
            "*******************************\n",
            "Enter Student Name : b\n",
            "Enter Student RollNo : 2\n",
            "Enter English Marks : 40\n",
            "Enter Science Marks : 45\n",
            "Enter CS Marks : 40\n",
            "____________________\n",
            "b\n",
            "2\n",
            "Total :  125\n",
            "Fail\n",
            "*******************************\n"
          ],
          "name": "stdout"
        }
      ]
    },
    {
      "cell_type": "code",
      "metadata": {
        "colab": {
          "base_uri": "https://localhost:8080/"
        },
        "id": "HGCFKvtrzmOA",
        "outputId": "ddf39aaa-f0c0-4d22-85e5-f357f5e4a9f2"
      },
      "source": [
        "\n",
        "while True :\n",
        "  ch = input(\"Do you want to continue (yes / no) : \")\n",
        "  if ch.lower() == \"yes\":\n",
        "    print(\"Hello\")\n",
        "  else :\n",
        "    print(\"Thanks for using our app\")\n",
        "    break\n"
      ],
      "execution_count": null,
      "outputs": [
        {
          "output_type": "stream",
          "text": [
            "Do you want to continue (yes / no) : yes\n",
            "Hello\n",
            "Do you want to continue (yes / no) : yes\n",
            "Hello\n",
            "Do you want to continue (yes / no) : YES\n",
            "Hello\n",
            "Do you want to continue (yes / no) : yES\n",
            "Hello\n",
            "Do you want to continue (yes / no) : No\n",
            "Thanks for using our app\n"
          ],
          "name": "stdout"
        }
      ]
    },
    {
      "cell_type": "code",
      "metadata": {
        "colab": {
          "base_uri": "https://localhost:8080/"
        },
        "id": "f4I4gWUS0YkQ",
        "outputId": "36e83b6e-c264-4ce6-e47d-68534ba2223d"
      },
      "source": [
        "while True:\n",
        "    sname = input(\"Enter Student Name : \")\n",
        "    sid = input(\"Enter Student RollNo : \")\n",
        "    m1 = int(input(\"Enter English Marks : \"))\n",
        "    m2 = int(input(\"Enter Science Marks : \"))\n",
        "    m3 = int(input(\"Enter CS Marks : \"))\n",
        "    print(\"____________________\")\n",
        "    print(sname)\n",
        "    print(sid)\n",
        "    print(\"Total : \",m1+m2+m3)\n",
        "    if (m1+m2+m3)/3 >= 50:\n",
        "      print(\"Pass\")\n",
        "    else :\n",
        "      print(\"Fail\")\n",
        "    print(\"*******************************\")\n",
        "\n",
        "    opt = input(\"Would you like to continue entering another record (Yes / No ) : \")\n",
        "    if opt.lower() != \"yes\":\n",
        "      print(\"Data is stored successfully in database\")\n",
        "      print(\"Thanks for using our application...\")\n",
        "      break\n",
        "\n"
      ],
      "execution_count": null,
      "outputs": [
        {
          "output_type": "stream",
          "text": [
            "Enter Student Name : a\n",
            "Enter Student RollNo : 1\n",
            "Enter English Marks : 55\n",
            "Enter Science Marks : 55\n",
            "Enter CS Marks : 55\n",
            "____________________\n",
            "a\n",
            "1\n",
            "Total :  165\n",
            "Pass\n",
            "*******************************\n",
            "Would you like to continue entering another record (Yes / No ) : yes\n",
            "Enter Student Name : b\n",
            "Enter Student RollNo : 2\n",
            "Enter English Marks : 40\n",
            "Enter Science Marks : 40\n",
            "Enter CS Marks : 45\n",
            "____________________\n",
            "b\n",
            "2\n",
            "Total :  125\n",
            "Fail\n",
            "*******************************\n",
            "Would you like to continue entering another record (Yes / No ) : YES\n",
            "Enter Student Name : c\n",
            "Enter Student RollNo : 3\n",
            "Enter English Marks : 50\n",
            "Enter Science Marks : 40\n",
            "Enter CS Marks : 60\n",
            "____________________\n",
            "c\n",
            "3\n",
            "Total :  150\n",
            "Pass\n",
            "*******************************\n",
            "Would you like to continue entering another record (Yes / No ) : no\n",
            "Data is stored successfully in database\n",
            "Thanks for using our application...\n"
          ],
          "name": "stdout"
        }
      ]
    }
  ]
}