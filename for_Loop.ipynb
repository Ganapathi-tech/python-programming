{
  "nbformat": 4,
  "nbformat_minor": 0,
  "metadata": {
    "colab": {
      "name": "for Loop.ipynb",
      "provenance": [],
      "include_colab_link": true
    },
    "kernelspec": {
      "name": "python3",
      "display_name": "Python 3"
    }
  },
  "cells": [
    {
      "cell_type": "markdown",
      "metadata": {
        "id": "view-in-github",
        "colab_type": "text"
      },
      "source": [
        "<a href=\"https://colab.research.google.com/github/Ganapathi-tech/python-programming/blob/main/for_Loop.ipynb\" target=\"_parent\"><img src=\"https://colab.research.google.com/assets/colab-badge.svg\" alt=\"Open In Colab\"/></a>"
      ]
    },
    {
      "cell_type": "code",
      "metadata": {
        "id": "tWnneJliDMUV"
      },
      "source": [
        "a = \"INDIA\""
      ],
      "execution_count": null,
      "outputs": []
    },
    {
      "cell_type": "code",
      "metadata": {
        "colab": {
          "base_uri": "https://localhost:8080/"
        },
        "id": "6ulFQ6JuDV-N",
        "outputId": "abbe07fb-7600-4e6c-ab21-12ff91cbe5aa"
      },
      "source": [
        "import time\n",
        "for i in a :\n",
        "  print(i)\n",
        "  time.sleep(2)"
      ],
      "execution_count": null,
      "outputs": [
        {
          "output_type": "stream",
          "text": [
            "I\n",
            "N\n",
            "D\n",
            "I\n",
            "A\n"
          ],
          "name": "stdout"
        }
      ]
    },
    {
      "cell_type": "code",
      "metadata": {
        "colab": {
          "base_uri": "https://localhost:8080/",
          "height": 35
        },
        "id": "x-YqKT_JDbNm",
        "outputId": "4f068fb4-8160-492c-b39c-d345bb74eeea"
      },
      "source": [
        "a"
      ],
      "execution_count": null,
      "outputs": [
        {
          "output_type": "execute_result",
          "data": {
            "application/vnd.google.colaboratory.intrinsic+json": {
              "type": "string"
            },
            "text/plain": [
              "'INDIA'"
            ]
          },
          "metadata": {
            "tags": []
          },
          "execution_count": 4
        }
      ]
    },
    {
      "cell_type": "code",
      "metadata": {
        "colab": {
          "base_uri": "https://localhost:8080/"
        },
        "id": "hv8Ms23VDrGA",
        "outputId": "f4d76c53-8947-4451-c2b2-5313abbe31b7"
      },
      "source": [
        "i = iter(a)\n",
        "print(next(i))\n",
        "print(next(i))\n",
        "print(next(i))"
      ],
      "execution_count": null,
      "outputs": [
        {
          "output_type": "stream",
          "text": [
            "I\n",
            "N\n",
            "D\n"
          ],
          "name": "stdout"
        }
      ]
    },
    {
      "cell_type": "code",
      "metadata": {
        "colab": {
          "base_uri": "https://localhost:8080/"
        },
        "id": "PiuTPA6BDtaS",
        "outputId": "d93fb8bc-fb44-48ff-eb8c-c51d949dd4ca"
      },
      "source": [
        "for i in \"Hyderabad\" :\n",
        "  print(i)"
      ],
      "execution_count": null,
      "outputs": [
        {
          "output_type": "stream",
          "text": [
            "H\n",
            "y\n",
            "d\n",
            "e\n",
            "r\n",
            "a\n",
            "b\n",
            "a\n",
            "d\n"
          ],
          "name": "stdout"
        }
      ]
    },
    {
      "cell_type": "code",
      "metadata": {
        "colab": {
          "base_uri": "https://localhost:8080/"
        },
        "id": "3csQYQ9CEEgM",
        "outputId": "a04d2a0d-6455-456d-d4e0-0cdd216a9e7c"
      },
      "source": [
        "for i in [\"Hyd\", \"Chennai\", \"Blr\", \"Viz\"]:\n",
        "  print(i)"
      ],
      "execution_count": null,
      "outputs": [
        {
          "output_type": "stream",
          "text": [
            "Hyd\n",
            "Chennai\n",
            "Blr\n",
            "Viz\n"
          ],
          "name": "stdout"
        }
      ]
    },
    {
      "cell_type": "code",
      "metadata": {
        "colab": {
          "base_uri": "https://localhost:8080/"
        },
        "id": "xYcy3zDGElJK",
        "outputId": "aa18c505-aa60-4266-d41e-226cd51e647b"
      },
      "source": [
        "l1 = [\"Hyderabad\", \"Chennai\", \"Blr\", \"Vizag\"]\n",
        "for i in l1:\n",
        "  print(i)"
      ],
      "execution_count": null,
      "outputs": [
        {
          "output_type": "stream",
          "text": [
            "Hyderabad\n",
            "Chennai\n",
            "Blr\n",
            "Vizag\n"
          ],
          "name": "stdout"
        }
      ]
    },
    {
      "cell_type": "code",
      "metadata": {
        "colab": {
          "base_uri": "https://localhost:8080/"
        },
        "id": "BPokN2p6EzwV",
        "outputId": "df8c1adc-16cf-491a-cdfb-e7ac74d038d5"
      },
      "source": [
        "for i in l1[0]:\n",
        "  print(i)"
      ],
      "execution_count": null,
      "outputs": [
        {
          "output_type": "stream",
          "text": [
            "H\n",
            "y\n",
            "d\n",
            "e\n",
            "r\n",
            "a\n",
            "b\n",
            "a\n",
            "d\n"
          ],
          "name": "stdout"
        }
      ]
    },
    {
      "cell_type": "code",
      "metadata": {
        "colab": {
          "base_uri": "https://localhost:8080/"
        },
        "id": "sw05-v-qE8UN",
        "outputId": "765d33da-e934-4697-ae3f-6afe70148797"
      },
      "source": [
        "l1"
      ],
      "execution_count": null,
      "outputs": [
        {
          "output_type": "execute_result",
          "data": {
            "text/plain": [
              "['Hyderabad', 'Chennai', 'Blr', 'Vizag']"
            ]
          },
          "metadata": {
            "tags": []
          },
          "execution_count": 13
        }
      ]
    },
    {
      "cell_type": "code",
      "metadata": {
        "colab": {
          "base_uri": "https://localhost:8080/"
        },
        "id": "EJNnDjxqFBFZ",
        "outputId": "391abb3c-5367-4af1-a900-47d558c75db8"
      },
      "source": [
        "for i in l1:\n",
        "  print(i)\n",
        "  for j in i:\n",
        "    print(j)"
      ],
      "execution_count": null,
      "outputs": [
        {
          "output_type": "stream",
          "text": [
            "Hyderabad\n",
            "H\n",
            "y\n",
            "d\n",
            "e\n",
            "r\n",
            "a\n",
            "b\n",
            "a\n",
            "d\n",
            "Chennai\n",
            "C\n",
            "h\n",
            "e\n",
            "n\n",
            "n\n",
            "a\n",
            "i\n",
            "Blr\n",
            "B\n",
            "l\n",
            "r\n",
            "Vizag\n",
            "V\n",
            "i\n",
            "z\n",
            "a\n",
            "g\n"
          ],
          "name": "stdout"
        }
      ]
    },
    {
      "cell_type": "code",
      "metadata": {
        "colab": {
          "base_uri": "https://localhost:8080/",
          "height": 128
        },
        "id": "VnVl-oStFGH2",
        "outputId": "f9312a79-a223-4b94-9cdf-1700755b9ec7"
      },
      "source": [
        "i = 0 \n",
        "for i < 10:\n",
        "  print(i)"
      ],
      "execution_count": null,
      "outputs": [
        {
          "output_type": "error",
          "ename": "SyntaxError",
          "evalue": "ignored",
          "traceback": [
            "\u001b[0;36m  File \u001b[0;32m\"<ipython-input-16-cb4522187eea>\"\u001b[0;36m, line \u001b[0;32m2\u001b[0m\n\u001b[0;31m    for i < 10:\u001b[0m\n\u001b[0m          ^\u001b[0m\n\u001b[0;31mSyntaxError\u001b[0m\u001b[0;31m:\u001b[0m invalid syntax\n"
          ]
        }
      ]
    },
    {
      "cell_type": "code",
      "metadata": {
        "colab": {
          "base_uri": "https://localhost:8080/"
        },
        "id": "o3CvCnuCF5oP",
        "outputId": "c556b6a4-2b03-4486-8799-f02b8061c0da"
      },
      "source": [
        "# range()\n",
        "for i in range(10):\n",
        "  print(i)\n",
        "  "
      ],
      "execution_count": null,
      "outputs": [
        {
          "output_type": "stream",
          "text": [
            "0\n",
            "1\n",
            "2\n",
            "3\n",
            "4\n",
            "5\n",
            "6\n",
            "7\n",
            "8\n",
            "9\n"
          ],
          "name": "stdout"
        }
      ]
    },
    {
      "cell_type": "code",
      "metadata": {
        "colab": {
          "base_uri": "https://localhost:8080/"
        },
        "id": "SB0R4SswGaCe",
        "outputId": "1f3d349a-98ac-402f-9636-70f5cfa88872"
      },
      "source": [
        "range(1, 10, 1)"
      ],
      "execution_count": null,
      "outputs": [
        {
          "output_type": "execute_result",
          "data": {
            "text/plain": [
              "range(1, 10)"
            ]
          },
          "metadata": {
            "tags": []
          },
          "execution_count": 18
        }
      ]
    },
    {
      "cell_type": "code",
      "metadata": {
        "colab": {
          "base_uri": "https://localhost:8080/"
        },
        "id": "5ynDaVCiGsgL",
        "outputId": "6e11ca22-6eae-4ade-a9ef-411424fc2548"
      },
      "source": [
        "for i in range(1, 10, 1):\n",
        "  print(i)"
      ],
      "execution_count": null,
      "outputs": [
        {
          "output_type": "stream",
          "text": [
            "1\n",
            "2\n",
            "3\n",
            "4\n",
            "5\n",
            "6\n",
            "7\n",
            "8\n",
            "9\n"
          ],
          "name": "stdout"
        }
      ]
    },
    {
      "cell_type": "code",
      "metadata": {
        "colab": {
          "base_uri": "https://localhost:8080/"
        },
        "id": "JSL8sWWNGz1d",
        "outputId": "fe153814-e5ef-407a-8900-dabc6f6cd463"
      },
      "source": [
        "list(range(1, 10, 1))"
      ],
      "execution_count": null,
      "outputs": [
        {
          "output_type": "execute_result",
          "data": {
            "text/plain": [
              "[1, 2, 3, 4, 5, 6, 7, 8, 9]"
            ]
          },
          "metadata": {
            "tags": []
          },
          "execution_count": 20
        }
      ]
    },
    {
      "cell_type": "markdown",
      "metadata": {
        "id": "LgdAWrvAK7SX"
      },
      "source": [
        ""
      ]
    },
    {
      "cell_type": "code",
      "metadata": {
        "colab": {
          "base_uri": "https://localhost:8080/"
        },
        "id": "WLQmOackK_TD",
        "outputId": "c755c570-e7bb-4c3a-fa7b-b74b5020eb38"
      },
      "source": [
        "list(range(1,10,1))"
      ],
      "execution_count": null,
      "outputs": [
        {
          "output_type": "execute_result",
          "data": {
            "text/plain": [
              "[1, 2, 3, 4, 5, 6, 7, 8, 9]"
            ]
          },
          "metadata": {
            "tags": []
          },
          "execution_count": 21
        }
      ]
    },
    {
      "cell_type": "code",
      "metadata": {
        "colab": {
          "base_uri": "https://localhost:8080/"
        },
        "id": "akTlmagOLB0s",
        "outputId": "ffb15c1d-21ad-4ff0-c475-bb9148e917fa"
      },
      "source": [
        "list(range(1,10))"
      ],
      "execution_count": null,
      "outputs": [
        {
          "output_type": "execute_result",
          "data": {
            "text/plain": [
              "[1, 2, 3, 4, 5, 6, 7, 8, 9]"
            ]
          },
          "metadata": {
            "tags": []
          },
          "execution_count": 22
        }
      ]
    },
    {
      "cell_type": "code",
      "metadata": {
        "colab": {
          "base_uri": "https://localhost:8080/"
        },
        "id": "zWBeji3bLGK9",
        "outputId": "8b09aa34-3970-4114-9de2-dac96f00eb08"
      },
      "source": [
        "list(range(10))"
      ],
      "execution_count": null,
      "outputs": [
        {
          "output_type": "execute_result",
          "data": {
            "text/plain": [
              "[0, 1, 2, 3, 4, 5, 6, 7, 8, 9]"
            ]
          },
          "metadata": {
            "tags": []
          },
          "execution_count": 23
        }
      ]
    },
    {
      "cell_type": "code",
      "metadata": {
        "colab": {
          "base_uri": "https://localhost:8080/"
        },
        "id": "f-ubE4yYLICp",
        "outputId": "2405222c-a95c-406c-d378-f93ab93b8f8d"
      },
      "source": [
        "list(range(15))"
      ],
      "execution_count": null,
      "outputs": [
        {
          "output_type": "execute_result",
          "data": {
            "text/plain": [
              "[0, 1, 2, 3, 4, 5, 6, 7, 8, 9, 10, 11, 12, 13, 14]"
            ]
          },
          "metadata": {
            "tags": []
          },
          "execution_count": 25
        }
      ]
    },
    {
      "cell_type": "code",
      "metadata": {
        "colab": {
          "base_uri": "https://localhost:8080/"
        },
        "id": "TyxrNyXzLMpX",
        "outputId": "cc7494af-1bae-44f3-e670-ffd94081c461"
      },
      "source": [
        "list(range(10,2))"
      ],
      "execution_count": null,
      "outputs": [
        {
          "output_type": "execute_result",
          "data": {
            "text/plain": [
              "[]"
            ]
          },
          "metadata": {
            "tags": []
          },
          "execution_count": 26
        }
      ]
    },
    {
      "cell_type": "code",
      "metadata": {
        "colab": {
          "base_uri": "https://localhost:8080/"
        },
        "id": "aeU4GpG7LV0Q",
        "outputId": "c0ae2c17-cbfc-459c-f036-427e41ca91cc"
      },
      "source": [
        "list(range(-1,-5,-1))"
      ],
      "execution_count": null,
      "outputs": [
        {
          "output_type": "execute_result",
          "data": {
            "text/plain": [
              "[-1, -2, -3, -4]"
            ]
          },
          "metadata": {
            "tags": []
          },
          "execution_count": 27
        }
      ]
    },
    {
      "cell_type": "code",
      "metadata": {
        "colab": {
          "base_uri": "https://localhost:8080/"
        },
        "id": "NSdpMoXWLzEP",
        "outputId": "637e414e-6fa2-4714-986b-a567d68dca15"
      },
      "source": [
        "num = int(input(\"Enter a Number : \"))\n",
        "for i in range(1,num+1):\n",
        "  print(i)"
      ],
      "execution_count": null,
      "outputs": [
        {
          "output_type": "stream",
          "text": [
            "Enter a Number : 10\n",
            "1\n",
            "2\n",
            "3\n",
            "4\n",
            "5\n",
            "6\n",
            "7\n",
            "8\n",
            "9\n",
            "10\n"
          ],
          "name": "stdout"
        }
      ]
    },
    {
      "cell_type": "code",
      "metadata": {
        "colab": {
          "base_uri": "https://localhost:8080/"
        },
        "id": "8UlaxMMRMjBx",
        "outputId": "00376c44-359f-4f50-87f5-c36ec2c9122f"
      },
      "source": [
        "num = int(input(\"Enter a Number : \"))\n",
        "for i in range(1,num+1):\n",
        "   for j in range(1,i+1):\n",
        "     print(j)"
      ],
      "execution_count": null,
      "outputs": [
        {
          "output_type": "stream",
          "text": [
            "Enter a Number : 10\n",
            "1\n",
            "1\n",
            "2\n",
            "1\n",
            "2\n",
            "3\n",
            "1\n",
            "2\n",
            "3\n",
            "4\n",
            "1\n",
            "2\n",
            "3\n",
            "4\n",
            "5\n",
            "1\n",
            "2\n",
            "3\n",
            "4\n",
            "5\n",
            "6\n",
            "1\n",
            "2\n",
            "3\n",
            "4\n",
            "5\n",
            "6\n",
            "7\n",
            "1\n",
            "2\n",
            "3\n",
            "4\n",
            "5\n",
            "6\n",
            "7\n",
            "8\n",
            "1\n",
            "2\n",
            "3\n",
            "4\n",
            "5\n",
            "6\n",
            "7\n",
            "8\n",
            "9\n",
            "1\n",
            "2\n",
            "3\n",
            "4\n",
            "5\n",
            "6\n",
            "7\n",
            "8\n",
            "9\n",
            "10\n"
          ],
          "name": "stdout"
        }
      ]
    },
    {
      "cell_type": "code",
      "metadata": {
        "colab": {
          "base_uri": "https://localhost:8080/"
        },
        "id": "t3Rf3jtrM6rI",
        "outputId": "7de505fb-0a02-4167-b11c-1920760aa6be"
      },
      "source": [
        "num = int(input(\"Enter a Number : \"))\n",
        "for i in range(1,num+1):\n",
        "  if i%2 == 0:\n",
        "    print(i)\n",
        "    "
      ],
      "execution_count": null,
      "outputs": [
        {
          "output_type": "stream",
          "text": [
            "Enter a Number : 18\n",
            "2\n",
            "4\n",
            "6\n",
            "8\n",
            "10\n",
            "12\n",
            "14\n",
            "16\n",
            "18\n"
          ],
          "name": "stdout"
        }
      ]
    },
    {
      "cell_type": "code",
      "metadata": {
        "colab": {
          "base_uri": "https://localhost:8080/"
        },
        "id": "c_uOwBwXNNh-",
        "outputId": "59095d6e-8b0b-4fd3-b58e-cc7c913dff25"
      },
      "source": [
        "num = int(input(\"Enter a Number : \"))\n",
        "for i in range(1,num+1):\n",
        "  if i%2 != 0 :\n",
        "    print(i)"
      ],
      "execution_count": null,
      "outputs": [
        {
          "output_type": "stream",
          "text": [
            "Enter a Number : 10\n",
            "1\n",
            "3\n",
            "5\n",
            "7\n",
            "9\n"
          ],
          "name": "stdout"
        }
      ]
    },
    {
      "cell_type": "code",
      "metadata": {
        "colab": {
          "base_uri": "https://localhost:8080/"
        },
        "id": "xe7Q65q3NldI",
        "outputId": "318399fc-c318-4b91-a1c0-99ef2cd7bbce"
      },
      "source": [
        "s = int(input(\"Enter Starting Value\"))\n",
        "num = int(input(\"Enter Ending value  : \"))\n",
        "count = 0\n",
        "for i in range(s,num+1):\n",
        "  if i%2 != 0:\n",
        "    if i%5 == 0 :\n",
        "      print(i)\n",
        "      count = count + 1\n",
        "print(\"Count Value : \",count)"
      ],
      "execution_count": null,
      "outputs": [
        {
          "output_type": "stream",
          "text": [
            "Enter Starting Value5\n",
            "Enter Ending value  : 500\n",
            "5\n",
            "15\n",
            "25\n",
            "35\n",
            "45\n",
            "55\n",
            "65\n",
            "75\n",
            "85\n",
            "95\n",
            "105\n",
            "115\n",
            "125\n",
            "135\n",
            "145\n",
            "155\n",
            "165\n",
            "175\n",
            "185\n",
            "195\n",
            "205\n",
            "215\n",
            "225\n",
            "235\n",
            "245\n",
            "255\n",
            "265\n",
            "275\n",
            "285\n",
            "295\n",
            "305\n",
            "315\n",
            "325\n",
            "335\n",
            "345\n",
            "355\n",
            "365\n",
            "375\n",
            "385\n",
            "395\n",
            "405\n",
            "415\n",
            "425\n",
            "435\n",
            "445\n",
            "455\n",
            "465\n",
            "475\n",
            "485\n",
            "495\n",
            "Count Value :  50\n"
          ],
          "name": "stdout"
        }
      ]
    },
    {
      "cell_type": "code",
      "metadata": {
        "colab": {
          "base_uri": "https://localhost:8080/"
        },
        "id": "dZ2PBMaGOUr0",
        "outputId": "44e01a68-7920-45f0-bdc8-7c2de55fcc22"
      },
      "source": [
        "s = int(input(\"Enter Starting Value : \"))\n",
        "num = int(input(\"Enter Ending Value : \"))\n",
        "for i in range(s, num +1) :\n",
        "  if i%2 != 0:\n",
        "    if i%5 == 0:\n",
        "      print(i)\n",
        "  else :\n",
        "    if i%10 == 0 :\n",
        "      print(i,\"from else block\")\n"
      ],
      "execution_count": null,
      "outputs": [
        {
          "output_type": "stream",
          "text": [
            "Enter Starting Value : 5\n",
            "Enter Ending Value : 100\n",
            "5\n",
            "10 from else block\n",
            "15\n",
            "20 from else block\n",
            "25\n",
            "30 from else block\n",
            "35\n",
            "40 from else block\n",
            "45\n",
            "50 from else block\n",
            "55\n",
            "60 from else block\n",
            "65\n",
            "70 from else block\n",
            "75\n",
            "80 from else block\n",
            "85\n",
            "90 from else block\n",
            "95\n",
            "100 from else block\n"
          ],
          "name": "stdout"
        }
      ]
    },
    {
      "cell_type": "code",
      "metadata": {
        "colab": {
          "base_uri": "https://localhost:8080/"
        },
        "id": "7ZFdE7WJQGoR",
        "outputId": "595bce3c-e166-49e6-fafe-11d7c566e94d"
      },
      "source": [
        "num = int(input(\"Enter a Number : \"))\n",
        "count = 0\n",
        "for i in range(1, num+1):\n",
        "  if num%i == 0 :\n",
        "    count = count + 1\n",
        "\n",
        "if count == 2 :\n",
        "  print(\"Prime Number\")\n",
        "else:\n",
        "  print(\"Not Prime Number \")"
      ],
      "execution_count": null,
      "outputs": [
        {
          "output_type": "stream",
          "text": [
            "Enter a Number : 7\n",
            "Prime Number\n"
          ],
          "name": "stdout"
        }
      ]
    },
    {
      "cell_type": "code",
      "metadata": {
        "colab": {
          "base_uri": "https://localhost:8080/"
        },
        "id": "YiVSAuyXR-1a",
        "outputId": "3b901d61-8638-4910-ea59-13ea216d9094"
      },
      "source": [
        "num = int(input(\"Enter a Number : \")) # 15\n",
        "\n",
        "for i in range(3, num+1):\n",
        "  count = 0\n",
        "  for j in range(1, i+1):\n",
        "    if i%j == 0 :\n",
        "      count = count + 1\n",
        "\n",
        "  if count == 2 :\n",
        "    print(i,\"Prime Number \")\n",
        "  else:\n",
        "    print(i,\"Not Prime Number\")\n",
        "\n"
      ],
      "execution_count": null,
      "outputs": [
        {
          "output_type": "stream",
          "text": [
            "Enter a Number : 15\n",
            "3 Prime Number \n",
            "4 Not Prime Number\n",
            "5 Prime Number \n",
            "6 Not Prime Number\n",
            "7 Prime Number \n",
            "8 Not Prime Number\n",
            "9 Not Prime Number\n",
            "10 Not Prime Number\n",
            "11 Prime Number \n",
            "12 Not Prime Number\n",
            "13 Prime Number \n",
            "14 Not Prime Number\n",
            "15 Not Prime Number\n"
          ],
          "name": "stdout"
        }
      ]
    },
    {
      "cell_type": "code",
      "metadata": {
        "colab": {
          "base_uri": "https://localhost:8080/"
        },
        "id": "9JCDj1V_S_p5",
        "outputId": "243bd996-b151-4ac6-9995-07667cc88636"
      },
      "source": [
        "num = int(input(\"Enter a Number : \")) # 15\n",
        "\n",
        "for i in range(3, num+1):\n",
        "  count = 0\n",
        "  for j in range(1, i+1):\n",
        "    if i%j == 0 :\n",
        "      count = count + 1\n",
        "\n",
        "  if count == 2 :\n",
        "    print(i,\"Prime Number \")\n"
      ],
      "execution_count": null,
      "outputs": [
        {
          "output_type": "stream",
          "text": [
            "Enter a Number : 10\n",
            "3 Prime Number \n",
            "5 Prime Number \n",
            "7 Prime Number \n"
          ],
          "name": "stdout"
        }
      ]
    },
    {
      "cell_type": "code",
      "metadata": {
        "colab": {
          "base_uri": "https://localhost:8080/"
        },
        "id": "B-Xl4B1xU0xO",
        "outputId": "3fd2980d-bd74-4374-8963-f4ab58579703"
      },
      "source": [
        "num = int(input(\"Enter a Number : \"))\n",
        "a = 0\n",
        "b = 1\n",
        "print(a)\n",
        "print(b)\n",
        "for i in range(num-2):\n",
        "  c = a + b\n",
        "  a = b\n",
        "  b = c\n",
        "  print(c)\n"
      ],
      "execution_count": null,
      "outputs": [
        {
          "output_type": "stream",
          "text": [
            "Enter a Number : 10\n",
            "0\n",
            "1\n",
            "1\n",
            "2\n",
            "3\n",
            "5\n",
            "8\n",
            "13\n",
            "21\n",
            "34\n"
          ],
          "name": "stdout"
        }
      ]
    }
  ]
}