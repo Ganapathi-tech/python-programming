{
  "nbformat": 4,
  "nbformat_minor": 0,
  "metadata": {
    "colab": {
      "name": "FC - If condition.ipynb",
      "provenance": [],
      "include_colab_link": true
    },
    "kernelspec": {
      "name": "python3",
      "display_name": "Python 3"
    }
  },
  "cells": [
    {
      "cell_type": "markdown",
      "metadata": {
        "id": "view-in-github",
        "colab_type": "text"
      },
      "source": [
        "<a href=\"https://colab.research.google.com/github/Ganapathi-tech/python-programming/blob/main/FC_If_condition.ipynb\" target=\"_parent\"><img src=\"https://colab.research.google.com/assets/colab-badge.svg\" alt=\"Open In Colab\"/></a>"
      ]
    },
    {
      "cell_type": "code",
      "metadata": {
        "colab": {
          "base_uri": "https://localhost:8080/"
        },
        "id": "oZsHIOnrI8G7",
        "outputId": "849cb22d-12e6-4459-996c-23057984d09e"
      },
      "source": [
        "age = int(input(\"Enter Your Age : \"))\n",
        "\n",
        "if age >= 18 :\n",
        "  print(\"You are Eligible for Voting\")\n",
        "  print(\"This is from first if block\")\n",
        "\n",
        "if age < 18:\n",
        "        print(\"You are Not ELigible for voting\")\n",
        "        print(\"This is from second if block\")\n",
        "\n",
        "print(\"THanks for using our application\")\n",
        "\n"
      ],
      "execution_count": null,
      "outputs": [
        {
          "output_type": "stream",
          "text": [
            "Enter Your Age : 17\n",
            "You are Not ELigible for voting\n",
            "This is from second if block\n",
            "THanks for using our application\n"
          ],
          "name": "stdout"
        }
      ]
    },
    {
      "cell_type": "code",
      "metadata": {
        "colab": {
          "base_uri": "https://localhost:8080/"
        },
        "id": "_ZtE1Eq6Npge",
        "outputId": "6928146f-f496-4b5b-e80e-3f3e20ce1460"
      },
      "source": [
        "a = int(input(\"Enter Your Age : \"))\n",
        "\n",
        "if a >= 18:\n",
        "  print(\"You are Eligible for Voting\")\n",
        "  print(\" if block\")\n",
        "else :\n",
        "  print(\"You are Not ELigible for voting\")\n",
        "  print(\"else block\")\n"
      ],
      "execution_count": null,
      "outputs": [
        {
          "output_type": "stream",
          "text": [
            "Enter Your Age : 19\n",
            "You are Eligible for Voting\n",
            " if block\n"
          ],
          "name": "stdout"
        }
      ]
    },
    {
      "cell_type": "code",
      "metadata": {
        "colab": {
          "base_uri": "https://localhost:8080/"
        },
        "id": "PmY5bbUTT80R",
        "outputId": "17f35ab4-103d-4102-99ae-43cf9c0139fc"
      },
      "source": [
        "desg = \"TM\"\n",
        "sal = 100000\n",
        "if desg == \"TM\" :\n",
        "  print(\"Hike is 17%\")\n",
        "  print((17/100*sal) + sal)\n",
        "elif desg == \"PM\" :\n",
        "  print(\"Hike is 14%\")\n",
        "elif desg == \"PM\" :\n",
        "  print(\"Hike is 16%\")\n",
        "else :\n",
        "  print(\"Hike is 12%\")"
      ],
      "execution_count": null,
      "outputs": [
        {
          "output_type": "stream",
          "text": [
            "Hike is 17%\n",
            "117000.0\n"
          ],
          "name": "stdout"
        }
      ]
    },
    {
      "cell_type": "code",
      "metadata": {
        "id": "5J2yUPfqVHC6"
      },
      "source": [
        ""
      ],
      "execution_count": null,
      "outputs": []
    }
  ]
}