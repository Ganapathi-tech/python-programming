{
  "cells": [
    {
      "cell_type": "markdown",
      "metadata": {
        "id": "view-in-github",
        "colab_type": "text"
      },
      "source": [
        "<a href=\"https://colab.research.google.com/github/Ganapathi-tech/python-programming/blob/main/if_condition_While.ipynb\" target=\"_parent\"><img src=\"https://colab.research.google.com/assets/colab-badge.svg\" alt=\"Open In Colab\"/></a>"
      ]
    },
    {
      "cell_type": "code",
      "execution_count": null,
      "metadata": {
        "colab": {
          "base_uri": "https://localhost:8080/"
        },
        "id": "LoQNC5jWXE7B",
        "outputId": "86e356c1-fd0a-422d-ae43-ede8b63cac87"
      },
      "outputs": [
        {
          "name": "stdout",
          "output_type": "stream",
          "text": [
            "1\n",
            "2\n",
            "3\n",
            "4\n",
            "5\n",
            "6\n",
            "7\n",
            "8\n",
            "9\n",
            "10\n"
          ]
        }
      ],
      "source": [
        " \n",
        " \n",
        "# <initilization>\n",
        "# while <condition> :\n",
        "#       state1\n",
        "#       state2\n",
        "#       <Incrementation / Decrementation>\n",
        " \n",
        "import time\n",
        "i = 1 \n",
        "while i <= 10:\n",
        "  print(i)\n",
        "  i = i + 1\n",
        "  time.sleep(1)      #(i+=1)"
      ]
    },
    {
      "cell_type": "code",
      "execution_count": null,
      "metadata": {
        "colab": {
          "base_uri": "https://localhost:8080/"
        },
        "id": "CMfYTRqiYA8r",
        "outputId": "ece3ef8b-2ca2-4d8b-beb7-4530168bd84f"
      },
      "outputs": [
        {
          "name": "stdout",
          "output_type": "stream",
          "text": [
            "5\n",
            "4\n",
            "3\n",
            "2\n",
            "1\n"
          ]
        }
      ],
      "source": [
        "i = 5\n",
        "while i>=1 :\n",
        "  print(i)\n",
        "  i = i - 1 #(i-=1)"
      ]
    },
    {
      "cell_type": "code",
      "execution_count": null,
      "metadata": {
        "colab": {
          "base_uri": "https://localhost:8080/"
        },
        "id": "AqMdDr00NpfP",
        "outputId": "dd9038e1-c9b8-471c-88c1-ce0207079cb3"
      },
      "outputs": [
        {
          "name": "stdout",
          "output_type": "stream",
          "text": [
            "Enter Employee id : 1111\n",
            "Enter Employee Name : AAAA\n",
            "Enter Employee Designation : TM\n",
            "Time Spent with the Company (in year) : 4\n",
            "Enter Employee Salary : 50000\n",
            "Hike : 18%\n"
          ]
        }
      ],
      "source": [
        "empid = input(\"Enter Employee id : \")\n",
        "ename = input(\"Enter Employee Name : \")\n",
        "edesg = input(\"Enter Employee Designation : \")\n",
        "yrs = int(input(\"Time Spent with the Company (in year) : \"))\n",
        "esal = int(input(\"Enter Employee Salary : \"))\n",
        " \n",
        " \n",
        "if edesg == \"PM\" : \n",
        "   if yrs >= 5 :\n",
        "     print(\"Hike : 18%\")\n",
        "   elif yrs >=3 and yrs <5 :\n",
        "     print(\"Hike : 16%\")\n",
        "   \n",
        "   elif yrs >=1 and yrs <3 :\n",
        "     print(\"Hike : 14%\")  \n",
        "   else :\n",
        "     print(\"No Hike\")  \n",
        " \n",
        "elif edesg == \"TM\" :\n",
        "  if yrs >= 5 :\n",
        "     print(\"Hike : 10%\")\n",
        "  \n",
        "  elif yrs >=3 and yrs < 5:\n",
        "     print(\"Hike : 18%\")\n",
        "   \n",
        "  elif yrs >=1 and yrs <3 :\n",
        "     print(\"Hike : 15%\")  \n",
        "  else :\n",
        "     print(\"No Hike\") \n",
        " \n",
        "elif edesg == \"Dev\" :\n",
        "    print(\"Dev Block\")\n",
        "elif edesg == \"Tester\" :\n",
        "    print(\"Tester Block\")\n",
        "else :\n",
        "    print(\"Admin Block\")"
      ]
    },
    {
      "cell_type": "code",
      "execution_count": null,
      "metadata": {
        "colab": {
          "base_uri": "https://localhost:8080/"
        },
        "id": "7uEAzK9zYSzH",
        "outputId": "dad07d50-acb1-451b-b33a-f46fe6ed97a5"
      },
      "outputs": [
        {
          "name": "stdout",
          "output_type": "stream",
          "text": [
            "2\n",
            "4\n",
            "6\n",
            "8\n",
            "10\n",
            "12\n",
            "14\n",
            "16\n",
            "18\n",
            "20\n"
          ]
        }
      ],
      "source": [
        "i = 2 \n",
        "while i<=20:\n",
        "  print(i)\n",
        "  i = i + 2"
      ]
    },
    {
      "cell_type": "code",
      "execution_count": null,
      "metadata": {
        "colab": {
          "base_uri": "https://localhost:8080/"
        },
        "id": "ylbzcvyCYqzw",
        "outputId": "7485b16d-20ce-4199-b3aa-e750a2516e28"
      },
      "outputs": [
        {
          "name": "stdout",
          "output_type": "stream",
          "text": [
            "Enter a Number Range : 25\n",
            "1\n",
            "2\n",
            "3\n",
            "4\n",
            "5\n",
            "6\n",
            "7\n",
            "8\n",
            "9\n",
            "10\n",
            "11\n",
            "12\n",
            "13\n",
            "14\n",
            "15\n",
            "16\n",
            "17\n",
            "18\n",
            "19\n",
            "20\n",
            "21\n",
            "22\n",
            "23\n",
            "24\n",
            "25\n"
          ]
        }
      ],
      "source": [
        "num = int(input(\"Enter a Number Range : \"))\n",
        "i = 1\n",
        "while i <= num :\n",
        "  print(i)\n",
        "  i = i + 1\n",
        "\n"
      ]
    },
    {
      "cell_type": "code",
      "execution_count": null,
      "metadata": {
        "colab": {
          "base_uri": "https://localhost:8080/"
        },
        "id": "L4rl3rpYY7vE",
        "outputId": "99ce19fe-3084-4953-9319-369a40d3257c"
      },
      "outputs": [
        {
          "name": "stdout",
          "output_type": "stream",
          "text": [
            "Enter a Number Range : 20\n",
            "3\n",
            "6\n",
            "9\n",
            "12\n",
            "15\n",
            "18\n"
          ]
        }
      ],
      "source": [
        "num = int(input(\"Enter a Number Range : \"))   # 5\n",
        "i = 1\n",
        "while i <= num :\n",
        "  if i%3==0:\n",
        "    print(i)\n",
        "  i+=1"
      ]
    },
    {
      "cell_type": "code",
      "execution_count": null,
      "metadata": {
        "colab": {
          "base_uri": "https://localhost:8080/"
        },
        "id": "XKqt9xmSZBfI",
        "outputId": "5765f7d1-c341-4881-ecb6-b074307495d6"
      },
      "outputs": [
        {
          "name": "stdout",
          "output_type": "stream",
          "text": [
            "Enter a Number Range : 10\n",
            "1\n",
            "3\n",
            "5\n",
            "7\n",
            "9\n"
          ]
        }
      ],
      "source": [
        "num = int(input(\"Enter a Number Range : \"))   # 5\n",
        "i = 1\n",
        "while i <= num :\n",
        "  if i%2!=0:\n",
        "    print(i)\n",
        "  i = i + 1"
      ]
    },
    {
      "cell_type": "code",
      "execution_count": null,
      "metadata": {
        "colab": {
          "base_uri": "https://localhost:8080/"
        },
        "id": "PKhc0BJFaV27",
        "outputId": "f2db37d4-7d41-4c35-e382-8984c869e6be"
      },
      "outputs": [
        {
          "name": "stdout",
          "output_type": "stream",
          "text": [
            "Enter a Number Range : 100\n",
            "5\n",
            "15\n",
            "25\n",
            "35\n",
            "45\n",
            "55\n",
            "65\n",
            "75\n",
            "85\n",
            "95\n"
          ]
        }
      ],
      "source": [
        "num = int(input(\"Enter a Number Range : \"))   # 5\n",
        "i = 1\n",
        "while i <= num :\n",
        "  if i % 2 != 0:\n",
        "    if i % 5 == 0:\n",
        "      print(i)\n",
        "  i = i + 1"
      ]
    },
    {
      "cell_type": "code",
      "execution_count": null,
      "metadata": {
        "colab": {
          "base_uri": "https://localhost:8080/"
        },
        "id": "ckKOearNacPi",
        "outputId": "2269979f-a1c2-4434-e4ed-f6b1d22806c0"
      },
      "outputs": [
        {
          "name": "stdout",
          "output_type": "stream",
          "text": [
            "Enter a Number : 48\n",
            "48 is not a prime number\n"
          ]
        }
      ],
      "source": [
        "num = int(input(\"Enter a Number : \"))\n",
        "count = 0\n",
        "i = 1\n",
        "while i <= num:\n",
        "  if num%i == 0 :\n",
        "    count = count + 1\n",
        "  i = i +1\n",
        "\n",
        "if count == 2 :\n",
        "  print(num,\"is a prime number\")\n",
        "else :\n",
        "    print(num,\"is not a prime number\")\n",
        "\n",
        "\n"
      ]
    },
    {
      "cell_type": "code",
      "execution_count": null,
      "metadata": {
        "colab": {
          "base_uri": "https://localhost:8080/",
          "height": 536
        },
        "id": "ic-PkuSbb_Vs",
        "outputId": "f3a02132-dd70-4da0-8e5a-210ad2458b84"
      },
      "outputs": [
        {
          "ename": "KeyboardInterrupt",
          "evalue": "ignored",
          "output_type": "error",
          "traceback": [
            "\u001b[0;31m---------------------------------------------------------------------------\u001b[0m",
            "\u001b[0;31mKeyboardInterrupt\u001b[0m                         Traceback (most recent call last)",
            "\u001b[0;32m/usr/local/lib/python3.7/dist-packages/ipykernel/kernelbase.py\u001b[0m in \u001b[0;36m_input_request\u001b[0;34m(self, prompt, ident, parent, password)\u001b[0m\n\u001b[1;32m    728\u001b[0m             \u001b[0;32mtry\u001b[0m\u001b[0;34m:\u001b[0m\u001b[0;34m\u001b[0m\u001b[0;34m\u001b[0m\u001b[0m\n\u001b[0;32m--> 729\u001b[0;31m                 \u001b[0mident\u001b[0m\u001b[0;34m,\u001b[0m \u001b[0mreply\u001b[0m \u001b[0;34m=\u001b[0m \u001b[0mself\u001b[0m\u001b[0;34m.\u001b[0m\u001b[0msession\u001b[0m\u001b[0;34m.\u001b[0m\u001b[0mrecv\u001b[0m\u001b[0;34m(\u001b[0m\u001b[0mself\u001b[0m\u001b[0;34m.\u001b[0m\u001b[0mstdin_socket\u001b[0m\u001b[0;34m,\u001b[0m \u001b[0;36m0\u001b[0m\u001b[0;34m)\u001b[0m\u001b[0;34m\u001b[0m\u001b[0;34m\u001b[0m\u001b[0m\n\u001b[0m\u001b[1;32m    730\u001b[0m             \u001b[0;32mexcept\u001b[0m \u001b[0mException\u001b[0m\u001b[0;34m:\u001b[0m\u001b[0;34m\u001b[0m\u001b[0;34m\u001b[0m\u001b[0m\n",
            "\u001b[0;32m/usr/local/lib/python3.7/dist-packages/jupyter_client/session.py\u001b[0m in \u001b[0;36mrecv\u001b[0;34m(self, socket, mode, content, copy)\u001b[0m\n\u001b[1;32m    802\u001b[0m         \u001b[0;32mtry\u001b[0m\u001b[0;34m:\u001b[0m\u001b[0;34m\u001b[0m\u001b[0;34m\u001b[0m\u001b[0m\n\u001b[0;32m--> 803\u001b[0;31m             \u001b[0mmsg_list\u001b[0m \u001b[0;34m=\u001b[0m \u001b[0msocket\u001b[0m\u001b[0;34m.\u001b[0m\u001b[0mrecv_multipart\u001b[0m\u001b[0;34m(\u001b[0m\u001b[0mmode\u001b[0m\u001b[0;34m,\u001b[0m \u001b[0mcopy\u001b[0m\u001b[0;34m=\u001b[0m\u001b[0mcopy\u001b[0m\u001b[0;34m)\u001b[0m\u001b[0;34m\u001b[0m\u001b[0;34m\u001b[0m\u001b[0m\n\u001b[0m\u001b[1;32m    804\u001b[0m         \u001b[0;32mexcept\u001b[0m \u001b[0mzmq\u001b[0m\u001b[0;34m.\u001b[0m\u001b[0mZMQError\u001b[0m \u001b[0;32mas\u001b[0m \u001b[0me\u001b[0m\u001b[0;34m:\u001b[0m\u001b[0;34m\u001b[0m\u001b[0;34m\u001b[0m\u001b[0m\n",
            "\u001b[0;32m/usr/local/lib/python3.7/dist-packages/zmq/sugar/socket.py\u001b[0m in \u001b[0;36mrecv_multipart\u001b[0;34m(self, flags, copy, track)\u001b[0m\n\u001b[1;32m    624\u001b[0m         \"\"\"\n\u001b[0;32m--> 625\u001b[0;31m         \u001b[0mparts\u001b[0m \u001b[0;34m=\u001b[0m \u001b[0;34m[\u001b[0m\u001b[0mself\u001b[0m\u001b[0;34m.\u001b[0m\u001b[0mrecv\u001b[0m\u001b[0;34m(\u001b[0m\u001b[0mflags\u001b[0m\u001b[0;34m,\u001b[0m \u001b[0mcopy\u001b[0m\u001b[0;34m=\u001b[0m\u001b[0mcopy\u001b[0m\u001b[0;34m,\u001b[0m \u001b[0mtrack\u001b[0m\u001b[0;34m=\u001b[0m\u001b[0mtrack\u001b[0m\u001b[0;34m)\u001b[0m\u001b[0;34m]\u001b[0m\u001b[0;34m\u001b[0m\u001b[0;34m\u001b[0m\u001b[0m\n\u001b[0m\u001b[1;32m    626\u001b[0m         \u001b[0;31m# have first part already, only loop while more to receive\u001b[0m\u001b[0;34m\u001b[0m\u001b[0;34m\u001b[0m\u001b[0;34m\u001b[0m\u001b[0m\n",
            "\u001b[0;32mzmq/backend/cython/socket.pyx\u001b[0m in \u001b[0;36mzmq.backend.cython.socket.Socket.recv\u001b[0;34m()\u001b[0m\n",
            "\u001b[0;32mzmq/backend/cython/socket.pyx\u001b[0m in \u001b[0;36mzmq.backend.cython.socket.Socket.recv\u001b[0;34m()\u001b[0m\n",
            "\u001b[0;32mzmq/backend/cython/socket.pyx\u001b[0m in \u001b[0;36mzmq.backend.cython.socket._recv_copy\u001b[0;34m()\u001b[0m\n",
            "\u001b[0;32m/usr/local/lib/python3.7/dist-packages/zmq/backend/cython/checkrc.pxd\u001b[0m in \u001b[0;36mzmq.backend.cython.checkrc._check_rc\u001b[0;34m()\u001b[0m\n",
            "\u001b[0;31mKeyboardInterrupt\u001b[0m: ",
            "\nDuring handling of the above exception, another exception occurred:\n",
            "\u001b[0;31mKeyboardInterrupt\u001b[0m                         Traceback (most recent call last)",
            "\u001b[0;32m<ipython-input-2-befa2c2e9c8b>\u001b[0m in \u001b[0;36m<module>\u001b[0;34m()\u001b[0m\n\u001b[0;32m----> 1\u001b[0;31m \u001b[0mnum\u001b[0m \u001b[0;34m=\u001b[0m \u001b[0mint\u001b[0m\u001b[0;34m(\u001b[0m\u001b[0minput\u001b[0m\u001b[0;34m(\u001b[0m\u001b[0;34m\"Enter a Number : \"\u001b[0m\u001b[0;34m)\u001b[0m\u001b[0;34m)\u001b[0m\u001b[0;34m\u001b[0m\u001b[0;34m\u001b[0m\u001b[0m\n\u001b[0m\u001b[1;32m      2\u001b[0m \u001b[0mi\u001b[0m \u001b[0;34m=\u001b[0m \u001b[0;36m1\u001b[0m\u001b[0;34m\u001b[0m\u001b[0;34m\u001b[0m\u001b[0m\n\u001b[1;32m      3\u001b[0m \u001b[0;32mwhile\u001b[0m \u001b[0mi\u001b[0m \u001b[0;34m<=\u001b[0m \u001b[0;36m10\u001b[0m \u001b[0;34m:\u001b[0m\u001b[0;34m\u001b[0m\u001b[0;34m\u001b[0m\u001b[0m\n\u001b[1;32m      4\u001b[0m   \u001b[0;32mfor\u001b[0m \u001b[0mi\u001b[0m \u001b[0;32min\u001b[0m \u001b[0mrange\u001b[0m\u001b[0;34m(\u001b[0m\u001b[0;36m10\u001b[0m\u001b[0;34m)\u001b[0m\u001b[0;34m:\u001b[0m\u001b[0;34m\u001b[0m\u001b[0;34m\u001b[0m\u001b[0m\n\u001b[1;32m      5\u001b[0m     \u001b[0mprint\u001b[0m\u001b[0;34m(\u001b[0m\u001b[0mnum\u001b[0m\u001b[0;34m,\u001b[0m\u001b[0;34m\"*\"\u001b[0m\u001b[0;34m,\u001b[0m\u001b[0mi\u001b[0m\u001b[0;34m,\u001b[0m \u001b[0;34m\"==\"\u001b[0m\u001b[0;34m,\u001b[0m\u001b[0;34m(\u001b[0m\u001b[0mi\u001b[0m\u001b[0;34m*\u001b[0m\u001b[0mnum\u001b[0m\u001b[0;34m)\u001b[0m\u001b[0;34m)\u001b[0m\u001b[0;34m\u001b[0m\u001b[0;34m\u001b[0m\u001b[0m\n",
            "\u001b[0;32m/usr/local/lib/python3.7/dist-packages/ipykernel/kernelbase.py\u001b[0m in \u001b[0;36mraw_input\u001b[0;34m(self, prompt)\u001b[0m\n\u001b[1;32m    702\u001b[0m             \u001b[0mself\u001b[0m\u001b[0;34m.\u001b[0m\u001b[0m_parent_ident\u001b[0m\u001b[0;34m,\u001b[0m\u001b[0;34m\u001b[0m\u001b[0;34m\u001b[0m\u001b[0m\n\u001b[1;32m    703\u001b[0m             \u001b[0mself\u001b[0m\u001b[0;34m.\u001b[0m\u001b[0m_parent_header\u001b[0m\u001b[0;34m,\u001b[0m\u001b[0;34m\u001b[0m\u001b[0;34m\u001b[0m\u001b[0m\n\u001b[0;32m--> 704\u001b[0;31m             \u001b[0mpassword\u001b[0m\u001b[0;34m=\u001b[0m\u001b[0;32mFalse\u001b[0m\u001b[0;34m,\u001b[0m\u001b[0;34m\u001b[0m\u001b[0;34m\u001b[0m\u001b[0m\n\u001b[0m\u001b[1;32m    705\u001b[0m         )\n\u001b[1;32m    706\u001b[0m \u001b[0;34m\u001b[0m\u001b[0m\n",
            "\u001b[0;32m/usr/local/lib/python3.7/dist-packages/ipykernel/kernelbase.py\u001b[0m in \u001b[0;36m_input_request\u001b[0;34m(self, prompt, ident, parent, password)\u001b[0m\n\u001b[1;32m    732\u001b[0m             \u001b[0;32mexcept\u001b[0m \u001b[0mKeyboardInterrupt\u001b[0m\u001b[0;34m:\u001b[0m\u001b[0;34m\u001b[0m\u001b[0;34m\u001b[0m\u001b[0m\n\u001b[1;32m    733\u001b[0m                 \u001b[0;31m# re-raise KeyboardInterrupt, to truncate traceback\u001b[0m\u001b[0;34m\u001b[0m\u001b[0;34m\u001b[0m\u001b[0;34m\u001b[0m\u001b[0m\n\u001b[0;32m--> 734\u001b[0;31m                 \u001b[0;32mraise\u001b[0m \u001b[0mKeyboardInterrupt\u001b[0m\u001b[0;34m\u001b[0m\u001b[0;34m\u001b[0m\u001b[0m\n\u001b[0m\u001b[1;32m    735\u001b[0m             \u001b[0;32melse\u001b[0m\u001b[0;34m:\u001b[0m\u001b[0;34m\u001b[0m\u001b[0;34m\u001b[0m\u001b[0m\n\u001b[1;32m    736\u001b[0m                 \u001b[0;32mbreak\u001b[0m\u001b[0;34m\u001b[0m\u001b[0;34m\u001b[0m\u001b[0m\n",
            "\u001b[0;31mKeyboardInterrupt\u001b[0m: "
          ]
        }
      ],
      "source": [
        "num = int(input(\"Enter a Number : \"))\n",
        "i = 1 \n",
        "while i <= 10 :\n",
        "  for i in range(10):\n",
        "    print(num,\"*\",i, \"==\",(i*num))\n",
        "    i = i + 1\n",
        "  print(i)"
      ]
    },
    {
      "cell_type": "code",
      "execution_count": null,
      "metadata": {
        "colab": {
          "base_uri": "https://localhost:8080/"
        },
        "id": "sNm5bIUnhvXH",
        "outputId": "a9a3344c-c0e9-4d5d-a14b-91a9177d2cd5"
      },
      "outputs": [
        {
          "name": "stdout",
          "output_type": "stream",
          "text": [
            "1\n",
            "2\n",
            "3\n",
            "4\n",
            "5\n",
            "**************\n",
            "1\n",
            "2\n",
            "3\n",
            "4\n",
            "5\n",
            "**************\n",
            "1\n",
            "2\n",
            "3\n",
            "4\n",
            "5\n",
            "**************\n"
          ]
        }
      ],
      "source": [
        "i = 1\n",
        "while i <= 5:\n",
        "  print(i)\n",
        "  i = i + 1\n",
        "print(\"**************\")\n",
        "\n",
        "\n",
        "i = 1\n",
        "while i <= 5:\n",
        "  print(i)\n",
        "  i = i + 1\n",
        "print(\"**************\")\n",
        "\n",
        "\n",
        "i = 1\n",
        "while i <= 5:\n",
        "  print(i)\n",
        "  i = i + 1\n",
        "print(\"**************\")"
      ]
    },
    {
      "cell_type": "code",
      "execution_count": null,
      "metadata": {
        "colab": {
          "base_uri": "https://localhost:8080/"
        },
        "id": "jkaqGm82idRt",
        "outputId": "1907fa2d-e382-4bbd-cd14-da081611c04c"
      },
      "outputs": [
        {
          "name": "stdout",
          "output_type": "stream",
          "text": [
            "Hello All...\n",
            "Good Morning...\n",
            "*****************\n"
          ]
        }
      ],
      "source": [
        "print(\"Hello All...\")\n",
        "print(\"Good Morning...\")\n",
        "print(\"*****************\")"
      ]
    },
    {
      "cell_type": "code",
      "execution_count": null,
      "metadata": {
        "colab": {
          "base_uri": "https://localhost:8080/"
        },
        "id": "T-oyTAwuiqY7",
        "outputId": "0589a291-b520-4956-b6d7-08fe685d5602"
      },
      "outputs": [
        {
          "name": "stdout",
          "output_type": "stream",
          "text": [
            "Hello All...\n",
            "Good Morning...\n",
            "*****************\n",
            "Hello All...\n",
            "Good Morning...\n",
            "*****************\n",
            "Hello All...\n",
            "Good Morning...\n",
            "*****************\n",
            "Hello All...\n",
            "Good Morning...\n",
            "*****************\n",
            "Hello All...\n",
            "Good Morning...\n",
            "*****************\n"
          ]
        }
      ],
      "source": [
        "import time\n",
        "i = 1 \n",
        "while i<=5:\n",
        "  print(\"Hello All...\")\n",
        "  print(\"Good Morning...\")\n",
        "  print(\"*****************\")\n",
        "  time.sleep(1)\n",
        "  i = i + 1"
      ]
    },
    {
      "cell_type": "code",
      "execution_count": null,
      "metadata": {
        "colab": {
          "base_uri": "https://localhost:8080/"
        },
        "id": "y0aUTsHfjgA0",
        "outputId": "72fe79e1-8979-4719-ffc1-7a6a78724fce"
      },
      "outputs": [
        {
          "name": "stdout",
          "output_type": "stream",
          "text": [
            "1\n",
            "2\n",
            "3\n",
            "4\n",
            "5\n",
            "**************\n"
          ]
        }
      ],
      "source": [
        "i = 1\n",
        "while i <= 5:\n",
        "  print(i)\n",
        "  i = i + 1\n",
        "print(\"**************\")"
      ]
    },
    {
      "cell_type": "code",
      "execution_count": null,
      "metadata": {
        "colab": {
          "base_uri": "https://localhost:8080/"
        },
        "id": "Z8nnYcamjioi",
        "outputId": "d53e6876-a43e-4088-8557-797203ed31bf"
      },
      "outputs": [
        {
          "name": "stdout",
          "output_type": "stream",
          "text": [
            "1\n",
            "2\n",
            "3\n",
            "4\n",
            "5\n",
            "**************\n",
            "1\n",
            "2\n",
            "3\n",
            "4\n",
            "5\n",
            "**************\n",
            "1\n",
            "2\n",
            "3\n",
            "4\n",
            "5\n",
            "**************\n"
          ]
        }
      ],
      "source": [
        "x = 1\n",
        "while x <= 3:\n",
        "# ------------------------------ \n",
        "    i = 1\n",
        "    while i <= 5:\n",
        "      print(i)\n",
        "      i = i + 1\n",
        "    print(\"**************\")\n",
        "# --------------------------------\n",
        "    x = x + 1"
      ]
    },
    {
      "cell_type": "code",
      "execution_count": null,
      "metadata": {
        "colab": {
          "base_uri": "https://localhost:8080/"
        },
        "id": "8WIGe3Jdjzsf",
        "outputId": "04d58268-689d-4d5a-d0f1-751ba5d327a4"
      },
      "outputs": [
        {
          "name": "stdout",
          "output_type": "stream",
          "text": [
            "1\n",
            "2\n",
            "3\n",
            "4\n",
            "5\n"
          ]
        }
      ],
      "source": [
        "i = 1 \n",
        "while i <= 5:\n",
        "  print(i)\n",
        "  i = i + 1"
      ]
    },
    {
      "cell_type": "code",
      "execution_count": null,
      "metadata": {
        "colab": {
          "base_uri": "https://localhost:8080/"
        },
        "id": "oiu822C1rjcy",
        "outputId": "aa1ce11e-20d0-470c-9638-d2c5665a4789"
      },
      "outputs": [
        {
          "name": "stdout",
          "output_type": "stream",
          "text": [
            "1\n",
            "2\n",
            "3\n",
            "4\n",
            "5\n"
          ]
        }
      ],
      "source": [
        "i = 1 \n",
        "while i <= 5:\n",
        "  print(i,end = \"\\n\")\n",
        "  i = i + 1"
      ]
    },
    {
      "cell_type": "code",
      "execution_count": null,
      "metadata": {
        "colab": {
          "base_uri": "https://localhost:8080/"
        },
        "id": "0V8aPg6BsD5x",
        "outputId": "eb462343-05c9-424f-cd7a-391149bb2894"
      },
      "outputs": [
        {
          "name": "stdout",
          "output_type": "stream",
          "text": [
            "1 2 3 4 5 "
          ]
        }
      ],
      "source": [
        "i = 1 \n",
        "while i <= 5:\n",
        "  print(i,end = \" \")\n",
        "  i = i + 1"
      ]
    },
    {
      "cell_type": "code",
      "execution_count": null,
      "metadata": {
        "colab": {
          "background_save": true,
          "base_uri": "https://localhost:8080/",
          "height": 130
        },
        "id": "Ya4RXYAgseW4",
        "outputId": "57c5aacb-62da-43b5-e1f9-7bdd1f2cd836"
      },
      "outputs": [
        {
          "ename": "IndentationError",
          "evalue": "ignored",
          "output_type": "error",
          "traceback": [
            "\u001b[0;36m  File \u001b[0;32m\"<ipython-input-4-4a7d6034fe38>\"\u001b[0;36m, line \u001b[0;32m9\u001b[0m\n\u001b[0;31m    print(i)\u001b[0m\n\u001b[0m    ^\u001b[0m\n\u001b[0;31mIndentationError\u001b[0m\u001b[0;31m:\u001b[0m unexpected indent\n"
          ]
        }
      ],
      "source": [
        "num = 5\n",
        "i = 1\n",
        "while i <=10 :\n",
        "  X=1\n",
        "  while X<=5:\n",
        "   print(num,\"*\",i,\"==\",(i*num),end=\"\\t\")\n",
        "  X = X + 1\n",
        "i+=1\n",
        " print(i)"
      ]
    },
    {
      "cell_type": "code",
      "execution_count": null,
      "metadata": {
        "colab": {
          "base_uri": "https://localhost:8080/"
        },
        "id": "76dKXCLFsqfO",
        "outputId": "c5a7986b-2b98-408e-c51f-9c5aeb7b0e01"
      },
      "outputs": [
        {
          "name": "stdout",
          "output_type": "stream",
          "text": [
            "5 * 1 == 5\t5 * 2 == 10\t5 * 3 == 15\t5 * 4 == 20\t5 * 5 == 25\t5 * 6 == 30\t5 * 7 == 35\t5 * 8 == 40\t5 * 9 == 45\t5 * 10 == 50\t"
          ]
        }
      ],
      "source": [
        "num = 5\n",
        "i = 1\n",
        "while i <=10 :\n",
        "  print(num,\"*\",i,\"==\",(i*num),end = \"\\t\")\n",
        "  i = i + 1"
      ]
    },
    {
      "cell_type": "code",
      "execution_count": null,
      "metadata": {
        "colab": {
          "base_uri": "https://localhost:8080/"
        },
        "id": "LzPYHgOStDtD",
        "outputId": "a510d78a-7068-46c8-9fa7-e92db0de9e4d"
      },
      "outputs": [
        {
          "name": "stdout",
          "output_type": "stream",
          "text": [
            "2 * 1 == 2\t2 * 2 == 4\t2 * 3 == 6\t2 * 4 == 8\t2 * 5 == 10\t2 * 6 == 12\t2 * 7 == 14\t2 * 8 == 16\t2 * 9 == 18\t2 * 10 == 20\t*****************\n",
            "3 * 1 == 3\t3 * 2 == 6\t3 * 3 == 9\t3 * 4 == 12\t3 * 5 == 15\t3 * 6 == 18\t3 * 7 == 21\t3 * 8 == 24\t3 * 9 == 27\t3 * 10 == 30\t*****************\n",
            "4 * 1 == 4\t4 * 2 == 8\t4 * 3 == 12\t4 * 4 == 16\t4 * 5 == 20\t4 * 6 == 24\t4 * 7 == 28\t4 * 8 == 32\t4 * 9 == 36\t4 * 10 == 40\t*****************\n",
            "5 * 1 == 5\t5 * 2 == 10\t5 * 3 == 15\t5 * 4 == 20\t5 * 5 == 25\t5 * 6 == 30\t5 * 7 == 35\t5 * 8 == 40\t5 * 9 == 45\t5 * 10 == 50\t*****************\n"
          ]
        }
      ],
      "source": [
        "num = 5\n",
        "x = 2\n",
        "while x <= 5 :\n",
        "  i = 1\n",
        "  while i<=10:\n",
        "    print(x,\"*\",i,\"==\",(i*x))\n",
        "    i = i + 1\n",
        "  print(\"*****************\")\n",
        "  x = x + 1"
      ]
    },
    {
      "cell_type": "code",
      "execution_count": null,
      "metadata": {
        "colab": {
          "base_uri": "https://localhost:8080/"
        },
        "id": "PgQJkTwotkla",
        "outputId": "91b7f6b8-d6bb-4686-9d9d-a24aa0bc3fc5"
      },
      "outputs": [
        {
          "name": "stdout",
          "output_type": "stream",
          "text": [
            "1 * 2 == 2\t1 * 3 == 3\t1 * 4 == 4\t1 * 5 == 5\t1 * 6 == 6\t1 * 7 == 7\t1 * 8 == 8\t1 * 9 == 9\t1 * 10 == 10\t*****************\n",
            "2 * 2 == 4\t2 * 3 == 6\t2 * 4 == 8\t2 * 5 == 10\t2 * 6 == 12\t2 * 7 == 14\t2 * 8 == 16\t2 * 9 == 18\t2 * 10 == 20\t*****************\n",
            "3 * 2 == 6\t3 * 3 == 9\t3 * 4 == 12\t3 * 5 == 15\t3 * 6 == 18\t3 * 7 == 21\t3 * 8 == 24\t3 * 9 == 27\t3 * 10 == 30\t*****************\n",
            "4 * 2 == 8\t4 * 3 == 12\t4 * 4 == 16\t4 * 5 == 20\t4 * 6 == 24\t4 * 7 == 28\t4 * 8 == 32\t4 * 9 == 36\t4 * 10 == 40\t*****************\n",
            "5 * 2 == 10\t5 * 3 == 15\t5 * 4 == 20\t5 * 5 == 25\t5 * 6 == 30\t5 * 7 == 35\t5 * 8 == 40\t5 * 9 == 45\t5 * 10 == 50\t*****************\n"
          ]
        }
      ],
      "source": [
        "import time\n",
        "num = 5\n",
        "x = 1\n",
        "while x <= 5 :\n",
        "  i = 2\n",
        "  while i<=10:\n",
        "    print(x,\"*\",i,\"==\",(i*x), end = \"\\t\")\n",
        "    i = i + 1\n",
        "  print(\"*****************\")\n",
        "  x = x + 1\n",
        "  time.sleep(2)"
      ]
    }
  ],
  "metadata": {
    "colab": {
      "collapsed_sections": [],
      "name": "if condition / While.ipynb",
      "provenance": [],
      "include_colab_link": true
    },
    "kernelspec": {
      "display_name": "Python 3",
      "name": "python3"
    }
  },
  "nbformat": 4,
  "nbformat_minor": 0
}