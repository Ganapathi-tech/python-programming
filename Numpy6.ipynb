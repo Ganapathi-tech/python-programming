{
  "nbformat": 4,
  "nbformat_minor": 0,
  "metadata": {
    "colab": {
      "name": "Numpy6.ipynb",
      "provenance": [],
      "include_colab_link": true
    },
    "kernelspec": {
      "name": "python3",
      "display_name": "Python 3"
    }
  },
  "cells": [
    {
      "cell_type": "markdown",
      "metadata": {
        "id": "view-in-github",
        "colab_type": "text"
      },
      "source": [
        "<a href=\"https://colab.research.google.com/github/Ganapathi-tech/python-programming/blob/main/Numpy6.ipynb\" target=\"_parent\"><img src=\"https://colab.research.google.com/assets/colab-badge.svg\" alt=\"Open In Colab\"/></a>"
      ]
    },
    {
      "cell_type": "code",
      "metadata": {
        "id": "HbuSM5VYLd2x"
      },
      "source": [
        "import numpy as np"
      ],
      "execution_count": null,
      "outputs": []
    },
    {
      "cell_type": "code",
      "metadata": {
        "id": "qnAMVxv5MDHd"
      },
      "source": [
        "ary1 = np.random.randint(1,6,(2,2))\n",
        "ary2 = np.random.randint(1,6,(2,2))"
      ],
      "execution_count": null,
      "outputs": []
    },
    {
      "cell_type": "code",
      "metadata": {
        "colab": {
          "base_uri": "https://localhost:8080/"
        },
        "id": "2sUoNCVpMQ9q",
        "outputId": "38018084-b16f-4fa5-e80e-dabb9e036f52"
      },
      "source": [
        "print(ary1.shape)\n",
        "print(ary2.shape)"
      ],
      "execution_count": null,
      "outputs": [
        {
          "output_type": "stream",
          "text": [
            "(2, 2)\n",
            "(2, 2)\n"
          ],
          "name": "stdout"
        }
      ]
    },
    {
      "cell_type": "code",
      "metadata": {
        "colab": {
          "base_uri": "https://localhost:8080/"
        },
        "id": "_Lod73aWMTsj",
        "outputId": "cd00db5a-6c60-41ec-aeec-08ec140f038c"
      },
      "source": [
        "print(ary1)"
      ],
      "execution_count": null,
      "outputs": [
        {
          "output_type": "stream",
          "text": [
            "[[2 4]\n",
            " [5 2]]\n"
          ],
          "name": "stdout"
        }
      ]
    },
    {
      "cell_type": "code",
      "metadata": {
        "colab": {
          "base_uri": "https://localhost:8080/"
        },
        "id": "5SpeCnvbMYl-",
        "outputId": "cd2d6664-7a49-4c71-d5ba-b6b94498d0b8"
      },
      "source": [
        "print(ary2)"
      ],
      "execution_count": null,
      "outputs": [
        {
          "output_type": "stream",
          "text": [
            "[[2 1]\n",
            " [4 5]]\n"
          ],
          "name": "stdout"
        }
      ]
    },
    {
      "cell_type": "code",
      "metadata": {
        "colab": {
          "base_uri": "https://localhost:8080/"
        },
        "id": "5bnm6MqdMZyh",
        "outputId": "3a98a8f7-4e83-4331-914e-278cac32f3cd"
      },
      "source": [
        "ary1 + ary2"
      ],
      "execution_count": null,
      "outputs": [
        {
          "output_type": "execute_result",
          "data": {
            "text/plain": [
              "array([[4, 5],\n",
              "       [9, 7]])"
            ]
          },
          "metadata": {
            "tags": []
          },
          "execution_count": 6
        }
      ]
    },
    {
      "cell_type": "code",
      "metadata": {
        "colab": {
          "base_uri": "https://localhost:8080/"
        },
        "id": "Uhx0gnIoMhe6",
        "outputId": "bb847e88-89c5-4171-8d1f-a0acef218741"
      },
      "source": [
        "np.add(ary1, ary2)"
      ],
      "execution_count": null,
      "outputs": [
        {
          "output_type": "execute_result",
          "data": {
            "text/plain": [
              "array([[4, 5],\n",
              "       [9, 7]])"
            ]
          },
          "metadata": {
            "tags": []
          },
          "execution_count": 7
        }
      ]
    },
    {
      "cell_type": "code",
      "metadata": {
        "colab": {
          "base_uri": "https://localhost:8080/"
        },
        "id": "1nQmWne_Mrz9",
        "outputId": "a9c01cb8-db22-4748-dbe1-b86dd8b2dcda"
      },
      "source": [
        "ary1 - ary2"
      ],
      "execution_count": null,
      "outputs": [
        {
          "output_type": "execute_result",
          "data": {
            "text/plain": [
              "array([[ 0,  3],\n",
              "       [ 1, -3]])"
            ]
          },
          "metadata": {
            "tags": []
          },
          "execution_count": 8
        }
      ]
    },
    {
      "cell_type": "code",
      "metadata": {
        "colab": {
          "base_uri": "https://localhost:8080/"
        },
        "id": "ay2TIulvMvIE",
        "outputId": "69ca86f4-aa00-441d-bdbc-fe6bf35855bc"
      },
      "source": [
        "np.subtract(ary1, ary2)"
      ],
      "execution_count": null,
      "outputs": [
        {
          "output_type": "execute_result",
          "data": {
            "text/plain": [
              "array([[ 0,  3],\n",
              "       [ 1, -3]])"
            ]
          },
          "metadata": {
            "tags": []
          },
          "execution_count": 9
        }
      ]
    },
    {
      "cell_type": "code",
      "metadata": {
        "colab": {
          "base_uri": "https://localhost:8080/"
        },
        "id": "NHcZeGFdMxo2",
        "outputId": "b6b2e282-0140-466a-e15b-a465ac0b9d12"
      },
      "source": [
        "ary1* ary2"
      ],
      "execution_count": null,
      "outputs": [
        {
          "output_type": "execute_result",
          "data": {
            "text/plain": [
              "array([[ 4,  4],\n",
              "       [20, 10]])"
            ]
          },
          "metadata": {
            "tags": []
          },
          "execution_count": 10
        }
      ]
    },
    {
      "cell_type": "code",
      "metadata": {
        "colab": {
          "base_uri": "https://localhost:8080/"
        },
        "id": "g9ELlH0SMz_7",
        "outputId": "e5542c3d-233f-409a-e7d5-9366acae8f53"
      },
      "source": [
        "np.multiply(ary1, ary2)"
      ],
      "execution_count": null,
      "outputs": [
        {
          "output_type": "execute_result",
          "data": {
            "text/plain": [
              "array([[ 4,  4],\n",
              "       [20, 10]])"
            ]
          },
          "metadata": {
            "tags": []
          },
          "execution_count": 11
        }
      ]
    },
    {
      "cell_type": "code",
      "metadata": {
        "colab": {
          "base_uri": "https://localhost:8080/"
        },
        "id": "4cYN760nM2h-",
        "outputId": "751d9728-6207-4967-e834-e51e6e106233"
      },
      "source": [
        "np.dot(ary1, ary2)"
      ],
      "execution_count": null,
      "outputs": [
        {
          "output_type": "execute_result",
          "data": {
            "text/plain": [
              "array([[20, 22],\n",
              "       [18, 15]])"
            ]
          },
          "metadata": {
            "tags": []
          },
          "execution_count": 12
        }
      ]
    },
    {
      "cell_type": "code",
      "metadata": {
        "colab": {
          "base_uri": "https://localhost:8080/"
        },
        "id": "-c2zFRZxM5st",
        "outputId": "1edd899e-ab38-468a-f900-e92bc55fb816"
      },
      "source": [
        "ary1 / ary2"
      ],
      "execution_count": null,
      "outputs": [
        {
          "output_type": "execute_result",
          "data": {
            "text/plain": [
              "array([[1.  , 4.  ],\n",
              "       [1.25, 0.4 ]])"
            ]
          },
          "metadata": {
            "tags": []
          },
          "execution_count": 13
        }
      ]
    },
    {
      "cell_type": "code",
      "metadata": {
        "colab": {
          "base_uri": "https://localhost:8080/"
        },
        "id": "1W3eq-nAM_9U",
        "outputId": "21490397-45b2-44cd-d47b-afbdb41dd59f"
      },
      "source": [
        "np.divide(ary1, ary2)"
      ],
      "execution_count": null,
      "outputs": [
        {
          "output_type": "execute_result",
          "data": {
            "text/plain": [
              "array([[1.  , 4.  ],\n",
              "       [1.25, 0.4 ]])"
            ]
          },
          "metadata": {
            "tags": []
          },
          "execution_count": 14
        }
      ]
    },
    {
      "cell_type": "code",
      "metadata": {
        "colab": {
          "base_uri": "https://localhost:8080/"
        },
        "id": "NBD3o08XNChJ",
        "outputId": "50c578b5-0afa-4b8b-ff9c-2b0f3067e46c"
      },
      "source": [
        "ary1 % ary2"
      ],
      "execution_count": null,
      "outputs": [
        {
          "output_type": "execute_result",
          "data": {
            "text/plain": [
              "array([[0, 0],\n",
              "       [1, 2]])"
            ]
          },
          "metadata": {
            "tags": []
          },
          "execution_count": 15
        }
      ]
    },
    {
      "cell_type": "code",
      "metadata": {
        "colab": {
          "base_uri": "https://localhost:8080/"
        },
        "id": "7zB0zD8wNGQd",
        "outputId": "2b9feb0d-b92d-4716-e7af-ecfc2ffbd641"
      },
      "source": [
        "np.mod(ary1, ary2)"
      ],
      "execution_count": null,
      "outputs": [
        {
          "output_type": "execute_result",
          "data": {
            "text/plain": [
              "array([[0, 0],\n",
              "       [1, 2]])"
            ]
          },
          "metadata": {
            "tags": []
          },
          "execution_count": 16
        }
      ]
    },
    {
      "cell_type": "code",
      "metadata": {
        "colab": {
          "base_uri": "https://localhost:8080/"
        },
        "id": "Un4QR5rDNI6g",
        "outputId": "dc09a177-4b9f-4283-bf4e-4e50a99b1d3e"
      },
      "source": [
        "ary1 ** ary2"
      ],
      "execution_count": null,
      "outputs": [
        {
          "output_type": "execute_result",
          "data": {
            "text/plain": [
              "array([[  4,   4],\n",
              "       [625,  32]])"
            ]
          },
          "metadata": {
            "tags": []
          },
          "execution_count": 17
        }
      ]
    },
    {
      "cell_type": "code",
      "metadata": {
        "colab": {
          "base_uri": "https://localhost:8080/"
        },
        "id": "Ys3zU59VNLgC",
        "outputId": "ad164118-abf1-497c-b49f-27f086164468"
      },
      "source": [
        "np.power(ary1, ary2)"
      ],
      "execution_count": null,
      "outputs": [
        {
          "output_type": "execute_result",
          "data": {
            "text/plain": [
              "array([[  4,   4],\n",
              "       [625,  32]])"
            ]
          },
          "metadata": {
            "tags": []
          },
          "execution_count": 18
        }
      ]
    },
    {
      "cell_type": "code",
      "metadata": {
        "colab": {
          "base_uri": "https://localhost:8080/"
        },
        "id": "sSkBtDg3NOJ2",
        "outputId": "25c588a9-4436-4a75-d21b-5141a22f6275"
      },
      "source": [
        "ary1"
      ],
      "execution_count": null,
      "outputs": [
        {
          "output_type": "execute_result",
          "data": {
            "text/plain": [
              "array([[2, 4],\n",
              "       [5, 2]])"
            ]
          },
          "metadata": {
            "tags": []
          },
          "execution_count": 19
        }
      ]
    },
    {
      "cell_type": "code",
      "metadata": {
        "colab": {
          "base_uri": "https://localhost:8080/"
        },
        "id": "4HYKh-89NXJp",
        "outputId": "55df8746-39c8-48c3-bc7d-0eb8f28f8819"
      },
      "source": [
        "ary1 + 5"
      ],
      "execution_count": null,
      "outputs": [
        {
          "output_type": "execute_result",
          "data": {
            "text/plain": [
              "array([[ 7,  9],\n",
              "       [10,  7]])"
            ]
          },
          "metadata": {
            "tags": []
          },
          "execution_count": 20
        }
      ]
    },
    {
      "cell_type": "code",
      "metadata": {
        "colab": {
          "base_uri": "https://localhost:8080/"
        },
        "id": "AFL3FKveNYlK",
        "outputId": "4a12f5fe-cce9-4e23-947a-8bcc175662f9"
      },
      "source": [
        "np.add(ary1, 5)"
      ],
      "execution_count": null,
      "outputs": [
        {
          "output_type": "execute_result",
          "data": {
            "text/plain": [
              "array([[ 7,  9],\n",
              "       [10,  7]])"
            ]
          },
          "metadata": {
            "tags": []
          },
          "execution_count": 21
        }
      ]
    },
    {
      "cell_type": "code",
      "metadata": {
        "id": "JZajH7UjNn9B"
      },
      "source": [
        "n1 = np.random.randint(1,9,(3,5))\n",
        "n2 = np.random.randint(1,11,(4,3))"
      ],
      "execution_count": null,
      "outputs": []
    },
    {
      "cell_type": "code",
      "metadata": {
        "colab": {
          "base_uri": "https://localhost:8080/"
        },
        "id": "1zLyVpmPN2ft",
        "outputId": "e6fd5e0a-8908-4801-81c0-3615aff5ac93"
      },
      "source": [
        "n1"
      ],
      "execution_count": null,
      "outputs": [
        {
          "output_type": "execute_result",
          "data": {
            "text/plain": [
              "array([[3, 8, 1, 2, 5],\n",
              "       [7, 7, 1, 4, 7],\n",
              "       [4, 2, 8, 3, 4]])"
            ]
          },
          "metadata": {
            "tags": []
          },
          "execution_count": 23
        }
      ]
    },
    {
      "cell_type": "code",
      "metadata": {
        "colab": {
          "base_uri": "https://localhost:8080/"
        },
        "id": "Quqq9Te1N3mk",
        "outputId": "aaa17d12-5c3b-4150-fb1a-72c434ed7047"
      },
      "source": [
        "n2"
      ],
      "execution_count": null,
      "outputs": [
        {
          "output_type": "execute_result",
          "data": {
            "text/plain": [
              "array([[ 8,  3, 10],\n",
              "       [ 5,  6,  9],\n",
              "       [ 5,  2,  9],\n",
              "       [ 2,  9,  6]])"
            ]
          },
          "metadata": {
            "tags": []
          },
          "execution_count": 24
        }
      ]
    },
    {
      "cell_type": "code",
      "metadata": {
        "colab": {
          "base_uri": "https://localhost:8080/"
        },
        "id": "5oNLeNvYN4Af",
        "outputId": "1c6ccb94-9234-4137-eba9-89fbd9840365"
      },
      "source": [
        "n1.ndim"
      ],
      "execution_count": null,
      "outputs": [
        {
          "output_type": "execute_result",
          "data": {
            "text/plain": [
              "2"
            ]
          },
          "metadata": {
            "tags": []
          },
          "execution_count": 25
        }
      ]
    },
    {
      "cell_type": "code",
      "metadata": {
        "colab": {
          "base_uri": "https://localhost:8080/"
        },
        "id": "73gCGP9-N6Y0",
        "outputId": "62894bb0-b8c8-4a1f-8f42-9557c3811ae7"
      },
      "source": [
        "n2.ndim"
      ],
      "execution_count": null,
      "outputs": [
        {
          "output_type": "execute_result",
          "data": {
            "text/plain": [
              "2"
            ]
          },
          "metadata": {
            "tags": []
          },
          "execution_count": 26
        }
      ]
    },
    {
      "cell_type": "code",
      "metadata": {
        "colab": {
          "base_uri": "https://localhost:8080/"
        },
        "id": "AD9tq7pJN7dA",
        "outputId": "c8af0293-df21-4a76-bd3b-f975506cb754"
      },
      "source": [
        "n1.shape"
      ],
      "execution_count": null,
      "outputs": [
        {
          "output_type": "execute_result",
          "data": {
            "text/plain": [
              "(3, 5)"
            ]
          },
          "metadata": {
            "tags": []
          },
          "execution_count": 27
        }
      ]
    },
    {
      "cell_type": "code",
      "metadata": {
        "colab": {
          "base_uri": "https://localhost:8080/"
        },
        "id": "t1lLdQdoN91A",
        "outputId": "46d5e967-6cf0-46a6-823a-6956f859411e"
      },
      "source": [
        "n2.shape"
      ],
      "execution_count": null,
      "outputs": [
        {
          "output_type": "execute_result",
          "data": {
            "text/plain": [
              "(4, 3)"
            ]
          },
          "metadata": {
            "tags": []
          },
          "execution_count": 28
        }
      ]
    },
    {
      "cell_type": "code",
      "metadata": {
        "colab": {
          "base_uri": "https://localhost:8080/",
          "height": 166
        },
        "id": "PDoVtK5hN-8l",
        "outputId": "6c684e26-1530-40de-e972-b630bc8aef2f"
      },
      "source": [
        "n1 + n2"
      ],
      "execution_count": null,
      "outputs": [
        {
          "output_type": "error",
          "ename": "ValueError",
          "evalue": "ignored",
          "traceback": [
            "\u001b[0;31m---------------------------------------------------------------------------\u001b[0m",
            "\u001b[0;31mValueError\u001b[0m                                Traceback (most recent call last)",
            "\u001b[0;32m<ipython-input-29-7fb1059652d4>\u001b[0m in \u001b[0;36m<module>\u001b[0;34m()\u001b[0m\n\u001b[0;32m----> 1\u001b[0;31m \u001b[0mn1\u001b[0m \u001b[0;34m+\u001b[0m \u001b[0mn2\u001b[0m\u001b[0;34m\u001b[0m\u001b[0;34m\u001b[0m\u001b[0m\n\u001b[0m",
            "\u001b[0;31mValueError\u001b[0m: operands could not be broadcast together with shapes (3,5) (4,3) "
          ]
        }
      ]
    },
    {
      "cell_type": "code",
      "metadata": {
        "id": "mpg3S0BKOCuG"
      },
      "source": [
        "n1 = np.random.randint(1,9,(3,5))\n",
        "n2 = np.random.randint(1,11,(3,1))"
      ],
      "execution_count": null,
      "outputs": []
    },
    {
      "cell_type": "code",
      "metadata": {
        "colab": {
          "base_uri": "https://localhost:8080/"
        },
        "id": "T4_5KOKoOMMU",
        "outputId": "ca767061-c2e2-46ee-c52b-65ca5e54024e"
      },
      "source": [
        "print(n1.ndim)\n",
        "print(n1.shape)"
      ],
      "execution_count": null,
      "outputs": [
        {
          "output_type": "stream",
          "text": [
            "2\n",
            "(3, 5)\n"
          ],
          "name": "stdout"
        }
      ]
    },
    {
      "cell_type": "code",
      "metadata": {
        "colab": {
          "base_uri": "https://localhost:8080/"
        },
        "id": "XV3k_SRIOS8U",
        "outputId": "7fc28339-9493-4591-e6cf-5dfa0a9312ce"
      },
      "source": [
        "print(n2.ndim)\n",
        "print(n2.shape)"
      ],
      "execution_count": null,
      "outputs": [
        {
          "output_type": "stream",
          "text": [
            "2\n",
            "(3, 1)\n"
          ],
          "name": "stdout"
        }
      ]
    },
    {
      "cell_type": "code",
      "metadata": {
        "colab": {
          "base_uri": "https://localhost:8080/"
        },
        "id": "ZBuCeoO6OWl9",
        "outputId": "50d9f922-f2c2-4d34-ba3c-41cc263bbe81"
      },
      "source": [
        "n1 + n2"
      ],
      "execution_count": null,
      "outputs": [
        {
          "output_type": "execute_result",
          "data": {
            "text/plain": [
              "array([[14, 10, 16, 12,  9],\n",
              "       [ 9,  6, 13, 11,  6],\n",
              "       [11,  8, 11, 13, 14]])"
            ]
          },
          "metadata": {
            "tags": []
          },
          "execution_count": 34
        }
      ]
    },
    {
      "cell_type": "code",
      "metadata": {
        "id": "NOO9coujOXhL"
      },
      "source": [
        "np1 = np.random.randint(10,20,(2,4,5))\n",
        "np2 = np.random.randint(15,30,(4,1))"
      ],
      "execution_count": null,
      "outputs": []
    },
    {
      "cell_type": "code",
      "metadata": {
        "colab": {
          "base_uri": "https://localhost:8080/"
        },
        "id": "xCentzD5RUKH",
        "outputId": "64e8c1a4-f64e-4d60-8fa5-352bdbf126cb"
      },
      "source": [
        "np1.shape"
      ],
      "execution_count": null,
      "outputs": [
        {
          "output_type": "execute_result",
          "data": {
            "text/plain": [
              "(2, 4, 5)"
            ]
          },
          "metadata": {
            "tags": []
          },
          "execution_count": 36
        }
      ]
    },
    {
      "cell_type": "code",
      "metadata": {
        "colab": {
          "base_uri": "https://localhost:8080/"
        },
        "id": "wLTPrIUoRVed",
        "outputId": "31d886c9-5ac8-4f76-e85c-2372c52de897"
      },
      "source": [
        "np1.ndim"
      ],
      "execution_count": null,
      "outputs": [
        {
          "output_type": "execute_result",
          "data": {
            "text/plain": [
              "3"
            ]
          },
          "metadata": {
            "tags": []
          },
          "execution_count": 37
        }
      ]
    },
    {
      "cell_type": "code",
      "metadata": {
        "colab": {
          "base_uri": "https://localhost:8080/"
        },
        "id": "medGcnqFRWvP",
        "outputId": "0fa033a9-6a72-4021-bb85-340ab0589bc5"
      },
      "source": [
        "np2.shape"
      ],
      "execution_count": null,
      "outputs": [
        {
          "output_type": "execute_result",
          "data": {
            "text/plain": [
              "(4, 1)"
            ]
          },
          "metadata": {
            "tags": []
          },
          "execution_count": 38
        }
      ]
    },
    {
      "cell_type": "code",
      "metadata": {
        "colab": {
          "base_uri": "https://localhost:8080/"
        },
        "id": "DSELjiJ8RYP7",
        "outputId": "1be4dc35-09f3-41fd-a6cb-617fceac4b3d"
      },
      "source": [
        "np2.ndim"
      ],
      "execution_count": null,
      "outputs": [
        {
          "output_type": "execute_result",
          "data": {
            "text/plain": [
              "2"
            ]
          },
          "metadata": {
            "tags": []
          },
          "execution_count": 39
        }
      ]
    },
    {
      "cell_type": "code",
      "metadata": {
        "colab": {
          "base_uri": "https://localhost:8080/"
        },
        "id": "RHvv-tWJRZwh",
        "outputId": "0ac85aa4-a1da-43f9-bf70-5a06496ea223"
      },
      "source": [
        "np1 + np2"
      ],
      "execution_count": null,
      "outputs": [
        {
          "output_type": "execute_result",
          "data": {
            "text/plain": [
              "array([[[37, 30, 31, 34, 36],\n",
              "        [36, 39, 45, 42, 45],\n",
              "        [29, 35, 29, 37, 38],\n",
              "        [45, 46, 46, 43, 41]],\n",
              "\n",
              "       [[35, 32, 32, 30, 37],\n",
              "        [42, 43, 38, 45, 41],\n",
              "        [33, 38, 38, 32, 36],\n",
              "        [37, 41, 41, 43, 45]]])"
            ]
          },
          "metadata": {
            "tags": []
          },
          "execution_count": 40
        }
      ]
    },
    {
      "cell_type": "code",
      "metadata": {
        "id": "p3mKvkrbRnNy"
      },
      "source": [
        "ary1 = np.array([[11,22],[10,20]])"
      ],
      "execution_count": null,
      "outputs": []
    },
    {
      "cell_type": "code",
      "metadata": {
        "colab": {
          "base_uri": "https://localhost:8080/"
        },
        "id": "8lMxHusVVaH6",
        "outputId": "308ada69-0566-4b6e-88ae-7c73416b165f"
      },
      "source": [
        "type(ary1)"
      ],
      "execution_count": null,
      "outputs": [
        {
          "output_type": "execute_result",
          "data": {
            "text/plain": [
              "numpy.ndarray"
            ]
          },
          "metadata": {
            "tags": []
          },
          "execution_count": 43
        }
      ]
    },
    {
      "cell_type": "code",
      "metadata": {
        "colab": {
          "base_uri": "https://localhost:8080/"
        },
        "id": "-03_WSV4VfDU",
        "outputId": "cc09a318-765c-476a-b5b9-0c2ab7f4a53d"
      },
      "source": [
        "print(ary1\n",
        "      )"
      ],
      "execution_count": null,
      "outputs": [
        {
          "output_type": "stream",
          "text": [
            "[[11 22]\n",
            " [10 20]]\n"
          ],
          "name": "stdout"
        }
      ]
    },
    {
      "cell_type": "code",
      "metadata": {
        "id": "kEbko0oCVike"
      },
      "source": [
        "mat1 = np.matrix([[11,22],[10,20]])"
      ],
      "execution_count": null,
      "outputs": []
    },
    {
      "cell_type": "code",
      "metadata": {
        "colab": {
          "base_uri": "https://localhost:8080/"
        },
        "id": "lPxCeGpqVwLo",
        "outputId": "1919ad45-bd65-40ea-e722-aeb492d23f33"
      },
      "source": [
        "print(mat1)"
      ],
      "execution_count": null,
      "outputs": [
        {
          "output_type": "stream",
          "text": [
            "[[11 22]\n",
            " [10 20]]\n"
          ],
          "name": "stdout"
        }
      ]
    },
    {
      "cell_type": "code",
      "metadata": {
        "colab": {
          "base_uri": "https://localhost:8080/"
        },
        "id": "QwIaeFmkVyFM",
        "outputId": "ae012447-d178-4a6d-f758-58f0c0bd8188"
      },
      "source": [
        "type(mat1)"
      ],
      "execution_count": null,
      "outputs": [
        {
          "output_type": "execute_result",
          "data": {
            "text/plain": [
              "numpy.matrix"
            ]
          },
          "metadata": {
            "tags": []
          },
          "execution_count": 49
        }
      ]
    },
    {
      "cell_type": "code",
      "metadata": {
        "id": "EG1XxYBzV39d"
      },
      "source": [
        "mat1 = np.matrix(\"9,18;3,6\")\n",
        "mat2 = np.matrix([[1,2],[3,4]])"
      ],
      "execution_count": null,
      "outputs": []
    },
    {
      "cell_type": "code",
      "metadata": {
        "colab": {
          "base_uri": "https://localhost:8080/"
        },
        "id": "nlbRDRk3WLaI",
        "outputId": "d8741e0a-f4be-4de7-b960-7fa6d9ed3fe5"
      },
      "source": [
        "mat1"
      ],
      "execution_count": null,
      "outputs": [
        {
          "output_type": "execute_result",
          "data": {
            "text/plain": [
              "matrix([[ 9, 18],\n",
              "        [ 3,  6]])"
            ]
          },
          "metadata": {
            "tags": []
          },
          "execution_count": 62
        }
      ]
    },
    {
      "cell_type": "code",
      "metadata": {
        "id": "VAKHyn8RWMJ2"
      },
      "source": [
        "np1 = np.matrix(\"9,18,8;3,6,9;1,2,3\")"
      ],
      "execution_count": null,
      "outputs": []
    },
    {
      "cell_type": "code",
      "metadata": {
        "colab": {
          "base_uri": "https://localhost:8080/"
        },
        "id": "ufWrHd-1WZWL",
        "outputId": "afc03c2d-6f6f-4de7-ee3f-7397c6eec028"
      },
      "source": [
        "np1"
      ],
      "execution_count": null,
      "outputs": [
        {
          "output_type": "execute_result",
          "data": {
            "text/plain": [
              "matrix([[ 9, 18,  8],\n",
              "        [ 3,  6,  9],\n",
              "        [ 1,  2,  3]])"
            ]
          },
          "metadata": {
            "tags": []
          },
          "execution_count": 58
        }
      ]
    },
    {
      "cell_type": "code",
      "metadata": {
        "colab": {
          "base_uri": "https://localhost:8080/"
        },
        "id": "gYJKFIZqWaFX",
        "outputId": "2a2b7299-2288-4415-839e-ac661dca5c02"
      },
      "source": [
        "mat1"
      ],
      "execution_count": null,
      "outputs": [
        {
          "output_type": "execute_result",
          "data": {
            "text/plain": [
              "matrix([[ 9, 18],\n",
              "        [ 3,  6]])"
            ]
          },
          "metadata": {
            "tags": []
          },
          "execution_count": 63
        }
      ]
    },
    {
      "cell_type": "code",
      "metadata": {
        "colab": {
          "base_uri": "https://localhost:8080/"
        },
        "id": "dPNBJBcXWqGA",
        "outputId": "495b6d62-16e3-43f6-aaa7-606b29c02640"
      },
      "source": [
        "mat2"
      ],
      "execution_count": null,
      "outputs": [
        {
          "output_type": "execute_result",
          "data": {
            "text/plain": [
              "matrix([[1, 2],\n",
              "        [3, 4]])"
            ]
          },
          "metadata": {
            "tags": []
          },
          "execution_count": 64
        }
      ]
    },
    {
      "cell_type": "code",
      "metadata": {
        "colab": {
          "base_uri": "https://localhost:8080/"
        },
        "id": "v1QXx5mRWqh_",
        "outputId": "649682d2-fa74-4335-e797-e444ed62e00f"
      },
      "source": [
        "mat1 + mat2"
      ],
      "execution_count": null,
      "outputs": [
        {
          "output_type": "execute_result",
          "data": {
            "text/plain": [
              "matrix([[10, 20],\n",
              "        [ 6, 10]])"
            ]
          },
          "metadata": {
            "tags": []
          },
          "execution_count": 65
        }
      ]
    },
    {
      "cell_type": "code",
      "metadata": {
        "colab": {
          "base_uri": "https://localhost:8080/"
        },
        "id": "fcL5eunxWtPH",
        "outputId": "32e1d987-5e83-46d3-d4d5-6c40d86a4680"
      },
      "source": [
        "mat1* mat2"
      ],
      "execution_count": null,
      "outputs": [
        {
          "output_type": "execute_result",
          "data": {
            "text/plain": [
              "matrix([[63, 90],\n",
              "        [21, 30]])"
            ]
          },
          "metadata": {
            "tags": []
          },
          "execution_count": 66
        }
      ]
    },
    {
      "cell_type": "code",
      "metadata": {
        "id": "AQba7cIpWv2E"
      },
      "source": [
        "# Determinent \n",
        "# Inverse\n",
        "# power\n",
        "# linear equation"
      ],
      "execution_count": null,
      "outputs": []
    },
    {
      "cell_type": "code",
      "metadata": {
        "id": "dNqvFi1bXS7Q"
      },
      "source": [
        "mat5 = np.matrix(\"1,2;3,4\")"
      ],
      "execution_count": null,
      "outputs": []
    },
    {
      "cell_type": "code",
      "metadata": {
        "colab": {
          "base_uri": "https://localhost:8080/"
        },
        "id": "B3C4NyqoXyHX",
        "outputId": "78efac1a-9f3f-4972-e330-e07a1a9fe07e"
      },
      "source": [
        "mat5"
      ],
      "execution_count": null,
      "outputs": [
        {
          "output_type": "execute_result",
          "data": {
            "text/plain": [
              "matrix([[1, 2],\n",
              "        [3, 4]])"
            ]
          },
          "metadata": {
            "tags": []
          },
          "execution_count": 68
        }
      ]
    },
    {
      "cell_type": "code",
      "metadata": {
        "colab": {
          "base_uri": "https://localhost:8080/"
        },
        "id": "oTBPhXFmXy0P",
        "outputId": "a116c50d-8d0c-468c-c281-5692c6f4a992"
      },
      "source": [
        "a = np.linalg.det(mat5)\n",
        "round(a)"
      ],
      "execution_count": null,
      "outputs": [
        {
          "output_type": "execute_result",
          "data": {
            "text/plain": [
              "-2"
            ]
          },
          "metadata": {
            "tags": []
          },
          "execution_count": 70
        }
      ]
    },
    {
      "cell_type": "code",
      "metadata": {
        "id": "2Emk-HVJX7tt"
      },
      "source": [
        "mat33 = np.matrix(\"1,2,3;2,3,4;1,4,2\")"
      ],
      "execution_count": null,
      "outputs": []
    },
    {
      "cell_type": "code",
      "metadata": {
        "colab": {
          "base_uri": "https://localhost:8080/"
        },
        "id": "nwZXmZAZYWCz",
        "outputId": "3e359a83-3d4f-4f4b-cb2e-5dd6d983359f"
      },
      "source": [
        "mat33"
      ],
      "execution_count": null,
      "outputs": [
        {
          "output_type": "execute_result",
          "data": {
            "text/plain": [
              "matrix([[1, 2, 3],\n",
              "        [2, 3, 4],\n",
              "        [1, 4, 2]])"
            ]
          },
          "metadata": {
            "tags": []
          },
          "execution_count": 72
        }
      ]
    },
    {
      "cell_type": "code",
      "metadata": {
        "colab": {
          "base_uri": "https://localhost:8080/"
        },
        "id": "m2IR0tW9YWs4",
        "outputId": "17d9e087-dda8-47e3-9956-369e035198e0"
      },
      "source": [
        "b = np.linalg.det(mat33)\n",
        "round(b)"
      ],
      "execution_count": null,
      "outputs": [
        {
          "output_type": "execute_result",
          "data": {
            "text/plain": [
              "5"
            ]
          },
          "metadata": {
            "tags": []
          },
          "execution_count": 74
        }
      ]
    },
    {
      "cell_type": "code",
      "metadata": {
        "id": "SkgoVbr9YxA9"
      },
      "source": [
        "matx = np.matrix(\"1,2;3,4\")"
      ],
      "execution_count": null,
      "outputs": []
    },
    {
      "cell_type": "code",
      "metadata": {
        "colab": {
          "base_uri": "https://localhost:8080/"
        },
        "id": "5wyrgLzhZzK6",
        "outputId": "7cfd1e8b-323e-4772-e047-75889fc39744"
      },
      "source": [
        "matx"
      ],
      "execution_count": null,
      "outputs": [
        {
          "output_type": "execute_result",
          "data": {
            "text/plain": [
              "matrix([[1, 2],\n",
              "        [3, 4]])"
            ]
          },
          "metadata": {
            "tags": []
          },
          "execution_count": 76
        }
      ]
    },
    {
      "cell_type": "code",
      "metadata": {
        "colab": {
          "base_uri": "https://localhost:8080/"
        },
        "id": "np0eUnpxZzml",
        "outputId": "f0f7d3ac-bcf9-4a26-fd63-c7bd6a877274"
      },
      "source": [
        "np.linalg.inv(matx)"
      ],
      "execution_count": null,
      "outputs": [
        {
          "output_type": "execute_result",
          "data": {
            "text/plain": [
              "matrix([[-2. ,  1. ],\n",
              "        [ 1.5, -0.5]])"
            ]
          },
          "metadata": {
            "tags": []
          },
          "execution_count": 77
        }
      ]
    },
    {
      "cell_type": "code",
      "metadata": {
        "colab": {
          "base_uri": "https://localhost:8080/"
        },
        "id": "MpDlGqv_Z52H",
        "outputId": "f2285150-9f35-4e35-c80c-8761a287b075"
      },
      "source": [
        "np.linalg.matrix_power(matx,-1) "
      ],
      "execution_count": null,
      "outputs": [
        {
          "output_type": "execute_result",
          "data": {
            "text/plain": [
              "matrix([[-2. ,  1. ],\n",
              "        [ 1.5, -0.5]])"
            ]
          },
          "metadata": {
            "tags": []
          },
          "execution_count": 81
        }
      ]
    },
    {
      "cell_type": "code",
      "metadata": {
        "colab": {
          "base_uri": "https://localhost:8080/"
        },
        "id": "yzsVArK-aQ2S",
        "outputId": "aad1b5a2-e0d9-4de4-b0d5-2d70090fdd05"
      },
      "source": [
        "matx*matx"
      ],
      "execution_count": null,
      "outputs": [
        {
          "output_type": "execute_result",
          "data": {
            "text/plain": [
              "matrix([[ 7, 10],\n",
              "        [15, 22]])"
            ]
          },
          "metadata": {
            "tags": []
          },
          "execution_count": 79
        }
      ]
    },
    {
      "cell_type": "code",
      "metadata": {
        "id": "Hej-0mUxaTGX"
      },
      "source": [
        "a = np.array([[3,1],[1,2]])"
      ],
      "execution_count": null,
      "outputs": []
    },
    {
      "cell_type": "code",
      "metadata": {
        "id": "f9KuF_Awbrke"
      },
      "source": [
        "b = np.array([9,8])"
      ],
      "execution_count": null,
      "outputs": []
    },
    {
      "cell_type": "code",
      "metadata": {
        "colab": {
          "base_uri": "https://localhost:8080/"
        },
        "id": "hRNIia8Zbum1",
        "outputId": "e094b123-2074-447c-c05f-cffd1df787a7"
      },
      "source": [
        "np.linalg.solve(a,b)"
      ],
      "execution_count": null,
      "outputs": [
        {
          "output_type": "execute_result",
          "data": {
            "text/plain": [
              "array([2., 3.])"
            ]
          },
          "metadata": {
            "tags": []
          },
          "execution_count": 92
        }
      ]
    },
    {
      "cell_type": "code",
      "metadata": {
        "id": "VGTQC93ub5uk"
      },
      "source": [
        "x =np.array([[6,2,-5],[3,3,-2],[7,5,-3]])"
      ],
      "execution_count": null,
      "outputs": []
    },
    {
      "cell_type": "code",
      "metadata": {
        "id": "8DT_QqAUc2qW"
      },
      "source": [
        "y = np.array([13,13,16])"
      ],
      "execution_count": null,
      "outputs": []
    },
    {
      "cell_type": "code",
      "metadata": {
        "colab": {
          "base_uri": "https://localhost:8080/"
        },
        "id": "NThVZPLqdAiA",
        "outputId": "7b4faa26-f8dd-41ce-cef7-d529f5eb4235"
      },
      "source": [
        "np.linalg.solve(x,y)"
      ],
      "execution_count": null,
      "outputs": [
        {
          "output_type": "execute_result",
          "data": {
            "text/plain": [
              "array([-2.23076923,  4.15384615, -3.61538462])"
            ]
          },
          "metadata": {
            "tags": []
          },
          "execution_count": 97
        }
      ]
    },
    {
      "cell_type": "code",
      "metadata": {
        "id": "-72CrYfydDw4"
      },
      "source": [
        ""
      ],
      "execution_count": null,
      "outputs": []
    }
  ]
}