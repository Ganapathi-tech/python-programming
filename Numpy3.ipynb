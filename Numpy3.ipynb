{
  "nbformat": 4,
  "nbformat_minor": 0,
  "metadata": {
    "colab": {
      "name": "Numpy3.ipynb",
      "provenance": [],
      "include_colab_link": true
    },
    "kernelspec": {
      "name": "python3",
      "display_name": "Python 3"
    }
  },
  "cells": [
    {
      "cell_type": "markdown",
      "metadata": {
        "id": "view-in-github",
        "colab_type": "text"
      },
      "source": [
        "<a href=\"https://colab.research.google.com/github/Ganapathi-tech/python-programming/blob/main/Numpy3.ipynb\" target=\"_parent\"><img src=\"https://colab.research.google.com/assets/colab-badge.svg\" alt=\"Open In Colab\"/></a>"
      ]
    },
    {
      "cell_type": "code",
      "metadata": {
        "id": "mM38yVKI82TJ"
      },
      "source": [
        "import numpy as np"
      ],
      "execution_count": null,
      "outputs": []
    },
    {
      "cell_type": "code",
      "metadata": {
        "id": "V_rXj_5c9E2F"
      },
      "source": [
        "np1 = np.arange(11,20)"
      ],
      "execution_count": null,
      "outputs": []
    },
    {
      "cell_type": "code",
      "metadata": {
        "colab": {
          "base_uri": "https://localhost:8080/"
        },
        "id": "SZZBuQ5e9TiE",
        "outputId": "91d8235d-f51c-4e03-b5c6-7bbf9907f14f"
      },
      "source": [
        "print(np1)"
      ],
      "execution_count": null,
      "outputs": [
        {
          "output_type": "stream",
          "text": [
            "[11 12 13 14 15 16 17 18 19]\n"
          ],
          "name": "stdout"
        }
      ]
    },
    {
      "cell_type": "code",
      "metadata": {
        "id": "iSBhyMJp9VMO"
      },
      "source": [
        ""
      ],
      "execution_count": null,
      "outputs": []
    },
    {
      "cell_type": "code",
      "metadata": {
        "colab": {
          "base_uri": "https://localhost:8080/"
        },
        "id": "kczkacYK9txQ",
        "outputId": "ccb04f93-a728-4693-ae8a-4386fefc3bea"
      },
      "source": [
        "np1[5]"
      ],
      "execution_count": null,
      "outputs": [
        {
          "output_type": "execute_result",
          "data": {
            "text/plain": [
              "16"
            ]
          },
          "metadata": {
            "tags": []
          },
          "execution_count": 5
        }
      ]
    },
    {
      "cell_type": "code",
      "metadata": {
        "id": "m2T3kEKl9wz0"
      },
      "source": [
        "np2 = np.random.randint(18, 27, (4,4))"
      ],
      "execution_count": null,
      "outputs": []
    },
    {
      "cell_type": "code",
      "metadata": {
        "colab": {
          "base_uri": "https://localhost:8080/"
        },
        "id": "V4l2mHwK-QwZ",
        "outputId": "c613cf46-e549-461e-be80-7d44415b5820"
      },
      "source": [
        "print(np2)"
      ],
      "execution_count": null,
      "outputs": [
        {
          "output_type": "stream",
          "text": [
            "[[19 25 23 20]\n",
            " [19 20 24 23]\n",
            " [19 19 20 26]\n",
            " [20 26 18 20]]\n"
          ],
          "name": "stdout"
        }
      ]
    },
    {
      "cell_type": "code",
      "metadata": {
        "id": "pqB-t0tB-Th1"
      },
      "source": [
        "np3 = np.random.randint(25,40,(2,4,4))"
      ],
      "execution_count": null,
      "outputs": []
    },
    {
      "cell_type": "code",
      "metadata": {
        "colab": {
          "base_uri": "https://localhost:8080/"
        },
        "id": "gr0TP5cgAYpS",
        "outputId": "d793b2c7-d290-4721-aed1-e86281981239"
      },
      "source": [
        "print(np3)"
      ],
      "execution_count": null,
      "outputs": [
        {
          "output_type": "stream",
          "text": [
            "[[[39 33 38 35]\n",
            "  [26 27 33 38]\n",
            "  [39 26 30 25]\n",
            "  [28 29 32 37]]\n",
            "\n",
            " [[36 35 29 37]\n",
            "  [39 37 26 34]\n",
            "  [34 36 28 32]\n",
            "  [35 34 28 29]]]\n"
          ],
          "name": "stdout"
        }
      ]
    },
    {
      "cell_type": "code",
      "metadata": {
        "colab": {
          "base_uri": "https://localhost:8080/"
        },
        "id": "8JBiRte_AZx-",
        "outputId": "2d45574d-c698-46ab-d76b-1496165fb19f"
      },
      "source": [
        "# np3[3rd dim][Rows][Columns]\n",
        "np3[0][1][2]"
      ],
      "execution_count": null,
      "outputs": [
        {
          "output_type": "execute_result",
          "data": {
            "text/plain": [
              "33"
            ]
          },
          "metadata": {
            "tags": []
          },
          "execution_count": 11
        }
      ]
    },
    {
      "cell_type": "code",
      "metadata": {
        "colab": {
          "base_uri": "https://localhost:8080/"
        },
        "id": "tm7cm6iMCrGv",
        "outputId": "e529c564-3401-438a-92b2-d969669f0748"
      },
      "source": [
        "np3"
      ],
      "execution_count": null,
      "outputs": [
        {
          "output_type": "execute_result",
          "data": {
            "text/plain": [
              "array([[[39, 33, 38, 35],\n",
              "        [26, 27, 33, 38],\n",
              "        [39, 26, 30, 25],\n",
              "        [28, 29, 32, 37]],\n",
              "\n",
              "       [[36, 35, 29, 37],\n",
              "        [39, 37, 26, 34],\n",
              "        [34, 36, 28, 32],\n",
              "        [35, 34, 28, 29]]])"
            ]
          },
          "metadata": {
            "tags": []
          },
          "execution_count": 12
        }
      ]
    },
    {
      "cell_type": "code",
      "metadata": {
        "colab": {
          "base_uri": "https://localhost:8080/"
        },
        "id": "lSwqR8AHCyVI",
        "outputId": "06b0715b-7887-403c-8270-f48e62d3ae85"
      },
      "source": [
        "np3[1][2][1]"
      ],
      "execution_count": null,
      "outputs": [
        {
          "output_type": "execute_result",
          "data": {
            "text/plain": [
              "36"
            ]
          },
          "metadata": {
            "tags": []
          },
          "execution_count": 13
        }
      ]
    },
    {
      "cell_type": "code",
      "metadata": {
        "id": "S_-8GMxwC-n9"
      },
      "source": [
        "np4 = np.random.randint(50,90,(2,3,2,6))"
      ],
      "execution_count": null,
      "outputs": []
    },
    {
      "cell_type": "code",
      "metadata": {
        "colab": {
          "base_uri": "https://localhost:8080/"
        },
        "id": "URy09Gt1DRdr",
        "outputId": "32a9b82d-c848-46bc-b26e-912d5e7ca90c"
      },
      "source": [
        "np4"
      ],
      "execution_count": null,
      "outputs": [
        {
          "output_type": "execute_result",
          "data": {
            "text/plain": [
              "array([[[[59, 50, 87, 82, 79, 59],\n",
              "         [75, 84, 72, 50, 69, 59]],\n",
              "\n",
              "        [[54, 83, 83, 66, 53, 50],\n",
              "         [66, 88, 87, 54, 61, 84]],\n",
              "\n",
              "        [[50, 59, 60, 84, 52, 64],\n",
              "         [64, 74, 74, 63, 76, 56]]],\n",
              "\n",
              "\n",
              "       [[[61, 87, 69, 51, 83, 52],\n",
              "         [84, 70, 54, 57, 62, 75]],\n",
              "\n",
              "        [[72, 53, 77, 63, 63, 89],\n",
              "         [70, 68, 66, 54, 70, 89]],\n",
              "\n",
              "        [[83, 57, 57, 60, 71, 73],\n",
              "         [75, 55, 52, 77, 80, 75]]]])"
            ]
          },
          "metadata": {
            "tags": []
          },
          "execution_count": 17
        }
      ]
    },
    {
      "cell_type": "code",
      "metadata": {
        "colab": {
          "base_uri": "https://localhost:8080/"
        },
        "id": "ed9dju0PDSP_",
        "outputId": "7d784b21-8660-44f3-cfd9-a52ba14c3718"
      },
      "source": [
        "np4.shape"
      ],
      "execution_count": null,
      "outputs": [
        {
          "output_type": "execute_result",
          "data": {
            "text/plain": [
              "(2, 3, 2, 6)"
            ]
          },
          "metadata": {
            "tags": []
          },
          "execution_count": 18
        }
      ]
    },
    {
      "cell_type": "code",
      "metadata": {
        "colab": {
          "base_uri": "https://localhost:8080/"
        },
        "id": "ISkuMWElDd7O",
        "outputId": "8fc3987d-27e5-4642-feb1-1e584a1feb23"
      },
      "source": [
        "np4"
      ],
      "execution_count": null,
      "outputs": [
        {
          "output_type": "execute_result",
          "data": {
            "text/plain": [
              "array([[[[59, 50, 87, 82, 79, 59],\n",
              "         [75, 84, 72, 50, 69, 59]],\n",
              "\n",
              "        [[54, 83, 83, 66, 53, 50],\n",
              "         [66, 88, 87, 54, 61, 84]],\n",
              "\n",
              "        [[50, 59, 60, 84, 52, 64],\n",
              "         [64, 74, 74, 63, 76, 56]]],\n",
              "\n",
              "\n",
              "       [[[61, 87, 69, 51, 83, 52],\n",
              "         [84, 70, 54, 57, 62, 75]],\n",
              "\n",
              "        [[72, 53, 77, 63, 63, 89],\n",
              "         [70, 68, 66, 54, 70, 89]],\n",
              "\n",
              "        [[83, 57, 57, 60, 71, 73],\n",
              "         [75, 55, 52, 77, 80, 75]]]])"
            ]
          },
          "metadata": {
            "tags": []
          },
          "execution_count": 19
        }
      ]
    },
    {
      "cell_type": "code",
      "metadata": {
        "colab": {
          "base_uri": "https://localhost:8080/"
        },
        "id": "hs3giPfrEnt1",
        "outputId": "8a3464a9-50ef-42a9-ce51-31d2de07714f"
      },
      "source": [
        "np4[0][1][0][0]"
      ],
      "execution_count": null,
      "outputs": [
        {
          "output_type": "execute_result",
          "data": {
            "text/plain": [
              "54"
            ]
          },
          "metadata": {
            "tags": []
          },
          "execution_count": 20
        }
      ]
    },
    {
      "cell_type": "code",
      "metadata": {
        "colab": {
          "base_uri": "https://localhost:8080/"
        },
        "id": "WRytWqxRE0R0",
        "outputId": "de842aff-04a2-42f4-8805-0af060272678"
      },
      "source": [
        "np4"
      ],
      "execution_count": null,
      "outputs": [
        {
          "output_type": "execute_result",
          "data": {
            "text/plain": [
              "array([[[[59, 50, 87, 82, 79, 59],\n",
              "         [75, 84, 72, 50, 69, 59]],\n",
              "\n",
              "        [[54, 83, 83, 66, 53, 50],\n",
              "         [66, 88, 87, 54, 61, 84]],\n",
              "\n",
              "        [[50, 59, 60, 84, 52, 64],\n",
              "         [64, 74, 74, 63, 76, 56]]],\n",
              "\n",
              "\n",
              "       [[[61, 87, 69, 51, 83, 52],\n",
              "         [84, 70, 54, 57, 62, 75]],\n",
              "\n",
              "        [[72, 53, 77, 63, 63, 89],\n",
              "         [70, 68, 66, 54, 70, 89]],\n",
              "\n",
              "        [[83, 57, 57, 60, 71, 73],\n",
              "         [75, 55, 52, 77, 80, 75]]]])"
            ]
          },
          "metadata": {
            "tags": []
          },
          "execution_count": 21
        }
      ]
    },
    {
      "cell_type": "code",
      "metadata": {
        "id": "9wq4VyvJE4il"
      },
      "source": [
        "ary4 = np.random.randint(10,30,(2,3,4,4))"
      ],
      "execution_count": null,
      "outputs": []
    },
    {
      "cell_type": "code",
      "metadata": {
        "colab": {
          "base_uri": "https://localhost:8080/"
        },
        "id": "y-_zm_vpFG77",
        "outputId": "db3520dc-fa34-47b8-9f08-9471aa1704fe"
      },
      "source": [
        "ary4"
      ],
      "execution_count": null,
      "outputs": [
        {
          "output_type": "execute_result",
          "data": {
            "text/plain": [
              "array([[[[11, 21, 20, 13],\n",
              "         [28, 24, 25, 12],\n",
              "         [27, 24, 12, 16],\n",
              "         [10, 13, 26, 20]],\n",
              "\n",
              "        [[10, 27, 10, 25],\n",
              "         [28, 10, 20, 29],\n",
              "         [20, 29, 16, 22],\n",
              "         [19, 13, 15, 16]],\n",
              "\n",
              "        [[21, 11, 28, 25],\n",
              "         [15, 21, 29, 12],\n",
              "         [28, 20, 29, 10],\n",
              "         [14, 23, 11, 12]]],\n",
              "\n",
              "\n",
              "       [[[23, 24, 24, 19],\n",
              "         [15, 24, 21, 26],\n",
              "         [13, 23, 16, 28],\n",
              "         [21, 20, 15, 17]],\n",
              "\n",
              "        [[19, 20, 16, 19],\n",
              "         [15, 20, 23, 10],\n",
              "         [25, 28, 21, 10],\n",
              "         [13, 29, 11, 19]],\n",
              "\n",
              "        [[26, 26, 26, 10],\n",
              "         [11, 14, 27, 25],\n",
              "         [26, 23, 11, 11],\n",
              "         [27, 27, 24, 10]]]])"
            ]
          },
          "metadata": {
            "tags": []
          },
          "execution_count": 23
        }
      ]
    },
    {
      "cell_type": "code",
      "metadata": {
        "colab": {
          "base_uri": "https://localhost:8080/"
        },
        "id": "eUi1yrONFIEj",
        "outputId": "bc556d48-508a-4d42-e88a-cb8d0c8fc948"
      },
      "source": [
        "ary4[ 0 ][ 2 ][ 1 ][ 2 ]"
      ],
      "execution_count": null,
      "outputs": [
        {
          "output_type": "execute_result",
          "data": {
            "text/plain": [
              "29"
            ]
          },
          "metadata": {
            "tags": []
          },
          "execution_count": 24
        }
      ]
    },
    {
      "cell_type": "code",
      "metadata": {
        "colab": {
          "base_uri": "https://localhost:8080/"
        },
        "id": "V25QYT4uGSBE",
        "outputId": "7f55028a-c719-4ce3-96db-6f338a5bd634"
      },
      "source": [
        "np2"
      ],
      "execution_count": null,
      "outputs": [
        {
          "output_type": "execute_result",
          "data": {
            "text/plain": [
              "array([[19, 25, 23, 20],\n",
              "       [19, 20, 24, 23],\n",
              "       [19, 19, 20, 26],\n",
              "       [20, 26, 18, 20]])"
            ]
          },
          "metadata": {
            "tags": []
          },
          "execution_count": 25
        }
      ]
    },
    {
      "cell_type": "code",
      "metadata": {
        "colab": {
          "base_uri": "https://localhost:8080/"
        },
        "id": "sXPvGHKOGTKe",
        "outputId": "a9df10f7-c03e-4820-debb-0bcbdc5c547c"
      },
      "source": [
        "np2.ndim"
      ],
      "execution_count": null,
      "outputs": [
        {
          "output_type": "execute_result",
          "data": {
            "text/plain": [
              "2"
            ]
          },
          "metadata": {
            "tags": []
          },
          "execution_count": 26
        }
      ]
    },
    {
      "cell_type": "code",
      "metadata": {
        "colab": {
          "base_uri": "https://localhost:8080/"
        },
        "id": "5kX2DtpTGXWq",
        "outputId": "5b5b81f8-0bfc-48ea-8c1a-00e973916452"
      },
      "source": [
        "np2[1][2]"
      ],
      "execution_count": null,
      "outputs": [
        {
          "output_type": "execute_result",
          "data": {
            "text/plain": [
              "24"
            ]
          },
          "metadata": {
            "tags": []
          },
          "execution_count": 27
        }
      ]
    },
    {
      "cell_type": "code",
      "metadata": {
        "colab": {
          "base_uri": "https://localhost:8080/"
        },
        "id": "QU2esHVfGg8R",
        "outputId": "bf680f43-3a4b-4d54-d10a-134b054a3e9a"
      },
      "source": [
        "# np2[<Rows>   , <Columns>    ]\n",
        "np2[1,2]"
      ],
      "execution_count": null,
      "outputs": [
        {
          "output_type": "execute_result",
          "data": {
            "text/plain": [
              "24"
            ]
          },
          "metadata": {
            "tags": []
          },
          "execution_count": 28
        }
      ]
    },
    {
      "cell_type": "code",
      "metadata": {
        "colab": {
          "base_uri": "https://localhost:8080/"
        },
        "id": "pFc7T205HD0J",
        "outputId": "ffa5cf67-f9a6-42e1-f1ce-9bb8d7c09ee9"
      },
      "source": [
        "np2"
      ],
      "execution_count": null,
      "outputs": [
        {
          "output_type": "execute_result",
          "data": {
            "text/plain": [
              "array([[19, 25, 23, 20],\n",
              "       [19, 20, 24, 23],\n",
              "       [19, 19, 20, 26],\n",
              "       [20, 26, 18, 20]])"
            ]
          },
          "metadata": {
            "tags": []
          },
          "execution_count": 29
        }
      ]
    },
    {
      "cell_type": "code",
      "metadata": {
        "colab": {
          "base_uri": "https://localhost:8080/"
        },
        "id": "AgHsQfmRHExV",
        "outputId": "0cae0b8e-6a5a-42f4-80a1-55ebe8fd7128"
      },
      "source": [
        "np2[3][1]"
      ],
      "execution_count": null,
      "outputs": [
        {
          "output_type": "execute_result",
          "data": {
            "text/plain": [
              "26"
            ]
          },
          "metadata": {
            "tags": []
          },
          "execution_count": 30
        }
      ]
    },
    {
      "cell_type": "code",
      "metadata": {
        "colab": {
          "base_uri": "https://localhost:8080/"
        },
        "id": "TBahbg5UHMzj",
        "outputId": "6813e393-d159-41e1-c6ad-4499863d64ae"
      },
      "source": [
        "np2[3 ,1 ]"
      ],
      "execution_count": null,
      "outputs": [
        {
          "output_type": "execute_result",
          "data": {
            "text/plain": [
              "26"
            ]
          },
          "metadata": {
            "tags": []
          },
          "execution_count": 31
        }
      ]
    },
    {
      "cell_type": "code",
      "metadata": {
        "colab": {
          "base_uri": "https://localhost:8080/"
        },
        "id": "wTh92ipJHPYH",
        "outputId": "c149a32e-cbea-4b82-b925-2f8a9e2af9ca"
      },
      "source": [
        "# np3[ <3rd Dim>  , <Rows>   , <Columns>   ]\n",
        "np3"
      ],
      "execution_count": null,
      "outputs": [
        {
          "output_type": "execute_result",
          "data": {
            "text/plain": [
              "array([[[39, 33, 38, 35],\n",
              "        [26, 27, 33, 38],\n",
              "        [39, 26, 30, 25],\n",
              "        [28, 29, 32, 37]],\n",
              "\n",
              "       [[36, 35, 29, 37],\n",
              "        [39, 37, 26, 34],\n",
              "        [34, 36, 28, 32],\n",
              "        [35, 34, 28, 29]]])"
            ]
          },
          "metadata": {
            "tags": []
          },
          "execution_count": 32
        }
      ]
    },
    {
      "cell_type": "code",
      "metadata": {
        "colab": {
          "base_uri": "https://localhost:8080/"
        },
        "id": "j0AAUl3THbf7",
        "outputId": "d4a1812d-a492-46ec-87e9-64214969ecdb"
      },
      "source": [
        "np3[0][1][2]"
      ],
      "execution_count": null,
      "outputs": [
        {
          "output_type": "execute_result",
          "data": {
            "text/plain": [
              "33"
            ]
          },
          "metadata": {
            "tags": []
          },
          "execution_count": 33
        }
      ]
    },
    {
      "cell_type": "code",
      "metadata": {
        "colab": {
          "base_uri": "https://localhost:8080/"
        },
        "id": "qBptd5JbHo1e",
        "outputId": "c1466040-3977-4bf7-9aaf-5fded67d386f"
      },
      "source": [
        "np3[  0      ,     1      ,   2       ]"
      ],
      "execution_count": null,
      "outputs": [
        {
          "output_type": "execute_result",
          "data": {
            "text/plain": [
              "33"
            ]
          },
          "metadata": {
            "tags": []
          },
          "execution_count": 34
        }
      ]
    },
    {
      "cell_type": "code",
      "metadata": {
        "colab": {
          "base_uri": "https://localhost:8080/"
        },
        "id": "m6D0rsa2HxVk",
        "outputId": "81d5f436-6aea-4a36-9e55-4b65d3deef27"
      },
      "source": [
        "np1"
      ],
      "execution_count": null,
      "outputs": [
        {
          "output_type": "execute_result",
          "data": {
            "text/plain": [
              "array([11, 12, 13, 14, 15, 16, 17, 18, 19])"
            ]
          },
          "metadata": {
            "tags": []
          },
          "execution_count": 35
        }
      ]
    },
    {
      "cell_type": "code",
      "metadata": {
        "colab": {
          "base_uri": "https://localhost:8080/"
        },
        "id": "yBjYEzBmIInv",
        "outputId": "048842c3-3d06-4a97-d0f2-5d0bef7faede"
      },
      "source": [
        "# np1[start : stop : step]\n",
        "# step = +ve, always starting index < ending index\n",
        "# step = -ve : always starting index > ending index\n",
        "\n",
        "np1[2 : 6 : 1]"
      ],
      "execution_count": null,
      "outputs": [
        {
          "output_type": "execute_result",
          "data": {
            "text/plain": [
              "array([13, 14, 15, 16])"
            ]
          },
          "metadata": {
            "tags": []
          },
          "execution_count": 36
        }
      ]
    },
    {
      "cell_type": "code",
      "metadata": {
        "colab": {
          "base_uri": "https://localhost:8080/"
        },
        "id": "AI2TEBsfIZ6u",
        "outputId": "d6604b1b-00c7-4480-ef3c-c6a1cc9445a0"
      },
      "source": [
        "np2"
      ],
      "execution_count": null,
      "outputs": [
        {
          "output_type": "execute_result",
          "data": {
            "text/plain": [
              "array([[19, 25, 23, 20],\n",
              "       [19, 20, 24, 23],\n",
              "       [19, 19, 20, 26],\n",
              "       [20, 26, 18, 20]])"
            ]
          },
          "metadata": {
            "tags": []
          },
          "execution_count": 37
        }
      ]
    },
    {
      "cell_type": "code",
      "metadata": {
        "id": "UEYWzOdWI0TI"
      },
      "source": [
        "# np2[row][columns]\n",
        "# np2[<rows> , <columns>]"
      ],
      "execution_count": null,
      "outputs": []
    },
    {
      "cell_type": "code",
      "metadata": {
        "colab": {
          "base_uri": "https://localhost:8080/"
        },
        "id": "Ays520n_I8_h",
        "outputId": "2af739f6-e684-42d9-c49a-0c3d597f38c6"
      },
      "source": [
        "np2[1:3:1, : :]"
      ],
      "execution_count": null,
      "outputs": [
        {
          "output_type": "execute_result",
          "data": {
            "text/plain": [
              "array([[19, 20, 24, 23],\n",
              "       [19, 19, 20, 26]])"
            ]
          },
          "metadata": {
            "tags": []
          },
          "execution_count": 41
        }
      ]
    },
    {
      "cell_type": "code",
      "metadata": {
        "colab": {
          "base_uri": "https://localhost:8080/"
        },
        "id": "JDpnyfsQJcwG",
        "outputId": "450ea45d-6ddf-429f-da31-4978407856d5"
      },
      "source": [
        "np2"
      ],
      "execution_count": null,
      "outputs": [
        {
          "output_type": "execute_result",
          "data": {
            "text/plain": [
              "array([[19, 25, 23, 20],\n",
              "       [19, 20, 24, 23],\n",
              "       [19, 19, 20, 26],\n",
              "       [20, 26, 18, 20]])"
            ]
          },
          "metadata": {
            "tags": []
          },
          "execution_count": 42
        }
      ]
    },
    {
      "cell_type": "code",
      "metadata": {
        "colab": {
          "base_uri": "https://localhost:8080/"
        },
        "id": "KpVdI6sGJ0JB",
        "outputId": "141e6f33-6ada-47f6-bf32-232e54cba762"
      },
      "source": [
        "np2[ 1:3:1 , 0:3:1  ]"
      ],
      "execution_count": null,
      "outputs": [
        {
          "output_type": "execute_result",
          "data": {
            "text/plain": [
              "array([[19, 20, 24],\n",
              "       [19, 19, 20]])"
            ]
          },
          "metadata": {
            "tags": []
          },
          "execution_count": 43
        }
      ]
    },
    {
      "cell_type": "code",
      "metadata": {
        "id": "kj5qPn2RKTS8"
      },
      "source": [
        "ary2 = np.random.randint(25,50,(6,8))"
      ],
      "execution_count": null,
      "outputs": []
    },
    {
      "cell_type": "code",
      "metadata": {
        "colab": {
          "base_uri": "https://localhost:8080/"
        },
        "id": "qOgaCxb1KU6d",
        "outputId": "22082837-b258-429f-dae8-7bb832c58a24"
      },
      "source": [
        "ary2"
      ],
      "execution_count": null,
      "outputs": [
        {
          "output_type": "execute_result",
          "data": {
            "text/plain": [
              "array([[28, 28, 43, 42, 48, 34, 30, 27],\n",
              "       [26, 47, 39, 44, 41, 33, 48, 45],\n",
              "       [46, 49, 34, 48, 36, 34, 31, 36],\n",
              "       [44, 49, 49, 41, 27, 45, 47, 45],\n",
              "       [32, 33, 44, 43, 36, 38, 33, 41],\n",
              "       [39, 32, 30, 44, 45, 31, 37, 45]])"
            ]
          },
          "metadata": {
            "tags": []
          },
          "execution_count": 46
        }
      ]
    },
    {
      "cell_type": "code",
      "metadata": {
        "colab": {
          "base_uri": "https://localhost:8080/"
        },
        "id": "6id1yvdMKbcI",
        "outputId": "370f9585-6084-4bc1-cd1e-505620171a55"
      },
      "source": [
        "ary2.ndim"
      ],
      "execution_count": null,
      "outputs": [
        {
          "output_type": "execute_result",
          "data": {
            "text/plain": [
              "2"
            ]
          },
          "metadata": {
            "tags": []
          },
          "execution_count": 47
        }
      ]
    },
    {
      "cell_type": "code",
      "metadata": {
        "colab": {
          "base_uri": "https://localhost:8080/"
        },
        "id": "n6hSEXS5K0EI",
        "outputId": "78d1644c-9980-4ee4-a38f-bdf1e0443a7e"
      },
      "source": [
        "ary2.size"
      ],
      "execution_count": null,
      "outputs": [
        {
          "output_type": "execute_result",
          "data": {
            "text/plain": [
              "48"
            ]
          },
          "metadata": {
            "tags": []
          },
          "execution_count": 48
        }
      ]
    },
    {
      "cell_type": "code",
      "metadata": {
        "colab": {
          "base_uri": "https://localhost:8080/"
        },
        "id": "SR02ZtkGK22n",
        "outputId": "5f47c28f-7ad3-444b-fe1e-b360c8bbcf63"
      },
      "source": [
        "ary2.shape"
      ],
      "execution_count": null,
      "outputs": [
        {
          "output_type": "execute_result",
          "data": {
            "text/plain": [
              "(6, 8)"
            ]
          },
          "metadata": {
            "tags": []
          },
          "execution_count": 49
        }
      ]
    },
    {
      "cell_type": "code",
      "metadata": {
        "colab": {
          "base_uri": "https://localhost:8080/"
        },
        "id": "7Ov-NvwUK5Pa",
        "outputId": "f421d744-cc41-40df-907f-26e94949949c"
      },
      "source": [
        "ary2"
      ],
      "execution_count": null,
      "outputs": [
        {
          "output_type": "execute_result",
          "data": {
            "text/plain": [
              "array([[28, 28, 43, 42, 48, 34, 30, 27],\n",
              "       [26, 47, 39, 44, 41, 33, 48, 45],\n",
              "       [46, 49, 34, 48, 36, 34, 31, 36],\n",
              "       [44, 49, 49, 41, 27, 45, 47, 45],\n",
              "       [32, 33, 44, 43, 36, 38, 33, 41],\n",
              "       [39, 32, 30, 44, 45, 31, 37, 45]])"
            ]
          },
          "metadata": {
            "tags": []
          },
          "execution_count": 50
        }
      ]
    },
    {
      "cell_type": "code",
      "metadata": {
        "colab": {
          "base_uri": "https://localhost:8080/"
        },
        "id": "1g1lG3yXK8Ja",
        "outputId": "80443a85-d83a-4abf-b6ef-2ce67f2d1d8b"
      },
      "source": [
        "ary2[ 1 : 4 : 1  ,    2 : 7 : 1  ]"
      ],
      "execution_count": null,
      "outputs": [
        {
          "output_type": "execute_result",
          "data": {
            "text/plain": [
              "array([[39, 44, 41, 33, 48],\n",
              "       [34, 48, 36, 34, 31],\n",
              "       [49, 41, 27, 45, 47]])"
            ]
          },
          "metadata": {
            "tags": []
          },
          "execution_count": 52
        }
      ]
    },
    {
      "cell_type": "code",
      "metadata": {
        "id": "6mbCBNqTLlrt"
      },
      "source": [
        "ary3 = np.random.randint(30,60,(2,4,6))"
      ],
      "execution_count": null,
      "outputs": []
    },
    {
      "cell_type": "code",
      "metadata": {
        "colab": {
          "base_uri": "https://localhost:8080/"
        },
        "id": "LgpBubrrLoin",
        "outputId": "e63c9da3-327e-4492-a2ea-7a0a8b445e29"
      },
      "source": [
        "print(ary3)"
      ],
      "execution_count": null,
      "outputs": [
        {
          "output_type": "stream",
          "text": [
            "[[[53 43 35 41 34 58]\n",
            "  [31 54 42 41 34 54]\n",
            "  [53 37 39 31 32 49]\n",
            "  [37 45 57 43 48 41]]\n",
            "\n",
            " [[57 49 54 33 50 33]\n",
            "  [43 57 57 43 53 34]\n",
            "  [31 32 51 57 32 55]\n",
            "  [59 35 45 50 37 34]]]\n"
          ],
          "name": "stdout"
        }
      ]
    },
    {
      "cell_type": "code",
      "metadata": {
        "id": "Y3-yw2kOLvIl"
      },
      "source": [
        "# ary3[][][]\n",
        "# ary3[  3rd dim  , rows    , columns    ]\n"
      ],
      "execution_count": null,
      "outputs": []
    },
    {
      "cell_type": "code",
      "metadata": {
        "colab": {
          "base_uri": "https://localhost:8080/"
        },
        "id": "Ba_JNwNWMN7j",
        "outputId": "d8228659-b1de-4493-b198-f21b4a547591"
      },
      "source": [
        "ary3[0 : 1 : 1 ,  0 : 4 : 1   ,   2 : 4:1      ]"
      ],
      "execution_count": null,
      "outputs": [
        {
          "output_type": "execute_result",
          "data": {
            "text/plain": [
              "array([[[35, 41],\n",
              "        [42, 41],\n",
              "        [39, 31],\n",
              "        [57, 43]]])"
            ]
          },
          "metadata": {
            "tags": []
          },
          "execution_count": 56
        }
      ]
    },
    {
      "cell_type": "code",
      "metadata": {
        "colab": {
          "base_uri": "https://localhost:8080/"
        },
        "id": "Sd_rbyVeM8do",
        "outputId": "64004c54-6a3e-44b7-ae96-efce33455ff7"
      },
      "source": [
        "ary3"
      ],
      "execution_count": null,
      "outputs": [
        {
          "output_type": "execute_result",
          "data": {
            "text/plain": [
              "array([[[53, 43, 35, 41, 34, 58],\n",
              "        [31, 54, 42, 41, 34, 54],\n",
              "        [53, 37, 39, 31, 32, 49],\n",
              "        [37, 45, 57, 43, 48, 41]],\n",
              "\n",
              "       [[57, 49, 54, 33, 50, 33],\n",
              "        [43, 57, 57, 43, 53, 34],\n",
              "        [31, 32, 51, 57, 32, 55],\n",
              "        [59, 35, 45, 50, 37, 34]]])"
            ]
          },
          "metadata": {
            "tags": []
          },
          "execution_count": 57
        }
      ]
    },
    {
      "cell_type": "code",
      "metadata": {
        "colab": {
          "base_uri": "https://localhost:8080/"
        },
        "id": "UghdgarhM9dQ",
        "outputId": "79516f6d-fd61-45f4-8851-cdb0bc3ffc4a"
      },
      "source": [
        "ary3[ 0 : 2 : 1    ,   1 : 4 : 1    , 2 : 5 : 1     ]"
      ],
      "execution_count": null,
      "outputs": [
        {
          "output_type": "execute_result",
          "data": {
            "text/plain": [
              "array([[[42, 41, 34],\n",
              "        [39, 31, 32],\n",
              "        [57, 43, 48]],\n",
              "\n",
              "       [[57, 43, 53],\n",
              "        [51, 57, 32],\n",
              "        [45, 50, 37]]])"
            ]
          },
          "metadata": {
            "tags": []
          },
          "execution_count": 58
        }
      ]
    },
    {
      "cell_type": "code",
      "metadata": {
        "id": "9NU81t0dNsT8"
      },
      "source": [
        "ary33 = np.random.randint(30,60,(3,4,6))"
      ],
      "execution_count": null,
      "outputs": []
    },
    {
      "cell_type": "code",
      "metadata": {
        "colab": {
          "base_uri": "https://localhost:8080/"
        },
        "id": "NMQMl3UsOQAl",
        "outputId": "40c28f50-eeb6-4f72-d7b0-42feb8d7e53b"
      },
      "source": [
        "print(ary33)"
      ],
      "execution_count": null,
      "outputs": [
        {
          "output_type": "stream",
          "text": [
            "[[[54 39 49 54 46 54]\n",
            "  [32 44 38 50 38 39]\n",
            "  [37 46 38 37 58 59]\n",
            "  [49 47 58 43 42 51]]\n",
            "\n",
            " [[33 44 40 45 39 50]\n",
            "  [30 35 58 35 59 49]\n",
            "  [31 55 53 36 45 36]\n",
            "  [52 43 31 46 56 39]]\n",
            "\n",
            " [[56 40 34 53 32 59]\n",
            "  [47 47 48 51 33 40]\n",
            "  [49 46 59 42 39 32]\n",
            "  [49 52 36 43 50 52]]]\n"
          ],
          "name": "stdout"
        }
      ]
    },
    {
      "cell_type": "code",
      "metadata": {
        "colab": {
          "base_uri": "https://localhost:8080/"
        },
        "id": "dQlC_aTxORjk",
        "outputId": "66d53012-efa8-41b5-eb5a-b337ff2504e9"
      },
      "source": [
        "ary3"
      ],
      "execution_count": null,
      "outputs": [
        {
          "output_type": "execute_result",
          "data": {
            "text/plain": [
              "array([[[53, 43, 35, 41, 34, 58],\n",
              "        [31, 54, 42, 41, 34, 54],\n",
              "        [53, 37, 39, 31, 32, 49],\n",
              "        [37, 45, 57, 43, 48, 41]],\n",
              "\n",
              "       [[57, 49, 54, 33, 50, 33],\n",
              "        [43, 57, 57, 43, 53, 34],\n",
              "        [31, 32, 51, 57, 32, 55],\n",
              "        [59, 35, 45, 50, 37, 34]]])"
            ]
          },
          "metadata": {
            "tags": []
          },
          "execution_count": 61
        }
      ]
    },
    {
      "cell_type": "code",
      "metadata": {
        "colab": {
          "base_uri": "https://localhost:8080/"
        },
        "id": "hrt2wHrQOmZa",
        "outputId": "fe24a33d-2862-4e4a-e137-d0f563fe2db7"
      },
      "source": [
        "ary3 > 45"
      ],
      "execution_count": null,
      "outputs": [
        {
          "output_type": "execute_result",
          "data": {
            "text/plain": [
              "array([[[ True, False, False, False, False,  True],\n",
              "        [False,  True, False, False, False,  True],\n",
              "        [ True, False, False, False, False,  True],\n",
              "        [False, False,  True, False,  True, False]],\n",
              "\n",
              "       [[ True,  True,  True, False,  True, False],\n",
              "        [False,  True,  True, False,  True, False],\n",
              "        [False, False,  True,  True, False,  True],\n",
              "        [ True, False, False,  True, False, False]]])"
            ]
          },
          "metadata": {
            "tags": []
          },
          "execution_count": 62
        }
      ]
    },
    {
      "cell_type": "code",
      "metadata": {
        "colab": {
          "base_uri": "https://localhost:8080/"
        },
        "id": "d3_ccx-FPW0s",
        "outputId": "1489e26a-0c8f-448a-9c7c-21fb44afee30"
      },
      "source": [
        "ary3[ary3>45]"
      ],
      "execution_count": null,
      "outputs": [
        {
          "output_type": "execute_result",
          "data": {
            "text/plain": [
              "array([53, 58, 54, 54, 53, 49, 57, 48, 57, 49, 54, 50, 57, 57, 53, 51, 57,\n",
              "       55, 59, 50])"
            ]
          },
          "metadata": {
            "tags": []
          },
          "execution_count": 63
        }
      ]
    },
    {
      "cell_type": "code",
      "metadata": {
        "colab": {
          "base_uri": "https://localhost:8080/"
        },
        "id": "aYi_IcA2PeyG",
        "outputId": "a91de844-52f5-4c49-c786-7513680459d4"
      },
      "source": [
        "ary33"
      ],
      "execution_count": null,
      "outputs": [
        {
          "output_type": "execute_result",
          "data": {
            "text/plain": [
              "array([[[54, 39, 49, 54, 46, 54],\n",
              "        [32, 44, 38, 50, 38, 39],\n",
              "        [37, 46, 38, 37, 58, 59],\n",
              "        [49, 47, 58, 43, 42, 51]],\n",
              "\n",
              "       [[33, 44, 40, 45, 39, 50],\n",
              "        [30, 35, 58, 35, 59, 49],\n",
              "        [31, 55, 53, 36, 45, 36],\n",
              "        [52, 43, 31, 46, 56, 39]],\n",
              "\n",
              "       [[56, 40, 34, 53, 32, 59],\n",
              "        [47, 47, 48, 51, 33, 40],\n",
              "        [49, 46, 59, 42, 39, 32],\n",
              "        [49, 52, 36, 43, 50, 52]]])"
            ]
          },
          "metadata": {
            "tags": []
          },
          "execution_count": 64
        }
      ]
    },
    {
      "cell_type": "code",
      "metadata": {
        "colab": {
          "base_uri": "https://localhost:8080/"
        },
        "id": "WYJqkQ6WPquS",
        "outputId": "d13d4edd-ef0d-4951-f78c-473b65cd84f8"
      },
      "source": [
        "ary33 > 40"
      ],
      "execution_count": null,
      "outputs": [
        {
          "output_type": "execute_result",
          "data": {
            "text/plain": [
              "array([[[ True, False,  True,  True,  True,  True],\n",
              "        [False,  True, False,  True, False, False],\n",
              "        [False,  True, False, False,  True,  True],\n",
              "        [ True,  True,  True,  True,  True,  True]],\n",
              "\n",
              "       [[False,  True, False,  True, False,  True],\n",
              "        [False, False,  True, False,  True,  True],\n",
              "        [False,  True,  True, False,  True, False],\n",
              "        [ True,  True, False,  True,  True, False]],\n",
              "\n",
              "       [[ True, False, False,  True, False,  True],\n",
              "        [ True,  True,  True,  True, False, False],\n",
              "        [ True,  True,  True,  True, False, False],\n",
              "        [ True,  True, False,  True,  True,  True]]])"
            ]
          },
          "metadata": {
            "tags": []
          },
          "execution_count": 65
        }
      ]
    },
    {
      "cell_type": "code",
      "metadata": {
        "colab": {
          "base_uri": "https://localhost:8080/"
        },
        "id": "gqs1W9ckPu7U",
        "outputId": "fd080540-145a-433e-e239-eb4dca82dd12"
      },
      "source": [
        "ary33[ ary33 > 40  ]"
      ],
      "execution_count": null,
      "outputs": [
        {
          "output_type": "execute_result",
          "data": {
            "text/plain": [
              "array([54, 49, 54, 46, 54, 44, 50, 46, 58, 59, 49, 47, 58, 43, 42, 51, 44,\n",
              "       45, 50, 58, 59, 49, 55, 53, 45, 52, 43, 46, 56, 56, 53, 59, 47, 47,\n",
              "       48, 51, 49, 46, 59, 42, 49, 52, 43, 50, 52])"
            ]
          },
          "metadata": {
            "tags": []
          },
          "execution_count": 66
        }
      ]
    },
    {
      "cell_type": "code",
      "metadata": {
        "colab": {
          "base_uri": "https://localhost:8080/"
        },
        "id": "BfTXNa_4Pyjg",
        "outputId": "a1265342-6afb-45f1-ff9a-15623fcc70d8"
      },
      "source": [
        "np1"
      ],
      "execution_count": null,
      "outputs": [
        {
          "output_type": "execute_result",
          "data": {
            "text/plain": [
              "array([11, 12, 13, 14, 15, 16, 17, 18, 19])"
            ]
          },
          "metadata": {
            "tags": []
          },
          "execution_count": 67
        }
      ]
    },
    {
      "cell_type": "code",
      "metadata": {
        "colab": {
          "base_uri": "https://localhost:8080/"
        },
        "id": "UcMWkALrP56Y",
        "outputId": "0471a9d8-0fd7-4348-ae03-e582b86107ad"
      },
      "source": [
        "np1[1:5:1]"
      ],
      "execution_count": null,
      "outputs": [
        {
          "output_type": "execute_result",
          "data": {
            "text/plain": [
              "array([12, 13, 14, 15])"
            ]
          },
          "metadata": {
            "tags": []
          },
          "execution_count": 68
        }
      ]
    },
    {
      "cell_type": "code",
      "metadata": {
        "colab": {
          "base_uri": "https://localhost:8080/"
        },
        "id": "PYehdKbeQM3X",
        "outputId": "f2d2640a-1265-48ae-c778-2b73a221412c"
      },
      "source": [
        "np1[1:6:2]"
      ],
      "execution_count": null,
      "outputs": [
        {
          "output_type": "execute_result",
          "data": {
            "text/plain": [
              "array([12, 14, 16])"
            ]
          },
          "metadata": {
            "tags": []
          },
          "execution_count": 69
        }
      ]
    },
    {
      "cell_type": "code",
      "metadata": {
        "colab": {
          "base_uri": "https://localhost:8080/"
        },
        "id": "xJnEiIo2QVvR",
        "outputId": "7e98cffd-775b-4fc2-d225-4d62bf430948"
      },
      "source": [
        "np1[1: 8 : 3]"
      ],
      "execution_count": null,
      "outputs": [
        {
          "output_type": "execute_result",
          "data": {
            "text/plain": [
              "array([12, 15, 18])"
            ]
          },
          "metadata": {
            "tags": []
          },
          "execution_count": 70
        }
      ]
    },
    {
      "cell_type": "code",
      "metadata": {
        "colab": {
          "base_uri": "https://localhost:8080/"
        },
        "id": "Ten14LCaQcLc",
        "outputId": "66230cbd-d422-4584-f934-0f53517a6900"
      },
      "source": [
        "np1"
      ],
      "execution_count": null,
      "outputs": [
        {
          "output_type": "execute_result",
          "data": {
            "text/plain": [
              "array([11, 12, 13, 14, 15, 16, 17, 18, 19])"
            ]
          },
          "metadata": {
            "tags": []
          },
          "execution_count": 71
        }
      ]
    },
    {
      "cell_type": "code",
      "metadata": {
        "id": "Etgn5FgBQ8Eb"
      },
      "source": [
        "indx = np.array([1,2,4,7,8]) # 1st way"
      ],
      "execution_count": null,
      "outputs": []
    },
    {
      "cell_type": "code",
      "metadata": {
        "colab": {
          "base_uri": "https://localhost:8080/"
        },
        "id": "Sb_3cqIdRJoY",
        "outputId": "b07e6016-6940-4014-b92f-eaa290077fbc"
      },
      "source": [
        "np1[indx]"
      ],
      "execution_count": null,
      "outputs": [
        {
          "output_type": "execute_result",
          "data": {
            "text/plain": [
              "array([12, 13, 15, 18, 19])"
            ]
          },
          "metadata": {
            "tags": []
          },
          "execution_count": 75
        }
      ]
    },
    {
      "cell_type": "code",
      "metadata": {
        "colab": {
          "base_uri": "https://localhost:8080/"
        },
        "id": "uCRrB2sCRNZj",
        "outputId": "fe3ed97e-6550-4710-aa81-3c58928945a8"
      },
      "source": [
        "np1[[1,2,4,7,8]]  # 2nd way"
      ],
      "execution_count": null,
      "outputs": [
        {
          "output_type": "execute_result",
          "data": {
            "text/plain": [
              "array([12, 13, 15, 18, 19])"
            ]
          },
          "metadata": {
            "tags": []
          },
          "execution_count": 76
        }
      ]
    },
    {
      "cell_type": "code",
      "metadata": {
        "colab": {
          "base_uri": "https://localhost:8080/"
        },
        "id": "VkMXA-koRkhj",
        "outputId": "72058e41-88b6-42a6-de27-f8e77ba04169"
      },
      "source": [
        "ary2"
      ],
      "execution_count": null,
      "outputs": [
        {
          "output_type": "execute_result",
          "data": {
            "text/plain": [
              "array([[28, 28, 43, 42, 48, 34, 30, 27],\n",
              "       [26, 47, 39, 44, 41, 33, 48, 45],\n",
              "       [46, 49, 34, 48, 36, 34, 31, 36],\n",
              "       [44, 49, 49, 41, 27, 45, 47, 45],\n",
              "       [32, 33, 44, 43, 36, 38, 33, 41],\n",
              "       [39, 32, 30, 44, 45, 31, 37, 45]])"
            ]
          },
          "metadata": {
            "tags": []
          },
          "execution_count": 77
        }
      ]
    },
    {
      "cell_type": "code",
      "metadata": {
        "colab": {
          "base_uri": "https://localhost:8080/"
        },
        "id": "3Otso-NuS0sc",
        "outputId": "705c20f4-342d-48a9-bc37-867c6d06ec6d"
      },
      "source": [
        "# ary2[<rows>][<columns>]\n",
        "# [1,4,2,0,3],[0,0,1,2,4]      # [1,0][4,0][2,1][0,2][3,4]\n",
        "\n",
        "ary2[[1,4,2,0,3],[0,0,1,2,4]]"
      ],
      "execution_count": null,
      "outputs": [
        {
          "output_type": "execute_result",
          "data": {
            "text/plain": [
              "array([26, 32, 49, 43, 27])"
            ]
          },
          "metadata": {
            "tags": []
          },
          "execution_count": 80
        }
      ]
    },
    {
      "cell_type": "code",
      "metadata": {
        "colab": {
          "base_uri": "https://localhost:8080/"
        },
        "id": "ZsxK1zSdUkCg",
        "outputId": "a3cf66e5-8b21-46b2-e9db-4e80d7dae2cb"
      },
      "source": [
        "ary3"
      ],
      "execution_count": null,
      "outputs": [
        {
          "output_type": "execute_result",
          "data": {
            "text/plain": [
              "array([[[53, 43, 35, 41, 34, 58],\n",
              "        [31, 54, 42, 41, 34, 54],\n",
              "        [53, 37, 39, 31, 32, 49],\n",
              "        [37, 45, 57, 43, 48, 41]],\n",
              "\n",
              "       [[57, 49, 54, 33, 50, 33],\n",
              "        [43, 57, 57, 43, 53, 34],\n",
              "        [31, 32, 51, 57, 32, 55],\n",
              "        [59, 35, 45, 50, 37, 34]]])"
            ]
          },
          "metadata": {
            "tags": []
          },
          "execution_count": 81
        }
      ]
    },
    {
      "cell_type": "code",
      "metadata": {
        "colab": {
          "base_uri": "https://localhost:8080/"
        },
        "id": "qurCuGZLUpoH",
        "outputId": "9291113e-9704-4c85-ab36-85803d141fa0"
      },
      "source": [
        "# ary3[3rd dim][rows][columns]\n",
        "ary3[[0,1,0,1,0,1],[1,2,1,3,2,2],[1,2,3,0,5,4]]"
      ],
      "execution_count": null,
      "outputs": [
        {
          "output_type": "execute_result",
          "data": {
            "text/plain": [
              "array([54, 51, 41, 59, 49, 32])"
            ]
          },
          "metadata": {
            "tags": []
          },
          "execution_count": 83
        }
      ]
    },
    {
      "cell_type": "code",
      "metadata": {
        "id": "toANL7j1WU7M"
      },
      "source": [
        ""
      ],
      "execution_count": null,
      "outputs": []
    }
  ]
}