{
  "nbformat": 4,
  "nbformat_minor": 0,
  "metadata": {
    "colab": {
      "name": "lambda.ipynb",
      "provenance": [],
      "include_colab_link": true
    },
    "kernelspec": {
      "name": "python3",
      "display_name": "Python 3"
    }
  },
  "cells": [
    {
      "cell_type": "markdown",
      "metadata": {
        "id": "view-in-github",
        "colab_type": "text"
      },
      "source": [
        "<a href=\"https://colab.research.google.com/github/Ganapathi-tech/python-programming/blob/main/lambda.ipynb\" target=\"_parent\"><img src=\"https://colab.research.google.com/assets/colab-badge.svg\" alt=\"Open In Colab\"/></a>"
      ]
    },
    {
      "cell_type": "code",
      "metadata": {
        "id": "3UiOlSGtsjeg"
      },
      "source": [
        "# lambda <input variables> : < output Expression> "
      ],
      "execution_count": null,
      "outputs": []
    },
    {
      "cell_type": "code",
      "metadata": {
        "id": "z1x3nKUTs_rA"
      },
      "source": [
        "var = lambda  : \"Good Morning\""
      ],
      "execution_count": null,
      "outputs": []
    },
    {
      "cell_type": "code",
      "metadata": {
        "colab": {
          "base_uri": "https://localhost:8080/",
          "height": 35
        },
        "id": "y7AAAWuSteC5",
        "outputId": "8a6fb35a-a2bc-4fd4-d719-d2a18872ea9c"
      },
      "source": [
        "var()"
      ],
      "execution_count": null,
      "outputs": [
        {
          "output_type": "execute_result",
          "data": {
            "application/vnd.google.colaboratory.intrinsic+json": {
              "type": "string"
            },
            "text/plain": [
              "'Good Morning'"
            ]
          },
          "metadata": {
            "tags": []
          },
          "execution_count": 5
        }
      ]
    },
    {
      "cell_type": "code",
      "metadata": {
        "id": "XeEBI1rstjFs"
      },
      "source": [
        "var1 = lambda a : a*a"
      ],
      "execution_count": null,
      "outputs": []
    },
    {
      "cell_type": "code",
      "metadata": {
        "colab": {
          "base_uri": "https://localhost:8080/"
        },
        "id": "63QeTKsyts3l",
        "outputId": "61914c06-c151-4eca-e882-1617e506ffda"
      },
      "source": [
        "x = var1(10)\n",
        "print(x)"
      ],
      "execution_count": null,
      "outputs": [
        {
          "output_type": "stream",
          "text": [
            "100\n"
          ],
          "name": "stdout"
        }
      ]
    },
    {
      "cell_type": "code",
      "metadata": {
        "id": "o-xhfs8ztyMr"
      },
      "source": [
        "z = lambda x, y : x*y"
      ],
      "execution_count": null,
      "outputs": []
    },
    {
      "cell_type": "code",
      "metadata": {
        "colab": {
          "base_uri": "https://localhost:8080/"
        },
        "id": "j5TR6ViZt_Oa",
        "outputId": "d1d29196-349c-4ef9-ef5c-3040cddcad02"
      },
      "source": [
        "z"
      ],
      "execution_count": null,
      "outputs": [
        {
          "output_type": "execute_result",
          "data": {
            "text/plain": [
              "<function __main__.<lambda>>"
            ]
          },
          "metadata": {
            "tags": []
          },
          "execution_count": 9
        }
      ]
    },
    {
      "cell_type": "code",
      "metadata": {
        "id": "GSp7oV4BuA2F"
      },
      "source": [
        "r = z(10,20)"
      ],
      "execution_count": null,
      "outputs": []
    },
    {
      "cell_type": "code",
      "metadata": {
        "colab": {
          "base_uri": "https://localhost:8080/"
        },
        "id": "06EQJEEYuS8N",
        "outputId": "a1d17aeb-7b86-4f25-bf26-d0aa22b76820"
      },
      "source": [
        "print(r)"
      ],
      "execution_count": null,
      "outputs": [
        {
          "output_type": "stream",
          "text": [
            "200\n"
          ],
          "name": "stdout"
        }
      ]
    },
    {
      "cell_type": "code",
      "metadata": {
        "id": "qXUeXnpQuUDr"
      },
      "source": [
        "d = lambda a,b,c : a+b+c"
      ],
      "execution_count": null,
      "outputs": []
    },
    {
      "cell_type": "code",
      "metadata": {
        "colab": {
          "base_uri": "https://localhost:8080/"
        },
        "id": "BXX-OPDEune0",
        "outputId": "df998a02-4d7f-4e0d-8e9a-15b33d7b09c4"
      },
      "source": [
        "print(d(1,2,3))"
      ],
      "execution_count": null,
      "outputs": [
        {
          "output_type": "stream",
          "text": [
            "6\n"
          ],
          "name": "stdout"
        }
      ]
    },
    {
      "cell_type": "code",
      "metadata": {
        "colab": {
          "base_uri": "https://localhost:8080/"
        },
        "id": "CH0x4ugOuryh",
        "outputId": "437a2198-6a95-4443-ce4a-1687624b87e5"
      },
      "source": [
        "(lambda x, y : x > y)(25,15)"
      ],
      "execution_count": null,
      "outputs": [
        {
          "output_type": "execute_result",
          "data": {
            "text/plain": [
              "True"
            ]
          },
          "metadata": {
            "tags": []
          },
          "execution_count": 21
        }
      ]
    },
    {
      "cell_type": "code",
      "metadata": {
        "colab": {
          "base_uri": "https://localhost:8080/"
        },
        "id": "zf0PKnBuvB0C",
        "outputId": "b513c791-51f4-484b-ee05-785eb18c1b20"
      },
      "source": [
        "print(d)"
      ],
      "execution_count": null,
      "outputs": [
        {
          "output_type": "stream",
          "text": [
            "<function <lambda> at 0x7fa64315e598>\n"
          ],
          "name": "stdout"
        }
      ]
    },
    {
      "cell_type": "code",
      "metadata": {
        "colab": {
          "base_uri": "https://localhost:8080/"
        },
        "id": "0cPtmuyqvE97",
        "outputId": "6779670e-f154-40db-8ffe-7b4a1200046a"
      },
      "source": [
        "c = d\n",
        "print(c)"
      ],
      "execution_count": null,
      "outputs": [
        {
          "output_type": "stream",
          "text": [
            "<function <lambda> at 0x7fa64315e598>\n"
          ],
          "name": "stdout"
        }
      ]
    },
    {
      "cell_type": "code",
      "metadata": {
        "colab": {
          "base_uri": "https://localhost:8080/",
          "height": 35
        },
        "id": "evrTa2i3vpRe",
        "outputId": "bf31133f-5778-4ec8-c5ce-8d2f3b337d88"
      },
      "source": [
        "(lambda : \"Welcome to Python\")()"
      ],
      "execution_count": null,
      "outputs": [
        {
          "output_type": "execute_result",
          "data": {
            "application/vnd.google.colaboratory.intrinsic+json": {
              "type": "string"
            },
            "text/plain": [
              "'Welcome to Python'"
            ]
          },
          "metadata": {
            "tags": []
          },
          "execution_count": 22
        }
      ]
    },
    {
      "cell_type": "code",
      "metadata": {
        "colab": {
          "base_uri": "https://localhost:8080/"
        },
        "id": "7XkNHx31wYCP",
        "outputId": "e7e824d9-7dd1-4985-e30e-cf4a62dd31f0"
      },
      "source": [
        "a = lambda x,y,z =1 : x + y + z\n",
        "print(a(10,20))"
      ],
      "execution_count": null,
      "outputs": [
        {
          "output_type": "stream",
          "text": [
            "31\n"
          ],
          "name": "stdout"
        }
      ]
    },
    {
      "cell_type": "code",
      "metadata": {
        "colab": {
          "base_uri": "https://localhost:8080/"
        },
        "id": "cakMADVcwf13",
        "outputId": "15507da3-dfaa-495e-af5e-5c04471ed22b"
      },
      "source": [
        "a = lambda x,y,z : x + z\n",
        "print(a(y=10,z=20,x=30))"
      ],
      "execution_count": null,
      "outputs": [
        {
          "output_type": "stream",
          "text": [
            "50\n"
          ],
          "name": "stdout"
        }
      ]
    },
    {
      "cell_type": "code",
      "metadata": {
        "colab": {
          "base_uri": "https://localhost:8080/"
        },
        "id": "SxUP-GqbxiPO",
        "outputId": "ea12763f-da40-44b6-a39a-0d36773b0ed0"
      },
      "source": [
        "(lambda x, y : x if x>y else y)(27,29)"
      ],
      "execution_count": null,
      "outputs": [
        {
          "output_type": "execute_result",
          "data": {
            "text/plain": [
              "29"
            ]
          },
          "metadata": {
            "tags": []
          },
          "execution_count": 31
        }
      ]
    },
    {
      "cell_type": "code",
      "metadata": {
        "id": "-hoJ6C01xsUb"
      },
      "source": [
        "a = lambda x, y : x if x>y else y"
      ],
      "execution_count": null,
      "outputs": []
    },
    {
      "cell_type": "code",
      "metadata": {
        "colab": {
          "base_uri": "https://localhost:8080/"
        },
        "id": "u06rB-kwxx6q",
        "outputId": "84af33df-c217-44a3-f96d-8389b96c3177"
      },
      "source": [
        "a(27,29)"
      ],
      "execution_count": null,
      "outputs": [
        {
          "output_type": "execute_result",
          "data": {
            "text/plain": [
              "29"
            ]
          },
          "metadata": {
            "tags": []
          },
          "execution_count": 33
        }
      ]
    },
    {
      "cell_type": "code",
      "metadata": {
        "id": "zuPuNDuJxzGU"
      },
      "source": [
        "x = lambda a,b,c : a if a > b and a > c else b if b > c else c"
      ],
      "execution_count": null,
      "outputs": []
    },
    {
      "cell_type": "code",
      "metadata": {
        "colab": {
          "base_uri": "https://localhost:8080/"
        },
        "id": "evUOjoShyNjy",
        "outputId": "0ff745d8-98be-4daf-a5a7-cab63b3e0f29"
      },
      "source": [
        "x(117,215,57)"
      ],
      "execution_count": null,
      "outputs": [
        {
          "output_type": "execute_result",
          "data": {
            "text/plain": [
              "215"
            ]
          },
          "metadata": {
            "tags": []
          },
          "execution_count": 38
        }
      ]
    },
    {
      "cell_type": "code",
      "metadata": {
        "colab": {
          "base_uri": "https://localhost:8080/"
        },
        "id": "KIOcROSAyRdV",
        "outputId": "65c3e858-9d1a-48ee-cb83-1b2c40fdcddf"
      },
      "source": [
        "desg = input(\"Enter Designation : \")\n",
        "\n",
        "var = lambda d : \"Hike is 15%\"   if d == \"PM\"  else (\"Hike is 17%\" if d == \"TM\" else  (\"Hike is 14%\"   if d == \"Dev\" else \"Hike is 12%\"))\n",
        "print(var(desg))"
      ],
      "execution_count": null,
      "outputs": [
        {
          "output_type": "stream",
          "text": [
            "Enter Designation : Tester\n",
            "Hike is 12%\n"
          ],
          "name": "stdout"
        }
      ]
    },
    {
      "cell_type": "code",
      "metadata": {
        "colab": {
          "base_uri": "https://localhost:8080/",
          "height": 52
        },
        "id": "GQggikzD2B1W",
        "outputId": "924466a8-a6e0-48a6-efb1-c434640f2809"
      },
      "source": [
        "(lambda d : \"Hike is 15%\"   if d == \"PM\"  else (\"Hike is 17%\" if d == \"TM\" else  (\"Hike is 14%\"   if d == \"Dev\" else \"Hike is 12%\")))(input(\"Enter Your Designation\"))\n"
      ],
      "execution_count": null,
      "outputs": [
        {
          "output_type": "stream",
          "text": [
            "Enter Your DesignationPM\n"
          ],
          "name": "stdout"
        },
        {
          "output_type": "execute_result",
          "data": {
            "application/vnd.google.colaboratory.intrinsic+json": {
              "type": "string"
            },
            "text/plain": [
              "'Hike is 15%'"
            ]
          },
          "metadata": {
            "tags": []
          },
          "execution_count": 47
        }
      ]
    },
    {
      "cell_type": "code",
      "metadata": {
        "colab": {
          "base_uri": "https://localhost:8080/",
          "height": 35
        },
        "id": "EA5_9xWT3Ify",
        "outputId": "20424d6d-bc75-4d11-80e8-ec35bb42676b"
      },
      "source": [
        "\n",
        "var = lambda d : \"Hike is 18%\" if d == \"PM\" else ( \"Hike is 15%\" if d == \"TM\" else \"Hike is 12%\") \n",
        "var(\"Developer\")"
      ],
      "execution_count": null,
      "outputs": [
        {
          "output_type": "execute_result",
          "data": {
            "application/vnd.google.colaboratory.intrinsic+json": {
              "type": "string"
            },
            "text/plain": [
              "'Hike is 12%'"
            ]
          },
          "metadata": {
            "tags": []
          },
          "execution_count": 51
        }
      ]
    },
    {
      "cell_type": "code",
      "metadata": {
        "id": "XUMI34CF4hcp"
      },
      "source": [
        "x = lambda a, b :  a if a>b else b\n",
        "x(20,10)"
      ],
      "execution_count": null,
      "outputs": []
    }
  ]
}