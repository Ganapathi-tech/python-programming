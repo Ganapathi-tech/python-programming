{
  "nbformat": 4,
  "nbformat_minor": 0,
  "metadata": {
    "colab": {
      "name": "List.ipynb",
      "provenance": [],
      "include_colab_link": true
    },
    "kernelspec": {
      "name": "python3",
      "display_name": "Python 3"
    }
  },
  "cells": [
    {
      "cell_type": "markdown",
      "metadata": {
        "id": "view-in-github",
        "colab_type": "text"
      },
      "source": [
        "<a href=\"https://colab.research.google.com/github/Ganapathi-tech/python-programming/blob/main/List.ipynb\" target=\"_parent\"><img src=\"https://colab.research.google.com/assets/colab-badge.svg\" alt=\"Open In Colab\"/></a>"
      ]
    },
    {
      "cell_type": "code",
      "metadata": {
        "id": "3tm7WTfYNuRX",
        "colab": {
          "base_uri": "https://localhost:8080/"
        },
        "outputId": "62f1a622-38fa-4f78-f925-2a4545b2dce8"
      },
      "source": [
        "#assignment -1\n",
        "list1=[]\n",
        "list2=[]\n",
        "for i in range(0,3) :\n",
        "  a=int(input(\"enter a number\"))\n",
        "  list1.append(a)\n",
        "print(list1)\n",
        "for j in range(0,3):\n",
        "  b=int(input(\"enter a number\"))\n",
        "  list2.append(b)\n",
        "print(list2)\n",
        "opt=input(\"do you want continue the code (+/-/*)\")\n",
        "if opt.lower()==\"+\" :\n",
        "  for a in range(0,3):\n",
        "    print(list1[a]+list2[a])\n",
        "elif opt.lower()==\"-\" :\n",
        "  for b in range(0,3) :\n",
        "    print(list1[b]-list2[b])"
      ],
      "execution_count": null,
      "outputs": [
        {
          "output_type": "stream",
          "text": [
            "enter a number10\n",
            "enter a number90\n",
            "enter a number90\n",
            "[10, 90, 90]\n",
            "enter a number20\n",
            "enter a number30\n",
            "enter a number90\n",
            "[20, 30, 90]\n",
            "do you want continue the code (+/-/*)-\n",
            "-10\n",
            "60\n",
            "0\n"
          ],
          "name": "stdout"
        }
      ]
    },
    {
      "cell_type": "code",
      "metadata": {
        "colab": {
          "base_uri": "https://localhost:8080/"
        },
        "id": "8CNKJceFTnsq",
        "outputId": "3ccf844b-47f1-411e-dd12-2caacab03f57"
      },
      "source": [
        "#assignment -2\n",
        "list1=[] \n",
        "list2=[]\n",
        "list3=[]\n",
        "list4=[] \n",
        "list5=[]\n",
        "for i in range(0,4) :\n",
        "  a=int(input(\"enter a number \"))\n",
        "  list1.append(a) \n",
        "print(list1)\n",
        "for j in range(0,4) :\n",
        "  b=int(input(\"enter a number \"))\n",
        "  list2.append(b)\n",
        "print(list2)\n",
        "for k in range(0,4):\n",
        "  c=int(input(\"enter a number\")) \n",
        "  list3.append(k)\n",
        "print(list3)\n",
        "for l in range(0,4):\n",
        "  d=int(input(\"enter a number\")) \n",
        "  list4.append(d)\n",
        "print(list4)\n",
        "for m in range(0,4) :\n",
        "  e=int(input(\"enter a numbers \")) \n",
        "  list5.append(e)\n",
        "print(list5)\n",
        "for n in range(0,4) :\n",
        "  print(list1[n]+list2[n]+list3[n]+list4[n]+list5[n])\n",
        "  print(list1[n]-list2[n]-list3[n]-list4[n]-list5[n])\n",
        "  print(list1[n]*list2[n]*list3[n]*list4[n]*list5[n])\n",
        "  print(list1[n]/list2[n]/list4[n]/list4[n]/list5[n])\n",
        "  print(\"*************************\")\n",
        "len(list1)\n",
        "len(list2)\n",
        "len(list3)\n",
        "len(list4)\n",
        "len(list5)\n",
        "print(\"*****************\")\n",
        "max(list1)\n",
        "max(list2)\n",
        "max(list3)\n",
        "max(list4)\n",
        "max(list5)\n",
        "print(\"*******************\")\n",
        "min(list1)\n",
        "min(list2)\n",
        "min(list3)\n",
        "min(list4)\n",
        "min(list5)\n",
        "\n",
        "\n",
        "         \n",
        "\n",
        "\n"
      ],
      "execution_count": null,
      "outputs": [
        {
          "output_type": "stream",
          "text": [
            "enter a number 40\n",
            "enter a number 54\n",
            "enter a number 76\n",
            "enter a number 65\n",
            "[40, 54, 76, 65]\n",
            "enter a number 87\n",
            "enter a number 65\n",
            "enter a number 54\n",
            "enter a number 98\n",
            "[87, 65, 54, 98]\n",
            "enter a number65\n",
            "enter a number76\n",
            "enter a number54\n",
            "enter a number76\n",
            "[0, 1, 2, 3]\n",
            "enter a number98\n",
            "enter a number54\n",
            "enter a number76\n",
            "enter a number87\n",
            "[98, 54, 76, 87]\n",
            "enter a numbers 54\n",
            "enter a numbers 76\n",
            "enter a numbers 87\n",
            "enter a numbers 65\n",
            "[54, 76, 87, 65]\n",
            "279\n",
            "-199\n",
            "0\n",
            "8.865328392153901e-07\n",
            "*************************\n",
            "250\n",
            "-142\n",
            "14405040\n",
            "3.7486879592142755e-06\n",
            "*************************\n",
            "295\n",
            "-143\n",
            "54271296\n",
            "2.8007438775738834e-06\n",
            "*************************\n",
            "318\n",
            "-188\n",
            "108067050\n",
            "1.3481413175654725e-06\n",
            "*************************\n",
            "*****************\n",
            "*******************\n"
          ],
          "name": "stdout"
        },
        {
          "output_type": "execute_result",
          "data": {
            "text/plain": [
              "54"
            ]
          },
          "metadata": {
            "tags": []
          },
          "execution_count": 13
        }
      ]
    },
    {
      "cell_type": "code",
      "metadata": {
        "colab": {
          "base_uri": "https://localhost:8080/"
        },
        "id": "96c3SfN17Bzu",
        "outputId": "1c42d307-4da8-4fb0-aa8e-fe21eaf80560"
      },
      "source": [
        "k=[10,76,98,\"good momorning\"]\n",
        "k.pop()\n",
        "k"
      ],
      "execution_count": null,
      "outputs": [
        {
          "output_type": "execute_result",
          "data": {
            "text/plain": [
              "[10, 76, 98]"
            ]
          },
          "metadata": {
            "tags": []
          },
          "execution_count": 2
        }
      ]
    },
    {
      "cell_type": "code",
      "metadata": {
        "colab": {
          "base_uri": "https://localhost:8080/"
        },
        "id": "JW4ikRbm7aT0",
        "outputId": "26a4b8c5-0024-4b3c-c91f-a7e5d88343fc"
      },
      "source": [
        "k.append(\"sappa\")\n",
        "k\n"
      ],
      "execution_count": null,
      "outputs": [
        {
          "output_type": "execute_result",
          "data": {
            "text/plain": [
              "[10, 76, 98, 'sappa']"
            ]
          },
          "metadata": {
            "tags": []
          },
          "execution_count": 3
        }
      ]
    },
    {
      "cell_type": "markdown",
      "metadata": {
        "id": "TEJ1YSnC7mKG"
      },
      "source": [
        ""
      ]
    },
    {
      "cell_type": "code",
      "metadata": {
        "id": "7Ok9l68-7n9I"
      },
      "source": [
        "s=\"i love u\"\n",
        "s1=s. replace(\"u\",\"me\")\n",
        "8"
      ],
      "execution_count": null,
      "outputs": []
    },
    {
      "cell_type": "code",
      "metadata": {
        "colab": {
          "base_uri": "https://localhost:8080/",
          "height": 34
        },
        "id": "jZs9QpGe7nih",
        "outputId": "e62c4bad-7dae-4b42-e006-2ea2cc128241"
      },
      "source": [
        "s1\n",
        "s3=s1.replace(\"me\",\"Vijay \")\n",
        "s3\n"
      ],
      "execution_count": null,
      "outputs": [
        {
          "output_type": "execute_result",
          "data": {
            "application/vnd.google.colaboratory.intrinsic+json": {
              "type": "string"
            },
            "text/plain": [
              "'i love Vijay '"
            ]
          },
          "metadata": {
            "tags": []
          },
          "execution_count": 23
        }
      ]
    },
    {
      "cell_type": "code",
      "metadata": {
        "id": "AKx0dGNo9est"
      },
      "source": [
        "s3 = []\n",
        "s3.append([\"b\",\"c\"])\n"
      ],
      "execution_count": null,
      "outputs": []
    },
    {
      "cell_type": "code",
      "metadata": {
        "id": "mWwd8sEeicAV"
      },
      "source": [
        "s"
      ],
      "execution_count": null,
      "outputs": []
    }
  ]
}