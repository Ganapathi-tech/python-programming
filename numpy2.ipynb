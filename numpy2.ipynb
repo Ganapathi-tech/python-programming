{
  "nbformat": 4,
  "nbformat_minor": 0,
  "metadata": {
    "colab": {
      "name": "numpy2.ipynb",
      "provenance": [],
      "include_colab_link": true
    },
    "kernelspec": {
      "name": "python3",
      "display_name": "Python 3"
    }
  },
  "cells": [
    {
      "cell_type": "markdown",
      "metadata": {
        "id": "view-in-github",
        "colab_type": "text"
      },
      "source": [
        "<a href=\"https://colab.research.google.com/github/Ganapathi-tech/python-programming/blob/main/numpy2.ipynb\" target=\"_parent\"><img src=\"https://colab.research.google.com/assets/colab-badge.svg\" alt=\"Open In Colab\"/></a>"
      ]
    },
    {
      "cell_type": "code",
      "metadata": {
        "id": "tyO9qej34AoQ"
      },
      "source": [
        "import numpy as np"
      ],
      "execution_count": null,
      "outputs": []
    },
    {
      "cell_type": "code",
      "metadata": {
        "id": "X6w3Nx6i2nPW"
      },
      "source": [
        "# Traditional way --- array()\n",
        "\n",
        "# Homogeneous data  -- ONES(),ZEROS() \n",
        "\n",
        "# Diagonal -- EYE(), IDENTITY\n",
        "\n",
        "# Numerical -- ARANGE(), LINSPACE()\n",
        "\n",
        "#RANDOM NUMBERS -- RANDOM.RAND(), RANDOM.RANDINT(), RANDOM. RANDN()"
      ],
      "execution_count": null,
      "outputs": []
    },
    {
      "cell_type": "code",
      "metadata": {
        "colab": {
          "base_uri": "https://localhost:8080/"
        },
        "id": "KI7jCKyk36hT",
        "outputId": "b542e7b1-147f-4b87-e8d0-4b5592b9be48"
      },
      "source": [
        "list1 = [10,20,30,40]\n",
        "np1 = np.array(list1)\n",
        "print(np1)\n",
        "print(type(np1))"
      ],
      "execution_count": null,
      "outputs": [
        {
          "output_type": "stream",
          "text": [
            "[10 20 30 40]\n",
            "<class 'numpy.ndarray'>\n"
          ],
          "name": "stdout"
        }
      ]
    },
    {
      "cell_type": "code",
      "metadata": {
        "colab": {
          "base_uri": "https://localhost:8080/"
        },
        "id": "mxPai0l-4JBA",
        "outputId": "e4be5af6-34bc-42dc-ca3c-34f7774a4660"
      },
      "source": [
        "np1.ndim"
      ],
      "execution_count": null,
      "outputs": [
        {
          "output_type": "execute_result",
          "data": {
            "text/plain": [
              "1"
            ]
          },
          "metadata": {
            "tags": []
          },
          "execution_count": 3
        }
      ]
    },
    {
      "cell_type": "code",
      "metadata": {
        "colab": {
          "base_uri": "https://localhost:8080/"
        },
        "id": "0Zp5gMU14MsP",
        "outputId": "cb9bd20b-ff71-4cc0-e01c-f80f552c3acb"
      },
      "source": [
        "np1.size"
      ],
      "execution_count": null,
      "outputs": [
        {
          "output_type": "execute_result",
          "data": {
            "text/plain": [
              "4"
            ]
          },
          "metadata": {
            "tags": []
          },
          "execution_count": 4
        }
      ]
    },
    {
      "cell_type": "code",
      "metadata": {
        "colab": {
          "base_uri": "https://localhost:8080/"
        },
        "id": "x1IZjYly4Nq4",
        "outputId": "516706e0-2fe6-4c07-c046-9582dc40f0ca"
      },
      "source": [
        "np1.shape"
      ],
      "execution_count": null,
      "outputs": [
        {
          "output_type": "execute_result",
          "data": {
            "text/plain": [
              "(4,)"
            ]
          },
          "metadata": {
            "tags": []
          },
          "execution_count": 5
        }
      ]
    },
    {
      "cell_type": "code",
      "metadata": {
        "colab": {
          "base_uri": "https://localhost:8080/"
        },
        "id": "biLliYEg4PH6",
        "outputId": "19efca34-c9e3-4d55-eb6f-8f5f6416b676"
      },
      "source": [
        "np1.dtype"
      ],
      "execution_count": null,
      "outputs": [
        {
          "output_type": "execute_result",
          "data": {
            "text/plain": [
              "dtype('int64')"
            ]
          },
          "metadata": {
            "tags": []
          },
          "execution_count": 6
        }
      ]
    },
    {
      "cell_type": "code",
      "metadata": {
        "colab": {
          "base_uri": "https://localhost:8080/"
        },
        "id": "N97Vyb-K4Qou",
        "outputId": "29eccdcb-ea2d-479a-9fe8-fc96fb45ccf5"
      },
      "source": [
        "np1.itemsize"
      ],
      "execution_count": null,
      "outputs": [
        {
          "output_type": "execute_result",
          "data": {
            "text/plain": [
              "8"
            ]
          },
          "metadata": {
            "tags": []
          },
          "execution_count": 7
        }
      ]
    },
    {
      "cell_type": "code",
      "metadata": {
        "id": "FQbPV7TU4X16"
      },
      "source": [
        "#HOMOGENEOUS DATA ARRAY"
      ],
      "execution_count": null,
      "outputs": []
    },
    {
      "cell_type": "code",
      "metadata": {
        "id": "Gseqin884d1S"
      },
      "source": [
        "np_zeros = np.zeros((3,4))"
      ],
      "execution_count": null,
      "outputs": []
    },
    {
      "cell_type": "code",
      "metadata": {
        "colab": {
          "base_uri": "https://localhost:8080/"
        },
        "id": "LG1Pu1124jeJ",
        "outputId": "21f791e8-4b01-4e65-e235-c539dd4cad2d"
      },
      "source": [
        "print(np_zeros)"
      ],
      "execution_count": null,
      "outputs": [
        {
          "output_type": "stream",
          "text": [
            "[[0. 0. 0. 0.]\n",
            " [0. 0. 0. 0.]\n",
            " [0. 0. 0. 0.]]\n"
          ],
          "name": "stdout"
        }
      ]
    },
    {
      "cell_type": "code",
      "metadata": {
        "colab": {
          "base_uri": "https://localhost:8080/"
        },
        "id": "9fTBvGWA4sF3",
        "outputId": "5cb5892f-de0e-40bd-c35c-95db00f0a447"
      },
      "source": [
        "np.zeros((3,4), dtype = int)"
      ],
      "execution_count": null,
      "outputs": [
        {
          "output_type": "execute_result",
          "data": {
            "text/plain": [
              "array([[0, 0, 0, 0],\n",
              "       [0, 0, 0, 0],\n",
              "       [0, 0, 0, 0]])"
            ]
          },
          "metadata": {
            "tags": []
          },
          "execution_count": 17
        }
      ]
    },
    {
      "cell_type": "code",
      "metadata": {
        "id": "znlxal7c44gr"
      },
      "source": [
        "np3 = np.zeros((2,4,5),dtype = int)"
      ],
      "execution_count": null,
      "outputs": []
    },
    {
      "cell_type": "code",
      "metadata": {
        "colab": {
          "base_uri": "https://localhost:8080/"
        },
        "id": "-IEB4G1U5C3p",
        "outputId": "fbafa2ee-6ff9-4395-caf5-592110fa7259"
      },
      "source": [
        "print(np3)"
      ],
      "execution_count": null,
      "outputs": [
        {
          "output_type": "stream",
          "text": [
            "[[[0 0 0 0 0]\n",
            "  [0 0 0 0 0]\n",
            "  [0 0 0 0 0]\n",
            "  [0 0 0 0 0]]\n",
            "\n",
            " [[0 0 0 0 0]\n",
            "  [0 0 0 0 0]\n",
            "  [0 0 0 0 0]\n",
            "  [0 0 0 0 0]]]\n"
          ],
          "name": "stdout"
        }
      ]
    },
    {
      "cell_type": "code",
      "metadata": {
        "colab": {
          "base_uri": "https://localhost:8080/"
        },
        "id": "3MD8Gv5a5ED1",
        "outputId": "b7fa0dab-2a7c-4950-9700-427b56445bc9"
      },
      "source": [
        "np3[0]"
      ],
      "execution_count": null,
      "outputs": [
        {
          "output_type": "execute_result",
          "data": {
            "text/plain": [
              "array([[0, 0, 0, 0, 0],\n",
              "       [0, 0, 0, 0, 0],\n",
              "       [0, 0, 0, 0, 0],\n",
              "       [0, 0, 0, 0, 0]])"
            ]
          },
          "metadata": {
            "tags": []
          },
          "execution_count": 20
        }
      ]
    },
    {
      "cell_type": "code",
      "metadata": {
        "colab": {
          "base_uri": "https://localhost:8080/"
        },
        "id": "-KA9jvgX5ejJ",
        "outputId": "6077b052-efbb-4449-b6c4-8a30c73ab17f"
      },
      "source": [
        "np3[1]"
      ],
      "execution_count": null,
      "outputs": [
        {
          "output_type": "execute_result",
          "data": {
            "text/plain": [
              "array([[0, 0, 0, 0, 0],\n",
              "       [0, 0, 0, 0, 0],\n",
              "       [0, 0, 0, 0, 0],\n",
              "       [0, 0, 0, 0, 0]])"
            ]
          },
          "metadata": {
            "tags": []
          },
          "execution_count": 21
        }
      ]
    },
    {
      "cell_type": "code",
      "metadata": {
        "id": "3Si1ZzDM5glB"
      },
      "source": [
        "np4 = np.zeros((2,3,4,5))"
      ],
      "execution_count": null,
      "outputs": []
    },
    {
      "cell_type": "code",
      "metadata": {
        "colab": {
          "base_uri": "https://localhost:8080/"
        },
        "id": "TJvLuUIf5sIr",
        "outputId": "6994c50b-a8e2-43c5-a75f-dce2388b5652"
      },
      "source": [
        "np4"
      ],
      "execution_count": null,
      "outputs": [
        {
          "output_type": "execute_result",
          "data": {
            "text/plain": [
              "array([[[[0., 0., 0., 0., 0.],\n",
              "         [0., 0., 0., 0., 0.],\n",
              "         [0., 0., 0., 0., 0.],\n",
              "         [0., 0., 0., 0., 0.]],\n",
              "\n",
              "        [[0., 0., 0., 0., 0.],\n",
              "         [0., 0., 0., 0., 0.],\n",
              "         [0., 0., 0., 0., 0.],\n",
              "         [0., 0., 0., 0., 0.]],\n",
              "\n",
              "        [[0., 0., 0., 0., 0.],\n",
              "         [0., 0., 0., 0., 0.],\n",
              "         [0., 0., 0., 0., 0.],\n",
              "         [0., 0., 0., 0., 0.]]],\n",
              "\n",
              "\n",
              "       [[[0., 0., 0., 0., 0.],\n",
              "         [0., 0., 0., 0., 0.],\n",
              "         [0., 0., 0., 0., 0.],\n",
              "         [0., 0., 0., 0., 0.]],\n",
              "\n",
              "        [[0., 0., 0., 0., 0.],\n",
              "         [0., 0., 0., 0., 0.],\n",
              "         [0., 0., 0., 0., 0.],\n",
              "         [0., 0., 0., 0., 0.]],\n",
              "\n",
              "        [[0., 0., 0., 0., 0.],\n",
              "         [0., 0., 0., 0., 0.],\n",
              "         [0., 0., 0., 0., 0.],\n",
              "         [0., 0., 0., 0., 0.]]]])"
            ]
          },
          "metadata": {
            "tags": []
          },
          "execution_count": 23
        }
      ]
    },
    {
      "cell_type": "code",
      "metadata": {
        "id": "OwkWYlrL5s4W"
      },
      "source": [
        "np_ones = np.ones((4,5))"
      ],
      "execution_count": null,
      "outputs": []
    },
    {
      "cell_type": "code",
      "metadata": {
        "colab": {
          "base_uri": "https://localhost:8080/"
        },
        "id": "gh_FDHWV6-RW",
        "outputId": "af9fbb6c-fb51-444d-83ab-e922ce84fbfa"
      },
      "source": [
        "print(np_ones)"
      ],
      "execution_count": null,
      "outputs": [
        {
          "output_type": "stream",
          "text": [
            "[[1. 1. 1. 1. 1.]\n",
            " [1. 1. 1. 1. 1.]\n",
            " [1. 1. 1. 1. 1.]\n",
            " [1. 1. 1. 1. 1.]]\n"
          ],
          "name": "stdout"
        }
      ]
    },
    {
      "cell_type": "code",
      "metadata": {
        "id": "wWY9aAC-8IIA"
      },
      "source": [
        "np_ones4 = np.ones((3,2,2,8), dtype = int)"
      ],
      "execution_count": null,
      "outputs": []
    },
    {
      "cell_type": "code",
      "metadata": {
        "colab": {
          "base_uri": "https://localhost:8080/"
        },
        "id": "1jZyvuXj7GYJ",
        "outputId": "1a0ab340-3e10-4eb3-8f66-a079784e3f06"
      },
      "source": [
        "np_ones4"
      ],
      "execution_count": null,
      "outputs": [
        {
          "output_type": "execute_result",
          "data": {
            "text/plain": [
              "array([[[[   1,    1,    1,    1,    1,    1,    1,    1],\n",
              "         [   1,    1,    1,    1,    1,    1,    1,    1]],\n",
              "\n",
              "        [[   1,    1,    1, 2222,    1,    1,    1,    1],\n",
              "         [   1,    1,    1,    1,    1,    1,    1,    1]]],\n",
              "\n",
              "\n",
              "       [[[   1,    1,    1,    1,    1,    1,    1,    1],\n",
              "         [   1,    1,    1,    1,    1,    1,    1,    1]],\n",
              "\n",
              "        [[   1,    1,    1,    1,    1,    1,    1,    1],\n",
              "         [   1,    1,    1,    1,    1,    1,    1,    1]]],\n",
              "\n",
              "\n",
              "       [[[   1,    1,    1,    1,    1,    1,    1,    1],\n",
              "         [   1,    1,    1,    1,    1,    1,    1,    1]],\n",
              "\n",
              "        [[   1,    1,    1,    1,    1,    1,    1,    1],\n",
              "         [   1,    1,    1,    1,    1,    1,    1,    1]]]])"
            ]
          },
          "metadata": {
            "tags": []
          },
          "execution_count": 37
        }
      ]
    },
    {
      "cell_type": "code",
      "metadata": {
        "id": "19glSo4S7M_D"
      },
      "source": [
        "np_ones4[0][1][0][3] = 2222"
      ],
      "execution_count": null,
      "outputs": []
    },
    {
      "cell_type": "code",
      "metadata": {
        "id": "Sg-YVFFy8Spm"
      },
      "source": [
        "# Diagonal \n",
        "\n"
      ],
      "execution_count": null,
      "outputs": []
    },
    {
      "cell_type": "code",
      "metadata": {
        "id": "At9SRr2_86TW"
      },
      "source": [
        "dia1 = np.eye(4,4)"
      ],
      "execution_count": null,
      "outputs": []
    },
    {
      "cell_type": "code",
      "metadata": {
        "colab": {
          "base_uri": "https://localhost:8080/"
        },
        "id": "kJLZ4J9i9CFd",
        "outputId": "0d6d834b-eda5-4717-d56d-21706e060f49"
      },
      "source": [
        "dia1"
      ],
      "execution_count": null,
      "outputs": [
        {
          "output_type": "execute_result",
          "data": {
            "text/plain": [
              "array([[1., 0., 0., 0.],\n",
              "       [0., 1., 0., 0.],\n",
              "       [0., 0., 1., 0.],\n",
              "       [0., 0., 0., 1.]])"
            ]
          },
          "metadata": {
            "tags": []
          },
          "execution_count": 40
        }
      ]
    },
    {
      "cell_type": "code",
      "metadata": {
        "id": "EcQ8FkBH9DYa"
      },
      "source": [
        "dia3 = np.eye(8,8)"
      ],
      "execution_count": null,
      "outputs": []
    },
    {
      "cell_type": "code",
      "metadata": {
        "colab": {
          "base_uri": "https://localhost:8080/"
        },
        "id": "aiDpSJOL9N2A",
        "outputId": "8abcd178-e106-43d6-fda1-c4023eb26e09"
      },
      "source": [
        "dia3"
      ],
      "execution_count": null,
      "outputs": [
        {
          "output_type": "execute_result",
          "data": {
            "text/plain": [
              "array([[1., 0., 0., 0., 0., 0., 0., 0.],\n",
              "       [0., 1., 0., 0., 0., 0., 0., 0.],\n",
              "       [0., 0., 1., 0., 0., 0., 0., 0.],\n",
              "       [0., 0., 0., 1., 0., 0., 0., 0.],\n",
              "       [0., 0., 0., 0., 1., 0., 0., 0.],\n",
              "       [0., 0., 0., 0., 0., 1., 0., 0.],\n",
              "       [0., 0., 0., 0., 0., 0., 1., 0.],\n",
              "       [0., 0., 0., 0., 0., 0., 0., 1.]])"
            ]
          },
          "metadata": {
            "tags": []
          },
          "execution_count": 50
        }
      ]
    },
    {
      "cell_type": "code",
      "metadata": {
        "id": "2eqGEaJj9OtV"
      },
      "source": [
        "dia4 = np.eye(8,k = -3)"
      ],
      "execution_count": null,
      "outputs": []
    },
    {
      "cell_type": "code",
      "metadata": {
        "colab": {
          "base_uri": "https://localhost:8080/"
        },
        "id": "_lv0DVFc9sQ9",
        "outputId": "860eb50e-009b-46aa-deca-92f3a42ad118"
      },
      "source": [
        "dia4"
      ],
      "execution_count": null,
      "outputs": [
        {
          "output_type": "execute_result",
          "data": {
            "text/plain": [
              "array([[0., 0., 0., 0., 0., 0., 0., 0.],\n",
              "       [0., 0., 0., 0., 0., 0., 0., 0.],\n",
              "       [0., 0., 0., 0., 0., 0., 0., 0.],\n",
              "       [1., 0., 0., 0., 0., 0., 0., 0.],\n",
              "       [0., 1., 0., 0., 0., 0., 0., 0.],\n",
              "       [0., 0., 1., 0., 0., 0., 0., 0.],\n",
              "       [0., 0., 0., 1., 0., 0., 0., 0.],\n",
              "       [0., 0., 0., 0., 1., 0., 0., 0.]])"
            ]
          },
          "metadata": {
            "tags": []
          },
          "execution_count": 58
        }
      ]
    },
    {
      "cell_type": "code",
      "metadata": {
        "id": "r3hDfWHq-JPM"
      },
      "source": [
        "dia5 = np.eye(4,5)"
      ],
      "execution_count": null,
      "outputs": []
    },
    {
      "cell_type": "code",
      "metadata": {
        "colab": {
          "base_uri": "https://localhost:8080/"
        },
        "id": "QDmGI3cp-SaD",
        "outputId": "4ff3efee-6bff-466f-eeed-dcf2f677a709"
      },
      "source": [
        "dia5"
      ],
      "execution_count": null,
      "outputs": [
        {
          "output_type": "execute_result",
          "data": {
            "text/plain": [
              "array([[1., 0., 0., 0., 0.],\n",
              "       [0., 1., 0., 0., 0.],\n",
              "       [0., 0., 1., 0., 0.],\n",
              "       [0., 0., 0., 1., 0.]])"
            ]
          },
          "metadata": {
            "tags": []
          },
          "execution_count": 62
        }
      ]
    },
    {
      "cell_type": "code",
      "metadata": {
        "colab": {
          "base_uri": "https://localhost:8080/"
        },
        "id": "30WitCYx9tWR",
        "outputId": "f8916ac5-39b8-479a-ceeb-a6b3338637de"
      },
      "source": [
        "np.identity(4)"
      ],
      "execution_count": null,
      "outputs": [
        {
          "output_type": "execute_result",
          "data": {
            "text/plain": [
              "array([[1., 0., 0., 0.],\n",
              "       [0., 1., 0., 0.],\n",
              "       [0., 0., 1., 0.],\n",
              "       [0., 0., 0., 1.]])"
            ]
          },
          "metadata": {
            "tags": []
          },
          "execution_count": 60
        }
      ]
    },
    {
      "cell_type": "code",
      "metadata": {
        "colab": {
          "base_uri": "https://localhost:8080/"
        },
        "id": "HviZmMak-Diq",
        "outputId": "8c2ff10c-91b6-4389-f255-e0c0756d9eb2"
      },
      "source": [
        "np.identity(6)"
      ],
      "execution_count": null,
      "outputs": [
        {
          "output_type": "execute_result",
          "data": {
            "text/plain": [
              "array([[1., 0., 0., 0., 0., 0.],\n",
              "       [0., 1., 0., 0., 0., 0.],\n",
              "       [0., 0., 1., 0., 0., 0.],\n",
              "       [0., 0., 0., 1., 0., 0.],\n",
              "       [0., 0., 0., 0., 1., 0.],\n",
              "       [0., 0., 0., 0., 0., 1.]])"
            ]
          },
          "metadata": {
            "tags": []
          },
          "execution_count": 63
        }
      ]
    },
    {
      "cell_type": "code",
      "metadata": {
        "id": "QVpcNhYk-d-S"
      },
      "source": [
        "ar1 = np.arange(10)"
      ],
      "execution_count": null,
      "outputs": []
    },
    {
      "cell_type": "code",
      "metadata": {
        "colab": {
          "base_uri": "https://localhost:8080/"
        },
        "id": "yOeGbfez-yXC",
        "outputId": "866c633d-e645-4a1c-ed3a-931c113fed4b"
      },
      "source": [
        "print(ar1)"
      ],
      "execution_count": null,
      "outputs": [
        {
          "output_type": "stream",
          "text": [
            "[0 1 2 3 4 5 6 7 8 9]\n"
          ],
          "name": "stdout"
        }
      ]
    },
    {
      "cell_type": "code",
      "metadata": {
        "id": "XfhL7V86-z9l"
      },
      "source": [
        "ar2 = np.arange(10,30,2)"
      ],
      "execution_count": null,
      "outputs": []
    },
    {
      "cell_type": "code",
      "metadata": {
        "colab": {
          "base_uri": "https://localhost:8080/"
        },
        "id": "s1TM6KbU--0Y",
        "outputId": "72347b78-b7be-4d9f-b9fb-1ef39868b6a8"
      },
      "source": [
        "ar2"
      ],
      "execution_count": null,
      "outputs": [
        {
          "output_type": "execute_result",
          "data": {
            "text/plain": [
              "array([10, 12, 14, 16, 18, 20, 22, 24, 26, 28])"
            ]
          },
          "metadata": {
            "tags": []
          },
          "execution_count": 68
        }
      ]
    },
    {
      "cell_type": "code",
      "metadata": {
        "id": "mJFBsY5b-_ST"
      },
      "source": [
        "ar2 = np.arange(11,1,-1)"
      ],
      "execution_count": null,
      "outputs": []
    },
    {
      "cell_type": "code",
      "metadata": {
        "colab": {
          "base_uri": "https://localhost:8080/"
        },
        "id": "Lc5-gM2p_KaY",
        "outputId": "ad69960e-14e0-4adf-d27f-856707cad390"
      },
      "source": [
        "ar2"
      ],
      "execution_count": null,
      "outputs": [
        {
          "output_type": "execute_result",
          "data": {
            "text/plain": [
              "array([11, 10,  9,  8,  7,  6,  5,  4,  3,  2])"
            ]
          },
          "metadata": {
            "tags": []
          },
          "execution_count": 73
        }
      ]
    },
    {
      "cell_type": "code",
      "metadata": {
        "colab": {
          "base_uri": "https://localhost:8080/"
        },
        "id": "lyAE4mLp_QOe",
        "outputId": "edcffc8f-be41-46ec-a2d6-69e0173b9131"
      },
      "source": [
        "np.arange(10, 20, 1.5)"
      ],
      "execution_count": null,
      "outputs": [
        {
          "output_type": "execute_result",
          "data": {
            "text/plain": [
              "array([10. , 11.5, 13. , 14.5, 16. , 17.5, 19. ])"
            ]
          },
          "metadata": {
            "tags": []
          },
          "execution_count": 76
        }
      ]
    },
    {
      "cell_type": "code",
      "metadata": {
        "colab": {
          "base_uri": "https://localhost:8080/",
          "height": 166
        },
        "id": "vxJQ8gFW_lZg",
        "outputId": "86381eb5-6a7a-481d-db26-9a61cae8a41f"
      },
      "source": [
        "list(range(10,20,1.5))"
      ],
      "execution_count": null,
      "outputs": [
        {
          "output_type": "error",
          "ename": "TypeError",
          "evalue": "ignored",
          "traceback": [
            "\u001b[0;31m---------------------------------------------------------------------------\u001b[0m",
            "\u001b[0;31mTypeError\u001b[0m                                 Traceback (most recent call last)",
            "\u001b[0;32m<ipython-input-77-41d3424601a9>\u001b[0m in \u001b[0;36m<module>\u001b[0;34m()\u001b[0m\n\u001b[0;32m----> 1\u001b[0;31m \u001b[0mlist\u001b[0m\u001b[0;34m(\u001b[0m\u001b[0mrange\u001b[0m\u001b[0;34m(\u001b[0m\u001b[0;36m10\u001b[0m\u001b[0;34m,\u001b[0m\u001b[0;36m20\u001b[0m\u001b[0;34m,\u001b[0m\u001b[0;36m1.5\u001b[0m\u001b[0;34m)\u001b[0m\u001b[0;34m)\u001b[0m\u001b[0;34m\u001b[0m\u001b[0;34m\u001b[0m\u001b[0m\n\u001b[0m",
            "\u001b[0;31mTypeError\u001b[0m: 'float' object cannot be interpreted as an integer"
          ]
        }
      ]
    },
    {
      "cell_type": "code",
      "metadata": {
        "colab": {
          "base_uri": "https://localhost:8080/"
        },
        "id": "9wxhYTaz_qHX",
        "outputId": "0bbd697a-9b44-4e97-c33d-33c58ef3769c"
      },
      "source": [
        "np.arange(10,20,2, dtype = float)"
      ],
      "execution_count": null,
      "outputs": [
        {
          "output_type": "execute_result",
          "data": {
            "text/plain": [
              "array([10., 12., 14., 16., 18.])"
            ]
          },
          "metadata": {
            "tags": []
          },
          "execution_count": 79
        }
      ]
    },
    {
      "cell_type": "code",
      "metadata": {
        "colab": {
          "base_uri": "https://localhost:8080/"
        },
        "id": "xf3ejkAV_3Qn",
        "outputId": "1b8421c1-a4fc-4fec-9610-c905c96b772e"
      },
      "source": [
        "np.arange(-8, -2, 2)"
      ],
      "execution_count": null,
      "outputs": [
        {
          "output_type": "execute_result",
          "data": {
            "text/plain": [
              "array([-8, -6, -4])"
            ]
          },
          "metadata": {
            "tags": []
          },
          "execution_count": 80
        }
      ]
    },
    {
      "cell_type": "code",
      "metadata": {
        "colab": {
          "base_uri": "https://localhost:8080/"
        },
        "id": "I9sm1khdAFCF",
        "outputId": "045a5b66-8fe1-4e1f-98fd-bc51e1070b9d"
      },
      "source": [
        "np.arange(1.1, 10.5, 1.1)"
      ],
      "execution_count": null,
      "outputs": [
        {
          "output_type": "execute_result",
          "data": {
            "text/plain": [
              "array([1.1, 2.2, 3.3, 4.4, 5.5, 6.6, 7.7, 8.8, 9.9])"
            ]
          },
          "metadata": {
            "tags": []
          },
          "execution_count": 81
        }
      ]
    },
    {
      "cell_type": "code",
      "metadata": {
        "id": "oqYRd8iPALUD"
      },
      "source": [
        "np2 = np.arange(1,10,1)"
      ],
      "execution_count": null,
      "outputs": []
    },
    {
      "cell_type": "code",
      "metadata": {
        "colab": {
          "base_uri": "https://localhost:8080/"
        },
        "id": "ls3nkifSAsrF",
        "outputId": "0e05ec7c-d59b-43f6-85cb-ff77175f2852"
      },
      "source": [
        "np2"
      ],
      "execution_count": null,
      "outputs": [
        {
          "output_type": "execute_result",
          "data": {
            "text/plain": [
              "array([1, 2, 3, 4, 5, 6, 7, 8, 9])"
            ]
          },
          "metadata": {
            "tags": []
          },
          "execution_count": 83
        }
      ]
    },
    {
      "cell_type": "code",
      "metadata": {
        "colab": {
          "base_uri": "https://localhost:8080/"
        },
        "id": "ia53yf-xAtWb",
        "outputId": "c63171a5-53ab-4ff6-c0c3-52f78ee1ed78"
      },
      "source": [
        "np2.reshape(3,3)"
      ],
      "execution_count": null,
      "outputs": [
        {
          "output_type": "execute_result",
          "data": {
            "text/plain": [
              "array([[1, 2, 3],\n",
              "       [4, 5, 6],\n",
              "       [7, 8, 9]])"
            ]
          },
          "metadata": {
            "tags": []
          },
          "execution_count": 84
        }
      ]
    },
    {
      "cell_type": "code",
      "metadata": {
        "id": "afPWibuQAxxy"
      },
      "source": [
        "np2 = np.arange(1,10,1).reshape(3,3)"
      ],
      "execution_count": null,
      "outputs": []
    },
    {
      "cell_type": "code",
      "metadata": {
        "colab": {
          "base_uri": "https://localhost:8080/"
        },
        "id": "YO29uJudA9p3",
        "outputId": "6ed5c55c-20ba-4a18-8c83-74d4bbda48fd"
      },
      "source": [
        "np2"
      ],
      "execution_count": null,
      "outputs": [
        {
          "output_type": "execute_result",
          "data": {
            "text/plain": [
              "array([[1, 2, 3],\n",
              "       [4, 5, 6],\n",
              "       [7, 8, 9]])"
            ]
          },
          "metadata": {
            "tags": []
          },
          "execution_count": 87
        }
      ]
    },
    {
      "cell_type": "code",
      "metadata": {
        "colab": {
          "base_uri": "https://localhost:8080/",
          "height": 166
        },
        "id": "nXmi6-6WBFfy",
        "outputId": "2e818526-a2e4-4ca8-a0b4-e0a3ebc4a152"
      },
      "source": [
        "np.arange(1,10,1).reshape(3,4)"
      ],
      "execution_count": null,
      "outputs": [
        {
          "output_type": "error",
          "ename": "ValueError",
          "evalue": "ignored",
          "traceback": [
            "\u001b[0;31m---------------------------------------------------------------------------\u001b[0m",
            "\u001b[0;31mValueError\u001b[0m                                Traceback (most recent call last)",
            "\u001b[0;32m<ipython-input-89-55df46252eee>\u001b[0m in \u001b[0;36m<module>\u001b[0;34m()\u001b[0m\n\u001b[0;32m----> 1\u001b[0;31m \u001b[0mnp\u001b[0m\u001b[0;34m.\u001b[0m\u001b[0marange\u001b[0m\u001b[0;34m(\u001b[0m\u001b[0;36m1\u001b[0m\u001b[0;34m,\u001b[0m\u001b[0;36m10\u001b[0m\u001b[0;34m,\u001b[0m\u001b[0;36m1\u001b[0m\u001b[0;34m)\u001b[0m\u001b[0;34m.\u001b[0m\u001b[0mreshape\u001b[0m\u001b[0;34m(\u001b[0m\u001b[0;36m3\u001b[0m\u001b[0;34m,\u001b[0m\u001b[0;36m4\u001b[0m\u001b[0;34m)\u001b[0m\u001b[0;34m\u001b[0m\u001b[0;34m\u001b[0m\u001b[0m\n\u001b[0m",
            "\u001b[0;31mValueError\u001b[0m: cannot reshape array of size 9 into shape (3,4)"
          ]
        }
      ]
    },
    {
      "cell_type": "code",
      "metadata": {
        "id": "7ZFLJI2aBLfZ"
      },
      "source": [
        "# linspace"
      ],
      "execution_count": null,
      "outputs": []
    },
    {
      "cell_type": "code",
      "metadata": {
        "id": "hPbTPrIdBiKI"
      },
      "source": [
        "# arange(start, stop, step)    (1, 10, 2)\n",
        "# linspace(start, stop, num)  (1,10,2000)"
      ],
      "execution_count": null,
      "outputs": []
    },
    {
      "cell_type": "code",
      "metadata": {
        "colab": {
          "base_uri": "https://localhost:8080/"
        },
        "id": "iz_djZ2zCDQP",
        "outputId": "46f67b2d-977f-4e72-bcac-5f2a62297e02"
      },
      "source": [
        "np.arange(1,10,2)"
      ],
      "execution_count": null,
      "outputs": [
        {
          "output_type": "execute_result",
          "data": {
            "text/plain": [
              "array([1, 3, 5, 7, 9])"
            ]
          },
          "metadata": {
            "tags": []
          },
          "execution_count": 91
        }
      ]
    },
    {
      "cell_type": "code",
      "metadata": {
        "id": "IYft6PKyCFmb"
      },
      "source": [
        "lin1 = np.linspace(1,2)"
      ],
      "execution_count": null,
      "outputs": []
    },
    {
      "cell_type": "code",
      "metadata": {
        "colab": {
          "base_uri": "https://localhost:8080/"
        },
        "id": "6jlB-pFTCJrg",
        "outputId": "69d8eccf-f01d-4522-b401-63a6d84322d6"
      },
      "source": [
        "lin1"
      ],
      "execution_count": null,
      "outputs": [
        {
          "output_type": "execute_result",
          "data": {
            "text/plain": [
              "array([1.        , 1.02040816, 1.04081633, 1.06122449, 1.08163265,\n",
              "       1.10204082, 1.12244898, 1.14285714, 1.16326531, 1.18367347,\n",
              "       1.20408163, 1.2244898 , 1.24489796, 1.26530612, 1.28571429,\n",
              "       1.30612245, 1.32653061, 1.34693878, 1.36734694, 1.3877551 ,\n",
              "       1.40816327, 1.42857143, 1.44897959, 1.46938776, 1.48979592,\n",
              "       1.51020408, 1.53061224, 1.55102041, 1.57142857, 1.59183673,\n",
              "       1.6122449 , 1.63265306, 1.65306122, 1.67346939, 1.69387755,\n",
              "       1.71428571, 1.73469388, 1.75510204, 1.7755102 , 1.79591837,\n",
              "       1.81632653, 1.83673469, 1.85714286, 1.87755102, 1.89795918,\n",
              "       1.91836735, 1.93877551, 1.95918367, 1.97959184, 2.        ])"
            ]
          },
          "metadata": {
            "tags": []
          },
          "execution_count": 100
        }
      ]
    },
    {
      "cell_type": "code",
      "metadata": {
        "colab": {
          "base_uri": "https://localhost:8080/"
        },
        "id": "c3lGXkWpCnjh",
        "outputId": "2518f4da-124a-4c1d-82b1-fa2196ad65b4"
      },
      "source": [
        "lin1.size"
      ],
      "execution_count": null,
      "outputs": [
        {
          "output_type": "execute_result",
          "data": {
            "text/plain": [
              "50"
            ]
          },
          "metadata": {
            "tags": []
          },
          "execution_count": 101
        }
      ]
    },
    {
      "cell_type": "code",
      "metadata": {
        "id": "dQlbhjmYCoj0"
      },
      "source": [
        "rad1 = np.random.rand(4,5)"
      ],
      "execution_count": null,
      "outputs": []
    },
    {
      "cell_type": "code",
      "metadata": {
        "colab": {
          "base_uri": "https://localhost:8080/"
        },
        "id": "VRDLVl0SC-CE",
        "outputId": "d94273fb-b1b2-4643-c374-0def67c32e55"
      },
      "source": [
        "print(rad1)"
      ],
      "execution_count": null,
      "outputs": [
        {
          "output_type": "stream",
          "text": [
            "[[0.22952168 0.32169513 0.95276808 0.17578672 0.65936783]\n",
            " [0.69428159 0.92167796 0.75549551 0.55775521 0.00320404]\n",
            " [0.60994997 0.23436711 0.08446165 0.52411705 0.37265274]\n",
            " [0.40580489 0.91164963 0.43810291 0.92827051 0.05318745]]\n"
          ],
          "name": "stdout"
        }
      ]
    },
    {
      "cell_type": "code",
      "metadata": {
        "id": "96-unO3kC_ZX"
      },
      "source": [
        "radn1 = np.random.randn(4,5)"
      ],
      "execution_count": null,
      "outputs": []
    },
    {
      "cell_type": "code",
      "metadata": {
        "colab": {
          "base_uri": "https://localhost:8080/"
        },
        "id": "Qw15b6xhDJ2w",
        "outputId": "9156fada-8952-4238-aac1-631507682cfc"
      },
      "source": [
        "radn1"
      ],
      "execution_count": null,
      "outputs": [
        {
          "output_type": "execute_result",
          "data": {
            "text/plain": [
              "array([[ 0.53182904,  0.05035281, -2.25208496, -0.52056261,  1.19704716],\n",
              "       [ 1.2525558 ,  0.6737155 ,  0.81455837, -1.57281156, -1.87127397],\n",
              "       [ 0.76222768,  0.50750786,  0.25027111,  0.08718143,  0.54200117],\n",
              "       [-0.41708241,  0.1094482 , -0.6814079 ,  0.75305078,  2.43845067]])"
            ]
          },
          "metadata": {
            "tags": []
          },
          "execution_count": 111
        }
      ]
    },
    {
      "cell_type": "code",
      "metadata": {
        "id": "rmtK0PnmDKob"
      },
      "source": [
        "rint = np.random.randint(10,20,(3,5))"
      ],
      "execution_count": null,
      "outputs": []
    },
    {
      "cell_type": "code",
      "metadata": {
        "colab": {
          "base_uri": "https://localhost:8080/"
        },
        "id": "S92blqViDzXP",
        "outputId": "2fc7baba-38cd-4d2c-c869-d971edb4b52b"
      },
      "source": [
        "rint"
      ],
      "execution_count": null,
      "outputs": [
        {
          "output_type": "execute_result",
          "data": {
            "text/plain": [
              "array([[15, 15, 14, 16, 14],\n",
              "       [15, 15, 13, 12, 11],\n",
              "       [15, 15, 19, 10, 12]])"
            ]
          },
          "metadata": {
            "tags": []
          },
          "execution_count": 113
        }
      ]
    },
    {
      "cell_type": "code",
      "metadata": {
        "id": "P_aBffgoDz9_"
      },
      "source": [
        "rint2 = np.random.randint(11.5,22.5,(4,7))"
      ],
      "execution_count": null,
      "outputs": []
    },
    {
      "cell_type": "code",
      "metadata": {
        "colab": {
          "base_uri": "https://localhost:8080/"
        },
        "id": "AI-oCnyeEBG4",
        "outputId": "84738097-1ad8-4ddd-9050-3c7e1a41331d"
      },
      "source": [
        "rint2"
      ],
      "execution_count": null,
      "outputs": [
        {
          "output_type": "execute_result",
          "data": {
            "text/plain": [
              "array([[13, 14, 11, 13, 11, 14, 21],\n",
              "       [20, 12, 11, 19, 16, 15, 18],\n",
              "       [15, 19, 14, 12, 12, 15, 14],\n",
              "       [17, 14, 15, 19, 16, 13, 15]])"
            ]
          },
          "metadata": {
            "tags": []
          },
          "execution_count": 118
        }
      ]
    },
    {
      "cell_type": "code",
      "metadata": {
        "id": "Xyvkwy2NEB26"
      },
      "source": [
        "rint3 = np.random.randint(10,15,(4,5))"
      ],
      "execution_count": null,
      "outputs": []
    },
    {
      "cell_type": "code",
      "metadata": {
        "colab": {
          "base_uri": "https://localhost:8080/"
        },
        "id": "GpS-2IUeEjR5",
        "outputId": "046bf827-77d3-419b-8660-4a168bc722d9"
      },
      "source": [
        "rint3"
      ],
      "execution_count": null,
      "outputs": [
        {
          "output_type": "execute_result",
          "data": {
            "text/plain": [
              "array([[14, 14, 13, 14, 14],\n",
              "       [12, 14, 14, 14, 10],\n",
              "       [12, 12, 12, 12, 11],\n",
              "       [12, 14, 10, 14, 14]])"
            ]
          },
          "metadata": {
            "tags": []
          },
          "execution_count": 124
        }
      ]
    },
    {
      "cell_type": "code",
      "metadata": {
        "colab": {
          "base_uri": "https://localhost:8080/"
        },
        "id": "uCN-mwC-EkV1",
        "outputId": "2565d4a7-335b-421d-8514-b3b23d16ea08"
      },
      "source": [
        "list1 = [100,200,300,400,500]\n",
        "np.random.choice(list1, (4,5), p= (0.5,0.3,0.0,0.2,0.0))"
      ],
      "execution_count": null,
      "outputs": [
        {
          "output_type": "execute_result",
          "data": {
            "text/plain": [
              "array([[100, 100, 100, 400, 200],\n",
              "       [100, 200, 100, 400, 100],\n",
              "       [100, 400, 100, 100, 200],\n",
              "       [100, 200, 200, 100, 100]])"
            ]
          },
          "metadata": {
            "tags": []
          },
          "execution_count": 127
        }
      ]
    },
    {
      "cell_type": "code",
      "metadata": {
        "id": "rP3H6_SQFx7Q"
      },
      "source": [
        "# 1) less memory\n",
        "# 2) very fast\n",
        "# 3) convinient"
      ],
      "execution_count": null,
      "outputs": []
    },
    {
      "cell_type": "code",
      "metadata": {
        "id": "rWDCNPy9HPPY"
      },
      "source": [
        "a = 10000\n",
        "\n",
        "n1 = np.arange(a)\n",
        "n2 = np.arange(a)\n",
        "\n"
      ],
      "execution_count": null,
      "outputs": []
    },
    {
      "cell_type": "code",
      "metadata": {
        "id": "Kacx_au4HlgC"
      },
      "source": [
        "l1 = range(a)\n",
        "l2 = range(a)"
      ],
      "execution_count": null,
      "outputs": []
    },
    {
      "cell_type": "code",
      "metadata": {
        "colab": {
          "base_uri": "https://localhost:8080/"
        },
        "id": "5I0nBDbgI2bC",
        "outputId": "0929b793-07e8-4f76-c7d7-e7b61095ea45"
      },
      "source": [
        "len(l1)"
      ],
      "execution_count": null,
      "outputs": [
        {
          "output_type": "execute_result",
          "data": {
            "text/plain": [
              "10000"
            ]
          },
          "metadata": {
            "tags": []
          },
          "execution_count": 144
        }
      ]
    },
    {
      "cell_type": "code",
      "metadata": {
        "id": "D9gr2C-XH-5L"
      },
      "source": [
        "import sys"
      ],
      "execution_count": null,
      "outputs": []
    },
    {
      "cell_type": "code",
      "metadata": {
        "colab": {
          "base_uri": "https://localhost:8080/"
        },
        "id": "XOmTKhDeINdr",
        "outputId": "0d034170-5a92-48c9-a275-a8affb060d98"
      },
      "source": [
        "sys.getsizeof(5) * len(l1)"
      ],
      "execution_count": null,
      "outputs": [
        {
          "output_type": "execute_result",
          "data": {
            "text/plain": [
              "280000"
            ]
          },
          "metadata": {
            "tags": []
          },
          "execution_count": 146
        }
      ]
    },
    {
      "cell_type": "code",
      "metadata": {
        "colab": {
          "base_uri": "https://localhost:8080/"
        },
        "id": "MTSForJfIqjc",
        "outputId": "03d8e178-520b-4350-9d3b-30b671d25786"
      },
      "source": [
        "n1.size"
      ],
      "execution_count": null,
      "outputs": [
        {
          "output_type": "execute_result",
          "data": {
            "text/plain": [
              "10000"
            ]
          },
          "metadata": {
            "tags": []
          },
          "execution_count": 147
        }
      ]
    },
    {
      "cell_type": "code",
      "metadata": {
        "colab": {
          "base_uri": "https://localhost:8080/"
        },
        "id": "4Qcl3PuyJHqc",
        "outputId": "cadecce8-ae5a-4985-98c0-739a6db38522"
      },
      "source": [
        "n1.itemsize * n1.size"
      ],
      "execution_count": null,
      "outputs": [
        {
          "output_type": "execute_result",
          "data": {
            "text/plain": [
              "80000"
            ]
          },
          "metadata": {
            "tags": []
          },
          "execution_count": 149
        }
      ]
    },
    {
      "cell_type": "code",
      "metadata": {
        "colab": {
          "base_uri": "https://localhost:8080/"
        },
        "id": "Jmn-WsLPJM7g",
        "outputId": "04110fc6-1bf5-4e97-c86d-42ffdc6000dd"
      },
      "source": [
        "l1"
      ],
      "execution_count": null,
      "outputs": [
        {
          "output_type": "execute_result",
          "data": {
            "text/plain": [
              "range(0, 10000)"
            ]
          },
          "metadata": {
            "tags": []
          },
          "execution_count": 150
        }
      ]
    },
    {
      "cell_type": "code",
      "metadata": {
        "colab": {
          "base_uri": "https://localhost:8080/"
        },
        "id": "vhDqMaGWJsc_",
        "outputId": "c5f28c66-c35d-4c99-a1cf-a0f119745ee8"
      },
      "source": [
        "l2"
      ],
      "execution_count": null,
      "outputs": [
        {
          "output_type": "execute_result",
          "data": {
            "text/plain": [
              "range(0, 10000)"
            ]
          },
          "metadata": {
            "tags": []
          },
          "execution_count": 151
        }
      ]
    },
    {
      "cell_type": "code",
      "metadata": {
        "colab": {
          "base_uri": "https://localhost:8080/"
        },
        "id": "uH_L_5-kJtQM",
        "outputId": "986c7945-2dd3-4e85-ca0b-a7d571edee25"
      },
      "source": [
        "import time\n",
        "a = 100000\n",
        "l1 = range(a)\n",
        "l2 = range(a)\n",
        "s = time.time()\n",
        "list1=[]\n",
        "for i,j in zip(l1, l2):\n",
        "  list1.append(i+j)\n",
        "e = time.time()\n",
        "print(\"Time taken : \", (e - s)*10000)"
      ],
      "execution_count": null,
      "outputs": [
        {
          "output_type": "stream",
          "text": [
            "Time taken :  287.7926826477051\n"
          ],
          "name": "stdout"
        }
      ]
    },
    {
      "cell_type": "code",
      "metadata": {
        "colab": {
          "base_uri": "https://localhost:8080/"
        },
        "id": "wECiUoIvJ-Gf",
        "outputId": "3baf50a0-4fdc-4d37-d479-01463aa51833"
      },
      "source": [
        "import time\n",
        "a = 100000\n",
        "n1 = np.arange(a)\n",
        "n2 = np.arange(a)\n",
        "\n",
        "s = time.time()\n",
        "n3 = n1 + n2\n",
        "e = time.time()\n",
        "print(\"Time taken : \", (e - s)*10000)"
      ],
      "execution_count": null,
      "outputs": [
        {
          "output_type": "stream",
          "text": [
            "Time taken :  1.8286705017089844\n"
          ],
          "name": "stdout"
        }
      ]
    },
    {
      "cell_type": "code",
      "metadata": {
        "colab": {
          "base_uri": "https://localhost:8080/"
        },
        "id": "rmvV7s9TKvwg",
        "outputId": "85fcd235-58c8-4ff5-8ea4-e88761f8b923"
      },
      "source": [
        "n3"
      ],
      "execution_count": null,
      "outputs": [
        {
          "output_type": "execute_result",
          "data": {
            "text/plain": [
              "array([     0,      2,      4, ..., 199994, 199996, 199998])"
            ]
          },
          "metadata": {
            "tags": []
          },
          "execution_count": 156
        }
      ]
    },
    {
      "cell_type": "code",
      "metadata": {
        "id": "pAK3CBZYKwjY"
      },
      "source": [
        "list1"
      ],
      "execution_count": null,
      "outputs": []
    },
    {
      "cell_type": "code",
      "metadata": {
        "id": "rZSEAOReKyld"
      },
      "source": [
        ""
      ],
      "execution_count": null,
      "outputs": []
    }
  ]
}