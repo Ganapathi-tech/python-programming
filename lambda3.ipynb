{
  "nbformat": 4,
  "nbformat_minor": 0,
  "metadata": {
    "colab": {
      "name": "lambda2.ipynb",
      "provenance": [],
      "include_colab_link": true
    },
    "kernelspec": {
      "name": "python3",
      "display_name": "Python 3"
    }
  },
  "cells": [
    {
      "cell_type": "markdown",
      "metadata": {
        "id": "view-in-github",
        "colab_type": "text"
      },
      "source": [
        "<a href=\"https://colab.research.google.com/github/Ganapathi-tech/python-programming/blob/main/lambda3.ipynb\" target=\"_parent\"><img src=\"https://colab.research.google.com/assets/colab-badge.svg\" alt=\"Open In Colab\"/></a>"
      ]
    },
    {
      "cell_type": "code",
      "metadata": {
        "colab": {
          "base_uri": "https://localhost:8080/",
          "height": 35
        },
        "id": "zl6wAy72_WJP",
        "outputId": "5d53c678-b615-40a9-e227-0863c5b6de79"
      },
      "source": [
        "var = lambda  : \"Good Morning\"\n",
        "var()"
      ],
      "execution_count": null,
      "outputs": [
        {
          "output_type": "execute_result",
          "data": {
            "application/vnd.google.colaboratory.intrinsic+json": {
              "type": "string"
            },
            "text/plain": [
              "'Good Morning'"
            ]
          },
          "metadata": {
            "tags": []
          },
          "execution_count": 1
        }
      ]
    },
    {
      "cell_type": "code",
      "metadata": {
        "id": "T5L7bBb6_8Co"
      },
      "source": [
        "var1 = lambda x, y : x+y"
      ],
      "execution_count": null,
      "outputs": []
    },
    {
      "cell_type": "code",
      "metadata": {
        "colab": {
          "base_uri": "https://localhost:8080/"
        },
        "id": "yOMVf0L5AB26",
        "outputId": "bb54ad1c-8c2c-4e59-af32-47724100a89a"
      },
      "source": [
        "var1(10,20)"
      ],
      "execution_count": null,
      "outputs": [
        {
          "output_type": "execute_result",
          "data": {
            "text/plain": [
              "30"
            ]
          },
          "metadata": {
            "tags": []
          },
          "execution_count": 3
        }
      ]
    },
    {
      "cell_type": "code",
      "metadata": {
        "id": "ddZIpms2ACy7"
      },
      "source": [
        "var2 = lambda x, y : x if x > y else y"
      ],
      "execution_count": null,
      "outputs": []
    },
    {
      "cell_type": "code",
      "metadata": {
        "colab": {
          "base_uri": "https://localhost:8080/"
        },
        "id": "aZL6SP9KAJYV",
        "outputId": "dc226934-72e4-4992-f24b-24cbd0d71597"
      },
      "source": [
        "var2(91,81)"
      ],
      "execution_count": null,
      "outputs": [
        {
          "output_type": "execute_result",
          "data": {
            "text/plain": [
              "91"
            ]
          },
          "metadata": {
            "tags": []
          },
          "execution_count": 5
        }
      ]
    },
    {
      "cell_type": "code",
      "metadata": {
        "id": "rdYNVY9nALaI"
      },
      "source": [
        "var3 = lambda x, y,z  : x if x > y and x > z else y if y > z else z"
      ],
      "execution_count": null,
      "outputs": []
    },
    {
      "cell_type": "code",
      "metadata": {
        "colab": {
          "base_uri": "https://localhost:8080/"
        },
        "id": "zDSfbF1yAVlg",
        "outputId": "c350baeb-49c9-473f-b234-95cedc3231c5"
      },
      "source": [
        "var3(10,63,81)"
      ],
      "execution_count": null,
      "outputs": [
        {
          "output_type": "execute_result",
          "data": {
            "text/plain": [
              "81"
            ]
          },
          "metadata": {
            "tags": []
          },
          "execution_count": 7
        }
      ]
    },
    {
      "cell_type": "code",
      "metadata": {
        "id": "mT0OZHyNAYL9"
      },
      "source": [
        "var4 = lambda x : [i*i for i in range(1, x)]"
      ],
      "execution_count": null,
      "outputs": []
    },
    {
      "cell_type": "code",
      "metadata": {
        "colab": {
          "base_uri": "https://localhost:8080/"
        },
        "id": "gH6tvhXUAhcD",
        "outputId": "0a33e483-8391-4ec9-c82e-195e8c65c8bb"
      },
      "source": [
        "var4(10)"
      ],
      "execution_count": null,
      "outputs": [
        {
          "output_type": "execute_result",
          "data": {
            "text/plain": [
              "[1, 4, 9, 16, 25, 36, 49, 64, 81]"
            ]
          },
          "metadata": {
            "tags": []
          },
          "execution_count": 9
        }
      ]
    },
    {
      "cell_type": "code",
      "metadata": {
        "id": "Rd8kTJvHAiuL"
      },
      "source": [
        "var5 = lambda x : [(i,\"*\",j,\"=\",(i*j))     for i in range(2, x+1) for j in range(1,10)]"
      ],
      "execution_count": null,
      "outputs": []
    },
    {
      "cell_type": "code",
      "metadata": {
        "colab": {
          "base_uri": "https://localhost:8080/"
        },
        "id": "cIRyPtWMA1l-",
        "outputId": "41d27e3d-00d2-467c-dfdb-90d6914626fb"
      },
      "source": [
        "var5(5)"
      ],
      "execution_count": null,
      "outputs": [
        {
          "output_type": "execute_result",
          "data": {
            "text/plain": [
              "[(2, '*', 1, '=', 2),\n",
              " (2, '*', 2, '=', 4),\n",
              " (2, '*', 3, '=', 6),\n",
              " (2, '*', 4, '=', 8),\n",
              " (2, '*', 5, '=', 10),\n",
              " (2, '*', 6, '=', 12),\n",
              " (2, '*', 7, '=', 14),\n",
              " (2, '*', 8, '=', 16),\n",
              " (2, '*', 9, '=', 18),\n",
              " (3, '*', 1, '=', 3),\n",
              " (3, '*', 2, '=', 6),\n",
              " (3, '*', 3, '=', 9),\n",
              " (3, '*', 4, '=', 12),\n",
              " (3, '*', 5, '=', 15),\n",
              " (3, '*', 6, '=', 18),\n",
              " (3, '*', 7, '=', 21),\n",
              " (3, '*', 8, '=', 24),\n",
              " (3, '*', 9, '=', 27),\n",
              " (4, '*', 1, '=', 4),\n",
              " (4, '*', 2, '=', 8),\n",
              " (4, '*', 3, '=', 12),\n",
              " (4, '*', 4, '=', 16),\n",
              " (4, '*', 5, '=', 20),\n",
              " (4, '*', 6, '=', 24),\n",
              " (4, '*', 7, '=', 28),\n",
              " (4, '*', 8, '=', 32),\n",
              " (4, '*', 9, '=', 36),\n",
              " (5, '*', 1, '=', 5),\n",
              " (5, '*', 2, '=', 10),\n",
              " (5, '*', 3, '=', 15),\n",
              " (5, '*', 4, '=', 20),\n",
              " (5, '*', 5, '=', 25),\n",
              " (5, '*', 6, '=', 30),\n",
              " (5, '*', 7, '=', 35),\n",
              " (5, '*', 8, '=', 40),\n",
              " (5, '*', 9, '=', 45)]"
            ]
          },
          "metadata": {
            "tags": []
          },
          "execution_count": 11
        }
      ]
    },
    {
      "cell_type": "code",
      "metadata": {
        "id": "s-6mnjGFA3f0"
      },
      "source": [
        "var6 = lambda x, y : x*y"
      ],
      "execution_count": null,
      "outputs": []
    },
    {
      "cell_type": "code",
      "metadata": {
        "colab": {
          "base_uri": "https://localhost:8080/"
        },
        "id": "_TXZqQ3aBKRh",
        "outputId": "e55806bc-c144-4b10-b11a-6f2b14c25b58"
      },
      "source": [
        "var6(5,9)"
      ],
      "execution_count": null,
      "outputs": [
        {
          "output_type": "execute_result",
          "data": {
            "text/plain": [
              "45"
            ]
          },
          "metadata": {
            "tags": []
          },
          "execution_count": 13
        }
      ]
    },
    {
      "cell_type": "code",
      "metadata": {
        "colab": {
          "base_uri": "https://localhost:8080/"
        },
        "id": "Q8govbTxBMkh",
        "outputId": "9203fc4b-f20b-4a87-f7c9-d1c412cf0dcb"
      },
      "source": [
        "var6"
      ],
      "execution_count": null,
      "outputs": [
        {
          "output_type": "execute_result",
          "data": {
            "text/plain": [
              "<function __main__.<lambda>>"
            ]
          },
          "metadata": {
            "tags": []
          },
          "execution_count": 14
        }
      ]
    },
    {
      "cell_type": "code",
      "metadata": {
        "id": "HHX9RqgRBPLJ"
      },
      "source": [
        "var7 = lambda x : lambda y : x + y"
      ],
      "execution_count": null,
      "outputs": []
    },
    {
      "cell_type": "code",
      "metadata": {
        "colab": {
          "base_uri": "https://localhost:8080/"
        },
        "id": "pii_F3kRBqzg",
        "outputId": "5d29cddb-eeb1-43af-99f4-f2eba0904a1d"
      },
      "source": [
        "var7(10)(20)"
      ],
      "execution_count": null,
      "outputs": [
        {
          "output_type": "execute_result",
          "data": {
            "text/plain": [
              "30"
            ]
          },
          "metadata": {
            "tags": []
          },
          "execution_count": 20
        }
      ]
    },
    {
      "cell_type": "code",
      "metadata": {
        "id": "C_KX-v_aCB29"
      },
      "source": [
        "a = var7(10)"
      ],
      "execution_count": null,
      "outputs": []
    },
    {
      "cell_type": "code",
      "metadata": {
        "colab": {
          "base_uri": "https://localhost:8080/"
        },
        "id": "axeNi7iqCUEf",
        "outputId": "e0e09b2f-b500-445e-d5e1-6f655869fa4f"
      },
      "source": [
        "a(20)"
      ],
      "execution_count": null,
      "outputs": [
        {
          "output_type": "execute_result",
          "data": {
            "text/plain": [
              "30"
            ]
          },
          "metadata": {
            "tags": []
          },
          "execution_count": 25
        }
      ]
    },
    {
      "cell_type": "code",
      "metadata": {
        "id": "kmWlGqZ0CwZw"
      },
      "source": [
        "var = lambda x : lambda y : lambda z : x+y+z"
      ],
      "execution_count": null,
      "outputs": []
    },
    {
      "cell_type": "code",
      "metadata": {
        "colab": {
          "base_uri": "https://localhost:8080/"
        },
        "id": "jUlLpQ6lC-IR",
        "outputId": "27616b1c-e87d-4f7b-cb02-178e45d199a4"
      },
      "source": [
        "var"
      ],
      "execution_count": null,
      "outputs": [
        {
          "output_type": "execute_result",
          "data": {
            "text/plain": [
              "<function __main__.<lambda>>"
            ]
          },
          "metadata": {
            "tags": []
          },
          "execution_count": 27
        }
      ]
    },
    {
      "cell_type": "code",
      "metadata": {
        "colab": {
          "base_uri": "https://localhost:8080/"
        },
        "id": "jWqbUPGTC-9M",
        "outputId": "1ae28686-fbc2-498a-d81d-de2e473c341a"
      },
      "source": [
        "var(10)"
      ],
      "execution_count": null,
      "outputs": [
        {
          "output_type": "execute_result",
          "data": {
            "text/plain": [
              "<function __main__.<lambda>.<locals>.<lambda>>"
            ]
          },
          "metadata": {
            "tags": []
          },
          "execution_count": 31
        }
      ]
    },
    {
      "cell_type": "code",
      "metadata": {
        "colab": {
          "base_uri": "https://localhost:8080/"
        },
        "id": "cgt_LiDzDAQG",
        "outputId": "3068bb21-2170-4760-85fd-2dbf60f5e0ac"
      },
      "source": [
        "var(10)(20)(30)"
      ],
      "execution_count": null,
      "outputs": [
        {
          "output_type": "execute_result",
          "data": {
            "text/plain": [
              "60"
            ]
          },
          "metadata": {
            "tags": []
          },
          "execution_count": 34
        }
      ]
    },
    {
      "cell_type": "code",
      "metadata": {
        "id": "RNE6h6bRDVEW"
      },
      "source": [
        "x = lambda : lambda : lambda : \"Good Morning Guys\""
      ],
      "execution_count": null,
      "outputs": []
    },
    {
      "cell_type": "code",
      "metadata": {
        "colab": {
          "base_uri": "https://localhost:8080/",
          "height": 35
        },
        "id": "SM9c83XCEAWz",
        "outputId": "81b319b3-7226-4eac-d768-795e54fdc185"
      },
      "source": [
        "x()()()"
      ],
      "execution_count": null,
      "outputs": [
        {
          "output_type": "execute_result",
          "data": {
            "application/vnd.google.colaboratory.intrinsic+json": {
              "type": "string"
            },
            "text/plain": [
              "'Good Morning Guys'"
            ]
          },
          "metadata": {
            "tags": []
          },
          "execution_count": 36
        }
      ]
    },
    {
      "cell_type": "code",
      "metadata": {
        "id": "1zNv9X_UEJiZ"
      },
      "source": [
        "y = lambda  :   lambda  x : lambda y : (x*y)"
      ],
      "execution_count": null,
      "outputs": []
    },
    {
      "cell_type": "code",
      "metadata": {
        "colab": {
          "base_uri": "https://localhost:8080/"
        },
        "id": "DtMHJngAEV4-",
        "outputId": "e50ef596-68c0-467a-af4f-c96d5c9b8dd6"
      },
      "source": [
        "y()(10)(20)"
      ],
      "execution_count": null,
      "outputs": [
        {
          "output_type": "execute_result",
          "data": {
            "text/plain": [
              "200"
            ]
          },
          "metadata": {
            "tags": []
          },
          "execution_count": 39
        }
      ]
    },
    {
      "cell_type": "code",
      "metadata": {
        "id": "RUw2QehtEc_2"
      },
      "source": [
        "def double(x):\n",
        "  return x*x\n",
        "\n",
        "a = map(double,[100,200,300,400] )"
      ],
      "execution_count": null,
      "outputs": []
    },
    {
      "cell_type": "code",
      "metadata": {
        "colab": {
          "base_uri": "https://localhost:8080/"
        },
        "id": "gde01vV-FEg3",
        "outputId": "6b7ddf69-4b3c-425e-90a2-1a25ad98b1fd"
      },
      "source": [
        "a"
      ],
      "execution_count": null,
      "outputs": [
        {
          "output_type": "execute_result",
          "data": {
            "text/plain": [
              "<map at 0x7f8425f36080>"
            ]
          },
          "metadata": {
            "tags": []
          },
          "execution_count": 42
        }
      ]
    },
    {
      "cell_type": "code",
      "metadata": {
        "colab": {
          "base_uri": "https://localhost:8080/"
        },
        "id": "O5yasNwwFHfs",
        "outputId": "0ef27477-c5e4-4f19-fe6f-87d4d976c87b"
      },
      "source": [
        "list(a)"
      ],
      "execution_count": null,
      "outputs": [
        {
          "output_type": "execute_result",
          "data": {
            "text/plain": [
              "[10000, 40000, 90000, 160000]"
            ]
          },
          "metadata": {
            "tags": []
          },
          "execution_count": 43
        }
      ]
    },
    {
      "cell_type": "code",
      "metadata": {
        "id": "ztXVdnEeFIz2"
      },
      "source": [
        "b = map(lambda x : x*x ,[10,20,30,40])"
      ],
      "execution_count": null,
      "outputs": []
    },
    {
      "cell_type": "code",
      "metadata": {
        "colab": {
          "base_uri": "https://localhost:8080/"
        },
        "id": "twOfUNt6FnMn",
        "outputId": "1779f649-85f6-4048-b06a-c376dceee44e"
      },
      "source": [
        "b"
      ],
      "execution_count": null,
      "outputs": [
        {
          "output_type": "execute_result",
          "data": {
            "text/plain": [
              "<map at 0x7f8425e95080>"
            ]
          },
          "metadata": {
            "tags": []
          },
          "execution_count": 45
        }
      ]
    },
    {
      "cell_type": "code",
      "metadata": {
        "colab": {
          "base_uri": "https://localhost:8080/"
        },
        "id": "MKd6O7FdFn1S",
        "outputId": "68c63677-fec2-4bee-d97f-8751c71b02e8"
      },
      "source": [
        "list(b)"
      ],
      "execution_count": null,
      "outputs": [
        {
          "output_type": "execute_result",
          "data": {
            "text/plain": [
              "[100, 400, 900, 1600]"
            ]
          },
          "metadata": {
            "tags": []
          },
          "execution_count": 46
        }
      ]
    },
    {
      "cell_type": "code",
      "metadata": {
        "id": "Bstnq1SGFpYu"
      },
      "source": [
        "list1 = [\"yellow\",\"blue\",\"green\",\"purple\"]"
      ],
      "execution_count": null,
      "outputs": []
    },
    {
      "cell_type": "code",
      "metadata": {
        "id": "It68IOcDGqDA"
      },
      "source": [
        "y = map(lambda x : x.upper(), list1)"
      ],
      "execution_count": null,
      "outputs": []
    },
    {
      "cell_type": "code",
      "metadata": {
        "colab": {
          "base_uri": "https://localhost:8080/"
        },
        "id": "X4dN3ZK1G0p-",
        "outputId": "251e2764-cd6c-496d-8288-0dddbe3f1333"
      },
      "source": [
        "list(y)"
      ],
      "execution_count": null,
      "outputs": [
        {
          "output_type": "execute_result",
          "data": {
            "text/plain": [
              "['YELLOW', 'BLUE', 'GREEN', 'PURPLE']"
            ]
          },
          "metadata": {
            "tags": []
          },
          "execution_count": 50
        }
      ]
    },
    {
      "cell_type": "code",
      "metadata": {
        "id": "lSJOXKptG38W"
      },
      "source": [
        "l1 = [1,2,3,4,5]\n",
        "l2 = [10,20,30,40,50]"
      ],
      "execution_count": null,
      "outputs": []
    },
    {
      "cell_type": "code",
      "metadata": {
        "id": "1RGIdyz-HRA0"
      },
      "source": [
        "c = map(lambda x, y :  x+y , l1, l2)"
      ],
      "execution_count": null,
      "outputs": []
    },
    {
      "cell_type": "code",
      "metadata": {
        "colab": {
          "base_uri": "https://localhost:8080/"
        },
        "id": "vw8Cbn2BHhic",
        "outputId": "60d34cc4-a69b-4f2a-c760-fa46f79a7303"
      },
      "source": [
        "c"
      ],
      "execution_count": null,
      "outputs": [
        {
          "output_type": "execute_result",
          "data": {
            "text/plain": [
              "<map at 0x7f8425f68be0>"
            ]
          },
          "metadata": {
            "tags": []
          },
          "execution_count": 53
        }
      ]
    },
    {
      "cell_type": "code",
      "metadata": {
        "colab": {
          "base_uri": "https://localhost:8080/"
        },
        "id": "FyFPE0FHHiF6",
        "outputId": "caf3e5f7-9e35-491a-961e-da3508980e64"
      },
      "source": [
        "list(c)"
      ],
      "execution_count": null,
      "outputs": [
        {
          "output_type": "execute_result",
          "data": {
            "text/plain": [
              "[11, 22, 33, 44, 55]"
            ]
          },
          "metadata": {
            "tags": []
          },
          "execution_count": 54
        }
      ]
    },
    {
      "cell_type": "code",
      "metadata": {
        "colab": {
          "base_uri": "https://localhost:8080/"
        },
        "id": "gJZ-jg6MHjX7",
        "outputId": "cd0509e7-2e0d-4ef8-e58e-6f7892fc377e"
      },
      "source": [
        "list1"
      ],
      "execution_count": null,
      "outputs": [
        {
          "output_type": "execute_result",
          "data": {
            "text/plain": [
              "['yellow', 'blue', 'green', 'purple']"
            ]
          },
          "metadata": {
            "tags": []
          },
          "execution_count": 55
        }
      ]
    },
    {
      "cell_type": "code",
      "metadata": {
        "id": "T3Tl86eBHwbs"
      },
      "source": [
        "p = map(lambda x : len(x), list1)"
      ],
      "execution_count": null,
      "outputs": []
    },
    {
      "cell_type": "code",
      "metadata": {
        "colab": {
          "base_uri": "https://localhost:8080/"
        },
        "id": "_QVS88tAIBWf",
        "outputId": "b95dd0a5-af16-4eab-9ee8-6b002ca808d9"
      },
      "source": [
        "list(p)"
      ],
      "execution_count": null,
      "outputs": [
        {
          "output_type": "execute_result",
          "data": {
            "text/plain": [
              "[6, 4, 5, 6]"
            ]
          },
          "metadata": {
            "tags": []
          },
          "execution_count": 58
        }
      ]
    },
    {
      "cell_type": "code",
      "metadata": {
        "id": "NsvZ6lzxICuy"
      },
      "source": [
        "# filter( <func>, iterable)\n",
        "\n",
        "list2 = [i*5 for i in range(1,20)]\n"
      ],
      "execution_count": null,
      "outputs": []
    },
    {
      "cell_type": "code",
      "metadata": {
        "colab": {
          "base_uri": "https://localhost:8080/"
        },
        "id": "NYCuwKGGJGdb",
        "outputId": "3e87554e-e154-4fcc-a3fe-5cb069301c7b"
      },
      "source": [
        "print(list2)"
      ],
      "execution_count": null,
      "outputs": [
        {
          "output_type": "stream",
          "text": [
            "[5, 10, 15, 20, 25, 30, 35, 40, 45, 50, 55, 60, 65, 70, 75, 80, 85, 90, 95]\n"
          ],
          "name": "stdout"
        }
      ]
    },
    {
      "cell_type": "code",
      "metadata": {
        "id": "vh7J-ex0JHyS"
      },
      "source": [
        "af1 = filter(lambda x : x%2 == 0    , list2)"
      ],
      "execution_count": null,
      "outputs": []
    },
    {
      "cell_type": "code",
      "metadata": {
        "colab": {
          "base_uri": "https://localhost:8080/"
        },
        "id": "GJkUNBgwJdNv",
        "outputId": "3eff4301-e5d0-48c7-a8b3-f83735ddf218"
      },
      "source": [
        "print(list(af1))"
      ],
      "execution_count": null,
      "outputs": [
        {
          "output_type": "stream",
          "text": [
            "[10, 20, 30, 40, 50, 60, 70, 80, 90]\n"
          ],
          "name": "stdout"
        }
      ]
    },
    {
      "cell_type": "code",
      "metadata": {
        "id": "0kslqbihJfc0"
      },
      "source": [
        "str1 = \"Hi All... Welcome to India... Hope you enjoy your..... trip to India\"\n"
      ],
      "execution_count": null,
      "outputs": []
    },
    {
      "cell_type": "code",
      "metadata": {
        "id": "15qyx2RrKGfE"
      },
      "source": [
        "l2 = list(str1)"
      ],
      "execution_count": null,
      "outputs": []
    },
    {
      "cell_type": "code",
      "metadata": {
        "id": "qtzauG5nKKdy"
      },
      "source": [
        "d = filter(lambda x : x == \".\"   , l2)"
      ],
      "execution_count": null,
      "outputs": []
    },
    {
      "cell_type": "code",
      "metadata": {
        "colab": {
          "base_uri": "https://localhost:8080/"
        },
        "id": "XjnnF_xHKLXk",
        "outputId": "6d9e0ab0-ce53-4662-f6b9-942df64e3ab3"
      },
      "source": [
        "d"
      ],
      "execution_count": null,
      "outputs": [
        {
          "output_type": "execute_result",
          "data": {
            "text/plain": [
              "<filter at 0x7f8425e8fbe0>"
            ]
          },
          "metadata": {
            "tags": []
          },
          "execution_count": 75
        }
      ]
    },
    {
      "cell_type": "code",
      "metadata": {
        "colab": {
          "base_uri": "https://localhost:8080/"
        },
        "id": "BrDEAPfCKeTC",
        "outputId": "4069f428-c433-44b9-b864-185765be8091"
      },
      "source": [
        "len(list(d))"
      ],
      "execution_count": null,
      "outputs": [
        {
          "output_type": "execute_result",
          "data": {
            "text/plain": [
              "11"
            ]
          },
          "metadata": {
            "tags": []
          },
          "execution_count": 76
        }
      ]
    },
    {
      "cell_type": "code",
      "metadata": {
        "id": "bGYPkq8DKfVu"
      },
      "source": [
        "f = filter(lambda x : x != \".\", l2)"
      ],
      "execution_count": null,
      "outputs": []
    },
    {
      "cell_type": "code",
      "metadata": {
        "colab": {
          "base_uri": "https://localhost:8080/"
        },
        "id": "yHCqbxBiK28j",
        "outputId": "df33d963-4d68-49d7-fd38-56709df51e58"
      },
      "source": [
        "len(list(f))"
      ],
      "execution_count": null,
      "outputs": [
        {
          "output_type": "execute_result",
          "data": {
            "text/plain": [
              "57"
            ]
          },
          "metadata": {
            "tags": []
          },
          "execution_count": 80
        }
      ]
    },
    {
      "cell_type": "code",
      "metadata": {
        "id": "5r4TIUCsK5pP"
      },
      "source": [
        "list5 = list(range(1,20))"
      ],
      "execution_count": null,
      "outputs": []
    },
    {
      "cell_type": "code",
      "metadata": {
        "colab": {
          "base_uri": "https://localhost:8080/"
        },
        "id": "h5BeUMClLUq4",
        "outputId": "ce8b20d8-d66d-443b-fc5c-2526b1651a77"
      },
      "source": [
        "list5"
      ],
      "execution_count": null,
      "outputs": [
        {
          "output_type": "execute_result",
          "data": {
            "text/plain": [
              "[1, 2, 3, 4, 5, 6, 7, 8, 9, 10, 11, 12, 13, 14, 15, 16, 17, 18, 19]"
            ]
          },
          "metadata": {
            "tags": []
          },
          "execution_count": 82
        }
      ]
    },
    {
      "cell_type": "code",
      "metadata": {
        "id": "6egZj2QOLVgl"
      },
      "source": [
        "x1 = list(map(lambda x : x*x, list5))"
      ],
      "execution_count": null,
      "outputs": []
    },
    {
      "cell_type": "code",
      "metadata": {
        "id": "9_FLe78PLhkh"
      },
      "source": [
        ""
      ],
      "execution_count": null,
      "outputs": []
    },
    {
      "cell_type": "code",
      "metadata": {
        "colab": {
          "base_uri": "https://localhost:8080/"
        },
        "id": "M_zKkFj8LjBB",
        "outputId": "6bb9001b-cc6d-47b4-f26b-9b7ca3b84486"
      },
      "source": [
        "x2"
      ],
      "execution_count": null,
      "outputs": [
        {
          "output_type": "execute_result",
          "data": {
            "text/plain": [
              "[4, 16, 36, 64, 100, 144, 196, 256, 324]"
            ]
          },
          "metadata": {
            "tags": []
          },
          "execution_count": 95
        }
      ]
    },
    {
      "cell_type": "code",
      "metadata": {
        "id": "dkIVIrp9L_Jh"
      },
      "source": [
        "x1 = list(map(lambda x : x*x, list(range(1,20))))"
      ],
      "execution_count": null,
      "outputs": []
    },
    {
      "cell_type": "code",
      "metadata": {
        "colab": {
          "base_uri": "https://localhost:8080/"
        },
        "id": "zTGmqP-SMT-4",
        "outputId": "85eb2c0e-059f-4e4f-bb61-7796835ab73c"
      },
      "source": [
        "x1"
      ],
      "execution_count": null,
      "outputs": [
        {
          "output_type": "execute_result",
          "data": {
            "text/plain": [
              "[1,\n",
              " 4,\n",
              " 9,\n",
              " 16,\n",
              " 25,\n",
              " 36,\n",
              " 49,\n",
              " 64,\n",
              " 81,\n",
              " 100,\n",
              " 121,\n",
              " 144,\n",
              " 169,\n",
              " 196,\n",
              " 225,\n",
              " 256,\n",
              " 289,\n",
              " 324,\n",
              " 361]"
            ]
          },
          "metadata": {
            "tags": []
          },
          "execution_count": 93
        }
      ]
    },
    {
      "cell_type": "code",
      "metadata": {
        "id": "fiArCRb5MZQs"
      },
      "source": [
        "x2 = list(filter(lambda x : x%2 == 0  , list(map(lambda x : x*x, list(range(1,20))))))"
      ],
      "execution_count": null,
      "outputs": []
    },
    {
      "cell_type": "code",
      "metadata": {
        "colab": {
          "base_uri": "https://localhost:8080/"
        },
        "id": "7I9O0hCWMpIb",
        "outputId": "92561fa8-a1e6-4fb2-ef1c-487d9a974141"
      },
      "source": [
        "x2"
      ],
      "execution_count": null,
      "outputs": [
        {
          "output_type": "execute_result",
          "data": {
            "text/plain": [
              "[4, 16, 36, 64, 100, 144, 196, 256, 324]"
            ]
          },
          "metadata": {
            "tags": []
          },
          "execution_count": 97
        }
      ]
    },
    {
      "cell_type": "code",
      "metadata": {
        "colab": {
          "base_uri": "https://localhost:8080/",
          "height": 35
        },
        "id": "tFnI_rH6MqE8",
        "outputId": "7793810d-1d35-4927-a562-adc4275105c4"
      },
      "source": [
        "str1"
      ],
      "execution_count": null,
      "outputs": [
        {
          "output_type": "execute_result",
          "data": {
            "application/vnd.google.colaboratory.intrinsic+json": {
              "type": "string"
            },
            "text/plain": [
              "'Hi All... Welcome to India... Hope you enjoy your..... trip to India'"
            ]
          },
          "metadata": {
            "tags": []
          },
          "execution_count": 98
        }
      ]
    },
    {
      "cell_type": "code",
      "metadata": {
        "id": "Uaeeq8q5M0Ol"
      },
      "source": [
        "str_list = list(str1)\n",
        "str_list"
      ],
      "execution_count": null,
      "outputs": []
    },
    {
      "cell_type": "code",
      "metadata": {
        "id": "Gy170xXmM6p8"
      },
      "source": [
        "vowels = [\"a\",\"e\",\"i\",\"o\",\"u\"]"
      ],
      "execution_count": null,
      "outputs": []
    },
    {
      "cell_type": "code",
      "metadata": {
        "colab": {
          "base_uri": "https://localhost:8080/"
        },
        "id": "a2H-KY8WNEMP",
        "outputId": "af328352-8673-438d-dbc7-6614a9eb4dee"
      },
      "source": [
        "x3 = list(filter(lambda x :  (x in vowels)  , str_list))\n",
        "print(x3)\n",
        "print(len(x3))"
      ],
      "execution_count": null,
      "outputs": [
        {
          "output_type": "stream",
          "text": [
            "['i', 'e', 'o', 'e', 'o', 'i', 'a', 'o', 'e', 'o', 'u', 'e', 'o', 'o', 'u', 'i', 'o', 'i', 'a']\n",
            "19\n"
          ],
          "name": "stdout"
        }
      ]
    },
    {
      "cell_type": "code",
      "metadata": {
        "colab": {
          "base_uri": "https://localhost:8080/"
        },
        "id": "vCslseeiNgkI",
        "outputId": "f2818113-990c-4c31-f3f7-2344ac0dabad"
      },
      "source": [
        "x3 = list(filter(lambda x :  (x.lower() in vowels)  , str_list))\n",
        "print(x3)\n",
        "print(len(x3))"
      ],
      "execution_count": null,
      "outputs": [
        {
          "output_type": "stream",
          "text": [
            "['i', 'A', 'e', 'o', 'e', 'o', 'I', 'i', 'a', 'o', 'e', 'o', 'u', 'e', 'o', 'o', 'u', 'i', 'o', 'I', 'i', 'a']\n",
            "22\n"
          ],
          "name": "stdout"
        }
      ]
    },
    {
      "cell_type": "code",
      "metadata": {
        "id": "3q5KfaN_OE0b"
      },
      "source": [
        "list5 = list(range(5,26))"
      ],
      "execution_count": null,
      "outputs": []
    },
    {
      "cell_type": "code",
      "metadata": {
        "colab": {
          "base_uri": "https://localhost:8080/"
        },
        "id": "f1huVer9OpYK",
        "outputId": "af05d643-46d1-4252-fd22-d47585b74ea4"
      },
      "source": [
        "list5"
      ],
      "execution_count": null,
      "outputs": [
        {
          "output_type": "execute_result",
          "data": {
            "text/plain": [
              "[5, 6, 7, 8, 9, 10, 11, 12, 13, 14, 15, 16, 17, 18, 19, 20, 21, 22, 23, 24, 25]"
            ]
          },
          "metadata": {
            "tags": []
          },
          "execution_count": 106
        }
      ]
    },
    {
      "cell_type": "code",
      "metadata": {
        "id": "N7k70aTeOqFI"
      },
      "source": [
        "from functools import reduce"
      ],
      "execution_count": null,
      "outputs": []
    },
    {
      "cell_type": "code",
      "metadata": {
        "colab": {
          "base_uri": "https://localhost:8080/"
        },
        "id": "a2jkBoQxOyIi",
        "outputId": "b07d9820-3e23-4bf0-b917-74907ac5d96a"
      },
      "source": [
        "reduce(lambda x, y :  x + y, list5 )"
      ],
      "execution_count": null,
      "outputs": [
        {
          "output_type": "execute_result",
          "data": {
            "text/plain": [
              "315"
            ]
          },
          "metadata": {
            "tags": []
          },
          "execution_count": 108
        }
      ]
    },
    {
      "cell_type": "code",
      "metadata": {
        "colab": {
          "base_uri": "https://localhost:8080/"
        },
        "id": "7DkAqRF2PQ75",
        "outputId": "b8264689-64d4-4319-f6f0-f40c239caa1c"
      },
      "source": [
        "reduce(lambda x, y : x + y, [20,10,30,40])"
      ],
      "execution_count": null,
      "outputs": [
        {
          "output_type": "execute_result",
          "data": {
            "text/plain": [
              "100"
            ]
          },
          "metadata": {
            "tags": []
          },
          "execution_count": 109
        }
      ]
    },
    {
      "cell_type": "code",
      "metadata": {
        "colab": {
          "base_uri": "https://localhost:8080/"
        },
        "id": "9p-MTh7JP2SS",
        "outputId": "b12d0a51-3eb6-487c-a34e-2f08fe6a6733"
      },
      "source": [
        "reduce(lambda x, y : x if x>y else y ,[20,10,5,40] )"
      ],
      "execution_count": null,
      "outputs": [
        {
          "output_type": "execute_result",
          "data": {
            "text/plain": [
              "40"
            ]
          },
          "metadata": {
            "tags": []
          },
          "execution_count": 111
        }
      ]
    },
    {
      "cell_type": "code",
      "metadata": {
        "colab": {
          "base_uri": "https://localhost:8080/"
        },
        "id": "V2UJ5IBlQYP6",
        "outputId": "df337019-a2c3-4bff-e5a4-8d249eca1f6e"
      },
      "source": [
        "reduce(lambda x, y : x*y, [20,10,30,40] )"
      ],
      "execution_count": null,
      "outputs": [
        {
          "output_type": "execute_result",
          "data": {
            "text/plain": [
              "240000"
            ]
          },
          "metadata": {
            "tags": []
          },
          "execution_count": 112
        }
      ]
    },
    {
      "cell_type": "code",
      "metadata": {
        "id": "6GJ73gQpQndl"
      },
      "source": [
        ""
      ],
      "execution_count": null,
      "outputs": []
    }
  ]
}