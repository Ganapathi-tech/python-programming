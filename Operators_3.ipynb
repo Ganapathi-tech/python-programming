{
  "nbformat": 4,
  "nbformat_minor": 0,
  "metadata": {
    "colab": {
      "name": "Operators_3.ipynb",
      "provenance": [],
      "collapsed_sections": [],
      "include_colab_link": true
    },
    "kernelspec": {
      "name": "python3",
      "display_name": "Python 3"
    }
  },
  "cells": [
    {
      "cell_type": "markdown",
      "metadata": {
        "id": "view-in-github",
        "colab_type": "text"
      },
      "source": [
        "<a href=\"https://colab.research.google.com/github/Ganapathi-tech/python-programming/blob/main/Operators_3.ipynb\" target=\"_parent\"><img src=\"https://colab.research.google.com/assets/colab-badge.svg\" alt=\"Open In Colab\"/></a>"
      ]
    },
    {
      "cell_type": "code",
      "metadata": {
        "colab": {
          "base_uri": "https://localhost:8080/"
        },
        "id": "rZ3zNfhGEjNd",
        "outputId": "5d4812f3-efb6-4e97-b461-0e4044fbce0d"
      },
      "source": [
        "a=a+1\n",
        "print(a)"
      ],
      "execution_count": null,
      "outputs": [
        {
          "output_type": "stream",
          "text": [
            "102\n"
          ],
          "name": "stdout"
        }
      ]
    },
    {
      "cell_type": "code",
      "metadata": {
        "colab": {
          "base_uri": "https://localhost:8080/"
        },
        "id": "ylxQ-WUZET3K",
        "outputId": "05d7463b-24b1-477c-ab29-3aa9024e7c7c"
      },
      "source": [
        "#incrementation\n",
        "a=100\n",
        "a"
      ],
      "execution_count": null,
      "outputs": [
        {
          "output_type": "execute_result",
          "data": {
            "text/plain": [
              "100"
            ]
          },
          "metadata": {
            "tags": []
          },
          "execution_count": 1
        }
      ]
    },
    {
      "cell_type": "code",
      "metadata": {
        "colab": {
          "base_uri": "https://localhost:8080/"
        },
        "id": "_eVbmCdcEp2X",
        "outputId": "46192d0b-d3bd-4133-c612-ea3453480c4b"
      },
      "source": [
        "a=a+3\n",
        "print(a)"
      ],
      "execution_count": null,
      "outputs": [
        {
          "output_type": "stream",
          "text": [
            "105\n"
          ],
          "name": "stdout"
        }
      ]
    },
    {
      "cell_type": "code",
      "metadata": {
        "colab": {
          "base_uri": "https://localhost:8080/"
        },
        "id": "WY-mxsKBEwMg",
        "outputId": "5de5f250-e6df-4d94-b93d-a573c915b56b"
      },
      "source": [
        "a=a+8\n",
        "print(a)\n"
      ],
      "execution_count": null,
      "outputs": [
        {
          "output_type": "stream",
          "text": [
            "129\n"
          ],
          "name": "stdout"
        }
      ]
    },
    {
      "cell_type": "code",
      "metadata": {
        "colab": {
          "base_uri": "https://localhost:8080/"
        },
        "id": "w35AKH2QE3CW",
        "outputId": "13439108-7c6a-4c9c-f298-abcf768d2741"
      },
      "source": [
        "a"
      ],
      "execution_count": null,
      "outputs": [
        {
          "output_type": "execute_result",
          "data": {
            "text/plain": [
              "129"
            ]
          },
          "metadata": {
            "tags": []
          },
          "execution_count": 8
        }
      ]
    },
    {
      "cell_type": "code",
      "metadata": {
        "colab": {
          "base_uri": "https://localhost:8080/"
        },
        "id": "EW4W2IPKE4zH",
        "outputId": "74dae2b8-15b8-4d11-cc07-05dabec01447"
      },
      "source": [
        "a+=1\n",
        "print(a)"
      ],
      "execution_count": null,
      "outputs": [
        {
          "output_type": "stream",
          "text": [
            "131\n"
          ],
          "name": "stdout"
        }
      ]
    },
    {
      "cell_type": "code",
      "metadata": {
        "colab": {
          "base_uri": "https://localhost:8080/"
        },
        "id": "CZIrijBWFKxT",
        "outputId": "30b65a73-7828-4b57-e6e1-0cc9d069581a"
      },
      "source": [
        "k=160\n",
        "k+=2\n",
        "print(k)"
      ],
      "execution_count": null,
      "outputs": [
        {
          "output_type": "stream",
          "text": [
            "162\n"
          ],
          "name": "stdout"
        }
      ]
    },
    {
      "cell_type": "code",
      "metadata": {
        "colab": {
          "base_uri": "https://localhost:8080/"
        },
        "id": "EyVCA9AwFUpj",
        "outputId": "fd112bd4-f9ff-4dd3-f1aa-cbb432a65193"
      },
      "source": [
        "k+=5\n",
        "print(k)"
      ],
      "execution_count": null,
      "outputs": [
        {
          "output_type": "stream",
          "text": [
            "167\n"
          ],
          "name": "stdout"
        }
      ]
    },
    {
      "cell_type": "code",
      "metadata": {
        "colab": {
          "base_uri": "https://localhost:8080/"
        },
        "id": "czEf-WvYFZu3",
        "outputId": "c7be766d-afe0-4a2e-c309-683ff0ca1b6f"
      },
      "source": [
        "k+=16\n",
        "print(k)"
      ],
      "execution_count": null,
      "outputs": [
        {
          "output_type": "stream",
          "text": [
            "183\n"
          ],
          "name": "stdout"
        }
      ]
    },
    {
      "cell_type": "code",
      "metadata": {
        "colab": {
          "base_uri": "https://localhost:8080/"
        },
        "id": "k3Hp8PHNGgp5",
        "outputId": "b0b63da7-18d8-4a81-ba8b-ea630ac0a18d"
      },
      "source": [
        "#decrementation\n",
        "o=200\n",
        "print(o)"
      ],
      "execution_count": null,
      "outputs": [
        {
          "output_type": "stream",
          "text": [
            "200\n"
          ],
          "name": "stdout"
        }
      ]
    },
    {
      "cell_type": "code",
      "metadata": {
        "colab": {
          "base_uri": "https://localhost:8080/"
        },
        "id": "vj2n8DhKGsyB",
        "outputId": "5f91a61c-3761-4938-9485-05439c4c193d"
      },
      "source": [
        "o=o-1\n",
        "print(o)"
      ],
      "execution_count": null,
      "outputs": [
        {
          "output_type": "stream",
          "text": [
            "199\n"
          ],
          "name": "stdout"
        }
      ]
    },
    {
      "cell_type": "code",
      "metadata": {
        "colab": {
          "base_uri": "https://localhost:8080/"
        },
        "id": "59WxLCP2G87w",
        "outputId": "4eb8c172-0cd2-459b-ba04-64888422c530"
      },
      "source": [
        "o=o-99\n",
        "print(o)"
      ],
      "execution_count": null,
      "outputs": [
        {
          "output_type": "stream",
          "text": [
            "100\n"
          ],
          "name": "stdout"
        }
      ]
    },
    {
      "cell_type": "code",
      "metadata": {
        "colab": {
          "base_uri": "https://localhost:8080/"
        },
        "id": "lyLPcWxWFgWz",
        "outputId": "8160794e-63ee-47a8-b523-ce06a712e97e"
      },
      "source": [
        "\n",
        "\n",
        "l1=700\n",
        "l1-=4\n",
        "print(l1)"
      ],
      "execution_count": null,
      "outputs": [
        {
          "output_type": "stream",
          "text": [
            "696\n"
          ],
          "name": "stdout"
        }
      ]
    },
    {
      "cell_type": "code",
      "metadata": {
        "colab": {
          "base_uri": "https://localhost:8080/"
        },
        "id": "su5G6rrRF0bY",
        "outputId": "57defae2-1ef3-4d16-dee6-1f529ca40d71"
      },
      "source": [
        "l1-=96\n",
        "print(l1)"
      ],
      "execution_count": null,
      "outputs": [
        {
          "output_type": "stream",
          "text": [
            "600\n"
          ],
          "name": "stdout"
        }
      ]
    },
    {
      "cell_type": "code",
      "metadata": {
        "colab": {
          "base_uri": "https://localhost:8080/"
        },
        "id": "89v2dz-mF_Ey",
        "outputId": "a0646baa-21c9-427b-9300-3cb37b5feb8e"
      },
      "source": [
        "l1-=100\n",
        "print(l1)"
      ],
      "execution_count": null,
      "outputs": [
        {
          "output_type": "stream",
          "text": [
            "500\n"
          ],
          "name": "stdout"
        }
      ]
    },
    {
      "cell_type": "code",
      "metadata": {
        "colab": {
          "base_uri": "https://localhost:8080/"
        },
        "id": "ElBCOqUeGFNm",
        "outputId": "1f0a80d2-2821-4d5c-924d-79527208d1f8"
      },
      "source": [
        "l1-=250\n",
        "print(l1)"
      ],
      "execution_count": null,
      "outputs": [
        {
          "output_type": "stream",
          "text": [
            "250\n"
          ],
          "name": "stdout"
        }
      ]
    },
    {
      "cell_type": "code",
      "metadata": {
        "colab": {
          "base_uri": "https://localhost:8080/"
        },
        "id": "59bx-02lHOT-",
        "outputId": "dd389cc8-d56c-4484-960a-b07469790338"
      },
      "source": [
        "#special operators\n",
        "#membership operator\n",
        "#in function\n",
        "k1=(\"hi all bad morning \")\n",
        "k=(\"bad\")\n",
        "k in k1"
      ],
      "execution_count": null,
      "outputs": [
        {
          "output_type": "execute_result",
          "data": {
            "text/plain": [
              "True"
            ]
          },
          "metadata": {
            "tags": []
          },
          "execution_count": 28
        }
      ]
    },
    {
      "cell_type": "code",
      "metadata": {
        "colab": {
          "base_uri": "https://localhost:8080/"
        },
        "id": "UsRt9N0zH7Hp",
        "outputId": "79cdeca9-202e-4f4e-a130-41bea949e6e0"
      },
      "source": [
        "k=(\"morning\")\n",
        "k in k1"
      ],
      "execution_count": null,
      "outputs": [
        {
          "output_type": "execute_result",
          "data": {
            "text/plain": [
              "True"
            ]
          },
          "metadata": {
            "tags": []
          },
          "execution_count": 29
        }
      ]
    },
    {
      "cell_type": "code",
      "metadata": {
        "colab": {
          "base_uri": "https://localhost:8080/"
        },
        "id": "YovKTGbEICoH",
        "outputId": "07eab755-d380-4776-b83d-21962609bcf3"
      },
      "source": [
        "k=(\"Morning\")    #false because m is capital later\n",
        "k in k1"
      ],
      "execution_count": null,
      "outputs": [
        {
          "output_type": "execute_result",
          "data": {
            "text/plain": [
              "False"
            ]
          },
          "metadata": {
            "tags": []
          },
          "execution_count": 30
        }
      ]
    },
    {
      "cell_type": "code",
      "metadata": {
        "colab": {
          "base_uri": "https://localhost:8080/"
        },
        "id": "nFkGpq2AIRKg",
        "outputId": "921475c8-1b34-409e-8e9d-9dff4fd89ec4"
      },
      "source": [
        "h=100,300,99,00\n",
        "h1=100\n",
        "h1 in h"
      ],
      "execution_count": null,
      "outputs": [
        {
          "output_type": "execute_result",
          "data": {
            "text/plain": [
              "True"
            ]
          },
          "metadata": {
            "tags": []
          },
          "execution_count": 31
        }
      ]
    },
    {
      "cell_type": "code",
      "metadata": {
        "colab": {
          "base_uri": "https://localhost:8080/"
        },
        "id": "eT_uCj0IIate",
        "outputId": "a03b8d7f-39a8-49a3-c76a-dcc955e9f4c6"
      },
      "source": [
        "h1=99-1\n",
        "print(h1)\n",
        "h1 in h\n"
      ],
      "execution_count": null,
      "outputs": [
        {
          "output_type": "stream",
          "text": [
            "98\n"
          ],
          "name": "stdout"
        },
        {
          "output_type": "execute_result",
          "data": {
            "text/plain": [
              "False"
            ]
          },
          "metadata": {
            "tags": []
          },
          "execution_count": 34
        }
      ]
    },
    {
      "cell_type": "code",
      "metadata": {
        "colab": {
          "base_uri": "https://localhost:8080/"
        },
        "id": "B4Qaq1p3IpZ2",
        "outputId": "52bb7e00-b5a0-4ea4-94fc-d6b00bfc35f4"
      },
      "source": [
        "h1 not in h"
      ],
      "execution_count": null,
      "outputs": [
        {
          "output_type": "execute_result",
          "data": {
            "text/plain": [
              "True"
            ]
          },
          "metadata": {
            "tags": []
          },
          "execution_count": 35
        }
      ]
    },
    {
      "cell_type": "code",
      "metadata": {
        "colab": {
          "base_uri": "https://localhost:8080/"
        },
        "id": "yy1NygMHI-8j",
        "outputId": "458ffe6a-f0b3-4aa9-f0c1-2e1822341596"
      },
      "source": [
        "h1=100\n",
        "h1 in h"
      ],
      "execution_count": null,
      "outputs": [
        {
          "output_type": "execute_result",
          "data": {
            "text/plain": [
              "True"
            ]
          },
          "metadata": {
            "tags": []
          },
          "execution_count": 36
        }
      ]
    },
    {
      "cell_type": "code",
      "metadata": {
        "colab": {
          "base_uri": "https://localhost:8080/"
        },
        "id": "adTQQWoUJEsu",
        "outputId": "d133610a-602a-4545-bc8e-b0a9abab2a82"
      },
      "source": [
        "h1 not in h"
      ],
      "execution_count": null,
      "outputs": [
        {
          "output_type": "execute_result",
          "data": {
            "text/plain": [
              "False"
            ]
          },
          "metadata": {
            "tags": []
          },
          "execution_count": 38
        }
      ]
    },
    {
      "cell_type": "code",
      "metadata": {
        "colab": {
          "base_uri": "https://localhost:8080/"
        },
        "id": "eSmHtoYFJMdu",
        "outputId": "4753f3a7-d670-4f79-ec6a-fea96566c3b3"
      },
      "source": [
        "#is function\n",
        "c1=\"rugender,akash gana\"\n",
        "c=(\"akash\")\n",
        "c is c1"
      ],
      "execution_count": null,
      "outputs": [
        {
          "output_type": "execute_result",
          "data": {
            "text/plain": [
              "False"
            ]
          },
          "metadata": {
            "tags": []
          },
          "execution_count": 39
        }
      ]
    },
    {
      "cell_type": "code",
      "metadata": {
        "colab": {
          "base_uri": "https://localhost:8080/"
        },
        "id": "r07RfZhqKJMn",
        "outputId": "3a771f2e-1089-43a3-f337-767b3f3d524c"
      },
      "source": [
        "c=(\"rshwar\")\n",
        "c is c1"
      ],
      "execution_count": null,
      "outputs": [
        {
          "output_type": "execute_result",
          "data": {
            "text/plain": [
              "False"
            ]
          },
          "metadata": {
            "tags": []
          },
          "execution_count": 42
        }
      ]
    },
    {
      "cell_type": "code",
      "metadata": {
        "colab": {
          "base_uri": "https://localhost:8080/"
        },
        "id": "qq2f6t3fKPVV",
        "outputId": "37c59a0b-c0d7-4d6e-b39b-38bef75615bd"
      },
      "source": [
        "c=(\"gana\")\n",
        "c is c1"
      ],
      "execution_count": null,
      "outputs": [
        {
          "output_type": "execute_result",
          "data": {
            "text/plain": [
              "False"
            ]
          },
          "metadata": {
            "tags": []
          },
          "execution_count": 43
        }
      ]
    },
    {
      "cell_type": "code",
      "metadata": {
        "colab": {
          "base_uri": "https://localhost:8080/"
        },
        "id": "vyOqzw1HJisk",
        "outputId": "c9333c71-9389-4fb3-8e0a-54bb41ca8e71"
      },
      "source": [
        "c=\"rugender\"\n",
        "c is c1"
      ],
      "execution_count": null,
      "outputs": [
        {
          "output_type": "execute_result",
          "data": {
            "text/plain": [
              "False"
            ]
          },
          "metadata": {
            "tags": []
          },
          "execution_count": 40
        }
      ]
    },
    {
      "cell_type": "code",
      "metadata": {
        "colab": {
          "base_uri": "https://localhost:8080/"
        },
        "id": "FK6yJEnvJrPR",
        "outputId": "b103816a-1806-4fb1-99ac-106522432cdc"
      },
      "source": [
        "#is not function\n",
        "c is not c1"
      ],
      "execution_count": null,
      "outputs": [
        {
          "output_type": "execute_result",
          "data": {
            "text/plain": [
              "True"
            ]
          },
          "metadata": {
            "tags": []
          },
          "execution_count": 41
        }
      ]
    },
    {
      "cell_type": "code",
      "metadata": {
        "colab": {
          "base_uri": "https://localhost:8080/"
        },
        "id": "JFy19a5nJ3Wn",
        "outputId": "b9dae10d-e8b1-46bf-dc52-607b7f504025"
      },
      "source": [
        "d=(\"vijay, kumar\")\n",
        "d1=('kumar')\n",
        "d1 is d"
      ],
      "execution_count": null,
      "outputs": [
        {
          "output_type": "execute_result",
          "data": {
            "text/plain": [
              "False"
            ]
          },
          "metadata": {
            "tags": []
          },
          "execution_count": 44
        }
      ]
    },
    {
      "cell_type": "code",
      "metadata": {
        "id": "U5qWARUNKluC",
        "colab": {
          "base_uri": "https://localhost:8080/"
        },
        "outputId": "bc945c30-63ad-41dc-c75f-f144c6baae3d"
      },
      "source": [
        "d1 is not d"
      ],
      "execution_count": null,
      "outputs": [
        {
          "output_type": "execute_result",
          "data": {
            "text/plain": [
              "True"
            ]
          },
          "metadata": {
            "tags": []
          },
          "execution_count": 45
        }
      ]
    }
  ]
}