{
  "nbformat": 4,
  "nbformat_minor": 0,
  "metadata": {
    "colab": {
      "name": "numpy4.ipynb",
      "provenance": [],
      "include_colab_link": true
    },
    "kernelspec": {
      "name": "python3",
      "display_name": "Python 3"
    }
  },
  "cells": [
    {
      "cell_type": "markdown",
      "metadata": {
        "id": "view-in-github",
        "colab_type": "text"
      },
      "source": [
        "<a href=\"https://colab.research.google.com/github/Ganapathi-tech/python-programming/blob/main/numpy4.ipynb\" target=\"_parent\"><img src=\"https://colab.research.google.com/assets/colab-badge.svg\" alt=\"Open In Colab\"/></a>"
      ]
    },
    {
      "cell_type": "code",
      "metadata": {
        "id": "sJuZjzYlW3eh"
      },
      "source": [
        "import numpy as np"
      ],
      "execution_count": null,
      "outputs": []
    },
    {
      "cell_type": "code",
      "metadata": {
        "colab": {
          "base_uri": "https://localhost:8080/"
        },
        "id": "qz7PqfEnW-Id",
        "outputId": "e92d43c3-2794-4e27-b5d4-a3be9c64af68"
      },
      "source": [
        "ary1 = np.random.randint(10,30,(3,4,6))\n",
        "ary1"
      ],
      "execution_count": null,
      "outputs": [
        {
          "output_type": "execute_result",
          "data": {
            "text/plain": [
              "array([[[21, 13, 14, 21, 19, 12],\n",
              "        [11, 20, 12, 10, 29, 17],\n",
              "        [21, 13, 27, 20, 18, 27],\n",
              "        [14, 13, 28, 26, 15, 23]],\n",
              "\n",
              "       [[28, 22, 28, 23, 27, 21],\n",
              "        [20, 10, 25, 16, 20, 23],\n",
              "        [21, 22, 29, 29, 17, 28],\n",
              "        [13, 29, 23, 14, 10, 20]],\n",
              "\n",
              "       [[21, 19, 10, 18, 13, 18],\n",
              "        [18, 14, 13, 28, 12, 12],\n",
              "        [17, 13, 29, 26, 13, 22],\n",
              "        [28, 16, 25, 13, 19, 21]]])"
            ]
          },
          "metadata": {
            "tags": []
          },
          "execution_count": 6
        }
      ]
    },
    {
      "cell_type": "code",
      "metadata": {
        "colab": {
          "base_uri": "https://localhost:8080/"
        },
        "id": "w1-yqcSVXHcf",
        "outputId": "4fe53e49-80a2-4020-8adb-42342487d429"
      },
      "source": [
        "ary1[0:2:1,1:3:1 , 1:4:1    ]"
      ],
      "execution_count": null,
      "outputs": [
        {
          "output_type": "execute_result",
          "data": {
            "text/plain": [
              "array([[[11, 19, 12],\n",
              "        [25, 24, 18]],\n",
              "\n",
              "       [[28, 12, 29],\n",
              "        [10, 17, 24]]])"
            ]
          },
          "metadata": {
            "tags": []
          },
          "execution_count": 5
        }
      ]
    },
    {
      "cell_type": "code",
      "metadata": {
        "colab": {
          "base_uri": "https://localhost:8080/"
        },
        "id": "vlQSvseYXuFi",
        "outputId": "ceef422b-7e94-4135-ee13-0d02ac5dc145"
      },
      "source": [
        "ary1"
      ],
      "execution_count": null,
      "outputs": [
        {
          "output_type": "execute_result",
          "data": {
            "text/plain": [
              "array([[[21, 13, 14, 21, 19, 12],\n",
              "        [11, 20, 12, 10, 29, 17],\n",
              "        [21, 13, 27, 20, 18, 27],\n",
              "        [14, 13, 28, 26, 15, 23]],\n",
              "\n",
              "       [[28, 22, 28, 23, 27, 21],\n",
              "        [20, 10, 25, 16, 20, 23],\n",
              "        [21, 22, 29, 29, 17, 28],\n",
              "        [13, 29, 23, 14, 10, 20]],\n",
              "\n",
              "       [[21, 19, 10, 18, 13, 18],\n",
              "        [18, 14, 13, 28, 12, 12],\n",
              "        [17, 13, 29, 26, 13, 22],\n",
              "        [28, 16, 25, 13, 19, 21]]])"
            ]
          },
          "metadata": {
            "tags": []
          },
          "execution_count": 7
        }
      ]
    },
    {
      "cell_type": "code",
      "metadata": {
        "colab": {
          "base_uri": "https://localhost:8080/"
        },
        "id": "B3innp56X9I_",
        "outputId": "eed4408a-bbd7-4623-cf90-b2e31467f814"
      },
      "source": [
        "ary1[  0 : 3 : 2   , 1:3:1     , 0: 3 : 1        ]"
      ],
      "execution_count": null,
      "outputs": [
        {
          "output_type": "execute_result",
          "data": {
            "text/plain": [
              "array([[[11, 20, 12],\n",
              "        [21, 13, 27]],\n",
              "\n",
              "       [[18, 14, 13],\n",
              "        [17, 13, 29]]])"
            ]
          },
          "metadata": {
            "tags": []
          },
          "execution_count": 8
        }
      ]
    },
    {
      "cell_type": "code",
      "metadata": {
        "id": "CwKq9R86YL6t"
      },
      "source": [
        "np1 = np.arange(11,31)"
      ],
      "execution_count": null,
      "outputs": []
    },
    {
      "cell_type": "code",
      "metadata": {
        "colab": {
          "base_uri": "https://localhost:8080/"
        },
        "id": "iyyGGh5KYRli",
        "outputId": "177a314f-83af-44ff-8fda-291456d5d54f"
      },
      "source": [
        "np1"
      ],
      "execution_count": null,
      "outputs": [
        {
          "output_type": "execute_result",
          "data": {
            "text/plain": [
              "array([11, 12, 13, 14, 15, 16, 17, 18, 19, 20, 21, 22, 23, 24, 25, 26, 27,\n",
              "       28, 29, 30])"
            ]
          },
          "metadata": {
            "tags": []
          },
          "execution_count": 19
        }
      ]
    },
    {
      "cell_type": "code",
      "metadata": {
        "colab": {
          "base_uri": "https://localhost:8080/"
        },
        "id": "YsXU-X4SYYjW",
        "outputId": "f90631b4-a6ee-4849-a959-aacdc796303e"
      },
      "source": [
        "np1.size"
      ],
      "execution_count": null,
      "outputs": [
        {
          "output_type": "execute_result",
          "data": {
            "text/plain": [
              "20"
            ]
          },
          "metadata": {
            "tags": []
          },
          "execution_count": 13
        }
      ]
    },
    {
      "cell_type": "code",
      "metadata": {
        "id": "Fd834XNJYZov"
      },
      "source": [
        "np1 = np1.reshape(4,5)"
      ],
      "execution_count": null,
      "outputs": []
    },
    {
      "cell_type": "code",
      "metadata": {
        "colab": {
          "base_uri": "https://localhost:8080/"
        },
        "id": "cPOnw5PxYmHE",
        "outputId": "e0e42cd0-04d1-4158-cc22-0d069f008e02"
      },
      "source": [
        "np1"
      ],
      "execution_count": null,
      "outputs": [
        {
          "output_type": "execute_result",
          "data": {
            "text/plain": [
              "array([[11, 12, 13, 14, 15],\n",
              "       [16, 17, 18, 19, 20],\n",
              "       [21, 22, 23, 24, 25],\n",
              "       [26, 27, 28, 29, 30]])"
            ]
          },
          "metadata": {
            "tags": []
          },
          "execution_count": 17
        }
      ]
    },
    {
      "cell_type": "code",
      "metadata": {
        "colab": {
          "base_uri": "https://localhost:8080/"
        },
        "id": "AYoNDU6dYm26",
        "outputId": "664c7c9a-2342-490a-8340-8bf48d61b42d"
      },
      "source": [
        "np1"
      ],
      "execution_count": null,
      "outputs": [
        {
          "output_type": "execute_result",
          "data": {
            "text/plain": [
              "array([11, 12, 13, 14, 15, 16, 17, 18, 19, 20, 21, 22, 23, 24, 25, 26, 27,\n",
              "       28, 29, 30])"
            ]
          },
          "metadata": {
            "tags": []
          },
          "execution_count": 20
        }
      ]
    },
    {
      "cell_type": "code",
      "metadata": {
        "colab": {
          "base_uri": "https://localhost:8080/"
        },
        "id": "zQ9B5b_lY4GY",
        "outputId": "a575d9ed-5c82-4c08-eece-8c88212547b6"
      },
      "source": [
        "np1.size"
      ],
      "execution_count": null,
      "outputs": [
        {
          "output_type": "execute_result",
          "data": {
            "text/plain": [
              "20"
            ]
          },
          "metadata": {
            "tags": []
          },
          "execution_count": 21
        }
      ]
    },
    {
      "cell_type": "code",
      "metadata": {
        "colab": {
          "base_uri": "https://localhost:8080/"
        },
        "id": "dy1HZTKwY6AA",
        "outputId": "f8f074cb-b967-4200-d22b-2a7f89691beb"
      },
      "source": [
        "np1.reshape(2,10)"
      ],
      "execution_count": null,
      "outputs": [
        {
          "output_type": "execute_result",
          "data": {
            "text/plain": [
              "array([[11, 12, 13, 14, 15, 16, 17, 18, 19, 20],\n",
              "       [21, 22, 23, 24, 25, 26, 27, 28, 29, 30]])"
            ]
          },
          "metadata": {
            "tags": []
          },
          "execution_count": 22
        }
      ]
    },
    {
      "cell_type": "code",
      "metadata": {
        "colab": {
          "base_uri": "https://localhost:8080/"
        },
        "id": "MSkFipuuY9kb",
        "outputId": "90ea8057-4d03-49dc-90f2-c168927b08da"
      },
      "source": [
        "np1.reshape(2,2,5)"
      ],
      "execution_count": null,
      "outputs": [
        {
          "output_type": "execute_result",
          "data": {
            "text/plain": [
              "array([[[11, 12, 13, 14, 15],\n",
              "        [16, 17, 18, 19, 20]],\n",
              "\n",
              "       [[21, 22, 23, 24, 25],\n",
              "        [26, 27, 28, 29, 30]]])"
            ]
          },
          "metadata": {
            "tags": []
          },
          "execution_count": 24
        }
      ]
    },
    {
      "cell_type": "code",
      "metadata": {
        "colab": {
          "base_uri": "https://localhost:8080/",
          "height": 162
        },
        "id": "LWo5DacLZADM",
        "outputId": "209962cd-6ba0-45a4-eb55-b23fd71a4617"
      },
      "source": [
        "np1.reshape(3,4,5)"
      ],
      "execution_count": null,
      "outputs": [
        {
          "output_type": "error",
          "ename": "ValueError",
          "evalue": "ignored",
          "traceback": [
            "\u001b[0;31m---------------------------------------------------------------------------\u001b[0m",
            "\u001b[0;31mValueError\u001b[0m                                Traceback (most recent call last)",
            "\u001b[0;32m<ipython-input-25-33bf2e41b5e4>\u001b[0m in \u001b[0;36m<module>\u001b[0;34m()\u001b[0m\n\u001b[0;32m----> 1\u001b[0;31m \u001b[0mnp1\u001b[0m\u001b[0;34m.\u001b[0m\u001b[0mreshape\u001b[0m\u001b[0;34m(\u001b[0m\u001b[0;36m3\u001b[0m\u001b[0;34m,\u001b[0m\u001b[0;36m4\u001b[0m\u001b[0;34m,\u001b[0m\u001b[0;36m5\u001b[0m\u001b[0;34m)\u001b[0m\u001b[0;34m\u001b[0m\u001b[0;34m\u001b[0m\u001b[0m\n\u001b[0m",
            "\u001b[0;31mValueError\u001b[0m: cannot reshape array of size 20 into shape (3,4,5)"
          ]
        }
      ]
    },
    {
      "cell_type": "code",
      "metadata": {
        "id": "3ATDIxVPZGhY"
      },
      "source": [
        "# resize"
      ],
      "execution_count": null,
      "outputs": []
    },
    {
      "cell_type": "code",
      "metadata": {
        "colab": {
          "base_uri": "https://localhost:8080/"
        },
        "id": "9SIXXelZZOdF",
        "outputId": "b4e1b5c5-5b0b-40c0-e3b9-fc6e2c43f55e"
      },
      "source": [
        "np1"
      ],
      "execution_count": null,
      "outputs": [
        {
          "output_type": "execute_result",
          "data": {
            "text/plain": [
              "array([11, 12, 13, 14, 15, 16, 17, 18, 19, 20, 21, 22, 23, 24, 25, 26, 27,\n",
              "       28, 29, 30])"
            ]
          },
          "metadata": {
            "tags": []
          },
          "execution_count": 27
        }
      ]
    },
    {
      "cell_type": "code",
      "metadata": {
        "id": "1cVNYyw3ZQcZ"
      },
      "source": [
        "np1.resize(4,5)"
      ],
      "execution_count": null,
      "outputs": []
    },
    {
      "cell_type": "code",
      "metadata": {
        "colab": {
          "base_uri": "https://localhost:8080/"
        },
        "id": "H93IbLkBZVxq",
        "outputId": "f76a8cbf-8571-4279-f210-4fe43e7a8862"
      },
      "source": [
        "np1"
      ],
      "execution_count": null,
      "outputs": [
        {
          "output_type": "execute_result",
          "data": {
            "text/plain": [
              "array([[11, 12, 13, 14, 15],\n",
              "       [16, 17, 18, 19, 20],\n",
              "       [21, 22, 23, 24, 25],\n",
              "       [26, 27, 28, 29, 30]])"
            ]
          },
          "metadata": {
            "tags": []
          },
          "execution_count": 29
        }
      ]
    },
    {
      "cell_type": "code",
      "metadata": {
        "id": "Y8UptSV1ZXCH"
      },
      "source": [
        "np2 = np.arange(15,31)"
      ],
      "execution_count": null,
      "outputs": []
    },
    {
      "cell_type": "code",
      "metadata": {
        "colab": {
          "base_uri": "https://localhost:8080/"
        },
        "id": "XRnHMXoXZhnJ",
        "outputId": "942f2adc-9518-4d7d-d61f-6de8c54e25b6"
      },
      "source": [
        "np2"
      ],
      "execution_count": null,
      "outputs": [
        {
          "output_type": "execute_result",
          "data": {
            "text/plain": [
              "array([15, 16, 17, 18, 19, 20, 21, 22, 23, 24, 25, 26, 27, 28, 29, 30])"
            ]
          },
          "metadata": {
            "tags": []
          },
          "execution_count": 36
        }
      ]
    },
    {
      "cell_type": "code",
      "metadata": {
        "colab": {
          "base_uri": "https://localhost:8080/"
        },
        "id": "StD1IXcdZiiN",
        "outputId": "b0d2f66d-5386-46fd-a64a-5efb2247cdcc"
      },
      "source": [
        "np2.size"
      ],
      "execution_count": null,
      "outputs": [
        {
          "output_type": "execute_result",
          "data": {
            "text/plain": [
              "16"
            ]
          },
          "metadata": {
            "tags": []
          },
          "execution_count": 32
        }
      ]
    },
    {
      "cell_type": "code",
      "metadata": {
        "id": "m8YHwPkCZjz_"
      },
      "source": [
        "np2.resize(2,2,4)"
      ],
      "execution_count": null,
      "outputs": []
    },
    {
      "cell_type": "code",
      "metadata": {
        "colab": {
          "base_uri": "https://localhost:8080/"
        },
        "id": "r2iV3O91Zq7i",
        "outputId": "03ef547c-a6b4-4e20-8f31-625d27c80ba9"
      },
      "source": [
        "np2"
      ],
      "execution_count": null,
      "outputs": [
        {
          "output_type": "execute_result",
          "data": {
            "text/plain": [
              "array([[[15, 16, 17, 18],\n",
              "        [19, 20, 21, 22]],\n",
              "\n",
              "       [[23, 24, 25, 26],\n",
              "        [27, 28, 29, 30]]])"
            ]
          },
          "metadata": {
            "tags": []
          },
          "execution_count": 34
        }
      ]
    },
    {
      "cell_type": "code",
      "metadata": {
        "colab": {
          "base_uri": "https://localhost:8080/"
        },
        "id": "U6V8BCOgZrws",
        "outputId": "c8926a12-72d7-4124-83c7-d0f6d8bafff6"
      },
      "source": [
        "np2"
      ],
      "execution_count": null,
      "outputs": [
        {
          "output_type": "execute_result",
          "data": {
            "text/plain": [
              "array([15, 16, 17, 18, 19, 20, 21, 22, 23, 24, 25, 26, 27, 28, 29, 30])"
            ]
          },
          "metadata": {
            "tags": []
          },
          "execution_count": 37
        }
      ]
    },
    {
      "cell_type": "code",
      "metadata": {
        "colab": {
          "base_uri": "https://localhost:8080/"
        },
        "id": "Us6Z-JV2Zu77",
        "outputId": "b29edda8-8738-4e6d-f441-f72f5a36804c"
      },
      "source": [
        "np2.size"
      ],
      "execution_count": null,
      "outputs": [
        {
          "output_type": "execute_result",
          "data": {
            "text/plain": [
              "16"
            ]
          },
          "metadata": {
            "tags": []
          },
          "execution_count": 38
        }
      ]
    },
    {
      "cell_type": "code",
      "metadata": {
        "id": "AxvXj2DiZy3Y"
      },
      "source": [
        "np2.resize(4,5, refcheck=False)"
      ],
      "execution_count": null,
      "outputs": []
    },
    {
      "cell_type": "code",
      "metadata": {
        "colab": {
          "base_uri": "https://localhost:8080/"
        },
        "id": "_-Pd0_kYZ96H",
        "outputId": "dd08ee30-369f-4eb6-992e-5efc98464ef2"
      },
      "source": [
        "np2"
      ],
      "execution_count": null,
      "outputs": [
        {
          "output_type": "execute_result",
          "data": {
            "text/plain": [
              "array([[15, 16, 17, 18, 19],\n",
              "       [20, 21, 22, 23, 24],\n",
              "       [25, 26, 27, 28, 29],\n",
              "       [30,  0,  0,  0,  0]])"
            ]
          },
          "metadata": {
            "tags": []
          },
          "execution_count": 41
        }
      ]
    },
    {
      "cell_type": "code",
      "metadata": {
        "id": "YknFO-GkZ-7v"
      },
      "source": [
        "np3 = np.arange(15,50)"
      ],
      "execution_count": null,
      "outputs": []
    },
    {
      "cell_type": "code",
      "metadata": {
        "colab": {
          "base_uri": "https://localhost:8080/"
        },
        "id": "Wq8mIuLgaU1h",
        "outputId": "61042ae7-e67d-4462-a771-2f1b13f7d38f"
      },
      "source": [
        "np3.size"
      ],
      "execution_count": null,
      "outputs": [
        {
          "output_type": "execute_result",
          "data": {
            "text/plain": [
              "35"
            ]
          },
          "metadata": {
            "tags": []
          },
          "execution_count": 43
        }
      ]
    },
    {
      "cell_type": "code",
      "metadata": {
        "id": "lv5GBcaZaV3f"
      },
      "source": [
        "np3.resize((3,4,5),refcheck = False)"
      ],
      "execution_count": null,
      "outputs": []
    },
    {
      "cell_type": "code",
      "metadata": {
        "colab": {
          "base_uri": "https://localhost:8080/"
        },
        "id": "u8oPDm8-ajG9",
        "outputId": "12906bab-b465-4ddb-c79e-58cc73394ad1"
      },
      "source": [
        "np3"
      ],
      "execution_count": null,
      "outputs": [
        {
          "output_type": "execute_result",
          "data": {
            "text/plain": [
              "array([[[15, 16, 17, 18, 19],\n",
              "        [20, 21, 22, 23, 24],\n",
              "        [25, 26, 27, 28, 29],\n",
              "        [30, 31, 32, 33, 34]],\n",
              "\n",
              "       [[35, 36, 37, 38, 39],\n",
              "        [40, 41, 42, 43, 44],\n",
              "        [45, 46, 47, 48, 49],\n",
              "        [ 0,  0,  0,  0,  0]],\n",
              "\n",
              "       [[ 0,  0,  0,  0,  0],\n",
              "        [ 0,  0,  0,  0,  0],\n",
              "        [ 0,  0,  0,  0,  0],\n",
              "        [ 0,  0,  0,  0,  0]]])"
            ]
          },
          "metadata": {
            "tags": []
          },
          "execution_count": 45
        }
      ]
    },
    {
      "cell_type": "code",
      "metadata": {
        "id": "5AjvfBfyajsw"
      },
      "source": [
        "np4 = np.arange(10,25)"
      ],
      "execution_count": null,
      "outputs": []
    },
    {
      "cell_type": "code",
      "metadata": {
        "colab": {
          "base_uri": "https://localhost:8080/"
        },
        "id": "gcXK5GStav3K",
        "outputId": "471116e6-9b01-45da-9f34-14dfd47f86c6"
      },
      "source": [
        "np4.size"
      ],
      "execution_count": null,
      "outputs": [
        {
          "output_type": "execute_result",
          "data": {
            "text/plain": [
              "15"
            ]
          },
          "metadata": {
            "tags": []
          },
          "execution_count": 47
        }
      ]
    },
    {
      "cell_type": "code",
      "metadata": {
        "colab": {
          "base_uri": "https://localhost:8080/"
        },
        "id": "AoviqTQhbMde",
        "outputId": "fcc160fc-6c83-4da9-f45e-53e4ba882b0f"
      },
      "source": [
        "np4"
      ],
      "execution_count": null,
      "outputs": [
        {
          "output_type": "execute_result",
          "data": {
            "text/plain": [
              "array([10, 11, 12, 13, 14, 15, 16, 17, 18, 19, 20, 21, 22, 23, 24])"
            ]
          },
          "metadata": {
            "tags": []
          },
          "execution_count": 50
        }
      ]
    },
    {
      "cell_type": "code",
      "metadata": {
        "id": "AK_hsguIawv9"
      },
      "source": [
        "np4 = np.resize(np4,(4,6))"
      ],
      "execution_count": null,
      "outputs": []
    },
    {
      "cell_type": "code",
      "metadata": {
        "colab": {
          "base_uri": "https://localhost:8080/"
        },
        "id": "HdVZWg3FbKS-",
        "outputId": "d6392367-5e3b-4dc9-bdc0-3779711aae0d"
      },
      "source": [
        "np4"
      ],
      "execution_count": null,
      "outputs": [
        {
          "output_type": "execute_result",
          "data": {
            "text/plain": [
              "array([[10, 11, 12, 13, 14, 15],\n",
              "       [16, 17, 18, 19, 20, 21],\n",
              "       [22, 23, 24, 10, 11, 12],\n",
              "       [13, 14, 15, 16, 17, 18]])"
            ]
          },
          "metadata": {
            "tags": []
          },
          "execution_count": 52
        }
      ]
    },
    {
      "cell_type": "code",
      "metadata": {
        "colab": {
          "base_uri": "https://localhost:8080/"
        },
        "id": "xg7XHSXxbaTw",
        "outputId": "5f2f811e-0fdb-4845-dcbe-c85431fd7e9c"
      },
      "source": [
        "np4"
      ],
      "execution_count": null,
      "outputs": [
        {
          "output_type": "execute_result",
          "data": {
            "text/plain": [
              "array([[10, 11, 12, 13, 14, 15],\n",
              "       [16, 17, 18, 19, 20, 21],\n",
              "       [22, 23, 24, 10, 11, 12],\n",
              "       [13, 14, 15, 16, 17, 18]])"
            ]
          },
          "metadata": {
            "tags": []
          },
          "execution_count": 53
        }
      ]
    },
    {
      "cell_type": "code",
      "metadata": {
        "colab": {
          "base_uri": "https://localhost:8080/"
        },
        "id": "Z6pdSMg9bj4T",
        "outputId": "32bc348b-3192-469f-cf50-e1e41cbdc949"
      },
      "source": [
        "np4.shape"
      ],
      "execution_count": null,
      "outputs": [
        {
          "output_type": "execute_result",
          "data": {
            "text/plain": [
              "(4, 6)"
            ]
          },
          "metadata": {
            "tags": []
          },
          "execution_count": 54
        }
      ]
    },
    {
      "cell_type": "code",
      "metadata": {
        "colab": {
          "base_uri": "https://localhost:8080/"
        },
        "id": "AnPTEw-eboUD",
        "outputId": "b238bfe9-3b7f-438d-d2b9-91a332ee9dd2"
      },
      "source": [
        "np4.size"
      ],
      "execution_count": null,
      "outputs": [
        {
          "output_type": "execute_result",
          "data": {
            "text/plain": [
              "24"
            ]
          },
          "metadata": {
            "tags": []
          },
          "execution_count": 55
        }
      ]
    },
    {
      "cell_type": "code",
      "metadata": {
        "id": "bMmGIHFDbpWY"
      },
      "source": [
        "np5 = np4.transpose()"
      ],
      "execution_count": null,
      "outputs": []
    },
    {
      "cell_type": "code",
      "metadata": {
        "colab": {
          "base_uri": "https://localhost:8080/"
        },
        "id": "jLrpulQfbxvg",
        "outputId": "18c780b7-4d32-435e-c528-a5cb7eb8cd6b"
      },
      "source": [
        "np5"
      ],
      "execution_count": null,
      "outputs": [
        {
          "output_type": "execute_result",
          "data": {
            "text/plain": [
              "array([[10, 16, 22, 13],\n",
              "       [11, 17, 23, 14],\n",
              "       [12, 18, 24, 15],\n",
              "       [13, 19, 10, 16],\n",
              "       [14, 20, 11, 17],\n",
              "       [15, 21, 12, 18]])"
            ]
          },
          "metadata": {
            "tags": []
          },
          "execution_count": 58
        }
      ]
    },
    {
      "cell_type": "code",
      "metadata": {
        "colab": {
          "base_uri": "https://localhost:8080/"
        },
        "id": "uo7n6FJ8b1uS",
        "outputId": "21e66197-2497-4a6f-c17d-8f9ba6f26898"
      },
      "source": [
        "np5.shape"
      ],
      "execution_count": null,
      "outputs": [
        {
          "output_type": "execute_result",
          "data": {
            "text/plain": [
              "(6, 4)"
            ]
          },
          "metadata": {
            "tags": []
          },
          "execution_count": 59
        }
      ]
    },
    {
      "cell_type": "code",
      "metadata": {
        "colab": {
          "base_uri": "https://localhost:8080/"
        },
        "id": "5zooDkAPb3VL",
        "outputId": "aabb9551-645e-4b02-e518-7b175b61e51e"
      },
      "source": [
        "np3"
      ],
      "execution_count": null,
      "outputs": [
        {
          "output_type": "execute_result",
          "data": {
            "text/plain": [
              "array([[[15, 16, 17, 18, 19],\n",
              "        [20, 21, 22, 23, 24],\n",
              "        [25, 26, 27, 28, 29],\n",
              "        [30, 31, 32, 33, 34]],\n",
              "\n",
              "       [[35, 36, 37, 38, 39],\n",
              "        [40, 41, 42, 43, 44],\n",
              "        [45, 46, 47, 48, 49],\n",
              "        [ 0,  0,  0,  0,  0]],\n",
              "\n",
              "       [[ 0,  0,  0,  0,  0],\n",
              "        [ 0,  0,  0,  0,  0],\n",
              "        [ 0,  0,  0,  0,  0],\n",
              "        [ 0,  0,  0,  0,  0]]])"
            ]
          },
          "metadata": {
            "tags": []
          },
          "execution_count": 60
        }
      ]
    },
    {
      "cell_type": "code",
      "metadata": {
        "colab": {
          "base_uri": "https://localhost:8080/"
        },
        "id": "xkRL9Dmnb7fc",
        "outputId": "c263b7d5-13f0-4ff9-83bd-3753d6c7ccab"
      },
      "source": [
        "np3.shape"
      ],
      "execution_count": null,
      "outputs": [
        {
          "output_type": "execute_result",
          "data": {
            "text/plain": [
              "(3, 4, 5)"
            ]
          },
          "metadata": {
            "tags": []
          },
          "execution_count": 61
        }
      ]
    },
    {
      "cell_type": "code",
      "metadata": {
        "id": "ykGf7NWvb9gP"
      },
      "source": [
        "tnp3 = np3.transpose()"
      ],
      "execution_count": null,
      "outputs": []
    },
    {
      "cell_type": "code",
      "metadata": {
        "colab": {
          "base_uri": "https://localhost:8080/"
        },
        "id": "ZPjDYdBVcC6W",
        "outputId": "00221bba-29b1-4d72-ec4f-769ca8ec1fe3"
      },
      "source": [
        "tnp3"
      ],
      "execution_count": null,
      "outputs": [
        {
          "output_type": "execute_result",
          "data": {
            "text/plain": [
              "array([[[15, 35,  0],\n",
              "        [20, 40,  0],\n",
              "        [25, 45,  0],\n",
              "        [30,  0,  0]],\n",
              "\n",
              "       [[16, 36,  0],\n",
              "        [21, 41,  0],\n",
              "        [26, 46,  0],\n",
              "        [31,  0,  0]],\n",
              "\n",
              "       [[17, 37,  0],\n",
              "        [22, 42,  0],\n",
              "        [27, 47,  0],\n",
              "        [32,  0,  0]],\n",
              "\n",
              "       [[18, 38,  0],\n",
              "        [23, 43,  0],\n",
              "        [28, 48,  0],\n",
              "        [33,  0,  0]],\n",
              "\n",
              "       [[19, 39,  0],\n",
              "        [24, 44,  0],\n",
              "        [29, 49,  0],\n",
              "        [34,  0,  0]]])"
            ]
          },
          "metadata": {
            "tags": []
          },
          "execution_count": 64
        }
      ]
    },
    {
      "cell_type": "code",
      "metadata": {
        "colab": {
          "base_uri": "https://localhost:8080/"
        },
        "id": "MDw7P2sycOe2",
        "outputId": "127c01c4-654f-44ff-dc40-a5782d3e5c48"
      },
      "source": [
        "tnp3.shape"
      ],
      "execution_count": null,
      "outputs": [
        {
          "output_type": "execute_result",
          "data": {
            "text/plain": [
              "(5, 4, 3)"
            ]
          },
          "metadata": {
            "tags": []
          },
          "execution_count": 65
        }
      ]
    },
    {
      "cell_type": "code",
      "metadata": {
        "colab": {
          "base_uri": "https://localhost:8080/"
        },
        "id": "-JM82ss0cP_T",
        "outputId": "eedef352-ce3f-4b33-f8e4-53f9a731c557"
      },
      "source": [
        "np1"
      ],
      "execution_count": null,
      "outputs": [
        {
          "output_type": "execute_result",
          "data": {
            "text/plain": [
              "array([[11, 12, 13, 14, 15],\n",
              "       [16, 17, 18, 19, 20],\n",
              "       [21, 22, 23, 24, 25],\n",
              "       [26, 27, 28, 29, 30]])"
            ]
          },
          "metadata": {
            "tags": []
          },
          "execution_count": 66
        }
      ]
    },
    {
      "cell_type": "code",
      "metadata": {
        "id": "IPjjjQJXcY1x"
      },
      "source": [
        "ary2 = np.arange(1, 10)"
      ],
      "execution_count": null,
      "outputs": []
    },
    {
      "cell_type": "code",
      "metadata": {
        "colab": {
          "base_uri": "https://localhost:8080/"
        },
        "id": "Ux-4EwQGca4q",
        "outputId": "43624bd6-0eb7-45e0-b938-fed7cc22f991"
      },
      "source": [
        "ary2"
      ],
      "execution_count": null,
      "outputs": [
        {
          "output_type": "execute_result",
          "data": {
            "text/plain": [
              "array([1, 2, 3, 4, 5, 6, 7, 8, 9])"
            ]
          },
          "metadata": {
            "tags": []
          },
          "execution_count": 70
        }
      ]
    },
    {
      "cell_type": "code",
      "metadata": {
        "colab": {
          "base_uri": "https://localhost:8080/"
        },
        "id": "kJmlyM0pcgjP",
        "outputId": "9ef01731-a778-4f88-8d21-9f6fc5b31548"
      },
      "source": [
        "ary2.transpose()"
      ],
      "execution_count": null,
      "outputs": [
        {
          "output_type": "execute_result",
          "data": {
            "text/plain": [
              "array([1, 2, 3, 4, 5, 6, 7, 8, 9])"
            ]
          },
          "metadata": {
            "tags": []
          },
          "execution_count": 72
        }
      ]
    },
    {
      "cell_type": "code",
      "metadata": {
        "colab": {
          "base_uri": "https://localhost:8080/"
        },
        "id": "OdxHhk_tci6-",
        "outputId": "0e0a38a5-2686-4725-8049-35e730cf4187"
      },
      "source": [
        "ary1"
      ],
      "execution_count": null,
      "outputs": [
        {
          "output_type": "execute_result",
          "data": {
            "text/plain": [
              "array([[[21, 13, 14, 21, 19, 12],\n",
              "        [11, 20, 12, 10, 29, 17],\n",
              "        [21, 13, 27, 20, 18, 27],\n",
              "        [14, 13, 28, 26, 15, 23]],\n",
              "\n",
              "       [[28, 22, 28, 23, 27, 21],\n",
              "        [20, 10, 25, 16, 20, 23],\n",
              "        [21, 22, 29, 29, 17, 28],\n",
              "        [13, 29, 23, 14, 10, 20]],\n",
              "\n",
              "       [[21, 19, 10, 18, 13, 18],\n",
              "        [18, 14, 13, 28, 12, 12],\n",
              "        [17, 13, 29, 26, 13, 22],\n",
              "        [28, 16, 25, 13, 19, 21]]])"
            ]
          },
          "metadata": {
            "tags": []
          },
          "execution_count": 73
        }
      ]
    },
    {
      "cell_type": "code",
      "metadata": {
        "colab": {
          "base_uri": "https://localhost:8080/"
        },
        "id": "9BFc2KEgcq7Q",
        "outputId": "c5725c69-8cbb-43ce-ecc4-8aa91d5f50e9"
      },
      "source": [
        "ary1.shape"
      ],
      "execution_count": null,
      "outputs": [
        {
          "output_type": "execute_result",
          "data": {
            "text/plain": [
              "(3, 4, 6)"
            ]
          },
          "metadata": {
            "tags": []
          },
          "execution_count": 74
        }
      ]
    },
    {
      "cell_type": "code",
      "metadata": {
        "colab": {
          "base_uri": "https://localhost:8080/"
        },
        "id": "_PUJys3KcsyY",
        "outputId": "611cf40b-ccc0-4f48-fb9b-5bbc68ef4b48"
      },
      "source": [
        "ary1.transpose().shape"
      ],
      "execution_count": null,
      "outputs": [
        {
          "output_type": "execute_result",
          "data": {
            "text/plain": [
              "(6, 4, 3)"
            ]
          },
          "metadata": {
            "tags": []
          },
          "execution_count": 76
        }
      ]
    },
    {
      "cell_type": "code",
      "metadata": {
        "id": "iMCnL2JNdGxo"
      },
      "source": [
        "ary3 = ary1.transpose((1,2,0))"
      ],
      "execution_count": null,
      "outputs": []
    },
    {
      "cell_type": "code",
      "metadata": {
        "colab": {
          "base_uri": "https://localhost:8080/"
        },
        "id": "i4emm0WCdjIo",
        "outputId": "917a56cd-a9cc-4560-8a68-ce5620c73fc0"
      },
      "source": [
        "ary3"
      ],
      "execution_count": null,
      "outputs": [
        {
          "output_type": "execute_result",
          "data": {
            "text/plain": [
              "array([[[21, 28, 21],\n",
              "        [13, 22, 19],\n",
              "        [14, 28, 10],\n",
              "        [21, 23, 18],\n",
              "        [19, 27, 13],\n",
              "        [12, 21, 18]],\n",
              "\n",
              "       [[11, 20, 18],\n",
              "        [20, 10, 14],\n",
              "        [12, 25, 13],\n",
              "        [10, 16, 28],\n",
              "        [29, 20, 12],\n",
              "        [17, 23, 12]],\n",
              "\n",
              "       [[21, 21, 17],\n",
              "        [13, 22, 13],\n",
              "        [27, 29, 29],\n",
              "        [20, 29, 26],\n",
              "        [18, 17, 13],\n",
              "        [27, 28, 22]],\n",
              "\n",
              "       [[14, 13, 28],\n",
              "        [13, 29, 16],\n",
              "        [28, 23, 25],\n",
              "        [26, 14, 13],\n",
              "        [15, 10, 19],\n",
              "        [23, 20, 21]]])"
            ]
          },
          "metadata": {
            "tags": []
          },
          "execution_count": 80
        }
      ]
    },
    {
      "cell_type": "code",
      "metadata": {
        "colab": {
          "base_uri": "https://localhost:8080/"
        },
        "id": "5YAmdzejdzBp",
        "outputId": "4c4e1699-6ec1-40f2-ebfd-45a987ebed59"
      },
      "source": [
        "ary3.shape"
      ],
      "execution_count": null,
      "outputs": [
        {
          "output_type": "execute_result",
          "data": {
            "text/plain": [
              "(4, 6, 3)"
            ]
          },
          "metadata": {
            "tags": []
          },
          "execution_count": 81
        }
      ]
    },
    {
      "cell_type": "code",
      "metadata": {
        "colab": {
          "base_uri": "https://localhost:8080/"
        },
        "id": "ZuPDGt8yd1sb",
        "outputId": "4d9b7ab4-a4ea-4892-bf93-ec56f1d8dfb3"
      },
      "source": [
        "\n",
        "np2"
      ],
      "execution_count": null,
      "outputs": [
        {
          "output_type": "execute_result",
          "data": {
            "text/plain": [
              "array([[15, 16, 17, 18, 19],\n",
              "       [20, 21, 22, 23, 24],\n",
              "       [25, 26, 27, 28, 29],\n",
              "       [30,  0,  0,  0,  0]])"
            ]
          },
          "metadata": {
            "tags": []
          },
          "execution_count": 82
        }
      ]
    },
    {
      "cell_type": "code",
      "metadata": {
        "colab": {
          "base_uri": "https://localhost:8080/"
        },
        "id": "03CbfUvceaEE",
        "outputId": "8cdaa87c-0c93-47f6-81e6-5d8ac1a306ae"
      },
      "source": [
        "np2.shape"
      ],
      "execution_count": null,
      "outputs": [
        {
          "output_type": "execute_result",
          "data": {
            "text/plain": [
              "(4, 5)"
            ]
          },
          "metadata": {
            "tags": []
          },
          "execution_count": 86
        }
      ]
    },
    {
      "cell_type": "code",
      "metadata": {
        "id": "S3O7UTW5eM0v"
      },
      "source": [
        "np22 = np.swapaxes(np2,1,0)"
      ],
      "execution_count": null,
      "outputs": []
    },
    {
      "cell_type": "code",
      "metadata": {
        "colab": {
          "base_uri": "https://localhost:8080/"
        },
        "id": "lzbNdzlCeSj8",
        "outputId": "88b9d029-ba47-4b26-81a7-e501979def8c"
      },
      "source": [
        "np22.shape"
      ],
      "execution_count": null,
      "outputs": [
        {
          "output_type": "execute_result",
          "data": {
            "text/plain": [
              "(5, 4)"
            ]
          },
          "metadata": {
            "tags": []
          },
          "execution_count": 88
        }
      ]
    },
    {
      "cell_type": "code",
      "metadata": {
        "colab": {
          "base_uri": "https://localhost:8080/"
        },
        "id": "aBT7L1mUejK3",
        "outputId": "cd3ca6a0-3ba2-4ca2-cc91-3c23bae0d26d"
      },
      "source": [
        "ary3"
      ],
      "execution_count": null,
      "outputs": [
        {
          "output_type": "execute_result",
          "data": {
            "text/plain": [
              "array([[[21, 28, 21],\n",
              "        [13, 22, 19],\n",
              "        [14, 28, 10],\n",
              "        [21, 23, 18],\n",
              "        [19, 27, 13],\n",
              "        [12, 21, 18]],\n",
              "\n",
              "       [[11, 20, 18],\n",
              "        [20, 10, 14],\n",
              "        [12, 25, 13],\n",
              "        [10, 16, 28],\n",
              "        [29, 20, 12],\n",
              "        [17, 23, 12]],\n",
              "\n",
              "       [[21, 21, 17],\n",
              "        [13, 22, 13],\n",
              "        [27, 29, 29],\n",
              "        [20, 29, 26],\n",
              "        [18, 17, 13],\n",
              "        [27, 28, 22]],\n",
              "\n",
              "       [[14, 13, 28],\n",
              "        [13, 29, 16],\n",
              "        [28, 23, 25],\n",
              "        [26, 14, 13],\n",
              "        [15, 10, 19],\n",
              "        [23, 20, 21]]])"
            ]
          },
          "metadata": {
            "tags": []
          },
          "execution_count": 89
        }
      ]
    },
    {
      "cell_type": "code",
      "metadata": {
        "colab": {
          "base_uri": "https://localhost:8080/"
        },
        "id": "2FIR-WMMemfs",
        "outputId": "c4cc24ff-d0b7-4910-c537-4655c09683f6"
      },
      "source": [
        "ary3.shape"
      ],
      "execution_count": null,
      "outputs": [
        {
          "output_type": "execute_result",
          "data": {
            "text/plain": [
              "(4, 6, 3)"
            ]
          },
          "metadata": {
            "tags": []
          },
          "execution_count": 90
        }
      ]
    },
    {
      "cell_type": "code",
      "metadata": {
        "colab": {
          "base_uri": "https://localhost:8080/"
        },
        "id": "ltpqFcckeocJ",
        "outputId": "db876b0c-3496-4632-eac3-f1980a389182"
      },
      "source": [
        "ary3.swapaxes(2,0)"
      ],
      "execution_count": null,
      "outputs": [
        {
          "output_type": "execute_result",
          "data": {
            "text/plain": [
              "array([[[21, 11, 21, 14],\n",
              "        [13, 20, 13, 13],\n",
              "        [14, 12, 27, 28],\n",
              "        [21, 10, 20, 26],\n",
              "        [19, 29, 18, 15],\n",
              "        [12, 17, 27, 23]],\n",
              "\n",
              "       [[28, 20, 21, 13],\n",
              "        [22, 10, 22, 29],\n",
              "        [28, 25, 29, 23],\n",
              "        [23, 16, 29, 14],\n",
              "        [27, 20, 17, 10],\n",
              "        [21, 23, 28, 20]],\n",
              "\n",
              "       [[21, 18, 17, 28],\n",
              "        [19, 14, 13, 16],\n",
              "        [10, 13, 29, 25],\n",
              "        [18, 28, 26, 13],\n",
              "        [13, 12, 13, 19],\n",
              "        [18, 12, 22, 21]]])"
            ]
          },
          "metadata": {
            "tags": []
          },
          "execution_count": 91
        }
      ]
    },
    {
      "cell_type": "code",
      "metadata": {
        "colab": {
          "base_uri": "https://localhost:8080/"
        },
        "id": "hlOlADMze0G5",
        "outputId": "d433cce2-6810-4f39-a81f-d41a84c7c323"
      },
      "source": [
        "ary1"
      ],
      "execution_count": null,
      "outputs": [
        {
          "output_type": "execute_result",
          "data": {
            "text/plain": [
              "array([[[21, 13, 14, 21, 19, 12],\n",
              "        [11, 20, 12, 10, 29, 17],\n",
              "        [21, 13, 27, 20, 18, 27],\n",
              "        [14, 13, 28, 26, 15, 23]],\n",
              "\n",
              "       [[28, 22, 28, 23, 27, 21],\n",
              "        [20, 10, 25, 16, 20, 23],\n",
              "        [21, 22, 29, 29, 17, 28],\n",
              "        [13, 29, 23, 14, 10, 20]],\n",
              "\n",
              "       [[21, 19, 10, 18, 13, 18],\n",
              "        [18, 14, 13, 28, 12, 12],\n",
              "        [17, 13, 29, 26, 13, 22],\n",
              "        [28, 16, 25, 13, 19, 21]]])"
            ]
          },
          "metadata": {
            "tags": []
          },
          "execution_count": 94
        }
      ]
    },
    {
      "cell_type": "code",
      "metadata": {
        "colab": {
          "base_uri": "https://localhost:8080/"
        },
        "id": "2Y-i9aHffH0t",
        "outputId": "3f94fbb8-c1c9-42ee-d7f0-3b74fc53c40a"
      },
      "source": [
        "ary1.flatten()"
      ],
      "execution_count": null,
      "outputs": [
        {
          "output_type": "execute_result",
          "data": {
            "text/plain": [
              "array([21, 13, 14, 21, 19, 12, 11, 20, 12, 10, 29, 17, 21, 13, 27, 20, 18,\n",
              "       27, 14, 13, 28, 26, 15, 23, 28, 22, 28, 23, 27, 21, 20, 10, 25, 16,\n",
              "       20, 23, 21, 22, 29, 29, 17, 28, 13, 29, 23, 14, 10, 20, 21, 19, 10,\n",
              "       18, 13, 18, 18, 14, 13, 28, 12, 12, 17, 13, 29, 26, 13, 22, 28, 16,\n",
              "       25, 13, 19, 21])"
            ]
          },
          "metadata": {
            "tags": []
          },
          "execution_count": 95
        }
      ]
    },
    {
      "cell_type": "code",
      "metadata": {
        "colab": {
          "base_uri": "https://localhost:8080/"
        },
        "id": "ujNfmUpUfQGo",
        "outputId": "420e1ae3-a3b2-434a-b0f2-faff67c69200"
      },
      "source": [
        "ary1.flatten(order = \"C\")"
      ],
      "execution_count": null,
      "outputs": [
        {
          "output_type": "execute_result",
          "data": {
            "text/plain": [
              "array([21, 13, 14, 21, 19, 12, 11, 20, 12, 10, 29, 17, 21, 13, 27, 20, 18,\n",
              "       27, 14, 13, 28, 26, 15, 23, 28, 22, 28, 23, 27, 21, 20, 10, 25, 16,\n",
              "       20, 23, 21, 22, 29, 29, 17, 28, 13, 29, 23, 14, 10, 20, 21, 19, 10,\n",
              "       18, 13, 18, 18, 14, 13, 28, 12, 12, 17, 13, 29, 26, 13, 22, 28, 16,\n",
              "       25, 13, 19, 21])"
            ]
          },
          "metadata": {
            "tags": []
          },
          "execution_count": 97
        }
      ]
    },
    {
      "cell_type": "code",
      "metadata": {
        "colab": {
          "base_uri": "https://localhost:8080/"
        },
        "id": "SLnCNLaHfY2I",
        "outputId": "5a3d5117-37a5-4acb-88c8-76f968984c52"
      },
      "source": [
        "np2"
      ],
      "execution_count": null,
      "outputs": [
        {
          "output_type": "execute_result",
          "data": {
            "text/plain": [
              "array([[15, 16, 17, 18, 19],\n",
              "       [20, 21, 22, 23, 24],\n",
              "       [25, 26, 27, 28, 29],\n",
              "       [30,  0,  0,  0,  0]])"
            ]
          },
          "metadata": {
            "tags": []
          },
          "execution_count": 99
        }
      ]
    },
    {
      "cell_type": "code",
      "metadata": {
        "colab": {
          "base_uri": "https://localhost:8080/"
        },
        "id": "73aLN-8bfwDe",
        "outputId": "4dccbb0e-ec85-4833-a01d-b438b53b310c"
      },
      "source": [
        "np2.flatten(order =  \"C\")"
      ],
      "execution_count": null,
      "outputs": [
        {
          "output_type": "execute_result",
          "data": {
            "text/plain": [
              "array([15, 16, 17, 18, 19, 20, 21, 22, 23, 24, 25, 26, 27, 28, 29, 30,  0,\n",
              "        0,  0,  0])"
            ]
          },
          "metadata": {
            "tags": []
          },
          "execution_count": 100
        }
      ]
    },
    {
      "cell_type": "code",
      "metadata": {
        "colab": {
          "base_uri": "https://localhost:8080/"
        },
        "id": "CvuBRy9YfnNw",
        "outputId": "afe50c8b-6fbe-4609-d4d1-1cec99e598aa"
      },
      "source": [
        "np2.flatten(order=\"F\")"
      ],
      "execution_count": null,
      "outputs": [
        {
          "output_type": "execute_result",
          "data": {
            "text/plain": [
              "array([15, 20, 25, 30, 16, 21, 26,  0, 17, 22, 27,  0, 18, 23, 28,  0, 19,\n",
              "       24, 29,  0])"
            ]
          },
          "metadata": {
            "tags": []
          },
          "execution_count": 101
        }
      ]
    },
    {
      "cell_type": "code",
      "metadata": {
        "colab": {
          "base_uri": "https://localhost:8080/"
        },
        "id": "Gu4rPJ5Ef9dR",
        "outputId": "b0f524fa-e01e-4594-acda-cd2e5b9ae345"
      },
      "source": [
        "ary1"
      ],
      "execution_count": null,
      "outputs": [
        {
          "output_type": "execute_result",
          "data": {
            "text/plain": [
              "array([[[21, 13, 14, 21, 19, 12],\n",
              "        [11, 20, 12, 10, 29, 17],\n",
              "        [21, 13, 27, 20, 18, 27],\n",
              "        [14, 13, 28, 26, 15, 23]],\n",
              "\n",
              "       [[28, 22, 28, 23, 27, 21],\n",
              "        [20, 10, 25, 16, 20, 23],\n",
              "        [21, 22, 29, 29, 17, 28],\n",
              "        [13, 29, 23, 14, 10, 20]],\n",
              "\n",
              "       [[21, 19, 10, 18, 13, 18],\n",
              "        [18, 14, 13, 28, 12, 12],\n",
              "        [17, 13, 29, 26, 13, 22],\n",
              "        [28, 16, 25, 13, 19, 21]]])"
            ]
          },
          "metadata": {
            "tags": []
          },
          "execution_count": 102
        }
      ]
    },
    {
      "cell_type": "code",
      "metadata": {
        "id": "Of1bxXiegANP"
      },
      "source": [
        "ary1.flatten(order = \"c\")"
      ],
      "execution_count": null,
      "outputs": []
    },
    {
      "cell_type": "code",
      "metadata": {
        "colab": {
          "base_uri": "https://localhost:8080/"
        },
        "id": "S3KQLdCBgD5Y",
        "outputId": "724eab02-8820-41e9-a133-466919866b0d"
      },
      "source": [
        "ary1.flatten(order = \"F\")"
      ],
      "execution_count": null,
      "outputs": [
        {
          "output_type": "execute_result",
          "data": {
            "text/plain": [
              "array([21, 28, 21, 11, 20, 18, 21, 21, 17, 14, 13, 28, 13, 22, 19, 20, 10,\n",
              "       14, 13, 22, 13, 13, 29, 16, 14, 28, 10, 12, 25, 13, 27, 29, 29, 28,\n",
              "       23, 25, 21, 23, 18, 10, 16, 28, 20, 29, 26, 26, 14, 13, 19, 27, 13,\n",
              "       29, 20, 12, 18, 17, 13, 15, 10, 19, 12, 21, 18, 17, 23, 12, 27, 28,\n",
              "       22, 23, 20, 21])"
            ]
          },
          "metadata": {
            "tags": []
          },
          "execution_count": 104
        }
      ]
    },
    {
      "cell_type": "code",
      "metadata": {
        "colab": {
          "base_uri": "https://localhost:8080/"
        },
        "id": "ALoF4-2ggH4D",
        "outputId": "95d2b376-eac6-4611-8b75-2984406162fa"
      },
      "source": [
        "np2"
      ],
      "execution_count": null,
      "outputs": [
        {
          "output_type": "execute_result",
          "data": {
            "text/plain": [
              "array([[15, 16, 17, 18, 19],\n",
              "       [20, 21, 22, 23, 24],\n",
              "       [25, 26, 27, 28, 29],\n",
              "       [30,  0,  0,  0,  0]])"
            ]
          },
          "metadata": {
            "tags": []
          },
          "execution_count": 105
        }
      ]
    },
    {
      "cell_type": "code",
      "metadata": {
        "colab": {
          "base_uri": "https://localhost:8080/"
        },
        "id": "uxWZAjXagabN",
        "outputId": "95f25ce0-c693-48d2-fcb9-265a2a22c92f"
      },
      "source": [
        "np2.shape"
      ],
      "execution_count": null,
      "outputs": [
        {
          "output_type": "execute_result",
          "data": {
            "text/plain": [
              "(4, 5)"
            ]
          },
          "metadata": {
            "tags": []
          },
          "execution_count": 106
        }
      ]
    },
    {
      "cell_type": "code",
      "metadata": {
        "colab": {
          "base_uri": "https://localhost:8080/"
        },
        "id": "aUrbZeLdgd6D",
        "outputId": "5f1e51a9-4864-49b8-e910-b07d8c51b074"
      },
      "source": [
        "import time\n",
        "for i in np2:\n",
        "  print(i)\n",
        "  for j in i:\n",
        "    print(j)\n",
        "    time.sleep(1)"
      ],
      "execution_count": null,
      "outputs": [
        {
          "output_type": "stream",
          "text": [
            "[15 16 17 18 19]\n",
            "15\n",
            "16\n",
            "17\n",
            "18\n",
            "19\n",
            "[20 21 22 23 24]\n",
            "20\n",
            "21\n",
            "22\n",
            "23\n",
            "24\n",
            "[25 26 27 28 29]\n",
            "25\n",
            "26\n",
            "27\n",
            "28\n",
            "29\n",
            "[30  0  0  0  0]\n",
            "30\n",
            "0\n",
            "0\n",
            "0\n",
            "0\n"
          ],
          "name": "stdout"
        }
      ]
    },
    {
      "cell_type": "code",
      "metadata": {
        "colab": {
          "base_uri": "https://localhost:8080/"
        },
        "id": "kxjvxbrQhAfK",
        "outputId": "0bcba0a1-2ced-40df-c236-757f2140de95"
      },
      "source": [
        "ary1"
      ],
      "execution_count": null,
      "outputs": [
        {
          "output_type": "execute_result",
          "data": {
            "text/plain": [
              "array([[[21, 13, 14, 21, 19, 12],\n",
              "        [11, 20, 12, 10, 29, 17],\n",
              "        [21, 13, 27, 20, 18, 27],\n",
              "        [14, 13, 28, 26, 15, 23]],\n",
              "\n",
              "       [[28, 22, 28, 23, 27, 21],\n",
              "        [20, 10, 25, 16, 20, 23],\n",
              "        [21, 22, 29, 29, 17, 28],\n",
              "        [13, 29, 23, 14, 10, 20]],\n",
              "\n",
              "       [[21, 19, 10, 18, 13, 18],\n",
              "        [18, 14, 13, 28, 12, 12],\n",
              "        [17, 13, 29, 26, 13, 22],\n",
              "        [28, 16, 25, 13, 19, 21]]])"
            ]
          },
          "metadata": {
            "tags": []
          },
          "execution_count": 109
        }
      ]
    },
    {
      "cell_type": "code",
      "metadata": {
        "colab": {
          "base_uri": "https://localhost:8080/"
        },
        "id": "sgX9dDu7g-AS",
        "outputId": "d6462b5f-ea41-47b5-e534-64c2d0205075"
      },
      "source": [
        "for i in ary1:\n",
        "  print(i)\n",
        "  print(\"*******************\")\n",
        "  for j in i :\n",
        "    print(j)\n",
        "    time.sleep(1)"
      ],
      "execution_count": null,
      "outputs": [
        {
          "output_type": "stream",
          "text": [
            "[[21 13 14 21 19 12]\n",
            " [11 20 12 10 29 17]\n",
            " [21 13 27 20 18 27]\n",
            " [14 13 28 26 15 23]]\n",
            "*******************\n",
            "[21 13 14 21 19 12]\n",
            "[11 20 12 10 29 17]\n",
            "[21 13 27 20 18 27]\n",
            "[14 13 28 26 15 23]\n",
            "[[28 22 28 23 27 21]\n",
            " [20 10 25 16 20 23]\n",
            " [21 22 29 29 17 28]\n",
            " [13 29 23 14 10 20]]\n",
            "*******************\n",
            "[28 22 28 23 27 21]\n",
            "[20 10 25 16 20 23]\n",
            "[21 22 29 29 17 28]\n",
            "[13 29 23 14 10 20]\n",
            "[[21 19 10 18 13 18]\n",
            " [18 14 13 28 12 12]\n",
            " [17 13 29 26 13 22]\n",
            " [28 16 25 13 19 21]]\n",
            "*******************\n",
            "[21 19 10 18 13 18]\n",
            "[18 14 13 28 12 12]\n",
            "[17 13 29 26 13 22]\n",
            "[28 16 25 13 19 21]\n"
          ],
          "name": "stdout"
        }
      ]
    },
    {
      "cell_type": "code",
      "metadata": {
        "id": "tL8tPiaBlcvp"
      },
      "source": [
        "a1 = np.arange(1,6)"
      ],
      "execution_count": null,
      "outputs": []
    },
    {
      "cell_type": "code",
      "metadata": {
        "id": "zNEzcIoDlgnj"
      },
      "source": [
        "a2 = np.arange(11,16)"
      ],
      "execution_count": null,
      "outputs": []
    },
    {
      "cell_type": "code",
      "metadata": {
        "colab": {
          "base_uri": "https://localhost:8080/"
        },
        "id": "JX7vtIgxljmI",
        "outputId": "32992537-df1e-4244-bb6e-c2f491f217f1"
      },
      "source": [
        "print(a1)\n",
        "print(a2)"
      ],
      "execution_count": null,
      "outputs": [
        {
          "output_type": "stream",
          "text": [
            "[1 2 3 4 5]\n",
            "[11 12 13 14 15]\n"
          ],
          "name": "stdout"
        }
      ]
    },
    {
      "cell_type": "code",
      "metadata": {
        "colab": {
          "base_uri": "https://localhost:8080/"
        },
        "id": "evRB6-p7llez",
        "outputId": "b4251125-1b57-4746-cf93-f58930dda190"
      },
      "source": [
        "a1 + a2"
      ],
      "execution_count": null,
      "outputs": [
        {
          "output_type": "execute_result",
          "data": {
            "text/plain": [
              "array([12, 14, 16, 18, 20])"
            ]
          },
          "metadata": {
            "tags": []
          },
          "execution_count": 116
        }
      ]
    },
    {
      "cell_type": "code",
      "metadata": {
        "colab": {
          "base_uri": "https://localhost:8080/"
        },
        "id": "rIUU47tIl4Ur",
        "outputId": "42aadea4-9310-42c2-a7da-4d3bf764a25d"
      },
      "source": [
        "a2 - a1"
      ],
      "execution_count": null,
      "outputs": [
        {
          "output_type": "execute_result",
          "data": {
            "text/plain": [
              "array([10, 10, 10, 10, 10])"
            ]
          },
          "metadata": {
            "tags": []
          },
          "execution_count": 117
        }
      ]
    },
    {
      "cell_type": "code",
      "metadata": {
        "colab": {
          "base_uri": "https://localhost:8080/"
        },
        "id": "T2yEnz82l5Tg",
        "outputId": "17d1fe30-4f23-4509-9ef9-a1999f53b519"
      },
      "source": [
        "a1*a2"
      ],
      "execution_count": null,
      "outputs": [
        {
          "output_type": "execute_result",
          "data": {
            "text/plain": [
              "array([11, 24, 39, 56, 75])"
            ]
          },
          "metadata": {
            "tags": []
          },
          "execution_count": 118
        }
      ]
    },
    {
      "cell_type": "code",
      "metadata": {
        "colab": {
          "base_uri": "https://localhost:8080/"
        },
        "id": "Xiv8UCyOl7R0",
        "outputId": "699c8576-53c2-4c31-99ec-af3e2c760b56"
      },
      "source": [
        "a1 / a2"
      ],
      "execution_count": null,
      "outputs": [
        {
          "output_type": "execute_result",
          "data": {
            "text/plain": [
              "array([0.09090909, 0.16666667, 0.23076923, 0.28571429, 0.33333333])"
            ]
          },
          "metadata": {
            "tags": []
          },
          "execution_count": 119
        }
      ]
    },
    {
      "cell_type": "code",
      "metadata": {
        "colab": {
          "base_uri": "https://localhost:8080/"
        },
        "id": "qHxh9CMImXej",
        "outputId": "db831be8-29f9-470f-8a65-d685d11bd420"
      },
      "source": [
        "a1"
      ],
      "execution_count": null,
      "outputs": [
        {
          "output_type": "execute_result",
          "data": {
            "text/plain": [
              "array([1, 2, 3, 4, 5])"
            ]
          },
          "metadata": {
            "tags": []
          },
          "execution_count": 120
        }
      ]
    },
    {
      "cell_type": "code",
      "metadata": {
        "colab": {
          "base_uri": "https://localhost:8080/"
        },
        "id": "kARrXjp_naN4",
        "outputId": "8bcc4efe-d5e2-46d0-b946-5e8bbe5341c7"
      },
      "source": [
        "a1 + 5"
      ],
      "execution_count": null,
      "outputs": [
        {
          "output_type": "execute_result",
          "data": {
            "text/plain": [
              "array([ 6,  7,  8,  9, 10])"
            ]
          },
          "metadata": {
            "tags": []
          },
          "execution_count": 121
        }
      ]
    },
    {
      "cell_type": "code",
      "metadata": {
        "colab": {
          "base_uri": "https://localhost:8080/"
        },
        "id": "3jr9Sv-RncOr",
        "outputId": "09e04cb0-c4bf-4e21-bd1b-df4decb17bf0"
      },
      "source": [
        "a1 * 5 "
      ],
      "execution_count": null,
      "outputs": [
        {
          "output_type": "execute_result",
          "data": {
            "text/plain": [
              "array([ 5, 10, 15, 20, 25])"
            ]
          },
          "metadata": {
            "tags": []
          },
          "execution_count": 122
        }
      ]
    },
    {
      "cell_type": "code",
      "metadata": {
        "id": "oVjTtG_8nhz0"
      },
      "source": [
        "b2 = np.random.randint(1,5,(3,3))"
      ],
      "execution_count": null,
      "outputs": []
    },
    {
      "cell_type": "code",
      "metadata": {
        "id": "BSruFqyBntFo"
      },
      "source": [
        "b3 = np.random.randint(5,9,(3,3))"
      ],
      "execution_count": null,
      "outputs": []
    },
    {
      "cell_type": "code",
      "metadata": {
        "colab": {
          "base_uri": "https://localhost:8080/"
        },
        "id": "G_e8IZKanwuf",
        "outputId": "4df47cb1-1cf5-4983-9b18-c2907212ecdb"
      },
      "source": [
        "b2"
      ],
      "execution_count": null,
      "outputs": [
        {
          "output_type": "execute_result",
          "data": {
            "text/plain": [
              "array([[3, 2, 4],\n",
              "       [4, 2, 3],\n",
              "       [2, 2, 2]])"
            ]
          },
          "metadata": {
            "tags": []
          },
          "execution_count": 126
        }
      ]
    },
    {
      "cell_type": "code",
      "metadata": {
        "colab": {
          "base_uri": "https://localhost:8080/"
        },
        "id": "xckMZH0hn2Oo",
        "outputId": "0bed24ce-806a-4c6d-d341-89f4200d5e53"
      },
      "source": [
        "b3"
      ],
      "execution_count": null,
      "outputs": [
        {
          "output_type": "execute_result",
          "data": {
            "text/plain": [
              "array([[5, 7, 7],\n",
              "       [5, 7, 6],\n",
              "       [7, 8, 7]])"
            ]
          },
          "metadata": {
            "tags": []
          },
          "execution_count": 127
        }
      ]
    },
    {
      "cell_type": "code",
      "metadata": {
        "colab": {
          "base_uri": "https://localhost:8080/"
        },
        "id": "lCcF_dmen2yX",
        "outputId": "def4533a-43a0-413d-905b-93ca497a0b30"
      },
      "source": [
        "b2.ndim"
      ],
      "execution_count": null,
      "outputs": [
        {
          "output_type": "execute_result",
          "data": {
            "text/plain": [
              "2"
            ]
          },
          "metadata": {
            "tags": []
          },
          "execution_count": 128
        }
      ]
    },
    {
      "cell_type": "code",
      "metadata": {
        "colab": {
          "base_uri": "https://localhost:8080/"
        },
        "id": "k3WJzOqNn6lx",
        "outputId": "94d27c5b-c519-435d-ee70-3066812a0f96"
      },
      "source": [
        "b3.ndim"
      ],
      "execution_count": null,
      "outputs": [
        {
          "output_type": "execute_result",
          "data": {
            "text/plain": [
              "2"
            ]
          },
          "metadata": {
            "tags": []
          },
          "execution_count": 129
        }
      ]
    },
    {
      "cell_type": "code",
      "metadata": {
        "colab": {
          "base_uri": "https://localhost:8080/"
        },
        "id": "tSzo7-C0n7gv",
        "outputId": "3bd7b8df-3f3e-403c-a2a8-df623bd9aeb7"
      },
      "source": [
        "b2.shape"
      ],
      "execution_count": null,
      "outputs": [
        {
          "output_type": "execute_result",
          "data": {
            "text/plain": [
              "(3, 3)"
            ]
          },
          "metadata": {
            "tags": []
          },
          "execution_count": 130
        }
      ]
    },
    {
      "cell_type": "code",
      "metadata": {
        "colab": {
          "base_uri": "https://localhost:8080/"
        },
        "id": "qDIqLez4n9rP",
        "outputId": "4dc40f06-5e3c-4af2-91aa-c9c4152e5251"
      },
      "source": [
        "b3.shape"
      ],
      "execution_count": null,
      "outputs": [
        {
          "output_type": "execute_result",
          "data": {
            "text/plain": [
              "(3, 3)"
            ]
          },
          "metadata": {
            "tags": []
          },
          "execution_count": 131
        }
      ]
    },
    {
      "cell_type": "code",
      "metadata": {
        "colab": {
          "base_uri": "https://localhost:8080/"
        },
        "id": "ZXNHleAnn_mu",
        "outputId": "7e0c5bfd-0f9d-4ba9-dc36-d8e5efa2f0b8"
      },
      "source": [
        "b2 + b3"
      ],
      "execution_count": null,
      "outputs": [
        {
          "output_type": "execute_result",
          "data": {
            "text/plain": [
              "array([[ 8,  9, 11],\n",
              "       [ 9,  9,  9],\n",
              "       [ 9, 10,  9]])"
            ]
          },
          "metadata": {
            "tags": []
          },
          "execution_count": 132
        }
      ]
    },
    {
      "cell_type": "code",
      "metadata": {
        "colab": {
          "base_uri": "https://localhost:8080/"
        },
        "id": "MNi-u1zdoD46",
        "outputId": "e1e18a11-2569-4f32-98a3-596c93f3470b"
      },
      "source": [
        "b2 - b3"
      ],
      "execution_count": null,
      "outputs": [
        {
          "output_type": "execute_result",
          "data": {
            "text/plain": [
              "array([[-2, -5, -3],\n",
              "       [-1, -5, -3],\n",
              "       [-5, -6, -5]])"
            ]
          },
          "metadata": {
            "tags": []
          },
          "execution_count": 133
        }
      ]
    },
    {
      "cell_type": "code",
      "metadata": {
        "colab": {
          "base_uri": "https://localhost:8080/"
        },
        "id": "Uq4YceTEoGTf",
        "outputId": "c27abc27-b9bf-48ca-ec42-153aa7b4fdd1"
      },
      "source": [
        "b2*b3"
      ],
      "execution_count": null,
      "outputs": [
        {
          "output_type": "execute_result",
          "data": {
            "text/plain": [
              "array([[15, 14, 28],\n",
              "       [20, 14, 18],\n",
              "       [14, 16, 14]])"
            ]
          },
          "metadata": {
            "tags": []
          },
          "execution_count": 134
        }
      ]
    },
    {
      "cell_type": "code",
      "metadata": {
        "colab": {
          "base_uri": "https://localhost:8080/"
        },
        "id": "VatkM-QxoUPS",
        "outputId": "a03ad212-4a31-4386-e32e-46602b1f9b17"
      },
      "source": [
        "b2.dot(b3)"
      ],
      "execution_count": null,
      "outputs": [
        {
          "output_type": "execute_result",
          "data": {
            "text/plain": [
              "array([[53, 67, 61],\n",
              "       [51, 66, 61],\n",
              "       [34, 44, 40]])"
            ]
          },
          "metadata": {
            "tags": []
          },
          "execution_count": 136
        }
      ]
    },
    {
      "cell_type": "code",
      "metadata": {
        "colab": {
          "base_uri": "https://localhost:8080/"
        },
        "id": "IqJMHiMaoIBw",
        "outputId": "6fdc5281-9a19-4d3a-bb9f-e101038386d0"
      },
      "source": [
        "print(b2)\n",
        "print(b3)"
      ],
      "execution_count": null,
      "outputs": [
        {
          "output_type": "stream",
          "text": [
            "[[3 2 4]\n",
            " [4 2 3]\n",
            " [2 2 2]]\n",
            "[[5 7 7]\n",
            " [5 7 6]\n",
            " [7 8 7]]\n"
          ],
          "name": "stdout"
        }
      ]
    },
    {
      "cell_type": "code",
      "metadata": {
        "colab": {
          "base_uri": "https://localhost:8080/"
        },
        "id": "yUR6wXwJoLzA",
        "outputId": "88abe29e-338f-4f13-e8bd-ca6b3032ae01"
      },
      "source": [
        "b2"
      ],
      "execution_count": null,
      "outputs": [
        {
          "output_type": "execute_result",
          "data": {
            "text/plain": [
              "array([[3, 2, 4],\n",
              "       [4, 2, 3],\n",
              "       [2, 2, 2]])"
            ]
          },
          "metadata": {
            "tags": []
          },
          "execution_count": 137
        }
      ]
    },
    {
      "cell_type": "code",
      "metadata": {
        "colab": {
          "base_uri": "https://localhost:8080/"
        },
        "id": "IYgZ_iJ6o469",
        "outputId": "b672a44a-f3db-4860-a5cc-4a691cc0ac61"
      },
      "source": [
        "b2 * 5"
      ],
      "execution_count": null,
      "outputs": [
        {
          "output_type": "execute_result",
          "data": {
            "text/plain": [
              "array([[15, 10, 20],\n",
              "       [20, 10, 15],\n",
              "       [10, 10, 10]])"
            ]
          },
          "metadata": {
            "tags": []
          },
          "execution_count": 138
        }
      ]
    },
    {
      "cell_type": "code",
      "metadata": {
        "id": "42-TsHOlo55N"
      },
      "source": [
        "n1 = np.random.randint(3,9,(3,4))"
      ],
      "execution_count": null,
      "outputs": []
    },
    {
      "cell_type": "code",
      "metadata": {
        "colab": {
          "base_uri": "https://localhost:8080/"
        },
        "id": "ChYLOhM6pEfr",
        "outputId": "03ec6fce-9a4c-4ee0-acce-a0cf3008e944"
      },
      "source": [
        "n1"
      ],
      "execution_count": null,
      "outputs": [
        {
          "output_type": "execute_result",
          "data": {
            "text/plain": [
              "array([[8, 7, 7, 4],\n",
              "       [7, 3, 8, 7],\n",
              "       [6, 6, 8, 6]])"
            ]
          },
          "metadata": {
            "tags": []
          },
          "execution_count": 140
        }
      ]
    },
    {
      "cell_type": "code",
      "metadata": {
        "id": "0eSeN45QpFO6"
      },
      "source": [
        "n2 = np.random.randint(3,9,(4,3))"
      ],
      "execution_count": null,
      "outputs": []
    },
    {
      "cell_type": "code",
      "metadata": {
        "colab": {
          "base_uri": "https://localhost:8080/"
        },
        "id": "yuopIHHxpJNQ",
        "outputId": "5326e8dd-3894-4fdb-b0d5-b74630f94d6b"
      },
      "source": [
        "n2"
      ],
      "execution_count": null,
      "outputs": [
        {
          "output_type": "execute_result",
          "data": {
            "text/plain": [
              "array([[8, 4, 4],\n",
              "       [8, 8, 8],\n",
              "       [7, 4, 3],\n",
              "       [3, 7, 8]])"
            ]
          },
          "metadata": {
            "tags": []
          },
          "execution_count": 142
        }
      ]
    },
    {
      "cell_type": "code",
      "metadata": {
        "colab": {
          "base_uri": "https://localhost:8080/",
          "height": 162
        },
        "id": "QPlkn70ZpJxB",
        "outputId": "a1f0606f-757e-4eec-a8ac-6ea1cce0cc84"
      },
      "source": [
        "n1 + n2"
      ],
      "execution_count": null,
      "outputs": [
        {
          "output_type": "error",
          "ename": "ValueError",
          "evalue": "ignored",
          "traceback": [
            "\u001b[0;31m---------------------------------------------------------------------------\u001b[0m",
            "\u001b[0;31mValueError\u001b[0m                                Traceback (most recent call last)",
            "\u001b[0;32m<ipython-input-143-7fb1059652d4>\u001b[0m in \u001b[0;36m<module>\u001b[0;34m()\u001b[0m\n\u001b[0;32m----> 1\u001b[0;31m \u001b[0mn1\u001b[0m \u001b[0;34m+\u001b[0m \u001b[0mn2\u001b[0m\u001b[0;34m\u001b[0m\u001b[0;34m\u001b[0m\u001b[0m\n\u001b[0m",
            "\u001b[0;31mValueError\u001b[0m: operands could not be broadcast together with shapes (3,4) (4,3) "
          ]
        }
      ]
    },
    {
      "cell_type": "code",
      "metadata": {
        "id": "yRFhN9EppLUh"
      },
      "source": [
        "n3 = np.random.randint(3,9,(3,1))\n",
        "n4 = np.random.randint(3,9,(3,4))"
      ],
      "execution_count": null,
      "outputs": []
    },
    {
      "cell_type": "code",
      "metadata": {
        "colab": {
          "base_uri": "https://localhost:8080/"
        },
        "id": "q-LChF8opT9x",
        "outputId": "3c6ea269-6902-4c12-8136-4eab67b259fe"
      },
      "source": [
        "n3 + n4"
      ],
      "execution_count": null,
      "outputs": [
        {
          "output_type": "execute_result",
          "data": {
            "text/plain": [
              "array([[11,  9, 13, 10],\n",
              "       [11, 12,  9, 12],\n",
              "       [13, 14, 10, 13]])"
            ]
          },
          "metadata": {
            "tags": []
          },
          "execution_count": 146
        }
      ]
    },
    {
      "cell_type": "code",
      "metadata": {
        "colab": {
          "base_uri": "https://localhost:8080/"
        },
        "id": "2jf33QbcpWCR",
        "outputId": "7c0dacfb-eb49-4ea9-d846-7e69165766ed"
      },
      "source": [
        "n3"
      ],
      "execution_count": null,
      "outputs": [
        {
          "output_type": "execute_result",
          "data": {
            "text/plain": [
              "array([[6],\n",
              "       [5],\n",
              "       [7]])"
            ]
          },
          "metadata": {
            "tags": []
          },
          "execution_count": 147
        }
      ]
    },
    {
      "cell_type": "code",
      "metadata": {
        "colab": {
          "base_uri": "https://localhost:8080/"
        },
        "id": "WZ7ti_G8sblE",
        "outputId": "fece6851-ff80-4284-edb7-59f96ca17e31"
      },
      "source": [
        "n4"
      ],
      "execution_count": null,
      "outputs": [
        {
          "output_type": "execute_result",
          "data": {
            "text/plain": [
              "array([[5, 3, 7, 4],\n",
              "       [6, 7, 4, 7],\n",
              "       [6, 7, 3, 6]])"
            ]
          },
          "metadata": {
            "tags": []
          },
          "execution_count": 148
        }
      ]
    },
    {
      "cell_type": "code",
      "metadata": {
        "colab": {
          "base_uri": "https://localhost:8080/"
        },
        "id": "LVbq90bUscEP",
        "outputId": "d44c0ac6-2bae-4aa7-aae8-eb615d01883e"
      },
      "source": [
        "n3.ndim\n"
      ],
      "execution_count": null,
      "outputs": [
        {
          "output_type": "execute_result",
          "data": {
            "text/plain": [
              "2"
            ]
          },
          "metadata": {
            "tags": []
          },
          "execution_count": 149
        }
      ]
    },
    {
      "cell_type": "code",
      "metadata": {
        "colab": {
          "base_uri": "https://localhost:8080/"
        },
        "id": "7M-jmGJRse6X",
        "outputId": "e747043a-e97b-49be-a7d4-1f5d68fba47b"
      },
      "source": [
        "n4.ndim"
      ],
      "execution_count": null,
      "outputs": [
        {
          "output_type": "execute_result",
          "data": {
            "text/plain": [
              "2"
            ]
          },
          "metadata": {
            "tags": []
          },
          "execution_count": 150
        }
      ]
    },
    {
      "cell_type": "code",
      "metadata": {
        "colab": {
          "base_uri": "https://localhost:8080/"
        },
        "id": "9vShyqATsf-S",
        "outputId": "6effd18e-a298-40ca-9fe7-109740fdbf8f"
      },
      "source": [
        "n3.shape"
      ],
      "execution_count": null,
      "outputs": [
        {
          "output_type": "execute_result",
          "data": {
            "text/plain": [
              "(3, 1)"
            ]
          },
          "metadata": {
            "tags": []
          },
          "execution_count": 151
        }
      ]
    },
    {
      "cell_type": "code",
      "metadata": {
        "colab": {
          "base_uri": "https://localhost:8080/"
        },
        "id": "GODM4XdqsihG",
        "outputId": "c4aab8dc-60ee-4fd3-ccde-682fcb7e1c1b"
      },
      "source": [
        "n4.shape"
      ],
      "execution_count": null,
      "outputs": [
        {
          "output_type": "execute_result",
          "data": {
            "text/plain": [
              "(3, 4)"
            ]
          },
          "metadata": {
            "tags": []
          },
          "execution_count": 152
        }
      ]
    },
    {
      "cell_type": "code",
      "metadata": {
        "colab": {
          "base_uri": "https://localhost:8080/"
        },
        "id": "UUbcEyqmsjOc",
        "outputId": "13183b20-86cb-4494-ffdd-ca42a8fa5b95"
      },
      "source": [
        "n3 + n4"
      ],
      "execution_count": null,
      "outputs": [
        {
          "output_type": "execute_result",
          "data": {
            "text/plain": [
              "array([[11,  9, 13, 10],\n",
              "       [11, 12,  9, 12],\n",
              "       [13, 14, 10, 13]])"
            ]
          },
          "metadata": {
            "tags": []
          },
          "execution_count": 153
        }
      ]
    },
    {
      "cell_type": "code",
      "metadata": {
        "id": "RJCzPwTuspXW"
      },
      "source": [
        "n5 = np.random.randint(10,20,(4,6))\n",
        "n6 = np.random.randint(20,30,(4,1))"
      ],
      "execution_count": null,
      "outputs": []
    },
    {
      "cell_type": "code",
      "metadata": {
        "colab": {
          "base_uri": "https://localhost:8080/"
        },
        "id": "ziAO_IPps2Vk",
        "outputId": "8d1f75d8-a09b-4f71-dd88-91dd7d389429"
      },
      "source": [
        "n5 + n6"
      ],
      "execution_count": null,
      "outputs": [
        {
          "output_type": "execute_result",
          "data": {
            "text/plain": [
              "array([[46, 37, 44, 39, 39, 42],\n",
              "       [43, 46, 37, 41, 42, 42],\n",
              "       [34, 40, 40, 43, 38, 39],\n",
              "       [38, 41, 38, 41, 38, 41]])"
            ]
          },
          "metadata": {
            "tags": []
          },
          "execution_count": 155
        }
      ]
    },
    {
      "cell_type": "code",
      "metadata": {
        "id": "OGYZecBns9u_"
      },
      "source": [
        "ary5 = np.random.randint(10,20,(2,4,6))"
      ],
      "execution_count": null,
      "outputs": []
    },
    {
      "cell_type": "code",
      "metadata": {
        "colab": {
          "base_uri": "https://localhost:8080/"
        },
        "id": "Vh8bHDYMtFRE",
        "outputId": "2649f7f8-915f-42c5-8519-4f639d13d18a"
      },
      "source": [
        "ary5"
      ],
      "execution_count": null,
      "outputs": [
        {
          "output_type": "execute_result",
          "data": {
            "text/plain": [
              "array([[[12, 17, 13, 16, 11, 16],\n",
              "        [16, 12, 13, 11, 12, 16],\n",
              "        [19, 13, 19, 19, 12, 18],\n",
              "        [16, 17, 16, 18, 10, 19]],\n",
              "\n",
              "       [[19, 17, 19, 16, 14, 17],\n",
              "        [16, 10, 16, 15, 11, 10],\n",
              "        [16, 15, 17, 16, 11, 14],\n",
              "        [12, 16, 10, 14, 10, 18]]])"
            ]
          },
          "metadata": {
            "tags": []
          },
          "execution_count": 157
        }
      ]
    },
    {
      "cell_type": "code",
      "metadata": {
        "id": "f9fwnm6ytGD5"
      },
      "source": [
        "ary6 = np.random.randint(10,20,(4,1))"
      ],
      "execution_count": null,
      "outputs": []
    },
    {
      "cell_type": "code",
      "metadata": {
        "id": "1uECinwGtbBf"
      },
      "source": [
        ""
      ],
      "execution_count": null,
      "outputs": []
    },
    {
      "cell_type": "code",
      "metadata": {
        "colab": {
          "base_uri": "https://localhost:8080/"
        },
        "id": "ixp649VmtLC_",
        "outputId": "6574418d-31f5-4dd1-fb21-42d2acb7989f"
      },
      "source": [
        "ary5 + ary6"
      ],
      "execution_count": null,
      "outputs": [
        {
          "output_type": "execute_result",
          "data": {
            "text/plain": [
              "array([[[27, 32, 28, 31, 26, 31],\n",
              "        [28, 24, 25, 23, 24, 28],\n",
              "        [32, 26, 32, 32, 25, 31],\n",
              "        [31, 32, 31, 33, 25, 34]],\n",
              "\n",
              "       [[34, 32, 34, 31, 29, 32],\n",
              "        [28, 22, 28, 27, 23, 22],\n",
              "        [29, 28, 30, 29, 24, 27],\n",
              "        [27, 31, 25, 29, 25, 33]]])"
            ]
          },
          "metadata": {
            "tags": []
          },
          "execution_count": 159
        }
      ]
    },
    {
      "cell_type": "code",
      "metadata": {
        "colab": {
          "base_uri": "https://localhost:8080/"
        },
        "id": "sYydhzTFtXRZ",
        "outputId": "b5bfdb95-40cf-46f5-fa65-195e65f212ef"
      },
      "source": [
        "ary5 * ary6"
      ],
      "execution_count": null,
      "outputs": [
        {
          "output_type": "execute_result",
          "data": {
            "text/plain": [
              "array([[[180, 255, 195, 240, 165, 240],\n",
              "        [192, 144, 156, 132, 144, 192],\n",
              "        [247, 169, 247, 247, 156, 234],\n",
              "        [240, 255, 240, 270, 150, 285]],\n",
              "\n",
              "       [[285, 255, 285, 240, 210, 255],\n",
              "        [192, 120, 192, 180, 132, 120],\n",
              "        [208, 195, 221, 208, 143, 182],\n",
              "        [180, 240, 150, 210, 150, 270]]])"
            ]
          },
          "metadata": {
            "tags": []
          },
          "execution_count": 160
        }
      ]
    },
    {
      "cell_type": "code",
      "metadata": {
        "id": "NS6Q5lkstdp3"
      },
      "source": [
        ""
      ],
      "execution_count": null,
      "outputs": []
    }
  ]
}